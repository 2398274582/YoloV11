{
 "cells": [
  {
   "cell_type": "code",
   "execution_count": 1,
   "metadata": {},
   "outputs": [
    {
     "name": "stdout",
     "output_type": "stream",
     "text": [
      "Loading dataset\n",
      " 100% |███████████████| 7359/7359 [15.0s elapsed, 0s remaining, 401.8 samples/s]      \n",
      " 100% |███████████████| 3977/3977 [10.1s elapsed, 0s remaining, 353.0 samples/s]      \n",
      " 100% |███████████████| 2468/2468 [6.7s elapsed, 0s remaining, 356.4 samples/s]      \n",
      "Adding transects\n"
     ]
    },
    {
     "name": "stderr",
     "output_type": "stream",
     "text": [
      "13804it [00:26, 526.08it/s]\n"
     ]
    },
    {
     "name": "stdout",
     "output_type": "stream",
     "text": [
      "Adding dataset attributes\n"
     ]
    },
    {
     "name": "stderr",
     "output_type": "stream",
     "text": [
      "100%|██████████| 13804/13804 [01:31<00:00, 151.48it/s]\n"
     ]
    }
   ],
   "source": [
    "from ultralytics.utils.custom_utils.init_setup import setup, delete_all_fiftyone_datasets\n",
    "\n",
    "delete_all_fiftyone_datasets()\n",
    "setup(0)"
   ]
  },
  {
   "cell_type": "code",
   "execution_count": 2,
   "metadata": {},
   "outputs": [
    {
     "name": "stdout",
     "output_type": "stream",
     "text": [
      "Loading dataset\n"
     ]
    },
    {
     "name": "stderr",
     "output_type": "stream",
     "text": [
      "100%|██████████| 13760/13760 [00:28<00:00, 489.81it/s]\n"
     ]
    },
    {
     "data": {
      "text/html": [
       "\n",
       "        <iframe\n",
       "            width=\"100%\"\n",
       "            height=\"800\"\n",
       "            src=\"http://localhost:5151/?notebook=True&subscription=de7c5b34-47b5-4d66-a325-30f0c8a01421\"\n",
       "            frameborder=\"0\"\n",
       "            allowfullscreen\n",
       "            \n",
       "        ></iframe>\n",
       "        "
      ],
      "text/plain": [
       "<IPython.lib.display.IFrame at 0x2a7369a10>"
      ]
     },
     "metadata": {},
     "output_type": "display_data"
    }
   ],
   "source": [
    "import fiftyone as fo\n",
    "from tqdm import tqdm\n",
    "from ultralytics.utils.custom_utils.helpers import get_fiftyone_dataset\n",
    "\n",
    "train = [\n",
    "    \"transect12\",\n",
    "    \"2022-09-03\",\n",
    "    \"transect02\",\n",
    "    \"2022-09-04\",\n",
    "    \"Transect 2\",\n",
    "    \"Transect 6\",\n",
    "    \"Transect 7\",\n",
    "    \"Transect 13\",\n",
    "    \"Transect 3\",\n",
    "    \"Transect 11\",\n",
    "    \"Transect 16\",\n",
    "    \"Transect 17\",\n",
    "    \"Transect 10\",\n",
    "    \"Transect 4\",\n",
    "    \"Transect 8\",\n",
    "    \"Transect 14\",\n",
    "    \"transect05\",\n",
    "]\n",
    "\n",
    "val = [ \n",
    "    \"transect15\",\n",
    "    \"Transect 18\",\n",
    "    \"Transect 15\",\n",
    "    \"Transect 4\",\n",
    "    \"Transect 1\",\n",
    "]\n",
    "\n",
    "test = [ \n",
    "    \"Transect 5\",\n",
    "    \"2022-08-31\",\n",
    "    \"Transect 12\",\n",
    "    \"transect03\",\n",
    "    \"transect04\",\n",
    "    \"transect09\",\n",
    "    \"new\",\n",
    "]\n",
    "\n",
    "dataset, classes = get_fiftyone_dataset(0)\n",
    "\n",
    "for sample in tqdm(dataset):\n",
    "    if sample.transect in train:\n",
    "        sample[\"split\"] = \"train\"\n",
    "    elif sample.transect in val:\n",
    "        sample[\"split\"] = \"val\"\n",
    "    else:\n",
    "        sample[\"split\"] = \"test\"\n",
    "    sample.save()\n",
    "\n",
    "sesh = fo.launch_app(dataset)\n",
    "\n"
   ]
  },
  {
   "cell_type": "code",
   "execution_count": 4,
   "metadata": {},
   "outputs": [
    {
     "data": {
      "text/plain": [
       "Dataset:     My_dataset_new0\n",
       "Media type:  image\n",
       "Num samples: 13760\n",
       "Sample fields:\n",
       "    id:         fiftyone.core.fields.ObjectIdField\n",
       "    filepath:   fiftyone.core.fields.StringField\n",
       "    tags:       fiftyone.core.fields.ListField(fiftyone.core.fields.StringField)\n",
       "    metadata:   fiftyone.core.fields.EmbeddedDocumentField(fiftyone.core.metadata.ImageMetadata)\n",
       "    detections: fiftyone.core.fields.EmbeddedDocumentField(fiftyone.core.labels.Detections)\n",
       "    transect:   fiftyone.core.fields.StringField\n",
       "    split:      fiftyone.core.fields.StringField\n",
       "View stages:\n",
       "    1. Match(filter={'$expr': {'$gt': [...]}})"
      ]
     },
     "execution_count": 4,
     "metadata": {},
     "output_type": "execute_result"
    }
   ],
   "source": [
    "dataset"
   ]
  },
  {
   "cell_type": "code",
   "execution_count": null,
   "metadata": {},
   "outputs": [],
   "source": []
  }
 ],
 "metadata": {
  "kernelspec": {
   "display_name": "venv3.11.5",
   "language": "python",
   "name": "python3"
  },
  "language_info": {
   "codemirror_mode": {
    "name": "ipython",
    "version": 3
   },
   "file_extension": ".py",
   "mimetype": "text/x-python",
   "name": "python",
   "nbconvert_exporter": "python",
   "pygments_lexer": "ipython3",
   "version": "3.11.5"
  }
 },
 "nbformat": 4,
 "nbformat_minor": 2
}
