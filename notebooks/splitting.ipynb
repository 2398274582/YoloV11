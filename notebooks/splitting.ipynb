{
 "cells": [
  {
   "cell_type": "code",
   "execution_count": 13,
   "metadata": {},
   "outputs": [
    {
     "name": "stdout",
     "output_type": "stream",
     "text": [
      "Loading dataset\n",
      " 100% |███████████████| 6732/6732 [6.0s elapsed, 0s remaining, 1.1K samples/s]      \n",
      " 100% |█████████████████| 936/936 [954.7ms elapsed, 0s remaining, 981.3 samples/s]      \n",
      " 100% |███████████████| 1889/1889 [2.6s elapsed, 0s remaining, 733.9 samples/s]      \n",
      "Adding transects\n"
     ]
    },
    {
     "name": "stderr",
     "output_type": "stream",
     "text": [
      "9557it [00:06, 1368.82it/s]\n"
     ]
    },
    {
     "name": "stdout",
     "output_type": "stream",
     "text": [
      "Adding dataset attributes\n"
     ]
    },
    {
     "name": "stderr",
     "output_type": "stream",
     "text": [
      "100%|██████████| 9557/9557 [00:11<00:00, 866.16it/s] \n"
     ]
    }
   ],
   "source": [
    "from ultralytics.utils.custom_utils.init_setup import setup, delete_all_fiftyone_datasets\n",
    "\n",
    "delete_all_fiftyone_datasets()\n",
    "setup(0)"
   ]
  },
  {
   "cell_type": "code",
   "execution_count": 18,
   "metadata": {},
   "outputs": [],
   "source": [
    "from ultralytics.utils.custom_utils.helpers import get_fiftyone_dataset\n",
    "import fiftyone as fo\n",
    "\n",
    "# dataset, classes = get_fiftyone_dataset(0)\n",
    "\n",
    "# sesh = fo.launch_app(dataset)"
   ]
  },
  {
   "cell_type": "code",
   "execution_count": 15,
   "metadata": {},
   "outputs": [],
   "source": [
    "import os\n",
    "\n",
    "def create_missing_label_files(root_dir):\n",
    "    # Define the root directory\n",
    "    data_dir = os.path.join(root_dir, 'data', 'data')\n",
    "\n",
    "    # Iterate through train, valid, and test folders\n",
    "    for split in ['train', 'valid', 'test']:\n",
    "        split_dir = os.path.join(data_dir, split)\n",
    "\n",
    "        # Iterate through images folder in each split\n",
    "        images_dir = os.path.join(split_dir, 'images')\n",
    "        for image_file in os.listdir(images_dir):\n",
    "            image_name, image_ext = os.path.splitext(image_file)\n",
    "            label_file = image_name + '.txt'\n",
    "            label_path = os.path.join(split_dir, 'labels', label_file)\n",
    "\n",
    "            # Check if the label file exists, if not create an empty one\n",
    "            if not os.path.exists(label_path):\n",
    "                with open(label_path, 'w') as f:\n",
    "                    pass  # Create an empty file\n",
    "\n",
    "# Example usage\n",
    "create_missing_label_files('/Users/sigurdbakkerud/Projects/master-thesis/ultralytics/')\n"
   ]
  },
  {
   "cell_type": "code",
   "execution_count": 28,
   "metadata": {},
   "outputs": [
    {
     "name": "stdout",
     "output_type": "stream",
     "text": [
      "/Users/sigurdbakkerud/Projects/master-thesis/ultralytics/data/\n",
      "/Users/sigurdbakkerud/Projects/master-thesis/ultralytics/data/Brackish Underwater\n",
      "/Users/sigurdbakkerud/Projects/master-thesis/ultralytics/data/Brackish Underwater/valid\n",
      "/Users/sigurdbakkerud/Projects/master-thesis/ultralytics/data/Brackish Underwater/valid/images\n",
      "/Users/sigurdbakkerud/Projects/master-thesis/ultralytics/data/Brackish Underwater/valid/labels\n",
      "/Users/sigurdbakkerud/Projects/master-thesis/ultralytics/data/Brackish Underwater/test\n",
      "/Users/sigurdbakkerud/Projects/master-thesis/ultralytics/data/Brackish Underwater/test/images\n",
      "/Users/sigurdbakkerud/Projects/master-thesis/ultralytics/data/Brackish Underwater/test/labels\n",
      "/Users/sigurdbakkerud/Projects/master-thesis/ultralytics/data/Brackish Underwater/train\n",
      "/Users/sigurdbakkerud/Projects/master-thesis/ultralytics/data/Brackish Underwater/train/images\n",
      "/Users/sigurdbakkerud/Projects/master-thesis/ultralytics/data/Brackish Underwater/train/labels\n",
      "/Users/sigurdbakkerud/Projects/master-thesis/ultralytics/data/RUOD\n",
      "/Users/sigurdbakkerud/Projects/master-thesis/ultralytics/data/RUOD/test\n",
      "/Users/sigurdbakkerud/Projects/master-thesis/ultralytics/data/RUOD/test/images\n",
      "/Users/sigurdbakkerud/Projects/master-thesis/ultralytics/data/RUOD/test/images/val\n",
      "/Users/sigurdbakkerud/Projects/master-thesis/ultralytics/data/RUOD/test/labels\n",
      "/Users/sigurdbakkerud/Projects/master-thesis/ultralytics/data/RUOD/test/labels/val\n",
      "/Users/sigurdbakkerud/Projects/master-thesis/ultralytics/data/RUOD/images\n",
      "/Users/sigurdbakkerud/Projects/master-thesis/ultralytics/data/RUOD/images/test\n",
      "/Users/sigurdbakkerud/Projects/master-thesis/ultralytics/data/RUOD/images/train\n",
      "/Users/sigurdbakkerud/Projects/master-thesis/ultralytics/data/RUOD/annotations\n",
      "/Users/sigurdbakkerud/Projects/master-thesis/ultralytics/data/RUOD/train\n",
      "/Users/sigurdbakkerud/Projects/master-thesis/ultralytics/data/RUOD/train/images\n",
      "/Users/sigurdbakkerud/Projects/master-thesis/ultralytics/data/RUOD/train/images/val\n",
      "/Users/sigurdbakkerud/Projects/master-thesis/ultralytics/data/RUOD/train/labels\n",
      "/Users/sigurdbakkerud/Projects/master-thesis/ultralytics/data/RUOD/train/labels/val\n",
      "/Users/sigurdbakkerud/Projects/master-thesis/ultralytics/data/data\n",
      "/Users/sigurdbakkerud/Projects/master-thesis/ultralytics/data/data/valid\n",
      "/Users/sigurdbakkerud/Projects/master-thesis/ultralytics/data/data/valid/images\n",
      "/Users/sigurdbakkerud/Projects/master-thesis/ultralytics/data/data/valid/labels\n",
      "/Users/sigurdbakkerud/Projects/master-thesis/ultralytics/data/data/test\n",
      "/Users/sigurdbakkerud/Projects/master-thesis/ultralytics/data/data/test/images\n",
      "/Users/sigurdbakkerud/Projects/master-thesis/ultralytics/data/data/test/labels\n",
      "/Users/sigurdbakkerud/Projects/master-thesis/ultralytics/data/data/train\n",
      "/Users/sigurdbakkerud/Projects/master-thesis/ultralytics/data/data/train/images\n",
      "/Users/sigurdbakkerud/Projects/master-thesis/ultralytics/data/data/train/labels\n",
      "/Users/sigurdbakkerud/Projects/master-thesis/ultralytics/data/DUO\n",
      "/Users/sigurdbakkerud/Projects/master-thesis/ultralytics/data/DUO/test\n",
      "/Users/sigurdbakkerud/Projects/master-thesis/ultralytics/data/DUO/test/images\n",
      "/Users/sigurdbakkerud/Projects/master-thesis/ultralytics/data/DUO/test/images/val\n",
      "/Users/sigurdbakkerud/Projects/master-thesis/ultralytics/data/DUO/test/labels\n",
      "/Users/sigurdbakkerud/Projects/master-thesis/ultralytics/data/DUO/test/labels/val\n",
      "/Users/sigurdbakkerud/Projects/master-thesis/ultralytics/data/DUO/images\n",
      "/Users/sigurdbakkerud/Projects/master-thesis/ultralytics/data/DUO/images/test\n",
      "/Users/sigurdbakkerud/Projects/master-thesis/ultralytics/data/DUO/images/train\n",
      "/Users/sigurdbakkerud/Projects/master-thesis/ultralytics/data/DUO/annotations\n",
      "/Users/sigurdbakkerud/Projects/master-thesis/ultralytics/data/DUO/train\n",
      "/Users/sigurdbakkerud/Projects/master-thesis/ultralytics/data/DUO/train/images\n",
      "/Users/sigurdbakkerud/Projects/master-thesis/ultralytics/data/DUO/train/images/val\n",
      "/Users/sigurdbakkerud/Projects/master-thesis/ultralytics/data/DUO/train/labels\n",
      "/Users/sigurdbakkerud/Projects/master-thesis/ultralytics/data/DUO/train/labels/val\n"
     ]
    }
   ],
   "source": [
    "import os\n",
    "\n",
    "def convert_yolo_to_bbox(yolo_annotation):\n",
    "    # Parse the YOLO annotation string\n",
    "    parts = yolo_annotation.split()\n",
    "    class_id = int(parts[0])\n",
    "    coordinates = list(map(float, parts[1:]))\n",
    "\n",
    "    # Extract x and y coordinates\n",
    "    x_coords = coordinates[::2]\n",
    "    y_coords = coordinates[1::2]\n",
    "\n",
    "    # Calculate bounding box coordinates\n",
    "    x_min = min(x_coords)\n",
    "    x_max = max(x_coords)\n",
    "    y_min = min(y_coords)\n",
    "    y_max = max(y_coords)\n",
    "\n",
    "    # Calculate box width and height\n",
    "    width = x_max - x_min\n",
    "    height = y_max - y_min\n",
    "\n",
    "    # Calculate box center\n",
    "    x_center = x_min + width / 2\n",
    "    y_center = y_min + height / 2\n",
    "\n",
    "    return class_id, x_center, y_center, width, height\n",
    "\n",
    "def convert_annotations(folder):\n",
    "    for subdir, dirs, files in os.walk(folder):\n",
    "        if subdir == \"data\":\n",
    "            for file in files:\n",
    "                if file.endswith(\".txt\"):\n",
    "                    file_path = os.path.join(subdir, file)\n",
    "                    with open(file_path, 'r') as f:\n",
    "                        lines = f.readlines()\n",
    "                    with open(file_path, 'w') as f:\n",
    "                        for line in lines:\n",
    "                            if len(line.split() > 5): # Must be mask if more than 5 numbers in line\n",
    "                                class_id, x_center, y_center, width, height = convert_yolo_to_bbox(line)\n",
    "                                bbox_line = f\"{class_id} {x_center} {y_center} {width} {height}\\n\"\n",
    "                                f.write(bbox_line)\n",
    "\n",
    "# Change the directory accordingly\n",
    "convert_annotations('/Users/sigurdbakkerud/Projects/master-thesis/ultralytics/data/')\n"
   ]
  },
  {
   "cell_type": "code",
   "execution_count": 7,
   "metadata": {},
   "outputs": [
    {
     "name": "stdout",
     "output_type": "stream",
     "text": [
      "[3, 5, 9, 10, 11, 15, 16, 17, 19, 20, 21, 22, 23, 28, 32]\n"
     ]
    }
   ],
   "source": [
    "from ultralytics.config import get_yolo_classes\n",
    "\n",
    "print(get_yolo_classes())"
   ]
  },
  {
   "cell_type": "code",
   "execution_count": null,
   "metadata": {},
   "outputs": [],
   "source": []
  }
 ],
 "metadata": {
  "kernelspec": {
   "display_name": "venv3.11.5",
   "language": "python",
   "name": "python3"
  },
  "language_info": {
   "codemirror_mode": {
    "name": "ipython",
    "version": 3
   },
   "file_extension": ".py",
   "mimetype": "text/x-python",
   "name": "python",
   "nbconvert_exporter": "python",
   "pygments_lexer": "ipython3",
   "version": "3.11.5"
  }
 },
 "nbformat": 4,
 "nbformat_minor": 2
}
