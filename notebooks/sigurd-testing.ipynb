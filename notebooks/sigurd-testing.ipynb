{
 "cells": [
  {
   "cell_type": "code",
   "execution_count": 3,
   "metadata": {},
   "outputs": [
    {
     "name": "stdout",
     "output_type": "stream",
     "text": [
      "Ultralytics YOLOv8.1.7 🚀 Python-3.11.5 torch-2.1.0 CPU (Apple M1)\n",
      "Setup complete ✅ (8 CPUs, 8.0 GB RAM, 204.3/228.3 GB disk)\n"
     ]
    }
   ],
   "source": [
    "import ultralytics\n",
    "ultralytics.checks()\n",
    "\n",
    "# from ultralytics.utils.custom_utils import convert_dataset_yolo\n",
    "# convert_dataset_yolo(dataset_folder=\"DUO\")\n",
    "# convert_dataset_yolo(dataset_folder=\"RUOD\")"
   ]
  },
  {
   "cell_type": "code",
   "execution_count": 30,
   "metadata": {},
   "outputs": [
    {
     "data": {
      "text/plain": [
       "'rgeoigj'"
      ]
     },
     "execution_count": 30,
     "metadata": {},
     "output_type": "execute_result"
    }
   ],
   "source": [
    "a = \"rgeoigj.yaml\"\n",
    "a[:-5]"
   ]
  },
  {
   "cell_type": "code",
   "execution_count": 25,
   "metadata": {},
   "outputs": [
    {
     "name": "stdout",
     "output_type": "stream",
     "text": [
      " 100% |███████████████| 9800/9800 [11.5s elapsed, 0s remaining, 1.2K samples/s]       \n",
      " 100% |███████████████| 4200/4200 [5.1s elapsed, 0s remaining, 1.1K samples/s]       \n"
     ]
    }
   ],
   "source": [
    "import fiftyone as fo\n",
    "from ultralytics.config import DATA_PATH, ROOT_DIR\n",
    "from ultralytics.utils.custom_utils.converters import load_dataset_fiftyone\n",
    "\n",
    "dataset_folder = f\"RUOD\"\n",
    "\n",
    "\n",
    "dataset_path = f\"{ROOT_DIR}/data/{dataset_folder}\"\n",
    "# # for split in [\"train\", \"test\"]:\n",
    "# #     annotations_path = f\"{dataset_path}/annotations/instances_{split}\"\n",
    "# #     modify_coco_json(annotations_path)\n",
    "\n",
    "# data_path = lambda split: f\"{dataset_path}/images/{split}\"\n",
    "# labels_path = lambda split: f\"{dataset_path}/annotations/instances_{split}_corrected.json\"\n",
    "\n",
    "# dataset = load_dataset_fiftyone(data_path, labels_path)\n",
    "dataset_type=fo.types.YOLOv5Dataset\n",
    "# dataset = fo.Dataset.from_dir(\n",
    "#     dataset_dir=f\"{dataset_path}/train\",\n",
    "#     dataset_type=dataset_type,\n",
    "#     name=dataset_folder,\n",
    "#     overwrite=True\n",
    "# )\n",
    "dataset = fo.Dataset(dataset_folder, overwrite=True)\n",
    "for split in [\"train\", \"test\"]:\n",
    "    dataset.add_dir(\n",
    "                dataset_dir=f\"{dataset_path}/{split}\",\n",
    "                dataset_type=dataset_type,\n",
    "                # yaml_path=DATASET_DESCRIPTION,\n",
    "                # split=\"test\",\n",
    "                tags=\"test\",\n",
    "                label_field=\"detections\"\n",
    "        )"
   ]
  },
  {
   "cell_type": "code",
   "execution_count": 20,
   "metadata": {},
   "outputs": [
    {
     "name": "stdout",
     "output_type": "stream",
     "text": [
      "/Users/sigurdbakkerud/Projects/master-thesis/ultralytics/data/RUOD\n"
     ]
    }
   ],
   "source": [
    "print(dataset_path)"
   ]
  },
  {
   "cell_type": "code",
   "execution_count": 26,
   "metadata": {},
   "outputs": [
    {
     "data": {
      "text/html": [
       "\n",
       "        <iframe\n",
       "            width=\"100%\"\n",
       "            height=\"800\"\n",
       "            src=\"http://localhost:5151/?notebook=True&subscription=bbd98cba-72e8-4248-b6b8-36aa0a83fec5\"\n",
       "            frameborder=\"0\"\n",
       "            allowfullscreen\n",
       "            \n",
       "        ></iframe>\n",
       "        "
      ],
      "text/plain": [
       "<IPython.lib.display.IFrame at 0x2b6a9f690>"
      ]
     },
     "metadata": {},
     "output_type": "display_data"
    }
   ],
   "source": [
    "d = fo.load_dataset(dataset_folder)\n",
    "session = fo.launch_app(d)"
   ]
  },
  {
   "cell_type": "code",
   "execution_count": 14,
   "metadata": {},
   "outputs": [
    {
     "name": "stdout",
     "output_type": "stream",
     "text": [
      "Common files found in the two folders:\n",
      "1345\n"
     ]
    }
   ],
   "source": [
    "import os\n",
    "\n",
    "def compare_folders(folder1, folder2):\n",
    "    files1 = set(os.listdir(folder1))\n",
    "    files2 = set(os.listdir(folder2))\n",
    "\n",
    "    common_files = files1.intersection(files2)\n",
    "\n",
    "    if common_files:\n",
    "        print(\"Common files found in the two folders:\")\n",
    "        print(len(common_files))\n",
    "        # for file_name in common_files:\n",
    "        #     print(file_name)\n",
    "    else:\n",
    "        print(\"No common files found in the two folders.\")\n",
    "    \n",
    "    return common_files\n",
    "\n",
    "# Example usage\n",
    "folder1_path = '../data/new_dataset_capia/train/images/'\n",
    "folder2_path = '../data/new_dataset_capia/test/images/'\n",
    "common_files = compare_folders(folder1_path, folder2_path)\n",
    "\n",
    "# len(common_files)\n",
    "\n",
    "# val_set = set(os.listdir(folder2_path))\n",
    "# len(val_set)\n",
    "\n",
    "# len(common_files)"
   ]
  },
  {
   "cell_type": "code",
   "execution_count": 36,
   "metadata": {},
   "outputs": [
    {
     "ename": "FileNotFoundError",
     "evalue": "'/Users/sigurdbakkerud/Projects/master-thesis/ultralytics/ultralytics/cfg/models/rt-detr/rtdetr-l22.yaml' does not exist",
     "output_type": "error",
     "traceback": [
      "\u001b[0;31m---------------------------------------------------------------------------\u001b[0m",
      "\u001b[0;31mFileNotFoundError\u001b[0m                         Traceback (most recent call last)",
      "Cell \u001b[0;32mIn[36], line 8\u001b[0m\n\u001b[1;32m      6\u001b[0m m \u001b[38;5;241m=\u001b[39m \u001b[38;5;124m\"\u001b[39m\u001b[38;5;124m/Users/sigurdbakkerud/Projects/master-thesis/ultralytics/ultralytics/cfg/models/rt-detr/rtdetr-l22.yaml\u001b[39m\u001b[38;5;124m\"\u001b[39m\n\u001b[1;32m      7\u001b[0m \u001b[38;5;66;03m# Load a model\u001b[39;00m\n\u001b[0;32m----> 8\u001b[0m model \u001b[38;5;241m=\u001b[39m \u001b[43mYOLO\u001b[49m\u001b[43m(\u001b[49m\u001b[43mm\u001b[49m\u001b[43m,\u001b[49m\u001b[43m \u001b[49m\u001b[38;5;124;43m\"\u001b[39;49m\u001b[38;5;124;43mdetect\u001b[39;49m\u001b[38;5;124;43m\"\u001b[39;49m\u001b[43m)\u001b[49m  \u001b[38;5;66;03m# build a new model from scratch\u001b[39;00m\n\u001b[1;32m      9\u001b[0m \u001b[38;5;66;03m# model = YOLO('yolov8n.pt')  # load a pretrained model (recommended for training)\u001b[39;00m\n\u001b[1;32m     10\u001b[0m \n\u001b[1;32m     11\u001b[0m \u001b[38;5;66;03m# data_path = '../../../specialization_project/data/data.yaml'\u001b[39;00m\n\u001b[1;32m     12\u001b[0m dataset_name \u001b[38;5;241m=\u001b[39m \u001b[38;5;124m\"\u001b[39m\u001b[38;5;124mnew_dataset_capia\u001b[39m\u001b[38;5;124m\"\u001b[39m\n",
      "File \u001b[0;32m~/Projects/master-thesis/ultralytics/ultralytics/engine/model.py:94\u001b[0m, in \u001b[0;36mModel.__init__\u001b[0;34m(self, model, task, verbose)\u001b[0m\n\u001b[1;32m     92\u001b[0m model \u001b[38;5;241m=\u001b[39m checks\u001b[38;5;241m.\u001b[39mcheck_model_file_from_stem(model)  \u001b[38;5;66;03m# add suffix, i.e. yolov8n -> yolov8n.pt\u001b[39;00m\n\u001b[1;32m     93\u001b[0m \u001b[38;5;28;01mif\u001b[39;00m Path(model)\u001b[38;5;241m.\u001b[39msuffix \u001b[38;5;129;01min\u001b[39;00m (\u001b[38;5;124m\"\u001b[39m\u001b[38;5;124m.yaml\u001b[39m\u001b[38;5;124m\"\u001b[39m, \u001b[38;5;124m\"\u001b[39m\u001b[38;5;124m.yml\u001b[39m\u001b[38;5;124m\"\u001b[39m):\n\u001b[0;32m---> 94\u001b[0m     \u001b[38;5;28;43mself\u001b[39;49m\u001b[38;5;241;43m.\u001b[39;49m\u001b[43m_new\u001b[49m\u001b[43m(\u001b[49m\u001b[43mmodel\u001b[49m\u001b[43m,\u001b[49m\u001b[43m \u001b[49m\u001b[43mtask\u001b[49m\u001b[38;5;241;43m=\u001b[39;49m\u001b[43mtask\u001b[49m\u001b[43m,\u001b[49m\u001b[43m \u001b[49m\u001b[43mverbose\u001b[49m\u001b[38;5;241;43m=\u001b[39;49m\u001b[43mverbose\u001b[49m\u001b[43m)\u001b[49m\n\u001b[1;32m     95\u001b[0m \u001b[38;5;28;01melse\u001b[39;00m:\n\u001b[1;32m     96\u001b[0m     \u001b[38;5;28mself\u001b[39m\u001b[38;5;241m.\u001b[39m_load(model, task\u001b[38;5;241m=\u001b[39mtask)\n",
      "File \u001b[0;32m~/Projects/master-thesis/ultralytics/ultralytics/engine/model.py:141\u001b[0m, in \u001b[0;36mModel._new\u001b[0;34m(self, cfg, task, model, verbose)\u001b[0m\n\u001b[1;32m    131\u001b[0m \u001b[38;5;28;01mdef\u001b[39;00m \u001b[38;5;21m_new\u001b[39m(\u001b[38;5;28mself\u001b[39m, cfg: \u001b[38;5;28mstr\u001b[39m, task\u001b[38;5;241m=\u001b[39m\u001b[38;5;28;01mNone\u001b[39;00m, model\u001b[38;5;241m=\u001b[39m\u001b[38;5;28;01mNone\u001b[39;00m, verbose\u001b[38;5;241m=\u001b[39m\u001b[38;5;28;01mFalse\u001b[39;00m):\n\u001b[1;32m    132\u001b[0m \u001b[38;5;250m    \u001b[39m\u001b[38;5;124;03m\"\"\"\u001b[39;00m\n\u001b[1;32m    133\u001b[0m \u001b[38;5;124;03m    Initializes a new model and infers the task type from the model definitions.\u001b[39;00m\n\u001b[1;32m    134\u001b[0m \n\u001b[0;32m   (...)\u001b[0m\n\u001b[1;32m    139\u001b[0m \u001b[38;5;124;03m        verbose (bool): display model info on load\u001b[39;00m\n\u001b[1;32m    140\u001b[0m \u001b[38;5;124;03m    \"\"\"\u001b[39;00m\n\u001b[0;32m--> 141\u001b[0m     cfg_dict \u001b[38;5;241m=\u001b[39m \u001b[43myaml_model_load\u001b[49m\u001b[43m(\u001b[49m\u001b[43mcfg\u001b[49m\u001b[43m)\u001b[49m\n\u001b[1;32m    142\u001b[0m     \u001b[38;5;28mself\u001b[39m\u001b[38;5;241m.\u001b[39mcfg \u001b[38;5;241m=\u001b[39m cfg\n\u001b[1;32m    143\u001b[0m     \u001b[38;5;28mself\u001b[39m\u001b[38;5;241m.\u001b[39mtask \u001b[38;5;241m=\u001b[39m task \u001b[38;5;129;01mor\u001b[39;00m guess_model_task(cfg_dict)\n",
      "File \u001b[0;32m~/Projects/master-thesis/ultralytics/ultralytics/nn/tasks.py:852\u001b[0m, in \u001b[0;36myaml_model_load\u001b[0;34m(path)\u001b[0m\n\u001b[1;32m    849\u001b[0m     path \u001b[38;5;241m=\u001b[39m path\u001b[38;5;241m.\u001b[39mwith_name(new_stem \u001b[38;5;241m+\u001b[39m path\u001b[38;5;241m.\u001b[39msuffix)\n\u001b[1;32m    851\u001b[0m unified_path \u001b[38;5;241m=\u001b[39m re\u001b[38;5;241m.\u001b[39msub(\u001b[38;5;124mr\u001b[39m\u001b[38;5;124m\"\u001b[39m\u001b[38;5;124m(\u001b[39m\u001b[38;5;124m\\\u001b[39m\u001b[38;5;124md+)([nslmx])(.+)?$\u001b[39m\u001b[38;5;124m\"\u001b[39m, \u001b[38;5;124mr\u001b[39m\u001b[38;5;124m\"\u001b[39m\u001b[38;5;124m\\\u001b[39m\u001b[38;5;124m1\u001b[39m\u001b[38;5;124m\\\u001b[39m\u001b[38;5;124m3\u001b[39m\u001b[38;5;124m\"\u001b[39m, \u001b[38;5;28mstr\u001b[39m(path))  \u001b[38;5;66;03m# i.e. yolov8x.yaml -> yolov8.yaml\u001b[39;00m\n\u001b[0;32m--> 852\u001b[0m yaml_file \u001b[38;5;241m=\u001b[39m check_yaml(unified_path, hard\u001b[38;5;241m=\u001b[39m\u001b[38;5;28;01mFalse\u001b[39;00m) \u001b[38;5;129;01mor\u001b[39;00m \u001b[43mcheck_yaml\u001b[49m\u001b[43m(\u001b[49m\u001b[43mpath\u001b[49m\u001b[43m)\u001b[49m\n\u001b[1;32m    853\u001b[0m d \u001b[38;5;241m=\u001b[39m yaml_load(yaml_file)  \u001b[38;5;66;03m# model dict\u001b[39;00m\n\u001b[1;32m    854\u001b[0m d[\u001b[38;5;124m\"\u001b[39m\u001b[38;5;124mscale\u001b[39m\u001b[38;5;124m\"\u001b[39m] \u001b[38;5;241m=\u001b[39m guess_model_scale(path)\n",
      "File \u001b[0;32m~/Projects/master-thesis/ultralytics/ultralytics/utils/checks.py:505\u001b[0m, in \u001b[0;36mcheck_yaml\u001b[0;34m(file, suffix, hard)\u001b[0m\n\u001b[1;32m    503\u001b[0m \u001b[38;5;28;01mdef\u001b[39;00m \u001b[38;5;21mcheck_yaml\u001b[39m(file, suffix\u001b[38;5;241m=\u001b[39m(\u001b[38;5;124m\"\u001b[39m\u001b[38;5;124m.yaml\u001b[39m\u001b[38;5;124m\"\u001b[39m, \u001b[38;5;124m\"\u001b[39m\u001b[38;5;124m.yml\u001b[39m\u001b[38;5;124m\"\u001b[39m), hard\u001b[38;5;241m=\u001b[39m\u001b[38;5;28;01mTrue\u001b[39;00m):\n\u001b[1;32m    504\u001b[0m \u001b[38;5;250m    \u001b[39m\u001b[38;5;124;03m\"\"\"Search/download YAML file (if necessary) and return path, checking suffix.\"\"\"\u001b[39;00m\n\u001b[0;32m--> 505\u001b[0m     \u001b[38;5;28;01mreturn\u001b[39;00m \u001b[43mcheck_file\u001b[49m\u001b[43m(\u001b[49m\u001b[43mfile\u001b[49m\u001b[43m,\u001b[49m\u001b[43m \u001b[49m\u001b[43msuffix\u001b[49m\u001b[43m,\u001b[49m\u001b[43m \u001b[49m\u001b[43mhard\u001b[49m\u001b[38;5;241;43m=\u001b[39;49m\u001b[43mhard\u001b[49m\u001b[43m)\u001b[49m\n",
      "File \u001b[0;32m~/Projects/master-thesis/ultralytics/ultralytics/utils/checks.py:497\u001b[0m, in \u001b[0;36mcheck_file\u001b[0;34m(file, suffix, download, hard)\u001b[0m\n\u001b[1;32m    495\u001b[0m files \u001b[38;5;241m=\u001b[39m glob\u001b[38;5;241m.\u001b[39mglob(\u001b[38;5;28mstr\u001b[39m(ROOT \u001b[38;5;241m/\u001b[39m \u001b[38;5;124m\"\u001b[39m\u001b[38;5;124mcfg\u001b[39m\u001b[38;5;124m\"\u001b[39m \u001b[38;5;241m/\u001b[39m \u001b[38;5;124m\"\u001b[39m\u001b[38;5;124m**\u001b[39m\u001b[38;5;124m\"\u001b[39m \u001b[38;5;241m/\u001b[39m file), recursive\u001b[38;5;241m=\u001b[39m\u001b[38;5;28;01mTrue\u001b[39;00m)  \u001b[38;5;66;03m# find file\u001b[39;00m\n\u001b[1;32m    496\u001b[0m \u001b[38;5;28;01mif\u001b[39;00m \u001b[38;5;129;01mnot\u001b[39;00m files \u001b[38;5;129;01mand\u001b[39;00m hard:\n\u001b[0;32m--> 497\u001b[0m     \u001b[38;5;28;01mraise\u001b[39;00m \u001b[38;5;167;01mFileNotFoundError\u001b[39;00m(\u001b[38;5;124mf\u001b[39m\u001b[38;5;124m\"\u001b[39m\u001b[38;5;124m'\u001b[39m\u001b[38;5;132;01m{\u001b[39;00mfile\u001b[38;5;132;01m}\u001b[39;00m\u001b[38;5;124m'\u001b[39m\u001b[38;5;124m does not exist\u001b[39m\u001b[38;5;124m\"\u001b[39m)\n\u001b[1;32m    498\u001b[0m \u001b[38;5;28;01melif\u001b[39;00m \u001b[38;5;28mlen\u001b[39m(files) \u001b[38;5;241m>\u001b[39m \u001b[38;5;241m1\u001b[39m \u001b[38;5;129;01mand\u001b[39;00m hard:\n\u001b[1;32m    499\u001b[0m     \u001b[38;5;28;01mraise\u001b[39;00m \u001b[38;5;167;01mFileNotFoundError\u001b[39;00m(\u001b[38;5;124mf\u001b[39m\u001b[38;5;124m\"\u001b[39m\u001b[38;5;124mMultiple files match \u001b[39m\u001b[38;5;124m'\u001b[39m\u001b[38;5;132;01m{\u001b[39;00mfile\u001b[38;5;132;01m}\u001b[39;00m\u001b[38;5;124m'\u001b[39m\u001b[38;5;124m, specify exact path: \u001b[39m\u001b[38;5;132;01m{\u001b[39;00mfiles\u001b[38;5;132;01m}\u001b[39;00m\u001b[38;5;124m\"\u001b[39m)\n",
      "\u001b[0;31mFileNotFoundError\u001b[0m: '/Users/sigurdbakkerud/Projects/master-thesis/ultralytics/ultralytics/cfg/models/rt-detr/rtdetr-l22.yaml' does not exist"
     ]
    }
   ],
   "source": [
    "from ultralytics import YOLO\n",
    "from ultralytics.config import DATA_PATH, ROOT_DIR\n",
    "\n",
    "save_dir = \"yolov8s-CBAM\"\n",
    "dest_dir = f'{ROOT_DIR}/runs/detect/{save_dir}'\n",
    "m = \"/Users/sigurdbakkerud/Projects/master-thesis/ultralytics/ultralytics/cfg/models/rt-detr/rtdetr-l22.yaml\"\n",
    "# Load a model\n",
    "model = YOLO(m, \"detect\")  # build a new model from scratch\n",
    "# model = YOLO('yolov8n.pt')  # load a pretrained model (recommended for training)\n",
    "\n",
    "# data_path = '../../../specialization_project/data/data.yaml'\n",
    "dataset_name = \"new_dataset_capia\"\n",
    "data_path = f\"{DATA_PATH}/{dataset_name}/data.yaml\"\n",
    "\n",
    "# model.to(torch.device(\"cuda:1\"))\n",
    "# results = model.train(data=data_path, epochs=1)  # train the model\n",
    "\n",
    "model\n"
   ]
  },
  {
   "cell_type": "code",
   "execution_count": null,
   "metadata": {},
   "outputs": [],
   "source": []
  },
  {
   "cell_type": "code",
   "execution_count": null,
   "metadata": {},
   "outputs": [],
   "source": []
  }
 ],
 "metadata": {
  "kernelspec": {
   "display_name": "venv",
   "language": "python",
   "name": "python3"
  },
  "language_info": {
   "codemirror_mode": {
    "name": "ipython",
    "version": 3
   },
   "file_extension": ".py",
   "mimetype": "text/x-python",
   "name": "python",
   "nbconvert_exporter": "python",
   "pygments_lexer": "ipython3",
   "version": "3.11.5"
  }
 },
 "nbformat": 4,
 "nbformat_minor": 2
}
