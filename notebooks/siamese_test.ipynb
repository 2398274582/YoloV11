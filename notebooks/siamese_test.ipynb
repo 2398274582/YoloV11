{
 "cells": [
  {
   "metadata": {},
   "cell_type": "markdown",
   "source": [
    "# Siamese Network Example\n",
    "\n",
    "This notebook shows you how to create and use a Siamese version of YOLOv9e. \n",
    "\n",
    "The code example requires a yolo dataset. Here we have a dataset of tiffs with 6 bands. Where the first three bands are the RGB bands of timestamp 1 and the last three bands are the RGB bands of timestamp 2.\n",
    "\n",
    "Please note that the dateset is tiny by design and is not able to produce any meaningful results. The purpose of this notebook is to show you how to define and use the Siamese network at the current state.\n",
    "\n",
    "Please note that this notebook is mainly for showing how to use the Siamese network in comparison to the normal ultralytics repositry."
   ],
   "id": "aebf2fc0b39f5c64"
  },
  {
   "metadata": {},
   "cell_type": "markdown",
   "source": [
    "## Load the YOLOv9es model from the yaml (no pt file available as of now)\n",
    "\n",
    "please ensure that you use the es version instead of the normal yolov9e.yaml\n",
    "\n",
    "Incase you are interested how to configure other yolo versions, please check out yolov9es.yaml file.\n"
   ],
   "id": "74eca451be69531"
  },
  {
   "metadata": {
    "collapsed": true,
    "ExecuteTime": {
     "end_time": "2024-09-03T12:47:48.232930Z",
     "start_time": "2024-09-03T12:47:43.467123Z"
    }
   },
   "cell_type": "code",
   "source": [
    "from ultralytics_MB import YOLO \n",
    "model = YOLO(\"yolov9es.yaml\",task=\"detect\")"
   ],
   "id": "initial_id",
   "outputs": [
    {
     "name": "stdout",
     "output_type": "stream",
     "text": [
      "WARNING ⚠️ YOLOv9 `Silence` module is deprecated in favor of nn.Identity. Please delete local *.pt file and re-download the latest model checkpoint.\n",
      "ch = 6\n"
     ]
    }
   ],
   "execution_count": 2
  },
  {
   "metadata": {
    "ExecuteTime": {
     "end_time": "2024-09-03T13:01:40.942729Z",
     "start_time": "2024-09-03T13:00:57.290324Z"
    }
   },
   "cell_type": "code",
   "source": "model.train(data=\"./notebooks/datasets/siamese_test/data.yaml\",epochs=1,imgsz=124,batch=1,single_cls=True,channels=6,dual_stream=True)",
   "id": "68d8500d8fc48582",
   "outputs": [
    {
     "name": "stdout",
     "output_type": "stream",
     "text": [
      "Ultralytics YOLOv8.1.27 🚀 Python-3.10.14 torch-2.3.0+cu121 CPU (Intel Core(TM) i7-8550U 1.80GHz)\n",
      "\u001B[34m\u001B[1mengine/trainer: \u001B[0mtask=detect, mode=train, model=yolov9es.yaml, data=./notebooks/datasets/siamese_test/data.yaml, epochs=1, time=None, patience=100, batch=1, imgsz=124, save=True, save_period=-1, cache=False, device=None, workers=8, project=None, name=train80, exist_ok=False, pretrained=True, optimizer=auto, verbose=True, seed=0, deterministic=True, single_cls=True, rect=False, cos_lr=False, close_mosaic=10, resume=False, amp=True, fraction=1.0, profile=False, freeze=None, multi_scale=False, channels=6, adjust_layers=[], dual_stream=True, bands=[0], overlap_mask=True, mask_ratio=4, dropout=0.0, val=True, split=val, save_json=False, save_hybrid=False, conf=None, iou=0.7, max_det=300, half=False, dnn=False, plots=True, source=None, vid_stride=1, stream_buffer=False, visualize=False, augment=False, agnostic_nms=False, classes=None, retina_masks=False, embed=None, show=False, save_frames=False, save_txt=False, save_conf=False, save_crop=False, show_labels=True, show_conf=True, show_boxes=True, line_width=None, format=torchscript, keras=False, optimize=False, int8=False, dynamic=False, simplify=False, opset=None, workspace=4, nms=False, lr0=0.01, lrf=0.01, momentum=0.937, weight_decay=0.0005, warmup_epochs=3.0, warmup_momentum=0.8, warmup_bias_lr=0.1, box=7.5, cls=0.5, dfl=1.5, pose=12.0, kobj=1.0, label_smoothing=0.0, nbs=64, hsv_h=0.015, hsv_s=0.7, hsv_v=0.4, degrees=0.0, translate=0.1, scale=0.5, shear=0.0, perspective=0.0, flipud=0.0, fliplr=0.5, bgr=0.0, mosaic=1.0, mixup=0.0, copy_paste=0.0, auto_augment=randaugment, erasing=0.4, crop_fraction=1.0, cfg=None, tracker=botsort.yaml, save_dir=runs/detect/train80\n",
      "ch = 6\n",
      "\n",
      "                   from  n    params  module                                       arguments                     \n",
      "  0                  -1  1         0  torch.nn.modules.linear.Identity             []                            \n",
      "  1                  -1  1         0  ultralytics_MB.nn.modules.conv.Input         [0]                           \n",
      "  2                  -1  1      1856  ultralytics_MB.nn.modules.conv.Conv          [3, 64, 3, 2]                 \n",
      "  3                  -1  1     73984  ultralytics_MB.nn.modules.conv.Conv          [64, 128, 3, 2]               \n",
      "  4                  -1  1    252160  ultralytics_MB.nn.modules.block.RepNCSPELAN4 [128, 256, 128, 64, 2]        \n",
      "  5                  -1  1    164352  ultralytics_MB.nn.modules.block.ADown        [256, 256]                    \n",
      "  6                  -1  1   1004032  ultralytics_MB.nn.modules.block.RepNCSPELAN4 [256, 512, 256, 128, 2]       \n",
      "  7                  -1  1    656384  ultralytics_MB.nn.modules.block.ADown        [512, 512]                    \n",
      "  8                  -1  1   4006912  ultralytics_MB.nn.modules.block.RepNCSPELAN4 [512, 1024, 512, 256, 2]      \n",
      "  9                  -1  1   2623488  ultralytics_MB.nn.modules.block.ADown        [1024, 1024]                  \n",
      " 10                  -1  1   4269056  ultralytics_MB.nn.modules.block.RepNCSPELAN4 [1024, 1024, 512, 256, 2]     \n",
      " 11                   2  1      4160  ultralytics_MB.nn.modules.block.CBLinear     [64, [64]]                    \n",
      " 12                   4  1     49344  ultralytics_MB.nn.modules.block.CBLinear     [256, [64, 128]]              \n",
      " 13                   6  1    229824  ultralytics_MB.nn.modules.block.CBLinear     [512, [64, 128, 256]]         \n",
      " 14                   8  1    984000  ultralytics_MB.nn.modules.block.CBLinear     [1024, [64, 128, 256, 512]]   \n",
      " 15                  10  1   2033600  ultralytics_MB.nn.modules.block.CBLinear     [1024, [64, 128, 256, 512, 1024]]\n",
      " 16                   1  1      1856  ultralytics_MB.nn.modules.conv.Conv          [3, 64, 3, 2]                 \n",
      " 17[11, 12, 13, 14, 15, -1]  1         0  ultralytics_MB.nn.modules.block.CBFuse       [[0, 0, 0, 0, 0]]             \n",
      " 18                  -1  1     73984  ultralytics_MB.nn.modules.conv.Conv          [64, 128, 3, 2]               \n",
      " 19[12, 13, 14, 15, -1]  1         0  ultralytics_MB.nn.modules.block.CBFuse       [[1, 1, 1, 1]]                \n",
      " 20                  -1  1    252160  ultralytics_MB.nn.modules.block.RepNCSPELAN4 [128, 256, 128, 64, 2]        \n",
      " 21                  -1  1    164352  ultralytics_MB.nn.modules.block.ADown        [256, 256]                    \n",
      " 22    [13, 14, 15, -1]  1         0  ultralytics_MB.nn.modules.block.CBFuse       [[2, 2, 2]]                   \n",
      " 23                  -1  1   1004032  ultralytics_MB.nn.modules.block.RepNCSPELAN4 [256, 512, 256, 128, 2]       \n",
      " 24                  -1  1    656384  ultralytics_MB.nn.modules.block.ADown        [512, 512]                    \n",
      " 25        [14, 15, -1]  1         0  ultralytics_MB.nn.modules.block.CBFuse       [[3, 3]]                      \n",
      " 26                  -1  1   4006912  ultralytics_MB.nn.modules.block.RepNCSPELAN4 [512, 1024, 512, 256, 2]      \n",
      " 27                  -1  1   2623488  ultralytics_MB.nn.modules.block.ADown        [1024, 1024]                  \n",
      " 28            [15, -1]  1         0  ultralytics_MB.nn.modules.block.CBFuse       [[4]]                         \n",
      " 29                  -1  1   4269056  ultralytics_MB.nn.modules.block.RepNCSPELAN4 [1024, 1024, 512, 256, 2]     \n",
      " 30                  -1  1    787968  ultralytics_MB.nn.modules.block.SPPELAN      [1024, 512, 256]              \n",
      " 31                   0  1         0  ultralytics_MB.nn.modules.conv.Input         [1]                           \n",
      " 32                  -1  1      1856  ultralytics_MB.nn.modules.conv.Conv          [3, 64, 3, 2]                 \n",
      " 33                  -1  1     73984  ultralytics_MB.nn.modules.conv.Conv          [64, 128, 3, 2]               \n",
      " 34                  -1  1    252160  ultralytics_MB.nn.modules.block.RepNCSPELAN4 [128, 256, 128, 64, 2]        \n",
      " 35                  -1  1    164352  ultralytics_MB.nn.modules.block.ADown        [256, 256]                    \n",
      " 36                  -1  1   1004032  ultralytics_MB.nn.modules.block.RepNCSPELAN4 [256, 512, 256, 128, 2]       \n",
      " 37                  -1  1    656384  ultralytics_MB.nn.modules.block.ADown        [512, 512]                    \n",
      " 38                  -1  1   4006912  ultralytics_MB.nn.modules.block.RepNCSPELAN4 [512, 1024, 512, 256, 2]      \n",
      " 39                  -1  1   2623488  ultralytics_MB.nn.modules.block.ADown        [1024, 1024]                  \n",
      " 40                  -1  1   4269056  ultralytics_MB.nn.modules.block.RepNCSPELAN4 [1024, 1024, 512, 256, 2]     \n",
      " 41                  32  1      4160  ultralytics_MB.nn.modules.block.CBLinear     [64, [64]]                    \n",
      " 42                  34  1     49344  ultralytics_MB.nn.modules.block.CBLinear     [256, [64, 128]]              \n",
      " 43                  36  1    229824  ultralytics_MB.nn.modules.block.CBLinear     [512, [64, 128, 256]]         \n",
      " 44                  38  1    984000  ultralytics_MB.nn.modules.block.CBLinear     [1024, [64, 128, 256, 512]]   \n",
      " 45                  40  1   2033600  ultralytics_MB.nn.modules.block.CBLinear     [1024, [64, 128, 256, 512, 1024]]\n",
      " 46                  31  1      1856  ultralytics_MB.nn.modules.conv.Conv          [3, 64, 3, 2]                 \n",
      " 47[41, 42, 43, 44, 45, -1]  1         0  ultralytics_MB.nn.modules.block.CBFuse       [[0, 0, 0, 0, 0]]             \n",
      " 48                  -1  1     73984  ultralytics_MB.nn.modules.conv.Conv          [64, 128, 3, 2]               \n",
      " 49[42, 43, 44, 45, -1]  1         0  ultralytics_MB.nn.modules.block.CBFuse       [[1, 1, 1, 1]]                \n",
      " 50                  -1  1    252160  ultralytics_MB.nn.modules.block.RepNCSPELAN4 [128, 256, 128, 64, 2]        \n",
      " 51                  -1  1    164352  ultralytics_MB.nn.modules.block.ADown        [256, 256]                    \n",
      " 52    [43, 44, 45, -1]  1         0  ultralytics_MB.nn.modules.block.CBFuse       [[2, 2, 2]]                   \n",
      " 53                  -1  1   1004032  ultralytics_MB.nn.modules.block.RepNCSPELAN4 [256, 512, 256, 128, 2]       \n",
      " 54                  -1  1    656384  ultralytics_MB.nn.modules.block.ADown        [512, 512]                    \n",
      " 55        [44, 45, -1]  1         0  ultralytics_MB.nn.modules.block.CBFuse       [[3, 3]]                      \n",
      " 56                  -1  1   4006912  ultralytics_MB.nn.modules.block.RepNCSPELAN4 [512, 1024, 512, 256, 2]      \n",
      " 57                  -1  1   2623488  ultralytics_MB.nn.modules.block.ADown        [1024, 1024]                  \n",
      " 58            [45, -1]  1         0  ultralytics_MB.nn.modules.block.CBFuse       [[4]]                         \n",
      " 59                  -1  1   4269056  ultralytics_MB.nn.modules.block.RepNCSPELAN4 [1024, 1024, 512, 256, 2]     \n",
      " 60                  -1  1    787968  ultralytics_MB.nn.modules.block.SPPELAN      [1024, 512, 256]              \n",
      " 61            [30, 60]  1         0  ultralytics_MB.nn.modules.conv.FeatureFusionBlock[]                            \n",
      " 62            [26, 56]  1         0  ultralytics_MB.nn.modules.conv.FeatureFusionBlock[]                            \n",
      " 63            [23, 53]  1         0  ultralytics_MB.nn.modules.conv.FeatureFusionBlock[]                            \n",
      " 64                  61  1         0  torch.nn.modules.upsampling.Upsample         [None, 2, 'nearest']          \n",
      " 65            [-1, 62]  1         0  ultralytics_MB.nn.modules.conv.Concat        [1]                           \n",
      " 66                  -1  1   4005888  ultralytics_MB.nn.modules.block.RepNCSPELAN4 [1536, 512, 512, 256, 2]      \n",
      " 67                  -1  1         0  torch.nn.modules.upsampling.Upsample         [None, 2, 'nearest']          \n",
      " 68            [-1, 63]  1         0  ultralytics_MB.nn.modules.conv.Concat        [1]                           \n",
      " 69                  -1  1   1069056  ultralytics_MB.nn.modules.block.RepNCSPELAN4 [1024, 256, 256, 128, 2]      \n",
      " 70                  -1  1    164352  ultralytics_MB.nn.modules.block.ADown        [256, 256]                    \n",
      " 71            [-1, 66]  1         0  ultralytics_MB.nn.modules.conv.Concat        [1]                           \n",
      " 72                  -1  1   3612672  ultralytics_MB.nn.modules.block.RepNCSPELAN4 [768, 512, 512, 256, 2]       \n",
      " 73                  -1  1    656384  ultralytics_MB.nn.modules.block.ADown        [512, 512]                    \n",
      " 74            [-1, 61]  1         0  ultralytics_MB.nn.modules.conv.Concat        [1]                           \n",
      " 75                  -1  1  12860416  ultralytics_MB.nn.modules.block.RepNCSPELAN4 [1024, 512, 1024, 512, 2]     \n",
      " 76        [69, 72, 75]  1   5588197  ultralytics_MB.nn.modules.head.Detect        [7, [256, 512, 512]]          \n",
      "YOLOv9es summary: 2,021 layers, 88,343,653 parameters, 88,343,637 gradients\n",
      "\n",
      "Freezing layer 'model.76.dfl.conv.weight'\n",
      "WARNING ⚠️ imgsz=[124] must be multiple of max stride 32, updating to [128]\n"
     ]
    },
    {
     "name": "stderr",
     "output_type": "stream",
     "text": [
      "\u001B[34m\u001B[1mtrain: \u001B[0mScanning /home/clanger/Desktop/machinelearning/ultralytics_multiband_support/notebooks/datasets/siamese_test/train/labels.cache... 5 images, 0 backgrounds, 0 corrupt: 100%|██████████| 5/5 [00:00<?, ?it/s]\n",
      "\u001B[34m\u001B[1mval: \u001B[0mScanning /home/clanger/Desktop/machinelearning/ultralytics_multiband_support/notebooks/datasets/siamese_test/val/labels.cache... 5 images, 0 backgrounds, 0 corrupt: 100%|██████████| 5/5 [00:00<?, ?it/s]\n"
     ]
    },
    {
     "name": "stdout",
     "output_type": "stream",
     "text": [
      "Plotting labels to runs/detect/train80/labels.jpg... \n",
      "\u001B[34m\u001B[1moptimizer:\u001B[0m 'optimizer=auto' found, ignoring 'lr0=0.01' and 'momentum=0.937' and determining best 'optimizer', 'lr0' and 'momentum' automatically... \n",
      "\u001B[34m\u001B[1moptimizer:\u001B[0m AdamW(lr=0.000909, momentum=0.9) with parameter groups 492 weight(decay=0.0), 509 weight(decay=0.0005), 508 bias(decay=0.0)\n",
      "Image sizes 128 train, 128 val\n",
      "Using 0 dataloader workers\n",
      "Logging results to \u001B[1mruns/detect/train80\u001B[0m\n",
      "Starting training for 1 epochs...\n",
      "\n",
      "      Epoch    GPU_mem   box_loss   cls_loss   dfl_loss  Instances       Size\n"
     ]
    },
    {
     "name": "stderr",
     "output_type": "stream",
     "text": [
      "        1/1         0G      3.166      2.527      2.119          5        128: 100%|██████████| 5/5 [00:05<00:00,  1.04s/it]\n",
      "                 Class     Images  Instances      Box(P          R      mAP50  mAP50-95): 100%|██████████| 3/3 [00:01<00:00,  2.23it/s]"
     ]
    },
    {
     "name": "stdout",
     "output_type": "stream",
     "text": [
      "                   all          5         37          0          0          0          0\n"
     ]
    },
    {
     "name": "stderr",
     "output_type": "stream",
     "text": [
      "\n"
     ]
    },
    {
     "name": "stdout",
     "output_type": "stream",
     "text": [
      "\n",
      "1 epochs completed in 0.005 hours.\n",
      "Optimizer stripped from runs/detect/train80/weights/last.pt, 178.2MB\n",
      "Optimizer stripped from runs/detect/train80/weights/best.pt, 178.2MB\n",
      "\n",
      "Validating runs/detect/train80/weights/best.pt...\n",
      "Ultralytics YOLOv8.1.27 🚀 Python-3.10.14 torch-2.3.0+cu121 CPU (Intel Core(TM) i7-8550U 1.80GHz)\n"
     ]
    },
    {
     "name": "stderr",
     "output_type": "stream",
     "text": [
      "                 Class     Images  Instances      Box(P          R      mAP50  mAP50-95): 100%|██████████| 3/3 [00:01<00:00,  2.61it/s]"
     ]
    },
    {
     "name": "stdout",
     "output_type": "stream",
     "text": [
      "                   all          5         37          0          0          0          0\n"
     ]
    },
    {
     "name": "stderr",
     "output_type": "stream",
     "text": [
      "\n"
     ]
    },
    {
     "name": "stdout",
     "output_type": "stream",
     "text": [
      "Speed: 0.1ms preprocess, 217.3ms inference, 0.0ms loss, 0.6ms postprocess per image\n",
      "Results saved to \u001B[1mruns/detect/train80\u001B[0m\n"
     ]
    },
    {
     "ename": "AttributeError",
     "evalue": "'DetMetrics' object has no attribute 'curves_results'. See valid attributes below.\n\n    This class is a utility class for computing detection metrics such as precision, recall, and mean average precision\n    (mAP) of an object detection model.\n\n    Args:\n        save_dir (Path): A path to the directory where the output plots will be saved. Defaults to current directory.\n        plot (bool): A flag that indicates whether to plot precision-recall curves for each class. Defaults to False.\n        on_plot (func): An optional callback to pass plots path and data when they are rendered. Defaults to None.\n        names (tuple of str): A tuple of strings that represents the names of the classes. Defaults to an empty tuple.\n\n    Attributes:\n        save_dir (Path): A path to the directory where the output plots will be saved.\n        plot (bool): A flag that indicates whether to plot the precision-recall curves for each class.\n        on_plot (func): An optional callback to pass plots path and data when they are rendered.\n        names (tuple of str): A tuple of strings that represents the names of the classes.\n        box (Metric): An instance of the Metric class for storing the results of the detection metrics.\n        speed (dict): A dictionary for storing the execution time of different parts of the detection process.\n\n    Methods:\n        process(tp, conf, pred_cls, target_cls): Updates the metric results with the latest batch of predictions.\n        keys: Returns a list of keys for accessing the computed detection metrics.\n        mean_results: Returns a list of mean values for the computed detection metrics.\n        class_result(i): Returns a list of values for the computed detection metrics for a specific class.\n        maps: Returns a dictionary of mean average precision (mAP) values for different IoU thresholds.\n        fitness: Computes the fitness score based on the computed detection metrics.\n        ap_class_index: Returns a list of class indices sorted by their average precision (AP) values.\n        results_dict: Returns a dictionary that maps detection metric keys to their computed values.\n        curves: TODO\n        curves_results: TODO\n    ",
     "output_type": "error",
     "traceback": [
      "\u001B[0;31m---------------------------------------------------------------------------\u001B[0m",
      "\u001B[0;31mAttributeError\u001B[0m                            Traceback (most recent call last)",
      "File \u001B[0;32m~/miniforge3/lib/python3.10/site-packages/IPython/core/formatters.py:711\u001B[0m, in \u001B[0;36mPlainTextFormatter.__call__\u001B[0;34m(self, obj)\u001B[0m\n\u001B[1;32m    704\u001B[0m stream \u001B[38;5;241m=\u001B[39m StringIO()\n\u001B[1;32m    705\u001B[0m printer \u001B[38;5;241m=\u001B[39m pretty\u001B[38;5;241m.\u001B[39mRepresentationPrinter(stream, \u001B[38;5;28mself\u001B[39m\u001B[38;5;241m.\u001B[39mverbose,\n\u001B[1;32m    706\u001B[0m     \u001B[38;5;28mself\u001B[39m\u001B[38;5;241m.\u001B[39mmax_width, \u001B[38;5;28mself\u001B[39m\u001B[38;5;241m.\u001B[39mnewline,\n\u001B[1;32m    707\u001B[0m     max_seq_length\u001B[38;5;241m=\u001B[39m\u001B[38;5;28mself\u001B[39m\u001B[38;5;241m.\u001B[39mmax_seq_length,\n\u001B[1;32m    708\u001B[0m     singleton_pprinters\u001B[38;5;241m=\u001B[39m\u001B[38;5;28mself\u001B[39m\u001B[38;5;241m.\u001B[39msingleton_printers,\n\u001B[1;32m    709\u001B[0m     type_pprinters\u001B[38;5;241m=\u001B[39m\u001B[38;5;28mself\u001B[39m\u001B[38;5;241m.\u001B[39mtype_printers,\n\u001B[1;32m    710\u001B[0m     deferred_pprinters\u001B[38;5;241m=\u001B[39m\u001B[38;5;28mself\u001B[39m\u001B[38;5;241m.\u001B[39mdeferred_printers)\n\u001B[0;32m--> 711\u001B[0m \u001B[43mprinter\u001B[49m\u001B[38;5;241;43m.\u001B[39;49m\u001B[43mpretty\u001B[49m\u001B[43m(\u001B[49m\u001B[43mobj\u001B[49m\u001B[43m)\u001B[49m\n\u001B[1;32m    712\u001B[0m printer\u001B[38;5;241m.\u001B[39mflush()\n\u001B[1;32m    713\u001B[0m \u001B[38;5;28;01mreturn\u001B[39;00m stream\u001B[38;5;241m.\u001B[39mgetvalue()\n",
      "File \u001B[0;32m~/miniforge3/lib/python3.10/site-packages/IPython/lib/pretty.py:419\u001B[0m, in \u001B[0;36mRepresentationPrinter.pretty\u001B[0;34m(self, obj)\u001B[0m\n\u001B[1;32m    408\u001B[0m                         \u001B[38;5;28;01mreturn\u001B[39;00m meth(obj, \u001B[38;5;28mself\u001B[39m, cycle)\n\u001B[1;32m    409\u001B[0m                 \u001B[38;5;28;01mif\u001B[39;00m (\n\u001B[1;32m    410\u001B[0m                     \u001B[38;5;28mcls\u001B[39m \u001B[38;5;129;01mis\u001B[39;00m \u001B[38;5;129;01mnot\u001B[39;00m \u001B[38;5;28mobject\u001B[39m\n\u001B[1;32m    411\u001B[0m                     \u001B[38;5;66;03m# check if cls defines __repr__\u001B[39;00m\n\u001B[0;32m   (...)\u001B[0m\n\u001B[1;32m    417\u001B[0m                     \u001B[38;5;129;01mand\u001B[39;00m \u001B[38;5;28mcallable\u001B[39m(_safe_getattr(\u001B[38;5;28mcls\u001B[39m, \u001B[38;5;124m\"\u001B[39m\u001B[38;5;124m__repr__\u001B[39m\u001B[38;5;124m\"\u001B[39m, \u001B[38;5;28;01mNone\u001B[39;00m))\n\u001B[1;32m    418\u001B[0m                 ):\n\u001B[0;32m--> 419\u001B[0m                     \u001B[38;5;28;01mreturn\u001B[39;00m \u001B[43m_repr_pprint\u001B[49m\u001B[43m(\u001B[49m\u001B[43mobj\u001B[49m\u001B[43m,\u001B[49m\u001B[43m \u001B[49m\u001B[38;5;28;43mself\u001B[39;49m\u001B[43m,\u001B[49m\u001B[43m \u001B[49m\u001B[43mcycle\u001B[49m\u001B[43m)\u001B[49m\n\u001B[1;32m    421\u001B[0m     \u001B[38;5;28;01mreturn\u001B[39;00m _default_pprint(obj, \u001B[38;5;28mself\u001B[39m, cycle)\n\u001B[1;32m    422\u001B[0m \u001B[38;5;28;01mfinally\u001B[39;00m:\n",
      "File \u001B[0;32m~/miniforge3/lib/python3.10/site-packages/IPython/lib/pretty.py:787\u001B[0m, in \u001B[0;36m_repr_pprint\u001B[0;34m(obj, p, cycle)\u001B[0m\n\u001B[1;32m    785\u001B[0m \u001B[38;5;250m\u001B[39m\u001B[38;5;124;03m\"\"\"A pprint that just redirects to the normal repr function.\"\"\"\u001B[39;00m\n\u001B[1;32m    786\u001B[0m \u001B[38;5;66;03m# Find newlines and replace them with p.break_()\u001B[39;00m\n\u001B[0;32m--> 787\u001B[0m output \u001B[38;5;241m=\u001B[39m \u001B[38;5;28;43mrepr\u001B[39;49m\u001B[43m(\u001B[49m\u001B[43mobj\u001B[49m\u001B[43m)\u001B[49m\n\u001B[1;32m    788\u001B[0m lines \u001B[38;5;241m=\u001B[39m output\u001B[38;5;241m.\u001B[39msplitlines()\n\u001B[1;32m    789\u001B[0m \u001B[38;5;28;01mwith\u001B[39;00m p\u001B[38;5;241m.\u001B[39mgroup():\n",
      "File \u001B[0;32m~/Desktop/machinelearning/ultralytics_multiband_support/ultralytics_MB/utils/__init__.py:160\u001B[0m, in \u001B[0;36mSimpleClass.__repr__\u001B[0;34m(self)\u001B[0m\n\u001B[1;32m    158\u001B[0m \u001B[38;5;28;01mdef\u001B[39;00m \u001B[38;5;21m__repr__\u001B[39m(\u001B[38;5;28mself\u001B[39m):\n\u001B[1;32m    159\u001B[0m \u001B[38;5;250m    \u001B[39m\u001B[38;5;124;03m\"\"\"Return a machine-readable string representation of the object.\"\"\"\u001B[39;00m\n\u001B[0;32m--> 160\u001B[0m     \u001B[38;5;28;01mreturn\u001B[39;00m \u001B[38;5;28;43mself\u001B[39;49m\u001B[38;5;241;43m.\u001B[39;49m\u001B[38;5;21;43m__str__\u001B[39;49m\u001B[43m(\u001B[49m\u001B[43m)\u001B[49m\n",
      "File \u001B[0;32m~/Desktop/machinelearning/ultralytics_multiband_support/ultralytics_MB/utils/__init__.py:148\u001B[0m, in \u001B[0;36mSimpleClass.__str__\u001B[0;34m(self)\u001B[0m\n\u001B[1;32m    146\u001B[0m attr \u001B[38;5;241m=\u001B[39m []\n\u001B[1;32m    147\u001B[0m \u001B[38;5;28;01mfor\u001B[39;00m a \u001B[38;5;129;01min\u001B[39;00m \u001B[38;5;28mdir\u001B[39m(\u001B[38;5;28mself\u001B[39m):\n\u001B[0;32m--> 148\u001B[0m     v \u001B[38;5;241m=\u001B[39m \u001B[38;5;28;43mgetattr\u001B[39;49m\u001B[43m(\u001B[49m\u001B[38;5;28;43mself\u001B[39;49m\u001B[43m,\u001B[49m\u001B[43m \u001B[49m\u001B[43ma\u001B[49m\u001B[43m)\u001B[49m\n\u001B[1;32m    149\u001B[0m     \u001B[38;5;28;01mif\u001B[39;00m \u001B[38;5;129;01mnot\u001B[39;00m \u001B[38;5;28mcallable\u001B[39m(v) \u001B[38;5;129;01mand\u001B[39;00m \u001B[38;5;129;01mnot\u001B[39;00m a\u001B[38;5;241m.\u001B[39mstartswith(\u001B[38;5;124m\"\u001B[39m\u001B[38;5;124m_\u001B[39m\u001B[38;5;124m\"\u001B[39m):\n\u001B[1;32m    150\u001B[0m         \u001B[38;5;28;01mif\u001B[39;00m \u001B[38;5;28misinstance\u001B[39m(v, SimpleClass):\n\u001B[1;32m    151\u001B[0m             \u001B[38;5;66;03m# Display only the module and class name for subclasses\u001B[39;00m\n",
      "File \u001B[0;32m~/Desktop/machinelearning/ultralytics_multiband_support/ultralytics_MB/utils/__init__.py:165\u001B[0m, in \u001B[0;36mSimpleClass.__getattr__\u001B[0;34m(self, attr)\u001B[0m\n\u001B[1;32m    163\u001B[0m \u001B[38;5;250m\u001B[39m\u001B[38;5;124;03m\"\"\"Custom attribute access error message with helpful information.\"\"\"\u001B[39;00m\n\u001B[1;32m    164\u001B[0m name \u001B[38;5;241m=\u001B[39m \u001B[38;5;28mself\u001B[39m\u001B[38;5;241m.\u001B[39m\u001B[38;5;18m__class__\u001B[39m\u001B[38;5;241m.\u001B[39m\u001B[38;5;18m__name__\u001B[39m\n\u001B[0;32m--> 165\u001B[0m \u001B[38;5;28;01mraise\u001B[39;00m \u001B[38;5;167;01mAttributeError\u001B[39;00m(\u001B[38;5;124mf\u001B[39m\u001B[38;5;124m\"\u001B[39m\u001B[38;5;124m'\u001B[39m\u001B[38;5;132;01m{\u001B[39;00mname\u001B[38;5;132;01m}\u001B[39;00m\u001B[38;5;124m'\u001B[39m\u001B[38;5;124m object has no attribute \u001B[39m\u001B[38;5;124m'\u001B[39m\u001B[38;5;132;01m{\u001B[39;00mattr\u001B[38;5;132;01m}\u001B[39;00m\u001B[38;5;124m'\u001B[39m\u001B[38;5;124m. See valid attributes below.\u001B[39m\u001B[38;5;130;01m\\n\u001B[39;00m\u001B[38;5;132;01m{\u001B[39;00m\u001B[38;5;28mself\u001B[39m\u001B[38;5;241m.\u001B[39m\u001B[38;5;18m__doc__\u001B[39m\u001B[38;5;132;01m}\u001B[39;00m\u001B[38;5;124m\"\u001B[39m)\n",
      "\u001B[0;31mAttributeError\u001B[0m: 'DetMetrics' object has no attribute 'curves_results'. See valid attributes below.\n\n    This class is a utility class for computing detection metrics such as precision, recall, and mean average precision\n    (mAP) of an object detection model.\n\n    Args:\n        save_dir (Path): A path to the directory where the output plots will be saved. Defaults to current directory.\n        plot (bool): A flag that indicates whether to plot precision-recall curves for each class. Defaults to False.\n        on_plot (func): An optional callback to pass plots path and data when they are rendered. Defaults to None.\n        names (tuple of str): A tuple of strings that represents the names of the classes. Defaults to an empty tuple.\n\n    Attributes:\n        save_dir (Path): A path to the directory where the output plots will be saved.\n        plot (bool): A flag that indicates whether to plot the precision-recall curves for each class.\n        on_plot (func): An optional callback to pass plots path and data when they are rendered.\n        names (tuple of str): A tuple of strings that represents the names of the classes.\n        box (Metric): An instance of the Metric class for storing the results of the detection metrics.\n        speed (dict): A dictionary for storing the execution time of different parts of the detection process.\n\n    Methods:\n        process(tp, conf, pred_cls, target_cls): Updates the metric results with the latest batch of predictions.\n        keys: Returns a list of keys for accessing the computed detection metrics.\n        mean_results: Returns a list of mean values for the computed detection metrics.\n        class_result(i): Returns a list of values for the computed detection metrics for a specific class.\n        maps: Returns a dictionary of mean average precision (mAP) values for different IoU thresholds.\n        fitness: Computes the fitness score based on the computed detection metrics.\n        ap_class_index: Returns a list of class indices sorted by their average precision (AP) values.\n        results_dict: Returns a dictionary that maps detection metric keys to their computed values.\n        curves: TODO\n        curves_results: TODO\n    "
     ]
    },
    {
     "name": "stdout",
     "output_type": "stream",
     "text": [
      "YOLOv9es summary (fused): 1,129 layers, 87,239,141 parameters, 0 gradients\n"
     ]
    }
   ],
   "execution_count": 6
  },
  {
   "metadata": {},
   "cell_type": "code",
   "outputs": [],
   "execution_count": null,
   "source": "",
   "id": "816b1a37db32185a"
  }
 ],
 "metadata": {
  "kernelspec": {
   "display_name": "Python 3",
   "language": "python",
   "name": "python3"
  },
  "language_info": {
   "codemirror_mode": {
    "name": "ipython",
    "version": 2
   },
   "file_extension": ".py",
   "mimetype": "text/x-python",
   "name": "python",
   "nbconvert_exporter": "python",
   "pygments_lexer": "ipython2",
   "version": "2.7.6"
  }
 },
 "nbformat": 4,
 "nbformat_minor": 5
}
