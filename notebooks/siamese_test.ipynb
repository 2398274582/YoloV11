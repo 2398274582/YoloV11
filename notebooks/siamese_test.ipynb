{
 "cells": [
  {
   "cell_type": "code",
   "id": "initial_id",
   "metadata": {
    "collapsed": true,
    "ExecuteTime": {
     "end_time": "2024-09-01T11:53:25.665112Z",
     "start_time": "2024-09-01T11:53:24.248615Z"
    }
   },
   "source": [
    "from debugpy.launcher import channel\n",
    "\n",
    "from ultralytics_MB import YOLO \n",
    "model = YOLO(\"yolov9es.yaml\",task=\"detect\")\n"
   ],
   "outputs": [
    {
     "name": "stdout",
     "output_type": "stream",
     "text": [
      "WARNING ⚠️ YOLOv9 `Silence` module is deprecated in favor of nn.Identity. Please delete local *.pt file and re-download the latest model checkpoint.\n",
      "ch = 6\n",
      "zeroes shape: torch.Size([1, 6, 256, 256])\n"
     ]
    }
   ],
   "execution_count": 3
  },
  {
   "metadata": {},
   "cell_type": "code",
   "outputs": [],
   "execution_count": null,
   "source": "model.train()",
   "id": "68d8500d8fc48582"
  },
  {
   "metadata": {
    "ExecuteTime": {
     "end_time": "2024-09-01T10:30:07.927475Z",
     "start_time": "2024-09-01T10:30:07.909761Z"
    }
   },
   "cell_type": "code",
   "source": [
    "import torch\n",
    "from torch import nn\n",
    "zeroes = torch.zeros(5, 6, 640, 640)\n",
    "\n",
    "class Input(nn.Module):\n",
    "    def __init__(self,input=0):\n",
    "        self.input = input\n",
    "        super().__init__()\n",
    "\n",
    "    def forward(self,x):\n",
    "        if self.input == 0:\n",
    "            #return first 3 channels\n",
    "            return x[:,:3,:,:]\n",
    "        else:\n",
    "            #return last 3 channels\n",
    "            return x[:,3:,:,:]\n",
    "            \n",
    "        \n",
    "Input(1)(zeroes).shape\n"
   ],
   "id": "42c3bcc4cd1476f3",
   "outputs": [
    {
     "data": {
      "text/plain": [
       "torch.Size([5, 3, 640, 640])"
      ]
     },
     "execution_count": 2,
     "metadata": {},
     "output_type": "execute_result"
    }
   ],
   "execution_count": 2
  },
  {
   "metadata": {
    "ExecuteTime": {
     "end_time": "2024-09-01T10:30:09.535648Z",
     "start_time": "2024-09-01T10:30:09.531956Z"
    }
   },
   "cell_type": "code",
   "source": "input = Input()",
   "id": "619072607fdf6a4b",
   "outputs": [],
   "execution_count": 3
  },
  {
   "metadata": {
    "ExecuteTime": {
     "end_time": "2024-09-01T11:10:13.889878Z",
     "start_time": "2024-09-01T11:10:10.253688Z"
    }
   },
   "cell_type": "code",
   "source": [
    "import torch\n",
    "from torch import nn\n",
    "zeroes = torch.zeros(1, 6, 640, 640)\n",
    "\n",
    "res = model.model.predict(zeroes)"
   ],
   "id": "d6daa332f3839851",
   "outputs": [],
   "execution_count": 4
  },
  {
   "metadata": {
    "ExecuteTime": {
     "end_time": "2024-09-01T11:10:39.016510Z",
     "start_time": "2024-09-01T11:10:39.006211Z"
    }
   },
   "cell_type": "code",
   "source": "res[0]",
   "id": "a1015719060249b0",
   "outputs": [
    {
     "data": {
      "text/plain": [
       "tensor([[[[  1.0458,   0.4712,  -1.3546,  ...,   0.4220,   1.7124,   0.1533],\n",
       "          [  0.1513,   2.1783,  -3.4082,  ...,   1.8322,   2.0124,  -1.6898],\n",
       "          [  0.1036,   1.4522,   2.2499,  ...,   1.4058,  -0.7406,  -1.6591],\n",
       "          ...,\n",
       "          [ -1.5050,  -1.7957,   4.6785,  ...,   1.6593,  -0.0526,   0.7231],\n",
       "          [ -0.6545,   0.7940,   1.5986,  ...,  -0.8567,   0.9752,   2.4164],\n",
       "          [ -0.8148,   0.7043,   1.9504,  ...,  -0.1513,   1.1278,   0.3091]],\n",
       "\n",
       "         [[  1.4565,   1.1085,   5.8889,  ...,   1.4785,   3.3196,   1.8197],\n",
       "          [  0.3987,   2.4023,   0.2179,  ...,   0.3884,   2.7109,   1.4668],\n",
       "          [ -1.4617,   1.1106,  -0.7535,  ...,  -2.4019,   4.1147,  -0.2491],\n",
       "          ...,\n",
       "          [ -0.4537,  -1.4908,  -0.6628,  ...,   0.0223,   3.0789,   2.9704],\n",
       "          [ -0.6408,  -1.3936,   0.2355,  ...,  -0.1804,  -1.6444,   1.0949],\n",
       "          [  0.5818,   0.7693,  -1.6056,  ...,   1.4028,   0.4525,   2.2340]],\n",
       "\n",
       "         [[  0.1019,   1.7276,   2.7837,  ...,   2.2913,   0.8348,   1.4430],\n",
       "          [  0.6468,   1.3905,   0.7846,  ...,   1.1966,   3.6508,  -1.4781],\n",
       "          [  0.3919,   2.2044,   1.1196,  ...,   2.5419,   2.7395,  -2.4694],\n",
       "          ...,\n",
       "          [  1.5908,   0.7606,  -0.2945,  ...,   2.4915,  -1.1583,  -0.4386],\n",
       "          [  1.1108,   1.6252,   1.2864,  ...,   0.5507,  -0.6833,  -1.0462],\n",
       "          [  0.6243,   1.7827,   0.6318,  ...,   0.7668,   1.2950,   1.6609]],\n",
       "\n",
       "         ...,\n",
       "\n",
       "         [[-11.2920, -10.4595, -11.2500,  ..., -12.7787,  -9.1616,  -9.2281],\n",
       "          [-10.7164, -10.1905,  -8.7049,  ...,  -9.1945,  -8.8535, -11.0702],\n",
       "          [-12.5175,  -8.7501, -11.1072,  ..., -12.7120,  -9.6418, -11.8017],\n",
       "          ...,\n",
       "          [ -9.8710, -11.5016, -10.3511,  ..., -11.7316, -11.6739, -11.1201],\n",
       "          [-12.0022,  -8.5484, -11.3354,  ..., -12.8353, -10.7807, -13.4303],\n",
       "          [-10.2767, -10.8543, -10.9528,  ..., -10.6130, -11.9943, -11.6398]],\n",
       "\n",
       "         [[-10.1881, -11.6201,  -9.3828,  ..., -11.2414,  -9.6845,  -9.4570],\n",
       "          [-10.3193, -11.2530, -10.5660,  ...,  -9.4408, -12.3472, -12.7073],\n",
       "          [ -8.4199,  -8.6954, -10.5832,  ...,  -9.5022, -10.3922, -10.8591],\n",
       "          ...,\n",
       "          [-12.4139, -10.6445,  -9.5335,  ..., -13.7316, -10.8675,  -9.4467],\n",
       "          [-11.1635, -12.6568, -10.3379,  ..., -15.0657, -11.6284, -12.3422],\n",
       "          [-11.0627, -10.0934,  -8.8052,  ..., -10.6676, -10.1520, -11.9122]],\n",
       "\n",
       "         [[-12.7840, -14.5580, -12.4450,  ..., -13.6369, -13.2787, -10.7455],\n",
       "          [-13.1877, -14.1550, -16.5694,  ..., -13.7724, -15.0148, -12.2984],\n",
       "          [-13.6167, -16.0608, -13.0638,  ..., -12.5787, -10.4174, -15.1425],\n",
       "          ...,\n",
       "          [-11.5168, -13.1892, -13.7145,  ..., -12.4200, -15.3454, -13.8971],\n",
       "          [-13.2163, -13.8645, -11.4303,  ..., -13.5961, -14.3289, -12.1561],\n",
       "          [-13.9226, -12.1194, -12.8623,  ..., -11.8178, -13.1444, -11.6939]]]], grad_fn=<CatBackward0>)"
      ]
     },
     "execution_count": 6,
     "metadata": {},
     "output_type": "execute_result"
    }
   ],
   "execution_count": 6
  },
  {
   "metadata": {
    "ExecuteTime": {
     "end_time": "2024-09-01T11:11:11.142336Z",
     "start_time": "2024-09-01T11:11:11.136660Z"
    }
   },
   "cell_type": "code",
   "source": "model.predict(zeroes)",
   "id": "8f40b03d4b672629",
   "outputs": [
    {
     "data": {
      "text/plain": [
       "Detect(\n",
       "  (cv2): ModuleList(\n",
       "    (0): Sequential(\n",
       "      (0): Conv(\n",
       "        (conv): Conv2d(256, 64, kernel_size=(3, 3), stride=(1, 1), padding=(1, 1), bias=False)\n",
       "        (bn): BatchNorm2d(64, eps=0.001, momentum=0.03, affine=True, track_running_stats=True)\n",
       "        (act): SiLU(inplace=True)\n",
       "      )\n",
       "      (1): Conv(\n",
       "        (conv): Conv2d(64, 64, kernel_size=(3, 3), stride=(1, 1), padding=(1, 1), bias=False)\n",
       "        (bn): BatchNorm2d(64, eps=0.001, momentum=0.03, affine=True, track_running_stats=True)\n",
       "        (act): SiLU(inplace=True)\n",
       "      )\n",
       "      (2): Conv2d(64, 64, kernel_size=(1, 1), stride=(1, 1))\n",
       "    )\n",
       "    (1-2): 2 x Sequential(\n",
       "      (0): Conv(\n",
       "        (conv): Conv2d(512, 64, kernel_size=(3, 3), stride=(1, 1), padding=(1, 1), bias=False)\n",
       "        (bn): BatchNorm2d(64, eps=0.001, momentum=0.03, affine=True, track_running_stats=True)\n",
       "        (act): SiLU(inplace=True)\n",
       "      )\n",
       "      (1): Conv(\n",
       "        (conv): Conv2d(64, 64, kernel_size=(3, 3), stride=(1, 1), padding=(1, 1), bias=False)\n",
       "        (bn): BatchNorm2d(64, eps=0.001, momentum=0.03, affine=True, track_running_stats=True)\n",
       "        (act): SiLU(inplace=True)\n",
       "      )\n",
       "      (2): Conv2d(64, 64, kernel_size=(1, 1), stride=(1, 1))\n",
       "    )\n",
       "  )\n",
       "  (cv3): ModuleList(\n",
       "    (0): Sequential(\n",
       "      (0): Conv(\n",
       "        (conv): Conv2d(256, 256, kernel_size=(3, 3), stride=(1, 1), padding=(1, 1), bias=False)\n",
       "        (bn): BatchNorm2d(256, eps=0.001, momentum=0.03, affine=True, track_running_stats=True)\n",
       "        (act): SiLU(inplace=True)\n",
       "      )\n",
       "      (1): Conv(\n",
       "        (conv): Conv2d(256, 256, kernel_size=(3, 3), stride=(1, 1), padding=(1, 1), bias=False)\n",
       "        (bn): BatchNorm2d(256, eps=0.001, momentum=0.03, affine=True, track_running_stats=True)\n",
       "        (act): SiLU(inplace=True)\n",
       "      )\n",
       "      (2): Conv2d(256, 80, kernel_size=(1, 1), stride=(1, 1))\n",
       "    )\n",
       "    (1-2): 2 x Sequential(\n",
       "      (0): Conv(\n",
       "        (conv): Conv2d(512, 256, kernel_size=(3, 3), stride=(1, 1), padding=(1, 1), bias=False)\n",
       "        (bn): BatchNorm2d(256, eps=0.001, momentum=0.03, affine=True, track_running_stats=True)\n",
       "        (act): SiLU(inplace=True)\n",
       "      )\n",
       "      (1): Conv(\n",
       "        (conv): Conv2d(256, 256, kernel_size=(3, 3), stride=(1, 1), padding=(1, 1), bias=False)\n",
       "        (bn): BatchNorm2d(256, eps=0.001, momentum=0.03, affine=True, track_running_stats=True)\n",
       "        (act): SiLU(inplace=True)\n",
       "      )\n",
       "      (2): Conv2d(256, 80, kernel_size=(1, 1), stride=(1, 1))\n",
       "    )\n",
       "  )\n",
       "  (dfl): DFL(\n",
       "    (conv): Conv2d(16, 1, kernel_size=(1, 1), stride=(1, 1), bias=False)\n",
       "  )\n",
       ")"
      ]
     },
     "execution_count": 11,
     "metadata": {},
     "output_type": "execute_result"
    }
   ],
   "execution_count": 11
  },
  {
   "metadata": {},
   "cell_type": "code",
   "outputs": [],
   "execution_count": null,
   "source": "",
   "id": "1fa3415f763236b5"
  }
 ],
 "metadata": {
  "kernelspec": {
   "display_name": "Python 3",
   "language": "python",
   "name": "python3"
  },
  "language_info": {
   "codemirror_mode": {
    "name": "ipython",
    "version": 2
   },
   "file_extension": ".py",
   "mimetype": "text/x-python",
   "name": "python",
   "nbconvert_exporter": "python",
   "pygments_lexer": "ipython2",
   "version": "2.7.6"
  }
 },
 "nbformat": 4,
 "nbformat_minor": 5
}
