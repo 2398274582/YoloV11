{
 "cells": [
  {
   "cell_type": "code",
   "execution_count": null,
   "id": "0f9f1ebe-87d8-4d73-b627-df9ed00a0cb1",
   "metadata": {},
   "outputs": [],
   "source": [
    "from enum import Enum\n",
    "from ultralytics import YOLO"
   ]
  },
  {
   "cell_type": "markdown",
   "id": "a40000cb-b236-4f59-8726-c47d7a0eca03",
   "metadata": {},
   "source": [
    "### Select which model you want to use"
   ]
  },
  {
   "cell_type": "code",
   "execution_count": null,
   "id": "93250ae3-bf1a-4862-a5ff-84b352f4a074",
   "metadata": {},
   "outputs": [],
   "source": [
    "# class syntax\n",
    "class Task(Enum):\n",
    "    DET = 1       # Only Bounding box detection\n",
    "    DET_KPT = 2   # Bounding box and keypoint\n",
    "\n",
    "def GetModelYaml(task):\n",
    "    if task == Task.DET:\n",
    "        return \"yolov8n.yaml\"\n",
    "    elif task == Task.DET_KPT:\n",
    "        return \"yolov8n-pose.yaml\""
   ]
  },
  {
   "cell_type": "code",
   "execution_count": null,
   "id": "5badb1b1-3f64-4e50-87c6-9ae73be0a9e6",
   "metadata": {},
   "outputs": [],
   "source": [
    "training_task = Task.DET_KPT"
   ]
  },
  {
   "cell_type": "markdown",
   "id": "ce162224-6ec7-4147-96e0-3a4dac7e54e0",
   "metadata": {},
   "source": [
    "### Prepare dataset.yaml file\n",
    "Our dataset is present at `/dataset`. Read `classes.txt` file and fill the `verdant.yaml` file. Ultralytics dataloader will load this file."
   ]
  },
  {
   "cell_type": "code",
   "execution_count": null,
   "id": "833980b0-792b-4a0d-a35f-17e121c8b000",
   "metadata": {},
   "outputs": [],
   "source": [
    "# Prepare the dataset yaml file\n",
    "dataset_yaml_path = \"/training/ultralytics/ultralytics/cfg/datasets/verdant.yaml\"\n",
    "coco_classes_file = \"/dataset/classes.txt\"\n",
    "classes = []\n",
    "with open(coco_classes_file, 'r') as f:\n",
    "    for l in f.readlines():\n",
    "        l = l.strip(\"\\n\")\n",
    "        l = l.strip(\" \")\n",
    "        classes.append(l)\n",
    "        \n",
    "with open(dataset_yaml_path, 'w') as f:\n",
    "    f.write(\"path: /dataset\\n\")\n",
    "    f.write(\"train: images/train\\n\")\n",
    "    f.write(\"val: images/val\\n\")\n",
    "    f.write(\"test: images/test\\n\\n\")\n",
    "    f.write(\"names:\\n\")\n",
    "    for i in range(len(classes)):\n",
    "        f.write(f\"  {i}: {classes[i]}\\n\")\n",
    "    if training_task == Task.DET_KPT:\n",
    "        f.write(\"\\nkpt_shape: [1, 3]\\n\")\n",
    "!cat /training/ultralytics/ultralytics/cfg/datasets/verdant.yaml"
   ]
  },
  {
   "cell_type": "markdown",
   "id": "771f88d3-8311-42b4-bbc7-7c0044d7d01c",
   "metadata": {},
   "source": [
    "### Train the model"
   ]
  },
  {
   "cell_type": "code",
   "execution_count": null,
   "id": "7a63eb3d-0eff-4aff-9888-d083bb289f1e",
   "metadata": {},
   "outputs": [],
   "source": [
    "model.train(\n",
    "    data=\"verdant_hybrid.yaml\", \n",
    "    epochs=50, \n",
    "    flipud=0.5, \n",
    "    fliplr=0.5, \n",
    "    scale=0.2, \n",
    "    mixup=0.5, \n",
    "    imgsz=768, \n",
    "    seed=1, \n",
    "    batch=128, \n",
    "    device=[0])  # train the model"
   ]
  }
 ],
 "metadata": {
  "kernelspec": {
   "display_name": "Python 3 (ipykernel)",
   "language": "python",
   "name": "python3"
  },
  "language_info": {
   "codemirror_mode": {
    "name": "ipython",
    "version": 3
   },
   "file_extension": ".py",
   "mimetype": "text/x-python",
   "name": "python",
   "nbconvert_exporter": "python",
   "pygments_lexer": "ipython3",
   "version": "3.10.12"
  }
 },
 "nbformat": 4,
 "nbformat_minor": 5
}
