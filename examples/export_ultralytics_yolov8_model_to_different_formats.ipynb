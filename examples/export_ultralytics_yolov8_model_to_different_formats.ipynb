{
  "nbformat": 4,
  "nbformat_minor": 0,
  "metadata": {
    "colab": {
      "provenance": []
    },
    "kernelspec": {
      "name": "python3",
      "display_name": "Python 3"
    },
    "language_info": {
      "name": "python"
    }
  },
  "cells": [
    {
      "cell_type": "markdown",
      "source": [
        "<a align=\"center\" href=\"https://hub.ultralytics.com\" target=\"_blank\">\n",
        "<img width=\"1024\", src=\"https://github.com/ultralytics/assets/raw/main/im/banner-ultralytics-github.png\"></a>\n",
        "\n",
        "<div align=\"center\">\n",
        "\n",
        "Welcome to the [Ultralytics](https://ultralytics.com/) notebook <a href=\"https://www.ultralytics.com/license\">AGPL-3.0</a>\n",
        "\n",
        "\n",
        "[Ultralytics](https://ultralytics.com/) [YOLOv8](https://github.com/ultralytics/ultralytics) is a cutting-edge, state-of-the-art (SOTA) model that builds upon the success of previous YOLO versions and introduces new features and improvements to further boost performance and flexibility. This notebook allows you to export [YOLOv8](https://github.com/ultralytics/ultralytics) 🚀 models in different formats. Please browse the Ultralytics <a href=\"https://docs.ultralytics.com/\">Docs</a> for details, raise an issue on <a href=\"https://github.com/ultralytics/ultralytics/issues/new/choose\">GitHub</a> for support, and join our <a href=\"https://ultralytics.com/discord\">Discord</a> community for questions and discussions!\n",
        "</div>"
      ],
      "metadata": {
        "id": "OZGjMxi_SH3B"
      }
    },
    {
      "cell_type": "markdown",
      "source": [
        "**Mount the Google Drive**\n",
        "\n"
      ],
      "metadata": {
        "id": "WM8FeQQ6euS4"
      }
    },
    {
      "cell_type": "markdown",
      "source": [
        "If you aim to save the data on Google Drive, you can proceed with the given steps for mounting the drive. Otherwise, feel free to skip this step"
      ],
      "metadata": {
        "id": "CQKhg9l4CGoy"
      }
    },
    {
      "cell_type": "code",
      "execution_count": null,
      "metadata": {
        "id": "Z7LYtnQ5d9td"
      },
      "outputs": [],
      "source": [
        "# from google.colab import drive\n",
        "# drive.mount(\"/content/drive\")"
      ]
    },
    {
      "cell_type": "markdown",
      "source": [
        "**Install Ultralytics YOLOv8 Package**"
      ],
      "metadata": {
        "id": "koopMoD6euKw"
      }
    },
    {
      "cell_type": "code",
      "source": [
        "!pip install ultralytics"
      ],
      "metadata": {
        "id": "OcTR3m-1epMt"
      },
      "execution_count": null,
      "outputs": []
    },
    {
      "cell_type": "markdown",
      "source": [
        "**Export YOLOv8 Model**"
      ],
      "metadata": {
        "id": "rJgv1jmRe9Kw"
      }
    },
    {
      "cell_type": "markdown",
      "source": [
        "Export your models to TFlite, ONNX, TensorFlow, OpenVino, TensorRT Engine, EdgeTPU, NCNN, CoreML, TensorFlowJS"
      ],
      "metadata": {
        "id": "h7t35-nmVUQD"
      }
    },
    {
      "cell_type": "markdown",
      "source": [
        "<table>\n",
        "  <tr>\n",
        "    <th>Format</th>\n",
        "    <th>format Argument</th>\n",
        "    <th>Model</th>\n",
        "    <th>Metadata</th>\n",
        "    <th>Arguments</th>\n",
        "  </tr>\n",
        "  <tr>\n",
        "    <td>PyTorch</td>\n",
        "    <td>-</td>\n",
        "    <td>yolov8n.pt</td>\n",
        "    <td>✅</td>\n",
        "    <td>-</td>\n",
        "  </tr>\n",
        "  <tr>\n",
        "    <td>TorchScript</td>\n",
        "    <td>torchscript</td>\n",
        "    <td>yolov8n.torchscript</td>\n",
        "    <td>✅</td>\n",
        "    <td>imgsz, optimize</td>\n",
        "  </tr>\n",
        "  <tr>\n",
        "    <td>ONNX</td>\n",
        "    <td>onnx</td>\n",
        "    <td>yolov8n.onnx</td>\n",
        "    <td>✅</td>\n",
        "    <td>imgsz, half, dynamic, simplify, opset</td>\n",
        "  </tr>\n",
        "  <tr>\n",
        "    <td>OpenVINO</td>\n",
        "    <td>openvino</td>\n",
        "    <td>yolov8n_openvino_model/</td>\n",
        "    <td>✅</td>\n",
        "    <td>imgsz, half</td>\n",
        "  </tr>\n",
        "  <tr>\n",
        "    <td>TensorRT</td>\n",
        "    <td>engine</td>\n",
        "    <td>yolov8n.engine</td>\n",
        "    <td>✅</td>\n",
        "    <td>imgsz, half, dynamic, simplify, workspace</td>\n",
        "  </tr>\n",
        "  <tr>\n",
        "    <td>CoreML</td>\n",
        "    <td>coreml</td>\n",
        "    <td>yolov8n.mlpackage</td>\n",
        "    <td>✅</td>\n",
        "    <td>imgsz, half, int8, nms</td>\n",
        "  </tr>\n",
        "  <tr>\n",
        "    <td>TF SavedModel</td>\n",
        "    <td>saved_model</td>\n",
        "    <td>yolov8n_saved_model/</td>\n",
        "    <td>✅</td>\n",
        "    <td>imgsz, keras</td>\n",
        "  </tr>\n",
        "  <tr>\n",
        "    <td>TF GraphDef</td>\n",
        "    <td>pb</td>\n",
        "    <td>yolov8n.pb</td>\n",
        "    <td>❌</td>\n",
        "    <td>imgsz</td>\n",
        "  </tr>\n",
        "  <tr>\n",
        "    <td>TF Lite</td>\n",
        "    <td>tflite</td>\n",
        "    <td>yolov8n.tflite</td>\n",
        "    <td>✅</td>\n",
        "    <td>imgsz, half, int8</td>\n",
        "  </tr>\n",
        "  <tr>\n",
        "    <td>TF Edge TPU</td>\n",
        "    <td>edgetpu</td>\n",
        "    <td>yolov8n_edgetpu.tflite</td>\n",
        "    <td>✅</td>\n",
        "    <td>imgsz</td>\n",
        "  </tr>\n",
        "  <tr>\n",
        "    <td>TF.js</td>\n",
        "    <td>tfjs</td>\n",
        "    <td>yolov8n_web_model/</td>\n",
        "    <td>✅</td>\n",
        "    <td>imgsz</td>\n",
        "  </tr>\n",
        "  <tr>\n",
        "    <td>PaddlePaddle</td>\n",
        "    <td>paddle</td>\n",
        "    <td>yolov8n_paddle_model/</td>\n",
        "    <td>✅</td>\n",
        "    <td>imgsz</td>\n",
        "  </tr>\n",
        "  <tr>\n",
        "    <td>ncnn</td>\n",
        "    <td>ncnn</td>\n",
        "    <td>yolov8n_ncnn_model/</td>\n",
        "    <td>✅</td>\n",
        "    <td>imgsz, half</td>\n",
        "  </tr>\n",
        "</table>\n"
      ],
      "metadata": {
        "id": "gbvEq1WKhnhw"
      }
    },
    {
      "cell_type": "code",
      "source": [
        "export_format = \"tflite\"  # Format name\n",
        "model_path = \"yolov8n.pt\"  # Model path\n",
        "quantized = True  # Int8 quantization"
      ],
      "metadata": {
        "id": "x6n7pvahVm-r"
      },
      "execution_count": null,
      "outputs": []
    },
    {
      "cell_type": "code",
      "source": [
        "def export_model(format, model):\n",
        "  if format == \"tflite\":\n",
        "    !pip uninstall tensorflow -y\n",
        "    !pip install tensorflow==2.13.1  # TensorFlow 2.14.0 is not supported yet\n",
        "\n",
        "  import os\n",
        "  if os.path.exists(model):\n",
        "    if quantized:\n",
        "      !yolo export format={format} model={model} int8={True}\n",
        "    else:\n",
        "      !yolo export format={format} model={model}\n",
        "\n",
        "  else:\n",
        "      print(\"Model Path does not exist, using a pretrained model!!!!\")\n",
        "      if quantized:\n",
        "        !yolo export format={format} int8=True\n",
        "      else:\n",
        "        !yolo export format={format}\n",
        "\n",
        "export_model(export_format, model_path)"
      ],
      "metadata": {
        "id": "LPpr1z0aVYMK"
      },
      "execution_count": null,
      "outputs": []
    },
    {
      "cell_type": "markdown",
      "source": [
        "**Ultralytics & YOLOv8 ⚡ resources**"
      ],
      "metadata": {
        "id": "n7Yoxr-XV1I6"
      }
    },
    {
      "cell_type": "markdown",
      "source": [
        "\n",
        "- Ultralytics\n",
        "  - About Us – https://ultralytics.com/about\n",
        "  - Join Our Team – https://ultralytics.com/work\n",
        "  - Contact Us – https://ultralytics.com/contact\n",
        "  - Discord – https://discord.gg/2wNGbc6g9X\n",
        "\n",
        "- Ultralytics YOLOv8\n",
        " -  Ultralytics License – https://ultralytics.com/license\n",
        " -  GitHub – https://github.com/ultralytics/ultralytics\n",
        " -  Docs – https://docs.ultralytics.com/"
      ],
      "metadata": {
        "id": "Nwtr5zXQV4AC"
      }
    }
  ]
}
