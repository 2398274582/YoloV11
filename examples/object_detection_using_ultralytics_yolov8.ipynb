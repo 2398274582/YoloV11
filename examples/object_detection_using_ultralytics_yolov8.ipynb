{
  "nbformat": 4,
  "nbformat_minor": 0,
  "metadata": {
    "colab": {
      "provenance": []
    },
    "kernelspec": {
      "name": "python3",
      "display_name": "Python 3"
    },
    "language_info": {
      "name": "python"
    }
  },
  "cells": [
    {
      "cell_type": "markdown",
      "source": [
        "<a align=\"center\" href=\"https://hub.ultralytics.com\" target=\"_blank\">\n",
        "<img width=\"1024\", src=\"https://github.com/ultralytics/assets/raw/main/im/banner-ultralytics-github.png\"></a>\n",
        "\n",
        "<div align=\"center\">\n",
        "\n",
        "Welcome to the [Ultralytics](https://ultralytics.com/) notebook <a href=\"https://www.ultralytics.com/license\">AGPL-3.0</a>\n",
        "\n",
        "\n",
        "[Ultralytics](https://ultralytics.com/) [YOLOv8](https://github.com/ultralytics/ultralytics) is a cutting-edge, state-of-the-art (SOTA) model that builds upon the success of previous YOLO versions and introduces new features and improvements to further boost performance and flexibility. This notebook allows you to run object detection using [YOLOv8](https://github.com/ultralytics/ultralytics) 🚀 on fine-tuned and pretrained model. Please browse the Ultralytics <a href=\"https://docs.ultralytics.com/\">Docs</a> for details, raise an issue on <a href=\"https://github.com/ultralytics/ultralytics/issues/new/choose\">GitHub</a> for support, and join our <a href=\"https://ultralytics.com/discord\">Discord</a> community for questions and discussions!\n",
        "</div>"
      ],
      "metadata": {
        "id": "bCcKPkhaPeQz"
      }
    },
    {
      "cell_type": "markdown",
      "source": [
        "**Mount the Google Drive**"
      ],
      "metadata": {
        "id": "IpvheaY4QSxD"
      }
    },
    {
      "cell_type": "markdown",
      "source": [
        "If you aim to save the data on Google Drive, you can proceed with the given steps for mounting the drive. Otherwise, feel free to skip this step"
      ],
      "metadata": {
        "id": "Gag-7fTExD74"
      }
    },
    {
      "cell_type": "code",
      "execution_count": null,
      "metadata": {
        "id": "VsqYHIokOzON"
      },
      "outputs": [],
      "source": [
        "# from google.colab import drive\n",
        "# drive.mount(\"/content/drive\")"
      ]
    },
    {
      "cell_type": "markdown",
      "source": [
        "**Install Ultralytics Package**"
      ],
      "metadata": {
        "id": "CkDXmckNRav9"
      }
    },
    {
      "cell_type": "code",
      "source": [
        "!pip install ultralytics"
      ],
      "metadata": {
        "id": "eMz-kcIWRffs"
      },
      "execution_count": null,
      "outputs": []
    },
    {
      "cell_type": "markdown",
      "source": [
        "**Object Detection Using Ultralytics YOLOv8 Pretrained Model**"
      ],
      "metadata": {
        "id": "SnANoqobQVyL"
      }
    },
    {
      "cell_type": "code",
      "source": [
        "import os\n",
        "import shutil\n",
        "from ultralytics import YOLO\n",
        "from IPython.display import Image\n",
        "\n",
        "if os.path.exists(\"runs\"):\n",
        "  shutil.rmtree(\"runs\")\n",
        "\n",
        "# Load a pretrained YOLOv8n model\n",
        "model = YOLO('yolov8n.pt')\n",
        "\n",
        "# Define remote image or video URL\n",
        "source = 'https://ultralytics.com/images/bus.jpg'\n",
        "\n",
        "# Run inference on the source\n",
        "# results = model(source)  # list of Results objects\n",
        "results = model(source, save=True)  # if you want to save detection results\n",
        "\n",
        "# Display the inference results\n",
        "Image(filename=\"runs/detect/predict/bus.jpg\")"
      ],
      "metadata": {
        "id": "6wPHIUcnPKD7"
      },
      "execution_count": null,
      "outputs": []
    },
    {
      "cell_type": "markdown",
      "source": [
        "## **Ultralytics Datasets**"
      ],
      "metadata": {
        "id": "LKscytSuzole"
      }
    },
    {
      "cell_type": "markdown",
      "source": [
        "Ultralytics provides support for various datasets to facilitate computer vision tasks such as detection, instance segmentation, pose estimation, classification, and multi-object tracking. The fine-tuning commands of common datasets are provided below!"
      ],
      "metadata": {
        "id": "P4cxheXRzraW"
      }
    },
    {
      "cell_type": "markdown",
      "source": [
        "**VisDrone Dataset**"
      ],
      "metadata": {
        "id": "Qlc0dSmzy5Kb"
      }
    },
    {
      "cell_type": "code",
      "source": [
        "# Fine tune the model on visdrone dataset\n",
        "!yolo detect train data=VisDrone.yaml model=yolov8n.pt epochs=100 imgsz=640"
      ],
      "metadata": {
        "id": "aS0nT7wMyxsh"
      },
      "execution_count": null,
      "outputs": []
    },
    {
      "cell_type": "markdown",
      "source": [
        "**OpenImages v7 Dataset**"
      ],
      "metadata": {
        "id": "k_CIwsDQzniI"
      }
    },
    {
      "cell_type": "code",
      "source": [
        "# Fine tune the model on openimages-v7 dataset\n",
        "!yolo detect train data=open-images-v7.yaml model=yolov8n.pt epochs=100 imgsz=640"
      ],
      "metadata": {
        "id": "1DbkBSx_zIus"
      },
      "execution_count": null,
      "outputs": []
    },
    {
      "cell_type": "markdown",
      "source": [
        "**SKU-110k Dataset**"
      ],
      "metadata": {
        "id": "lQqL22Gr0PXP"
      }
    },
    {
      "cell_type": "code",
      "source": [
        "# Fine tune the model on sku110k dataset\n",
        "!yolo detect train data=SKU-110K.yaml model=yolov8n.pt epochs=100 imgsz=640"
      ],
      "metadata": {
        "id": "9clbfhwA0BV-"
      },
      "execution_count": null,
      "outputs": []
    },
    {
      "cell_type": "markdown",
      "source": [
        "### **Steps to Fine Tune Ultralytics YOLOv8 on Custom Data**"
      ],
      "metadata": {
        "id": "Q38pSs_W9nL3"
      }
    },
    {
      "cell_type": "markdown",
      "source": [
        "If you are looking to fine-tune Ultralytics YOLOv8 model on your custom dataset\n",
        "\n",
        "- Upload dataset in Google Drive\n",
        "- Mount the google drive\n",
        "```\n",
        "# from google.colab import drive\n",
        "drive.mount(\"/content/drive\")\n",
        "```\n",
        "- Create data.yaml file, and paste the mentioned code\n",
        "```\n",
        "path: \"path/to/dataset/directory\"\n",
        "train: \"path/to/train\"\n",
        "val: \"path/to/val\"\n",
        "names:\n",
        "     0: classa name\n",
        "     1: classb name\n",
        "```\n",
        "- Run the training command\n",
        "```\n",
        "!yolo detect train data=\"path/to/data.yaml\" model=yolov8n.pt epochs=100 imgsz=640\n",
        "```"
      ],
      "metadata": {
        "id": "i8SOOJay9lzB"
      }
    },
    {
      "cell_type": "markdown",
      "source": [
        "Numerous datasets are at your disposal, and you can select the one that best suits your requirements. For additional details, please refer to our Dataset Documentation at: https://docs.ultralytics.com/datasets/"
      ],
      "metadata": {
        "id": "PuKH7tsK0ZXx"
      }
    },
    {
      "cell_type": "markdown",
      "source": [
        "**Ultralytics & YOLOv8 ⚡ resources**"
      ],
      "metadata": {
        "id": "XdA0d2IPYPYE"
      }
    },
    {
      "cell_type": "markdown",
      "source": [
        "\n",
        "- Ultralytics\n",
        "  - About Us – https://ultralytics.com/about\n",
        "  - Join Our Team – https://ultralytics.com/work\n",
        "  - Contact Us – https://ultralytics.com/contact\n",
        "  - Discord – https://discord.gg/2wNGbc6g9X\n",
        "\n",
        "- Ultralytics YOLOv8\n",
        " -  Ultralytics License – https://ultralytics.com/license\n",
        " -  GitHub – https://github.com/ultralytics/ultralytics\n",
        " -  Docs – https://docs.ultralytics.com/"
      ],
      "metadata": {
        "id": "GgIT5Wd5Yqy3"
      }
    }
  ]
}