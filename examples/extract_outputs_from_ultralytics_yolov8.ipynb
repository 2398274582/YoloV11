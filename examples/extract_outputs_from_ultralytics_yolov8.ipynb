{
  "nbformat": 4,
  "nbformat_minor": 0,
  "metadata": {
    "colab": {
      "provenance": []
    },
    "kernelspec": {
      "name": "python3",
      "display_name": "Python 3"
    },
    "language_info": {
      "name": "python"
    }
  },
  "cells": [
    {
      "cell_type": "markdown",
      "source": [
        "<a align=\"center\" href=\"https://hub.ultralytics.com\" target=\"_blank\">\n",
        "<img width=\"1024\", src=\"https://github.com/ultralytics/assets/raw/main/im/banner-ultralytics-github.png\"></a>\n",
        "\n",
        "<div align=\"center\">\n",
        "\n",
        "Welcome to the [Ultralytics](https://ultralytics.com/) notebook <a href=\"https://www.ultralytics.com/license\">AGPL-3.0</a>\n",
        "\n",
        "\n",
        "[Ultralytics](https://ultralytics.com/) [YOLOv8](https://github.com/ultralytics/ultralytics) is a cutting-edge, state-of-the-art (SOTA) model that builds upon the success of previous YOLO versions and introduces new features and improvements to further boost performance and flexibility. This notebook allows you to **extract the outputs from Ultralytics** [YOLOv8](https://github.com/ultralytics/ultralytics) 🚀. Please browse the Ultralytics <a href=\"https://docs.ultralytics.com/\">Docs</a> for details, raise an issue on <a href=\"https://github.com/ultralytics/ultralytics/issues/new/choose\">GitHub</a> for support, and join our <a href=\"https://ultralytics.com/discord\">Discord</a> community for questions and discussions!\n",
        "</div>"
      ],
      "metadata": {
        "id": "nl48qrOtQxvw"
      }
    },
    {
      "cell_type": "markdown",
      "source": [
        "**Mount the Google Drive**"
      ],
      "metadata": {
        "id": "NOgWI2b4qGyW"
      }
    },
    {
      "cell_type": "markdown",
      "source": [
        "If you aim to save the data on Google Drive, you can proceed with the given steps for mounting the drive. Otherwise, feel free to skip this step"
      ],
      "metadata": {
        "id": "o82_E6-aqNKS"
      }
    },
    {
      "cell_type": "code",
      "execution_count": null,
      "metadata": {
        "id": "Nqu7ZD1JnlqV"
      },
      "outputs": [],
      "source": [
        "# from google.colab import drive\n",
        "# drive.mount(\"/content/drive\")"
      ]
    },
    {
      "cell_type": "markdown",
      "source": [
        "**Install & Import Ultralytics Package**"
      ],
      "metadata": {
        "id": "NR1J4GtPq4mB"
      }
    },
    {
      "cell_type": "code",
      "source": [
        "!pip install ultralytics\n",
        "from ultralytics import YOLO"
      ],
      "metadata": {
        "id": "JYYwKjrmoyzH"
      },
      "execution_count": null,
      "outputs": []
    },
    {
      "cell_type": "markdown",
      "source": [
        "##### **Extract Outputs from YOLOv8 Object Detection**"
      ],
      "metadata": {
        "id": "o2ABA-1rrCsu"
      }
    },
    {
      "cell_type": "code",
      "source": [
        "# Load the YOLOv8 model\n",
        "model = YOLO('yolov8n.pt')  # pre-trained model\n",
        "# model = YOLO('path/to/best.pt')  # fine-tuned model\n",
        "\n",
        "# classes names\n",
        "names = model.model.names\n",
        "\n",
        "# Path to the image\n",
        "source = 'https://ultralytics.com/images/bus.jpg'\n",
        "\n",
        "# list of Results objects\n",
        "results = model(source)\n",
        "\n",
        "# Extract bounding boxes, confidence and classes index\n",
        "boxes = results[0].boxes.xyxy.cpu().numpy().astype(int)\n",
        "classes = results[0].boxes.cls.tolist()\n",
        "confidences = results[0].boxes.conf.tolist()\n",
        "\n",
        "# Loop over detection results\n",
        "for box, cls, conf in zip(boxes, classes, confidences):\n",
        "    print(f'\\nBounding Box: {box},  Confidence Score: {conf}, Class Name: {names[int(cls)]}, Class Id: {int(cls)}***\\n')"
      ],
      "metadata": {
        "id": "9_Cx7FRBq7Ln"
      },
      "execution_count": null,
      "outputs": []
    },
    {
      "cell_type": "markdown",
      "source": [
        "##### **Extract Outputs from YOLOv8 Object Tracking**"
      ],
      "metadata": {
        "id": "cgbY82xIS9Gz"
      }
    },
    {
      "cell_type": "code",
      "source": [
        "# Load the YOLOv8 model\n",
        "model = YOLO('yolov8n.pt')  # pre-trained model\n",
        "# model = YOLO('path/to/best.pt')  # fine-tuned model\n",
        "\n",
        "# classes names\n",
        "names = model.model.names\n",
        "\n",
        "# Path to the image\n",
        "source = 'https://ultralytics.com/images/bus.jpg'\n",
        "\n",
        "# list of Results objects\n",
        "results = model.track(source)\n",
        "\n",
        "# Extract bounding boxes, confidence and classes index\n",
        "boxes = results[0].boxes.xyxy.cpu().numpy().astype(int)\n",
        "classes = results[0].boxes.cls.tolist()\n",
        "confidences = results[0].boxes.conf.tolist()\n",
        "track_ids = results[0].boxes.id.int().cpu().tolist()\n",
        "\n",
        "# Loop over tracking results\n",
        "if results[0].boxes.id is not None:\n",
        "  for box, cls, conf, track_id in zip(boxes, classes, confidences, track_ids):\n",
        "    print(f'\\nBounding Box: {box},  Confidence Score: {conf}, Class Name: {names[int(cls)]}, Class Id: {int(cls)}, Tracking Id: {track_id}***\\n')"
      ],
      "metadata": {
        "id": "CCX5kDbvq-02"
      },
      "execution_count": null,
      "outputs": []
    },
    {
      "cell_type": "markdown",
      "source": [
        "##### **Extract Outputs from YOLOv8 Pose Estimation**"
      ],
      "metadata": {
        "id": "_lyj0PMwTx-Y"
      }
    },
    {
      "cell_type": "code",
      "source": [
        "# Load the YOLOv8 model\n",
        "model = YOLO('yolov8n-pose.pt')  # pre-trained model\n",
        "# model = YOLO('path/to/best.pt')  # fine-tuned model\n",
        "\n",
        "# classes names\n",
        "names = model.model.names\n",
        "\n",
        "# Path to the image\n",
        "source = 'https://ultralytics.com/images/bus.jpg'\n",
        "\n",
        "# list of Results objects\n",
        "results = model.track(source)\n",
        "\n",
        "# Extract bounding boxes, confidence and classes index\n",
        "boxes = results[0].boxes.xyxy.cpu().numpy().astype(int)\n",
        "classes = results[0].boxes.cls.tolist()\n",
        "confidences = results[0].boxes.conf.tolist()\n",
        "kptss = results[0].keypoints.data\n",
        "\n",
        "# Loop over pose results\n",
        "for box, cls, conf, kpt in zip(boxes, classes, confidences, kptss):\n",
        "  print(f'\\nBounding Box: {box},  Confidence Score: {conf}, Class Name: {names[int(cls)]}, Class Id: {int(cls)}, \\nKeyPoints: {kpt.tolist()}***\\n')"
      ],
      "metadata": {
        "id": "i9XcaeRsT1ow"
      },
      "execution_count": null,
      "outputs": []
    },
    {
      "cell_type": "markdown",
      "source": [
        "##### **Extract Outputs from YOLOv8 Objects Segmentation**"
      ],
      "metadata": {
        "id": "3xGP_9J4XdAR"
      }
    },
    {
      "cell_type": "code",
      "source": [
        "# Load the YOLOv8 model\n",
        "model = YOLO('yolov8n-seg.pt')  # pre-trained model\n",
        "# model = YOLO('path/to/best.pt')  # fine-tuned model\n",
        "\n",
        "# classes names\n",
        "names = model.model.names\n",
        "\n",
        "# Path to the image\n",
        "source = 'https://ultralytics.com/images/bus.jpg'\n",
        "\n",
        "# list of Results objects\n",
        "results = model.track(source)\n",
        "\n",
        "# Extract bounding boxes, confidence and classes index\n",
        "boxes = results[0].boxes.xyxy.cpu().numpy().astype(int)\n",
        "classes = results[0].boxes.cls.tolist()\n",
        "confidences = results[0].boxes.conf.tolist()\n",
        "masks = results[0].masks.xy\n",
        "\n",
        "# Loop over segmentation results\n",
        "for box, cls, conf, mask in zip(boxes, classes, confidences, masks):\n",
        "  print(f'\\nBounding Box: {box},  Confidence Score: {conf}, Class Name: {names[int(cls)]}, Class Id: {int(cls)}, \\nMasks: {mask.tolist()}***\\n')"
      ],
      "metadata": {
        "id": "LNLcrhiaXcep"
      },
      "execution_count": null,
      "outputs": []
    }
  ]
}