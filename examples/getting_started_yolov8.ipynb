{
 "cells": [
  {
   "cell_type": "markdown",
   "metadata": {},
   "source": [
    "# TODO: banner"
   ]
  },
  {
   "cell_type": "code",
   "execution_count": 1,
   "metadata": {},
   "outputs": [
    {
     "name": "stdout",
     "output_type": "stream",
     "text": [
      "Collecting git+https://github.com/ultralytics/ultralytics.git\n",
      "  Cloning https://github.com/ultralytics/ultralytics.git to /private/var/folders/m8/jgx2lgc948gd93t0c07n3nf80000gn/T/pip-req-build-9xjdsh2d\n",
      "  Running command git clone --filter=blob:none --quiet https://github.com/ultralytics/ultralytics.git /private/var/folders/m8/jgx2lgc948gd93t0c07n3nf80000gn/T/pip-req-build-9xjdsh2d\n",
      "  Resolved https://github.com/ultralytics/ultralytics.git to commit 82c849c16374f4b84f0f29f52b186f3d332bd5d1\n",
      "  Preparing metadata (setup.py) ... \u001b[?25ldone\n",
      "\u001b[?25hRequirement already satisfied: fire>=0.4.0 in /Users/ayushchaurasia/Documents/ultralytics/ultralytics/env/lib/python3.10/site-packages (from ultralytics==8.0.0.dev0) (0.4.0)\n",
      "Requirement already satisfied: hydra-core>=1.2.0 in /Users/ayushchaurasia/Documents/ultralytics/ultralytics/env/lib/python3.10/site-packages (from ultralytics==8.0.0.dev0) (1.2.0)\n",
      "Requirement already satisfied: matplotlib>=3.2.2 in /Users/ayushchaurasia/Documents/ultralytics/ultralytics/env/lib/python3.10/site-packages (from ultralytics==8.0.0.dev0) (3.6.2)\n",
      "Requirement already satisfied: numpy>=1.18.5 in /Users/ayushchaurasia/Documents/ultralytics/ultralytics/env/lib/python3.10/site-packages (from ultralytics==8.0.0.dev0) (1.23.4)\n",
      "Requirement already satisfied: opencv-python>=4.1.1 in /Users/ayushchaurasia/Documents/ultralytics/ultralytics/env/lib/python3.10/site-packages (from ultralytics==8.0.0.dev0) (4.6.0.66)\n",
      "Requirement already satisfied: Pillow>=7.1.2 in /Users/ayushchaurasia/Documents/ultralytics/ultralytics/env/lib/python3.10/site-packages (from ultralytics==8.0.0.dev0) (9.3.0)\n",
      "Requirement already satisfied: PyYAML>=5.3.1 in /Users/ayushchaurasia/Documents/ultralytics/ultralytics/env/lib/python3.10/site-packages (from ultralytics==8.0.0.dev0) (6.0)\n",
      "Requirement already satisfied: requests>=2.23.0 in /Users/ayushchaurasia/Documents/ultralytics/ultralytics/env/lib/python3.10/site-packages (from ultralytics==8.0.0.dev0) (2.28.1)\n",
      "Requirement already satisfied: scipy>=1.4.1 in /Users/ayushchaurasia/Documents/ultralytics/ultralytics/env/lib/python3.10/site-packages (from ultralytics==8.0.0.dev0) (1.9.3)\n",
      "Requirement already satisfied: torch>=1.7.0 in /Users/ayushchaurasia/Documents/ultralytics/ultralytics/env/lib/python3.10/site-packages (from ultralytics==8.0.0.dev0) (1.13.0)\n",
      "Requirement already satisfied: torchvision>=0.8.1 in /Users/ayushchaurasia/Documents/ultralytics/ultralytics/env/lib/python3.10/site-packages (from ultralytics==8.0.0.dev0) (0.14.0)\n",
      "Requirement already satisfied: tqdm>=4.64.0 in /Users/ayushchaurasia/Documents/ultralytics/ultralytics/env/lib/python3.10/site-packages (from ultralytics==8.0.0.dev0) (4.64.1)\n",
      "Requirement already satisfied: tensorboard>=2.4.1 in /Users/ayushchaurasia/Documents/ultralytics/ultralytics/env/lib/python3.10/site-packages (from ultralytics==8.0.0.dev0) (2.11.0)\n",
      "Requirement already satisfied: pandas>=1.1.4 in /Users/ayushchaurasia/Documents/ultralytics/ultralytics/env/lib/python3.10/site-packages (from ultralytics==8.0.0.dev0) (1.3.5)\n",
      "Requirement already satisfied: seaborn>=0.11.0 in /Users/ayushchaurasia/Documents/ultralytics/ultralytics/env/lib/python3.10/site-packages (from ultralytics==8.0.0.dev0) (0.12.1)\n",
      "Requirement already satisfied: ipython in /Users/ayushchaurasia/Documents/ultralytics/ultralytics/env/lib/python3.10/site-packages (from ultralytics==8.0.0.dev0) (8.6.0)\n",
      "Requirement already satisfied: psutil in /Users/ayushchaurasia/Documents/ultralytics/ultralytics/env/lib/python3.10/site-packages (from ultralytics==8.0.0.dev0) (5.9.4)\n",
      "Requirement already satisfied: thop>=0.1.1 in /Users/ayushchaurasia/Documents/ultralytics/ultralytics/env/lib/python3.10/site-packages (from ultralytics==8.0.0.dev0) (0.1.1.post2209072238)\n",
      "Requirement already satisfied: GitPython>=3.1.24 in /Users/ayushchaurasia/Documents/ultralytics/ultralytics/env/lib/python3.10/site-packages (from ultralytics==8.0.0.dev0) (3.1.29)\n",
      "Requirement already satisfied: termcolor in /Users/ayushchaurasia/Documents/ultralytics/ultralytics/env/lib/python3.10/site-packages (from fire>=0.4.0->ultralytics==8.0.0.dev0) (2.1.0)\n",
      "Requirement already satisfied: six in /Users/ayushchaurasia/Documents/ultralytics/ultralytics/env/lib/python3.10/site-packages (from fire>=0.4.0->ultralytics==8.0.0.dev0) (1.16.0)\n",
      "Requirement already satisfied: gitdb<5,>=4.0.1 in /Users/ayushchaurasia/Documents/ultralytics/ultralytics/env/lib/python3.10/site-packages (from GitPython>=3.1.24->ultralytics==8.0.0.dev0) (4.0.9)\n",
      "Requirement already satisfied: antlr4-python3-runtime==4.9.* in /Users/ayushchaurasia/Documents/ultralytics/ultralytics/env/lib/python3.10/site-packages (from hydra-core>=1.2.0->ultralytics==8.0.0.dev0) (4.9.3)\n",
      "Requirement already satisfied: packaging in /Users/ayushchaurasia/Documents/ultralytics/ultralytics/env/lib/python3.10/site-packages (from hydra-core>=1.2.0->ultralytics==8.0.0.dev0) (21.3)\n",
      "Requirement already satisfied: omegaconf~=2.2 in /Users/ayushchaurasia/Documents/ultralytics/ultralytics/env/lib/python3.10/site-packages (from hydra-core>=1.2.0->ultralytics==8.0.0.dev0) (2.2.3)\n",
      "Requirement already satisfied: fonttools>=4.22.0 in /Users/ayushchaurasia/Documents/ultralytics/ultralytics/env/lib/python3.10/site-packages (from matplotlib>=3.2.2->ultralytics==8.0.0.dev0) (4.38.0)\n",
      "Requirement already satisfied: cycler>=0.10 in /Users/ayushchaurasia/Documents/ultralytics/ultralytics/env/lib/python3.10/site-packages (from matplotlib>=3.2.2->ultralytics==8.0.0.dev0) (0.11.0)\n",
      "Requirement already satisfied: python-dateutil>=2.7 in /Users/ayushchaurasia/Documents/ultralytics/ultralytics/env/lib/python3.10/site-packages (from matplotlib>=3.2.2->ultralytics==8.0.0.dev0) (2.8.2)\n",
      "Requirement already satisfied: contourpy>=1.0.1 in /Users/ayushchaurasia/Documents/ultralytics/ultralytics/env/lib/python3.10/site-packages (from matplotlib>=3.2.2->ultralytics==8.0.0.dev0) (1.0.6)\n",
      "Requirement already satisfied: pyparsing>=2.2.1 in /Users/ayushchaurasia/Documents/ultralytics/ultralytics/env/lib/python3.10/site-packages (from matplotlib>=3.2.2->ultralytics==8.0.0.dev0) (3.0.9)\n",
      "Requirement already satisfied: kiwisolver>=1.0.1 in /Users/ayushchaurasia/Documents/ultralytics/ultralytics/env/lib/python3.10/site-packages (from matplotlib>=3.2.2->ultralytics==8.0.0.dev0) (1.4.4)\n",
      "Requirement already satisfied: pytz>=2017.3 in /Users/ayushchaurasia/Documents/ultralytics/ultralytics/env/lib/python3.10/site-packages (from pandas>=1.1.4->ultralytics==8.0.0.dev0) (2022.6)\n",
      "Requirement already satisfied: urllib3<1.27,>=1.21.1 in /Users/ayushchaurasia/Documents/ultralytics/ultralytics/env/lib/python3.10/site-packages (from requests>=2.23.0->ultralytics==8.0.0.dev0) (1.26.12)\n",
      "Requirement already satisfied: certifi>=2017.4.17 in /Users/ayushchaurasia/Documents/ultralytics/ultralytics/env/lib/python3.10/site-packages (from requests>=2.23.0->ultralytics==8.0.0.dev0) (2022.9.24)\n",
      "Requirement already satisfied: charset-normalizer<3,>=2 in /Users/ayushchaurasia/Documents/ultralytics/ultralytics/env/lib/python3.10/site-packages (from requests>=2.23.0->ultralytics==8.0.0.dev0) (2.1.1)\n",
      "Requirement already satisfied: idna<4,>=2.5 in /Users/ayushchaurasia/Documents/ultralytics/ultralytics/env/lib/python3.10/site-packages (from requests>=2.23.0->ultralytics==8.0.0.dev0) (3.4)\n",
      "Requirement already satisfied: google-auth<3,>=1.6.3 in /Users/ayushchaurasia/Documents/ultralytics/ultralytics/env/lib/python3.10/site-packages (from tensorboard>=2.4.1->ultralytics==8.0.0.dev0) (2.14.1)\n",
      "Requirement already satisfied: protobuf<4,>=3.9.2 in /Users/ayushchaurasia/Documents/ultralytics/ultralytics/env/lib/python3.10/site-packages (from tensorboard>=2.4.1->ultralytics==8.0.0.dev0) (3.20.3)\n",
      "Requirement already satisfied: tensorboard-plugin-wit>=1.6.0 in /Users/ayushchaurasia/Documents/ultralytics/ultralytics/env/lib/python3.10/site-packages (from tensorboard>=2.4.1->ultralytics==8.0.0.dev0) (1.8.1)\n",
      "Requirement already satisfied: setuptools>=41.0.0 in /Users/ayushchaurasia/Documents/ultralytics/ultralytics/env/lib/python3.10/site-packages (from tensorboard>=2.4.1->ultralytics==8.0.0.dev0) (65.5.1)\n",
      "Requirement already satisfied: grpcio>=1.24.3 in /Users/ayushchaurasia/Documents/ultralytics/ultralytics/env/lib/python3.10/site-packages (from tensorboard>=2.4.1->ultralytics==8.0.0.dev0) (1.50.0)\n",
      "Requirement already satisfied: wheel>=0.26 in /Users/ayushchaurasia/Documents/ultralytics/ultralytics/env/lib/python3.10/site-packages (from tensorboard>=2.4.1->ultralytics==8.0.0.dev0) (0.37.1)\n",
      "Requirement already satisfied: absl-py>=0.4 in /Users/ayushchaurasia/Documents/ultralytics/ultralytics/env/lib/python3.10/site-packages (from tensorboard>=2.4.1->ultralytics==8.0.0.dev0) (1.3.0)\n",
      "Requirement already satisfied: tensorboard-data-server<0.7.0,>=0.6.0 in /Users/ayushchaurasia/Documents/ultralytics/ultralytics/env/lib/python3.10/site-packages (from tensorboard>=2.4.1->ultralytics==8.0.0.dev0) (0.6.1)\n",
      "Requirement already satisfied: google-auth-oauthlib<0.5,>=0.4.1 in /Users/ayushchaurasia/Documents/ultralytics/ultralytics/env/lib/python3.10/site-packages (from tensorboard>=2.4.1->ultralytics==8.0.0.dev0) (0.4.6)\n",
      "Requirement already satisfied: markdown>=2.6.8 in /Users/ayushchaurasia/Documents/ultralytics/ultralytics/env/lib/python3.10/site-packages (from tensorboard>=2.4.1->ultralytics==8.0.0.dev0) (3.3.7)\n",
      "Requirement already satisfied: werkzeug>=1.0.1 in /Users/ayushchaurasia/Documents/ultralytics/ultralytics/env/lib/python3.10/site-packages (from tensorboard>=2.4.1->ultralytics==8.0.0.dev0) (2.2.2)\n",
      "Requirement already satisfied: typing-extensions in /Users/ayushchaurasia/Documents/ultralytics/ultralytics/env/lib/python3.10/site-packages (from torch>=1.7.0->ultralytics==8.0.0.dev0) (4.4.0)\n",
      "Requirement already satisfied: pickleshare in /Users/ayushchaurasia/Documents/ultralytics/ultralytics/env/lib/python3.10/site-packages (from ipython->ultralytics==8.0.0.dev0) (0.7.5)\n",
      "Requirement already satisfied: prompt-toolkit<3.1.0,>3.0.1 in /Users/ayushchaurasia/Documents/ultralytics/ultralytics/env/lib/python3.10/site-packages (from ipython->ultralytics==8.0.0.dev0) (3.0.32)\n",
      "Requirement already satisfied: jedi>=0.16 in /Users/ayushchaurasia/Documents/ultralytics/ultralytics/env/lib/python3.10/site-packages (from ipython->ultralytics==8.0.0.dev0) (0.18.1)\n",
      "Requirement already satisfied: pexpect>4.3 in /Users/ayushchaurasia/Documents/ultralytics/ultralytics/env/lib/python3.10/site-packages (from ipython->ultralytics==8.0.0.dev0) (4.8.0)\n",
      "Requirement already satisfied: appnope in /Users/ayushchaurasia/Documents/ultralytics/ultralytics/env/lib/python3.10/site-packages (from ipython->ultralytics==8.0.0.dev0) (0.1.3)\n",
      "Requirement already satisfied: traitlets>=5 in /Users/ayushchaurasia/Documents/ultralytics/ultralytics/env/lib/python3.10/site-packages (from ipython->ultralytics==8.0.0.dev0) (5.8.0)\n",
      "Requirement already satisfied: backcall in /Users/ayushchaurasia/Documents/ultralytics/ultralytics/env/lib/python3.10/site-packages (from ipython->ultralytics==8.0.0.dev0) (0.2.0)\n",
      "Requirement already satisfied: stack-data in /Users/ayushchaurasia/Documents/ultralytics/ultralytics/env/lib/python3.10/site-packages (from ipython->ultralytics==8.0.0.dev0) (0.6.1)\n",
      "Requirement already satisfied: matplotlib-inline in /Users/ayushchaurasia/Documents/ultralytics/ultralytics/env/lib/python3.10/site-packages (from ipython->ultralytics==8.0.0.dev0) (0.1.6)\n",
      "Requirement already satisfied: decorator in /Users/ayushchaurasia/Documents/ultralytics/ultralytics/env/lib/python3.10/site-packages (from ipython->ultralytics==8.0.0.dev0) (5.1.1)\n",
      "Requirement already satisfied: pygments>=2.4.0 in /Users/ayushchaurasia/Documents/ultralytics/ultralytics/env/lib/python3.10/site-packages (from ipython->ultralytics==8.0.0.dev0) (2.13.0)\n",
      "Requirement already satisfied: smmap<6,>=3.0.1 in /Users/ayushchaurasia/Documents/ultralytics/ultralytics/env/lib/python3.10/site-packages (from gitdb<5,>=4.0.1->GitPython>=3.1.24->ultralytics==8.0.0.dev0) (5.0.0)\n",
      "Requirement already satisfied: cachetools<6.0,>=2.0.0 in /Users/ayushchaurasia/Documents/ultralytics/ultralytics/env/lib/python3.10/site-packages (from google-auth<3,>=1.6.3->tensorboard>=2.4.1->ultralytics==8.0.0.dev0) (5.2.0)\n",
      "Requirement already satisfied: rsa<5,>=3.1.4 in /Users/ayushchaurasia/Documents/ultralytics/ultralytics/env/lib/python3.10/site-packages (from google-auth<3,>=1.6.3->tensorboard>=2.4.1->ultralytics==8.0.0.dev0) (4.9)\n",
      "Requirement already satisfied: pyasn1-modules>=0.2.1 in /Users/ayushchaurasia/Documents/ultralytics/ultralytics/env/lib/python3.10/site-packages (from google-auth<3,>=1.6.3->tensorboard>=2.4.1->ultralytics==8.0.0.dev0) (0.2.8)\n",
      "Requirement already satisfied: requests-oauthlib>=0.7.0 in /Users/ayushchaurasia/Documents/ultralytics/ultralytics/env/lib/python3.10/site-packages (from google-auth-oauthlib<0.5,>=0.4.1->tensorboard>=2.4.1->ultralytics==8.0.0.dev0) (1.3.1)\n",
      "Requirement already satisfied: parso<0.9.0,>=0.8.0 in /Users/ayushchaurasia/Documents/ultralytics/ultralytics/env/lib/python3.10/site-packages (from jedi>=0.16->ipython->ultralytics==8.0.0.dev0) (0.8.3)\n",
      "Requirement already satisfied: ptyprocess>=0.5 in /Users/ayushchaurasia/Documents/ultralytics/ultralytics/env/lib/python3.10/site-packages (from pexpect>4.3->ipython->ultralytics==8.0.0.dev0) (0.7.0)\n",
      "Requirement already satisfied: wcwidth in /Users/ayushchaurasia/Documents/ultralytics/ultralytics/env/lib/python3.10/site-packages (from prompt-toolkit<3.1.0,>3.0.1->ipython->ultralytics==8.0.0.dev0) (0.2.5)\n",
      "Requirement already satisfied: MarkupSafe>=2.1.1 in /Users/ayushchaurasia/Documents/ultralytics/ultralytics/env/lib/python3.10/site-packages (from werkzeug>=1.0.1->tensorboard>=2.4.1->ultralytics==8.0.0.dev0) (2.1.1)\n",
      "Requirement already satisfied: executing>=1.2.0 in /Users/ayushchaurasia/Documents/ultralytics/ultralytics/env/lib/python3.10/site-packages (from stack-data->ipython->ultralytics==8.0.0.dev0) (1.2.0)\n",
      "Requirement already satisfied: asttokens>=2.1.0 in /Users/ayushchaurasia/Documents/ultralytics/ultralytics/env/lib/python3.10/site-packages (from stack-data->ipython->ultralytics==8.0.0.dev0) (2.1.0)\n",
      "Requirement already satisfied: pure-eval in /Users/ayushchaurasia/Documents/ultralytics/ultralytics/env/lib/python3.10/site-packages (from stack-data->ipython->ultralytics==8.0.0.dev0) (0.2.2)\n",
      "Requirement already satisfied: pyasn1<0.5.0,>=0.4.6 in /Users/ayushchaurasia/Documents/ultralytics/ultralytics/env/lib/python3.10/site-packages (from pyasn1-modules>=0.2.1->google-auth<3,>=1.6.3->tensorboard>=2.4.1->ultralytics==8.0.0.dev0) (0.4.8)\n",
      "Requirement already satisfied: oauthlib>=3.0.0 in /Users/ayushchaurasia/Documents/ultralytics/ultralytics/env/lib/python3.10/site-packages (from requests-oauthlib>=0.7.0->google-auth-oauthlib<0.5,>=0.4.1->tensorboard>=2.4.1->ultralytics==8.0.0.dev0) (3.2.2)\n",
      "Building wheels for collected packages: ultralytics\n",
      "  Building wheel for ultralytics (setup.py) ... \u001b[?25ldone\n",
      "\u001b[?25h  Created wheel for ultralytics: filename=ultralytics-8.0.0.dev0-py3-none-any.whl size=206427 sha256=d0784b03f3635328be92100572e3cf6ff94309f18e35d83ccf2c371c9d6cb94d\n",
      "  Stored in directory: /private/var/folders/m8/jgx2lgc948gd93t0c07n3nf80000gn/T/pip-ephem-wheel-cache-gpy9gz5w/wheels/45/25/b9/9f1e3857f58c296e7854ef871c3f5a15d519cc6c679848df8e\n",
      "Successfully built ultralytics\n",
      "Installing collected packages: ultralytics\n",
      "  Attempting uninstall: ultralytics\n",
      "    Found existing installation: ultralytics 8.0.0.dev0\n",
      "    Uninstalling ultralytics-8.0.0.dev0:\n",
      "      Successfully uninstalled ultralytics-8.0.0.dev0\n",
      "Successfully installed ultralytics-8.0.0.dev0\n"
     ]
    }
   ],
   "source": [
    "# Setup\n",
    "!pip install git+https://github.com/ultralytics/ultralytics.git # TODO: add token"
   ]
  },
  {
   "cell_type": "markdown",
   "metadata": {},
   "source": [
    "## `yolo` Command Line Tool\n",
    "Syntax:\n",
    "```bash\n",
    "yolo task=detect   mode=predict   arg=x\n",
    "          segment       train     epochs=1\n",
    "          classify      val       imgsz=640\n",
    "```\n",
    "TODO: add a bus.jpeg image with mask and boxes overlays "
   ]
  },
  {
   "cell_type": "code",
   "execution_count": 3,
   "metadata": {},
   "outputs": [
    {
     "name": "stdout",
     "output_type": "stream",
     "text": [
      "Ultralytics YOLO 🚀 8.0.0.dev0 Python-3.10.8 torch-1.13.0 CPU\n",
      "Downloading https://github.com/ultralytics/assets/releases/download/v0.0.0/yolov8n.pt to yolov8n.pt...\n",
      "100%|██████████████████████████████████████| 6.24M/6.24M [00:02<00:00, 2.60MB/s]\n",
      "\n",
      "Fusing layers... \n",
      "YOLOv8n summary: 168 layers, 3151904 parameters, 0 gradients, 8.7 GFLOPs\n",
      "Error executing job with overrides: ['task=detect', 'mode=predict', 'model=yolov8n.pt']\n",
      "Traceback (most recent call last):\n",
      "  File \"/Users/ayushchaurasia/Documents/ultralytics/ultralytics/env/lib/python3.10/site-packages/ultralytics/yolo/cli.py\", line 50, in cli\n",
      "    func(cfg)\n",
      "  File \"/Users/ayushchaurasia/Documents/ultralytics/ultralytics/env/lib/python3.10/site-packages/hydra/main.py\", line 79, in decorated_main\n",
      "    return task_function(cfg_passthrough)\n",
      "  File \"/Users/ayushchaurasia/Documents/ultralytics/ultralytics/env/lib/python3.10/site-packages/ultralytics/yolo/v8/detect/predict.py\", line 89, in predict\n",
      "    predictor()\n",
      "  File \"/Users/ayushchaurasia/Documents/ultralytics/ultralytics/env/lib/python3.10/site-packages/torch/autograd/grad_mode.py\", line 27, in decorate_context\n",
      "    return func(*args, **kwargs)\n",
      "  File \"/Users/ayushchaurasia/Documents/ultralytics/ultralytics/env/lib/python3.10/site-packages/ultralytics/yolo/engine/predictor.py\", line 150, in __call__\n",
      "    model = self.model if self.done_setup else self.setup(source, model)\n",
      "  File \"/Users/ayushchaurasia/Documents/ultralytics/ultralytics/env/lib/python3.10/site-packages/ultralytics/yolo/engine/predictor.py\", line 134, in setup\n",
      "    self.dataset = LoadImages(source, imgsz=imgsz, stride=stride, auto=pt, vid_stride=self.args.vid_stride)\n",
      "  File \"/Users/ayushchaurasia/Documents/ultralytics/ultralytics/env/lib/python3.10/site-packages/ultralytics/yolo/data/dataloaders/stream_loaders.py\", line 169, in __init__\n",
      "    raise FileNotFoundError(f'{p} does not exist')\n",
      "FileNotFoundError: /Users/ayushchaurasia/Documents/ultralytics/ultralytics/examples/ultralytics/assets does not exist\n",
      "\n",
      "Set the environment variable HYDRA_FULL_ERROR=1 for a complete stack trace.\n"
     ]
    }
   ],
   "source": [
    "# Predict Detection\n",
    "!yolo task=detect mode=predict model=yolov8n.pt # source='path'/video.mp4/img.png, '0' for webcam\n",
    "\n",
    "# Predict Segmentation\n",
    "# !yolo task=detect mode=predict model=yolov8n-seg.pt\n"
   ]
  },
  {
   "cell_type": "code",
   "execution_count": null,
   "metadata": {},
   "outputs": [],
   "source": [
    "# Validation\n",
    "!yolo task=detect mode=val model=yolov8n.pt"
   ]
  },
  {
   "cell_type": "code",
   "execution_count": null,
   "metadata": {},
   "outputs": [],
   "source": [
    "# Train Pre-trained\n",
    "!yolo task=detect model=train model=yolov8n.pt epochs=5 # trained pre-trained\n",
    "                                   \n",
    "# Train from scratch\n",
    "# !yolo task=detect model=train model=yolov8n.yaml epochs=5 # trained pre-trained\n"
   ]
  },
  {
   "cell_type": "markdown",
   "metadata": {},
   "source": [
    "## Python Interface\n",
    "Syntax:\n",
    "```python\n",
    "from ultralytics import YOLO\n",
    "\n",
    "model = YOLO(\"yolov8n.yaml\")  # create a new model from scratch\n",
    "model = YOLO(\"yolov8n.pt\")  # load a pretrained model (recommended for best training results)\n",
    "results = model.train(data=\"coco128.yaml\", epochs=100, imgsz=640, ...)\n",
    "results = model.val()\n",
    "results = model.predict(source=\"bus.jpg\")\n",
    "success = model.export(format=\"onnx\")\n",
    "```"
   ]
  },
  {
   "cell_type": "code",
   "execution_count": 4,
   "metadata": {},
   "outputs": [
    {
     "name": "stderr",
     "output_type": "stream",
     "text": [
      "Ultralytics YOLO 🚀 8.0.0.dev0 Python-3.10.8 torch-1.13.0 CPU\n",
      "Fusing layers... \n",
      "YOLOv8n summary: 168 layers, 3151904 parameters, 0 gradients, 8.7 GFLOPs\n",
      "image 1/2 /Users/ayushchaurasia/Documents/ultralytics/ultralytics/ultralytics/assets/bus.jpg: 640x640 85 persons, 5 bicycles, 4 cars, 16 buss, 1 traffic light, 1 fire hydrant, 1 stop sign, 1 parking meter, 5 backpacks, 8 umbrellas, 46 handbags, 11 ties, 1 skateboard, 2 surfboards, 1 bottle, 3 chairs, 11 potted plants, 1 cell phone, 9 books, 1 vase, 141.2ms\n",
      "image 2/2 /Users/ayushchaurasia/Documents/ultralytics/ultralytics/ultralytics/assets/zidane.jpg: 640x640 168 persons, 3 cars, 1 backpack, 5 handbags, 43 ties, 3 frisbees, 1 sports ball, 7 baseball bats, 6 tennis rackets, 1 bottle, 1 carrot, 9 remotes, 23 cell phones, 1 toothbrush, 96.1ms\n",
      "Speed: 0.9ms pre-process, 118.7ms inference, 2.1ms postprocess per image at shape (1, 3, 640, 640)\n",
      "Results saved to \u001b[1mruns/detect/predict3\u001b[0m\n",
      "\u001b[34m\u001b[1myolo/engine/trainer: \u001b[0mtask=detect, mode=train, model=yolov8n.yaml, data=coco128.yaml, epochs=1, patience=50, batch_size=16, imgsz=640, save=True, cache=disk, device=, workers=8, project=None, name=None, exist_ok=False, pretrained=False, optimizer=SGD, verbose=False, seed=0, deterministic=True, local_rank=-1, single_cls=False, image_weights=False, rect=False, cos_lr=False, close_mosaic=10, resume=False, overlap_mask=True, mask_ratio=4, dropout=False, val=True, save_json=False, save_hybrid=False, conf_thres=0.001, iou_thres=0.7, max_det=300, half=True, dnn=False, plots=True, source=ultralytics/assets/, show=False, save_txt=False, save_conf=False, save_crop=False, hide_labels=False, hide_conf=False, vid_stride=1, line_thickness=3, update=False, visualize=False, augment=False, agnostic_nms=False, retina_masks=False, format=torchscript, keras=False, optimize=False, int8=False, dynamic=False, simplify=False, opset=17, workspace=4, nms=False, lr0=0.01, lrf=0.01, momentum=0.937, weight_decay=0.001, warmup_epochs=3.0, warmup_momentum=0.8, warmup_bias_lr=0.1, box=7.5, cls=0.5, dfl=1.5, fl_gamma=0.0, label_smoothing=0.0, nbs=64, hsv_h=0.015, hsv_s=0.7, hsv_v=0.4, degrees=0.0, translate=0.1, scale=0.5, shear=0.0, perspective=0.0, flipud=0.0, fliplr=0.5, mosaic=1.0, mixup=0.0, copy_paste=0.0, hydra={'output_subdir': None, 'run': {'dir': '.'}}, v5loader=True\n",
      "Ultralytics YOLO 🚀 8.0.0.dev0 Python-3.10.8 torch-1.13.0 CPU\n",
      "\n",
      "Dataset not found ⚠️, missing paths ['/Users/ayushchaurasia/Documents/ultralytics/ultralytics/datasets/coco128/images/train2017']\n",
      "Downloading https://ultralytics.com/assets/coco128.zip to coco128.zip...\n"
     ]
    },
    {
     "data": {
      "application/vnd.jupyter.widget-view+json": {
       "model_id": "8b43f25bf6534917bcf5d40c14e30681",
       "version_major": 2,
       "version_minor": 0
      },
      "text/plain": [
       "  0%|          | 0.00/6.66M [00:00<?, ?B/s]"
      ]
     },
     "metadata": {},
     "output_type": "display_data"
    },
    {
     "name": "stderr",
     "output_type": "stream",
     "text": [
      "Dataset download success ✅ (6.1s), saved to \u001b[1m/Users/ayushchaurasia/Documents/ultralytics/ultralytics/datasets\u001b[0m\n",
      "\n",
      "                   from  n    params  module                                       arguments                     \n",
      "  0                  -1  1       464  ultralytics.nn.modules.Conv                  [3, 16, 3, 2]                 \n",
      "  1                  -1  1      4672  ultralytics.nn.modules.Conv                  [16, 32, 3, 2]                \n",
      "  2                  -1  1      7360  ultralytics.nn.modules.C2f                   [32, 32, 1, True]             \n",
      "  3                  -1  1     18560  ultralytics.nn.modules.Conv                  [32, 64, 3, 2]                \n",
      "  4                  -1  2     49664  ultralytics.nn.modules.C2f                   [64, 64, 2, True]             \n",
      "  5                  -1  1     73984  ultralytics.nn.modules.Conv                  [64, 128, 3, 2]               \n",
      "  6                  -1  2    197632  ultralytics.nn.modules.C2f                   [128, 128, 2, True]           \n",
      "  7                  -1  1    295424  ultralytics.nn.modules.Conv                  [128, 256, 3, 2]              \n",
      "  8                  -1  1    460288  ultralytics.nn.modules.C2f                   [256, 256, 1, True]           \n",
      "  9                  -1  1    164608  ultralytics.nn.modules.SPPF                  [256, 256, 5]                 \n",
      " 10                  -1  1         0  torch.nn.modules.upsampling.Upsample         [None, 2, 'nearest']          \n",
      " 11             [-1, 6]  1         0  ultralytics.nn.modules.Concat                [1]                           \n",
      " 12                  -1  1    148224  ultralytics.nn.modules.C2f                   [384, 128, 1]                 \n",
      " 13                  -1  1         0  torch.nn.modules.upsampling.Upsample         [None, 2, 'nearest']          \n",
      " 14             [-1, 4]  1         0  ultralytics.nn.modules.Concat                [1]                           \n",
      " 15                  -1  1     37248  ultralytics.nn.modules.C2f                   [192, 64, 1]                  \n",
      " 16                  -1  1     36992  ultralytics.nn.modules.Conv                  [64, 64, 3, 2]                \n",
      " 17            [-1, 12]  1         0  ultralytics.nn.modules.Concat                [1]                           \n",
      " 18                  -1  1    123648  ultralytics.nn.modules.C2f                   [192, 128, 1]                 \n",
      " 19                  -1  1    147712  ultralytics.nn.modules.Conv                  [128, 128, 3, 2]              \n",
      " 20             [-1, 9]  1         0  ultralytics.nn.modules.Concat                [1]                           \n",
      " 21                  -1  1    493056  ultralytics.nn.modules.C2f                   [384, 256, 1]                 \n",
      " 22        [15, 18, 21]  1    897664  ultralytics.nn.modules.Detect                [80, [64, 128, 256]]          \n",
      "Model summary: 225 layers, 3157200 parameters, 3157184 gradients, 8.9 GFLOPs\n",
      "\n",
      "Transferred 70/355 items from pretrained weights\n",
      "\u001b[34m\u001b[1mwandb\u001b[0m: Currently logged in as: \u001b[33mcayush\u001b[0m. Use \u001b[1m`wandb login --relogin`\u001b[0m to force relogin\n"
     ]
    },
    {
     "data": {
      "text/html": [
       "Tracking run with wandb version 0.13.7"
      ],
      "text/plain": [
       "<IPython.core.display.HTML object>"
      ]
     },
     "metadata": {},
     "output_type": "display_data"
    },
    {
     "data": {
      "text/html": [
       "Run data is saved locally in <code>/Users/ayushchaurasia/Documents/ultralytics/ultralytics/examples/wandb/run-20230103_023924-3rkqmxgv</code>"
      ],
      "text/plain": [
       "<IPython.core.display.HTML object>"
      ]
     },
     "metadata": {},
     "output_type": "display_data"
    },
    {
     "data": {
      "text/html": [
       "Syncing run <strong><a href=\"https://wandb.ai/cayush/YOLOv8/runs/3rkqmxgv\" target=\"_blank\">generous-silence-72</a></strong> to <a href=\"https://wandb.ai/cayush/YOLOv8\" target=\"_blank\">Weights & Biases</a> (<a href=\"https://wandb.me/run\" target=\"_blank\">docs</a>)<br/>"
      ],
      "text/plain": [
       "<IPython.core.display.HTML object>"
      ]
     },
     "metadata": {},
     "output_type": "display_data"
    },
    {
     "name": "stderr",
     "output_type": "stream",
     "text": [
      "\u001b[34m\u001b[1moptimizer:\u001b[0m SGD(lr=0.01) with parameter groups 57 weight(decay=0.0), 64 weight(decay=0.001), 63 bias\n",
      "\u001b[34m\u001b[1mtrain: \u001b[0mScanning /Users/ayushchaurasia/Documents/ultralytics/ultralytics/datasets/coco128/labels/train2017... 126 images, 2 backgrounds, 0 corrupt: 100%|██████████| 128/128 [00:02<00:00, 44.95it/s]\n",
      "\u001b[34m\u001b[1mtrain: \u001b[0mNew cache created: /Users/ayushchaurasia/Documents/ultralytics/ultralytics/datasets/coco128/labels/train2017.cache\n",
      "\u001b[34m\u001b[1mtrain: \u001b[0mCaching images (0.1GB disk): 100%|██████████| 128/128 [00:00<00:00, 734.65it/s]\n",
      "\u001b[34m\u001b[1mval: \u001b[0mScanning /Users/ayushchaurasia/Documents/ultralytics/ultralytics/datasets/coco128/labels/train2017.cache... 126 images, 2 backgrounds, 0 corrupt: 100%|██████████| 128/128 [00:00<?, ?it/s]\n",
      "\u001b[34m\u001b[1mval: \u001b[0mCaching images (0.1GB disk): 100%|██████████| 128/128 [00:00<00:00, 52675.72it/s]\n",
      "Image sizes 640 train, 640 val\n",
      "Using 0 dataloader workers\n",
      "Logging results to \u001b[1mruns/detect/train\u001b[0m\n",
      "Starting training for 1 epochs...\n",
      "\n",
      "      Epoch    GPU_mem   box_loss   cls_loss   dfl_loss  Instances       Size\n",
      "        1/1         0G      2.919      4.712      2.462        234        640: 100%|██████████| 8/8 [01:04<00:00,  8.05s/it]\n",
      "                 Class     Images  Instances      Box(P          R      mAP50  mAP50-95): 100%|██████████| 4/4 [00:27<00:00,  6.78s/it]\n",
      "                   all        128        929   0.000667     0.0136   0.000567   0.000277\n",
      "\n",
      "1 epochs completed in 0.026 hours.\n",
      "Optimizer stripped from runs/detect/train/weights/last.pt, 6.5MB\n",
      "Optimizer stripped from runs/detect/train/weights/best.pt, 6.5MB\n",
      "\n",
      "Validating runs/detect/train/weights/best.pt...\n",
      "Ultralytics YOLO 🚀 8.0.0.dev0 Python-3.10.8 torch-1.13.0 CPU\n",
      "Fusing layers... \n",
      "Model summary: 168 layers, 3151904 parameters, 0 gradients, 8.7 GFLOPs\n",
      "                 Class     Images  Instances      Box(P          R      mAP50  mAP50-95): 100%|██████████| 4/4 [00:22<00:00,  5.56s/it]\n",
      "                   all        128        929   0.000686     0.0136   0.000573   0.000282\n",
      "                person        128        254    0.00367      0.268    0.00796    0.00216\n",
      "               bicycle        128          6          0          0          0          0\n",
      "                   car        128         46          0          0          0          0\n",
      "            motorcycle        128          5          0          0          0          0\n",
      "              airplane        128          6          0          0          0          0\n",
      "                   bus        128          7          0          0          0          0\n",
      "                 train        128          3          0          0          0          0\n",
      "                 truck        128         12          0          0          0          0\n",
      "                  boat        128          6          0          0          0          0\n",
      "         traffic light        128         14          0          0          0          0\n",
      "             stop sign        128          2          0          0          0          0\n",
      "                 bench        128          9          0          0          0          0\n",
      "                  bird        128         16          0          0          0          0\n",
      "                   cat        128          4          0          0          0          0\n",
      "                   dog        128          9          0          0          0          0\n",
      "                 horse        128          2          0          0          0          0\n",
      "              elephant        128         17          0          0          0          0\n",
      "                  bear        128          1          0          0          0          0\n",
      "                 zebra        128          4     0.0196       0.25     0.0165    0.00496\n",
      "               giraffe        128          9          0          0          0          0\n",
      "              backpack        128          6          0          0          0          0\n",
      "              umbrella        128         18          0          0          0          0\n",
      "               handbag        128         19          0          0          0          0\n",
      "                   tie        128          7          0          0          0          0\n",
      "              suitcase        128          4          0          0          0          0\n",
      "               frisbee        128          5          0          0          0          0\n",
      "                  skis        128          1          0          0          0          0\n",
      "             snowboard        128          7          0          0          0          0\n",
      "           sports ball        128          6          0          0          0          0\n",
      "                  kite        128         10          0          0          0          0\n",
      "          baseball bat        128          4          0          0          0          0\n",
      "        baseball glove        128          7          0          0          0          0\n",
      "            skateboard        128          5          0          0          0          0\n",
      "         tennis racket        128          7          0          0          0          0\n",
      "                bottle        128         18          0          0          0          0\n",
      "            wine glass        128         16          0          0          0          0\n",
      "                   cup        128         36          0          0          0          0\n",
      "                  fork        128          6          0          0          0          0\n",
      "                 knife        128         16          0          0          0          0\n",
      "                 spoon        128         22          0          0          0          0\n",
      "                  bowl        128         28     0.0227     0.0357     0.0133      0.012\n",
      "                banana        128          1          0          0          0          0\n",
      "              sandwich        128          2          0          0          0          0\n",
      "                orange        128          4          0          0          0          0\n",
      "              broccoli        128         11          0          0          0          0\n",
      "                carrot        128         24          0          0          0          0\n",
      "               hot dog        128          2          0          0          0          0\n",
      "                 pizza        128          5          0          0          0          0\n",
      "                 donut        128         14          0          0          0          0\n",
      "                  cake        128          4          0          0          0          0\n",
      "                 chair        128         35      0.002     0.0286    0.00109   0.000328\n",
      "                 couch        128          6          0          0          0          0\n",
      "          potted plant        128         14          0          0          0          0\n",
      "                   bed        128          3          0          0          0          0\n",
      "          dining table        128         13   0.000671      0.385    0.00178   0.000572\n",
      "                toilet        128          2          0          0          0          0\n",
      "                    tv        128          2          0          0          0          0\n",
      "                laptop        128          3          0          0          0          0\n",
      "                 mouse        128          2          0          0          0          0\n",
      "                remote        128          8          0          0          0          0\n",
      "            cell phone        128          8          0          0          0          0\n",
      "             microwave        128          3          0          0          0          0\n",
      "                  oven        128          5          0          0          0          0\n",
      "                  sink        128          6          0          0          0          0\n",
      "          refrigerator        128          5          0          0          0          0\n",
      "                  book        128         29          0          0          0          0\n",
      "                 clock        128          9          0          0          0          0\n",
      "                  vase        128          2          0          0          0          0\n",
      "              scissors        128          1          0          0          0          0\n",
      "            teddy bear        128         21          0          0          0          0\n",
      "            toothbrush        128          5          0          0          0          0\n",
      "Speed: 1.0ms pre-process, 165.2ms inference, 0.0ms loss, 1.0ms post-process per image\n",
      "Saving runs/detect/train/predictions.json...\n",
      "Results saved to \u001b[1mruns/detect/train\u001b[0m\n",
      "Ultralytics YOLO 🚀 8.0.0.dev0 Python-3.10.8 torch-1.13.0 CPU\n",
      "Fusing layers... \n",
      "Model summary: 168 layers, 3151904 parameters, 31920 gradients, 8.7 GFLOPs\n",
      "Forcing --batch-size 1 square inference (1,3,640,640) for non-PyTorch models\n",
      "\n",
      "Dataset not found ⚠️, missing paths ['/Users/ayushchaurasia/Documents/ultralytics/ultralytics/datasets/coco/val2017.txt']\n"
     ]
    },
    {
     "name": "stdout",
     "output_type": "stream",
     "text": [
      "Unexpected exception formatting exception. Falling back to standard exception\n"
     ]
    },
    {
     "name": "stderr",
     "output_type": "stream",
     "text": [
      "Traceback (most recent call last):\n",
      "  File \"/Users/ayushchaurasia/Documents/ultralytics/ultralytics/env/lib/python3.10/site-packages/IPython/core/interactiveshell.py\", line 3433, in run_code\n",
      "    exec(code_obj, self.user_global_ns, self.user_ns)\n",
      "  File \"/var/folders/m8/jgx2lgc948gd93t0c07n3nf80000gn/T/ipykernel_99366/304296324.py\", line 9, in <module>\n",
      "    results = model.val()\n",
      "  File \"/Users/ayushchaurasia/Documents/ultralytics/ultralytics/env/lib/python3.10/site-packages/torch/autograd/grad_mode.py\", line 27, in decorate_context\n",
      "    return func(*args, **kwargs)\n",
      "  File \"/Users/ayushchaurasia/Documents/ultralytics/ultralytics/ultralytics/yolo/engine/model.py\", line 151, in val\n",
      "  File \"/Users/ayushchaurasia/Documents/ultralytics/ultralytics/env/lib/python3.10/site-packages/torch/autograd/grad_mode.py\", line 27, in decorate_context\n",
      "    return func(*args, **kwargs)\n",
      "  File \"/Users/ayushchaurasia/Documents/ultralytics/ultralytics/ultralytics/yolo/engine/validator.py\", line 106, in __call__\n",
      "    data = check_dataset_yaml(self.args.data)\n",
      "  File \"/Users/ayushchaurasia/Documents/ultralytics/ultralytics/ultralytics/yolo/data/utils.py\", line 249, in check_dataset_yaml\n",
      "    r = exec(s, {'yaml': data})  # return None\n",
      "  File \"<string>\", line 1, in <module>\n",
      "ModuleNotFoundError: No module named 'utils'\n",
      "\n",
      "During handling of the above exception, another exception occurred:\n",
      "\n",
      "Traceback (most recent call last):\n",
      "  File \"/Users/ayushchaurasia/Documents/ultralytics/ultralytics/env/lib/python3.10/site-packages/IPython/core/interactiveshell.py\", line 2052, in showtraceback\n",
      "    stb = self.InteractiveTB.structured_traceback(\n",
      "  File \"/Users/ayushchaurasia/Documents/ultralytics/ultralytics/env/lib/python3.10/site-packages/IPython/core/ultratb.py\", line 1112, in structured_traceback\n",
      "    return FormattedTB.structured_traceback(\n",
      "  File \"/Users/ayushchaurasia/Documents/ultralytics/ultralytics/env/lib/python3.10/site-packages/IPython/core/ultratb.py\", line 1006, in structured_traceback\n",
      "    return VerboseTB.structured_traceback(\n",
      "  File \"/Users/ayushchaurasia/Documents/ultralytics/ultralytics/env/lib/python3.10/site-packages/IPython/core/ultratb.py\", line 859, in structured_traceback\n",
      "    formatted_exception = self.format_exception_as_a_whole(etype, evalue, etb, number_of_lines_of_context,\n",
      "  File \"/Users/ayushchaurasia/Documents/ultralytics/ultralytics/env/lib/python3.10/site-packages/IPython/core/ultratb.py\", line 812, in format_exception_as_a_whole\n",
      "    frames.append(self.format_record(r))\n",
      "  File \"/Users/ayushchaurasia/Documents/ultralytics/ultralytics/env/lib/python3.10/site-packages/IPython/core/ultratb.py\", line 730, in format_record\n",
      "    result += ''.join(_format_traceback_lines(frame_info.lines, Colors, self.has_colors, lvals))\n",
      "  File \"/Users/ayushchaurasia/Documents/ultralytics/ultralytics/env/lib/python3.10/site-packages/stack_data/utils.py\", line 144, in cached_property_wrapper\n",
      "    value = obj.__dict__[self.func.__name__] = self.func(obj)\n",
      "  File \"/Users/ayushchaurasia/Documents/ultralytics/ultralytics/env/lib/python3.10/site-packages/stack_data/core.py\", line 720, in lines\n",
      "    pieces = self.included_pieces\n",
      "  File \"/Users/ayushchaurasia/Documents/ultralytics/ultralytics/env/lib/python3.10/site-packages/stack_data/utils.py\", line 144, in cached_property_wrapper\n",
      "    value = obj.__dict__[self.func.__name__] = self.func(obj)\n",
      "  File \"/Users/ayushchaurasia/Documents/ultralytics/ultralytics/env/lib/python3.10/site-packages/stack_data/core.py\", line 667, in included_pieces\n",
      "    pos = scope_pieces.index(self.executing_piece)\n",
      "  File \"/Users/ayushchaurasia/Documents/ultralytics/ultralytics/env/lib/python3.10/site-packages/stack_data/utils.py\", line 144, in cached_property_wrapper\n",
      "    value = obj.__dict__[self.func.__name__] = self.func(obj)\n",
      "  File \"/Users/ayushchaurasia/Documents/ultralytics/ultralytics/env/lib/python3.10/site-packages/stack_data/core.py\", line 646, in executing_piece\n",
      "    return only(\n",
      "  File \"/Users/ayushchaurasia/Documents/ultralytics/ultralytics/env/lib/python3.10/site-packages/executing/executing.py\", line 190, in only\n",
      "    raise NotOneValueFound('Expected one value, found 0')\n",
      "executing.executing.NotOneValueFound: Expected one value, found 0\n"
     ]
    }
   ],
   "source": [
    "# Example workflow\n",
    "from ultralytics import YOLO\n",
    "from ultralytics.yolo.utils import ROOT\n",
    "\n",
    "model = YOLO(\"yolov8n.pt\")\n",
    "results = model.predict(source=ROOT / \"assets\")\n",
    "\n",
    "results = model.train(data=\"coco128.yaml\", epochs=1, imgsz=640)\n",
    "results = model.val()\n",
    "success = model.export(format=\"onnx\")"
   ]
  }
 ],
 "metadata": {
  "kernelspec": {
   "display_name": "Python 3.10.8 ('env': venv)",
   "language": "python",
   "name": "python3"
  },
  "language_info": {
   "codemirror_mode": {
    "name": "ipython",
    "version": 3
   },
   "file_extension": ".py",
   "mimetype": "text/x-python",
   "name": "python",
   "nbconvert_exporter": "python",
   "pygments_lexer": "ipython3",
   "version": "3.10.8"
  },
  "orig_nbformat": 4,
  "vscode": {
   "interpreter": {
    "hash": "6a4b42139e5080fc810eca029bf3717581cc6ee60423437d27a015e55066eaf0"
   }
  }
 },
 "nbformat": 4,
 "nbformat_minor": 2
}
