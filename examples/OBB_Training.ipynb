{
  "cells": [
    {
      "cell_type": "markdown",
      "source": [
        "<div align=\"center\">\n",
        "\n",
        "  <a href=\"https://ultralytics.com/yolov8\" target=\"_blank\">\n",
        "    <img width=\"1024\", src=\"https://raw.githubusercontent.com/ultralytics/assets/main/yolov8/banner-yolov8.png\"></a>\n",
        "\n",
        "  [中文](https://docs.ultralytics.com/zh/) | [한국어](https://docs.ultralytics.com/ko/) | [日本語](https://docs.ultralytics.com/ja/) | [Русский](https://docs.ultralytics.com/ru/) | [Deutsch](https://docs.ultralytics.com/de/) | [Français](https://docs.ultralytics.com/fr/) | [Español](https://docs.ultralytics.com/es/) | [Português](https://docs.ultralytics.com/pt/) | [हिन्दी](https://docs.ultralytics.com/hi/) | [العربية](https://docs.ultralytics.com/ar/)\n",
        "\n",
        "  <a href=\"https://colab.research.google.com/github/ultralytics/ultralytics/blob/main/examples/OBB.ipynb\"><img src=\"https://colab.research.google.com/assets/colab-badge.svg\" alt=\"Open In Colab\"></a>\n",
        "\n",
        "Welcome to the Ultralytics YOLOv8 🚀 notebook! <a href=\"https://github.com/ultralytics/ultralytics\">YOLOv8</a> is the latest version of the YOLO (You Only Look Once) AI models developed by <a href=\"https://ultralytics.com\">Ultralytics</a>. This notebook serves as the starting point for exploring the <a href=\"https://docs.ultralytics.com/tasks/obb/\">OBB (Oriented Bounding Boxes)</a> and understand its training and validation process.\n",
        "\n",
        "YOLOv8 models are fast, accurate, and easy to use, making them ideal for various object detection and image segmentation tasks. They can be trained on large datasets and run on diverse hardware platforms, from CPUs to GPUs.\n",
        "\n",
        "We hope that the resources in this notebook will help you get the most out of <a href=\"https://docs.ultralytics.com/tasks/obb/\">Ultralytics OBB</a>. Please browse the YOLOv8 <a href=\"https://docs.ultralytics.com/\">Docs</a> for details, raise an issue on <a href=\"https://github.com/ultralytics/ultralytics\">GitHub</a> for support, and join our <a href=\"https://ultralytics.com/discord\">Discord</a> community for questions and discussions!\n",
        "\n",
        "</div>"
      ],
      "metadata": {
        "id": "11Vob7oI1KNt"
      }
    },
    {
      "cell_type": "markdown",
      "source": [
        "# Setup\n",
        "\n",
        "Pip install `ultralytics` and [dependencies](https://github.com/ultralytics/ultralytics/blob/main/pyproject.toml) and check software and hardware."
      ],
      "metadata": {
        "id": "tbPr4RB_1nT3"
      }
    },
    {
      "cell_type": "code",
      "execution_count": null,
      "metadata": {
        "id": "ozzWlqKzxB4m"
      },
      "outputs": [],
      "source": [
        "!pip install ultralytics"
      ]
    },
    {
      "cell_type": "markdown",
      "source": [
        "# Ultralytics OBB (Oriented Bounding Boxes)\n",
        "\n",
        "Oriented object detection goes a step further than object detection and introduce an extra angle to locate objects more accurate in an image.\n",
        "\n",
        "The output of an oriented object detector is a set of rotated bounding boxes that exactly enclose the objects in the image, along with class labels and confidence scores for each box. Object detection is a good choice when you need to identify objects of interest in a scene, but don't need to know exactly where the object is or its exact shape."
      ],
      "metadata": {
        "id": "IK6dpSFh1sIT"
      }
    },
    {
      "cell_type": "markdown",
      "source": [
        "## OBB Training"
      ],
      "metadata": {
        "id": "4Yxf1-xM1y31"
      }
    },
    {
      "cell_type": "code",
      "source": [
        "# !yolo obb train data=DOTAv1.yaml model=yolov8n-obb.pt epochs=2 imgsz=640   # Train official model on DOTAv1 dataset\n",
        "\n",
        "!yolo obb train data=dota8.yaml model=yolov8n-obb.pt epochs=2 imgsz=640   # val official model on dota8 Ultralytics Dataset"
      ],
      "metadata": {
        "id": "jEkUknQ00KAx"
      },
      "execution_count": null,
      "outputs": []
    },
    {
      "cell_type": "markdown",
      "source": [
        "## OBB Validation"
      ],
      "metadata": {
        "id": "2IAUEBxQ19Cb"
      }
    },
    {
      "cell_type": "code",
      "source": [
        "# !yolo obb val model=yolov8n-obb.pt data=DOTAv1.yaml # val official model on DOTAv1 dataset\n",
        "\n",
        "!yolo obb val model=yolov8n-obb.pt data=dota8.yaml # val official model on dota8 Ultralytics Dataset"
      ],
      "metadata": {
        "id": "DSPR7IPZ0QhR"
      },
      "execution_count": null,
      "outputs": []
    },
    {
      "cell_type": "markdown",
      "source": [
        "## OBB Prediction"
      ],
      "metadata": {
        "id": "wC5GVDqk4vPf"
      }
    },
    {
      "cell_type": "code",
      "source": [
        "!yolo obb predict model=yolov8n-obb.pt source='https://ultralytics.com/images/bus.jpg'"
      ],
      "metadata": {
        "id": "_E6BTZFG4hYO"
      },
      "execution_count": null,
      "outputs": []
    },
    {
      "cell_type": "markdown",
      "source": [
        "#Community Support\n",
        "\n",
        "For more information, you can explore <a href=\"https://docs.ultralytics.com/guides/heatmaps/#heatmap-colormaps\">Ultralytics Heatmaps Docs</a>\n",
        "\n",
        "Ultralytics ⚡ resources\n",
        "- About Us – https://ultralytics.com/about\n",
        "- Join Our Team – https://ultralytics.com/work\n",
        "- Contact Us – https://ultralytics.com/contact\n",
        "- Discord – https://discord.gg/2wNGbc6g9X\n",
        "- Ultralytics License – https://ultralytics.com/license\n",
        "\n",
        "YOLOv8 🚀 resources\n",
        "- GitHub – https://github.com/ultralytics/ultralytics\n",
        "- Docs – https://docs.ultralytics.com/"
      ],
      "metadata": {
        "id": "q0d0j1w5-KAw"
      }
    }
  ],
  "metadata": {
    "accelerator": "GPU",
    "colab": {
      "provenance": []
    },
    "kernelspec": {
      "display_name": "Python 3",
      "name": "python3"
    },
    "language_info": {
      "name": "python"
    }
  },
  "nbformat": 4,
  "nbformat_minor": 0
}