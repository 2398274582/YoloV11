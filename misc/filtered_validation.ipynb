{
 "cells": [
  {
   "cell_type": "code",
   "execution_count": 1,
   "id": "8d1757db-150e-4036-a818-212539f7417f",
   "metadata": {
    "ExecuteTime": {
     "end_time": "2024-01-19T09:13:51.939741Z",
     "start_time": "2024-01-19T09:13:50.912088Z"
    }
   },
   "outputs": [],
   "source": [
    "from ultralytics import YOLO\n",
    "import pandas as pd\n",
    "import numpy as np\n",
    "import os\n",
    "import imagesize"
   ]
  },
  {
   "cell_type": "code",
   "execution_count": 2,
   "id": "a371d7ed-67e3-4d56-add9-dca31c9ab232",
   "metadata": {
    "ExecuteTime": {
     "end_time": "2024-01-19T09:13:51.944947Z",
     "start_time": "2024-01-19T09:13:51.940289Z"
    }
   },
   "outputs": [],
   "source": [
    "class_names = {\n",
    "    0:'Person',\n",
    "    1:'Car',\n",
    "    2:'Truck',\n",
    "    3:'UAV',\n",
    "    4:'Aircraft',\n",
    "    5:'Ship'\n",
    "}"
   ]
  },
  {
   "cell_type": "code",
   "execution_count": 3,
   "id": "7bc64d28-4a7e-4a3c-9d4d-b551843b357c",
   "metadata": {
    "ExecuteTime": {
     "end_time": "2024-01-19T09:13:51.949837Z",
     "start_time": "2024-01-19T09:13:51.944427Z"
    }
   },
   "outputs": [],
   "source": [
    "def inspect_dataset(\n",
    "        target_dataset_root,  # ../datasets/new_dataset\n",
    "        target_dataset_slice,  # train,test,val\n",
    "):\n",
    " info = []  # list of lists, each list corresponds to an instance [cls_id, x, y, w, h, img]\n",
    "\n",
    " target_labels_dir = os.path.join(target_dataset_root, 'labels', target_dataset_slice)\n",
    "\n",
    " # Iterate over all files in the original dataset labels folder\n",
    " for filename in os.listdir(target_labels_dir):\n",
    "  if filename.endswith('.txt'):\n",
    "   # Read file\n",
    "   with open(os.path.join(target_labels_dir, filename), \"r\") as f:\n",
    "    # Iterate over instances in image and get present class ids\n",
    "    for line in f:\n",
    "     line_data = []\n",
    "     # label data\n",
    "     line_data = line.split()\n",
    "     # Image name\n",
    "     line_data.append(os.path.splitext(filename)[0])\n",
    "     # Image size: could be done at image level and not row level\n",
    "     img_path = os.path.join(target_dataset_root, 'images', target_dataset_slice,\n",
    "                             os.path.splitext(filename)[0] + '.jpg')\n",
    "     img_w, img_h = imagesize.get(img_path)\n",
    "     line_data.extend([img_w, img_h])\n",
    "     line_data.extend([img_path, os.path.join(target_labels_dir, filename)])\n",
    "     # Append line data to info\n",
    "     info.append(line_data)\n",
    "\n",
    " df = pd.DataFrame(info, columns=['new_class_id', 'xcn', 'ycn', 'wn', 'hn', 'img', 'img_w', 'img_h', 'image_path', 'label_path'])\n",
    " df = df.astype(\n",
    "  {'new_class_id': 'int32', 'xcn': 'float32', 'ycn': 'float32', 'wn': 'float32', 'hn': 'float32', 'img': 'int64',\n",
    "   'img_w': 'float32', 'img_h': 'float32', 'image_path': 'string', 'label_path': 'string'})\n",
    " df['class_name'] = df['new_class_id'].map(class_names)\n",
    " return df"
   ]
  },
  {
   "cell_type": "code",
   "execution_count": 4,
   "id": "5641ef6b-31ab-4dfc-bff7-d3a48d58cefa",
   "metadata": {
    "ExecuteTime": {
     "end_time": "2024-01-19T09:13:53.638823Z",
     "start_time": "2024-01-19T09:13:51.946507Z"
    }
   },
   "outputs": [],
   "source": [
    "df_val = inspect_dataset('/Users/johnny/Projects/datasets/custom_dataset_v2/', 'val')"
   ]
  },
  {
   "cell_type": "code",
   "execution_count": 5,
   "id": "a1c1823e-4688-485a-891f-a18c6a2afb13",
   "metadata": {
    "ExecuteTime": {
     "end_time": "2024-01-19T09:13:53.654107Z",
     "start_time": "2024-01-19T09:13:53.641074Z"
    }
   },
   "outputs": [
    {
     "data": {
      "text/plain": "       new_class_id       xcn       ycn        wn        hn    img   img_w  \\\n0                 0  0.104688  0.515258  0.112500  0.152582  11303   640.0   \n1                 0  0.741406  0.524648  0.098438  0.171362  11303   640.0   \n2                 0  0.459375  0.311033  0.106250  0.265258  11303   640.0   \n3                 1  0.113008  0.516769  0.038066  0.033807   3644  1624.0   \n4                 3  0.178125  0.514583  0.142188  0.129167   5235  1280.0   \n...             ...       ...       ...       ...       ...    ...     ...   \n95016             1  0.406055  0.520774  0.016188  0.020995   4132  1624.0   \n95017             1  0.440119  0.525339  0.023608  0.026472   4132  1624.0   \n95018             0  0.455295  0.534467  0.012141  0.048380   4132  1624.0   \n95019             1  0.558832  0.561395  0.087012  0.082156   4132  1624.0   \n95020             1  0.646589  0.550441  0.089924  0.069376   4132  1624.0   \n\n        img_h                                         image_path  \\\n0       426.0  /Users/johnny/Projects/datasets/custom_dataset...   \n1       426.0  /Users/johnny/Projects/datasets/custom_dataset...   \n2       426.0  /Users/johnny/Projects/datasets/custom_dataset...   \n3      1200.0  /Users/johnny/Projects/datasets/custom_dataset...   \n4       720.0  /Users/johnny/Projects/datasets/custom_dataset...   \n...       ...                                                ...   \n95016  1200.0  /Users/johnny/Projects/datasets/custom_dataset...   \n95017  1200.0  /Users/johnny/Projects/datasets/custom_dataset...   \n95018  1200.0  /Users/johnny/Projects/datasets/custom_dataset...   \n95019  1200.0  /Users/johnny/Projects/datasets/custom_dataset...   \n95020  1200.0  /Users/johnny/Projects/datasets/custom_dataset...   \n\n                                              label_path class_name  \n0      /Users/johnny/Projects/datasets/custom_dataset...     Person  \n1      /Users/johnny/Projects/datasets/custom_dataset...     Person  \n2      /Users/johnny/Projects/datasets/custom_dataset...     Person  \n3      /Users/johnny/Projects/datasets/custom_dataset...        Car  \n4      /Users/johnny/Projects/datasets/custom_dataset...        UAV  \n...                                                  ...        ...  \n95016  /Users/johnny/Projects/datasets/custom_dataset...        Car  \n95017  /Users/johnny/Projects/datasets/custom_dataset...        Car  \n95018  /Users/johnny/Projects/datasets/custom_dataset...     Person  \n95019  /Users/johnny/Projects/datasets/custom_dataset...        Car  \n95020  /Users/johnny/Projects/datasets/custom_dataset...        Car  \n\n[95021 rows x 11 columns]",
      "text/html": "<div>\n<style scoped>\n    .dataframe tbody tr th:only-of-type {\n        vertical-align: middle;\n    }\n\n    .dataframe tbody tr th {\n        vertical-align: top;\n    }\n\n    .dataframe thead th {\n        text-align: right;\n    }\n</style>\n<table border=\"1\" class=\"dataframe\">\n  <thead>\n    <tr style=\"text-align: right;\">\n      <th></th>\n      <th>new_class_id</th>\n      <th>xcn</th>\n      <th>ycn</th>\n      <th>wn</th>\n      <th>hn</th>\n      <th>img</th>\n      <th>img_w</th>\n      <th>img_h</th>\n      <th>image_path</th>\n      <th>label_path</th>\n      <th>class_name</th>\n    </tr>\n  </thead>\n  <tbody>\n    <tr>\n      <th>0</th>\n      <td>0</td>\n      <td>0.104688</td>\n      <td>0.515258</td>\n      <td>0.112500</td>\n      <td>0.152582</td>\n      <td>11303</td>\n      <td>640.0</td>\n      <td>426.0</td>\n      <td>/Users/johnny/Projects/datasets/custom_dataset...</td>\n      <td>/Users/johnny/Projects/datasets/custom_dataset...</td>\n      <td>Person</td>\n    </tr>\n    <tr>\n      <th>1</th>\n      <td>0</td>\n      <td>0.741406</td>\n      <td>0.524648</td>\n      <td>0.098438</td>\n      <td>0.171362</td>\n      <td>11303</td>\n      <td>640.0</td>\n      <td>426.0</td>\n      <td>/Users/johnny/Projects/datasets/custom_dataset...</td>\n      <td>/Users/johnny/Projects/datasets/custom_dataset...</td>\n      <td>Person</td>\n    </tr>\n    <tr>\n      <th>2</th>\n      <td>0</td>\n      <td>0.459375</td>\n      <td>0.311033</td>\n      <td>0.106250</td>\n      <td>0.265258</td>\n      <td>11303</td>\n      <td>640.0</td>\n      <td>426.0</td>\n      <td>/Users/johnny/Projects/datasets/custom_dataset...</td>\n      <td>/Users/johnny/Projects/datasets/custom_dataset...</td>\n      <td>Person</td>\n    </tr>\n    <tr>\n      <th>3</th>\n      <td>1</td>\n      <td>0.113008</td>\n      <td>0.516769</td>\n      <td>0.038066</td>\n      <td>0.033807</td>\n      <td>3644</td>\n      <td>1624.0</td>\n      <td>1200.0</td>\n      <td>/Users/johnny/Projects/datasets/custom_dataset...</td>\n      <td>/Users/johnny/Projects/datasets/custom_dataset...</td>\n      <td>Car</td>\n    </tr>\n    <tr>\n      <th>4</th>\n      <td>3</td>\n      <td>0.178125</td>\n      <td>0.514583</td>\n      <td>0.142188</td>\n      <td>0.129167</td>\n      <td>5235</td>\n      <td>1280.0</td>\n      <td>720.0</td>\n      <td>/Users/johnny/Projects/datasets/custom_dataset...</td>\n      <td>/Users/johnny/Projects/datasets/custom_dataset...</td>\n      <td>UAV</td>\n    </tr>\n    <tr>\n      <th>...</th>\n      <td>...</td>\n      <td>...</td>\n      <td>...</td>\n      <td>...</td>\n      <td>...</td>\n      <td>...</td>\n      <td>...</td>\n      <td>...</td>\n      <td>...</td>\n      <td>...</td>\n      <td>...</td>\n    </tr>\n    <tr>\n      <th>95016</th>\n      <td>1</td>\n      <td>0.406055</td>\n      <td>0.520774</td>\n      <td>0.016188</td>\n      <td>0.020995</td>\n      <td>4132</td>\n      <td>1624.0</td>\n      <td>1200.0</td>\n      <td>/Users/johnny/Projects/datasets/custom_dataset...</td>\n      <td>/Users/johnny/Projects/datasets/custom_dataset...</td>\n      <td>Car</td>\n    </tr>\n    <tr>\n      <th>95017</th>\n      <td>1</td>\n      <td>0.440119</td>\n      <td>0.525339</td>\n      <td>0.023608</td>\n      <td>0.026472</td>\n      <td>4132</td>\n      <td>1624.0</td>\n      <td>1200.0</td>\n      <td>/Users/johnny/Projects/datasets/custom_dataset...</td>\n      <td>/Users/johnny/Projects/datasets/custom_dataset...</td>\n      <td>Car</td>\n    </tr>\n    <tr>\n      <th>95018</th>\n      <td>0</td>\n      <td>0.455295</td>\n      <td>0.534467</td>\n      <td>0.012141</td>\n      <td>0.048380</td>\n      <td>4132</td>\n      <td>1624.0</td>\n      <td>1200.0</td>\n      <td>/Users/johnny/Projects/datasets/custom_dataset...</td>\n      <td>/Users/johnny/Projects/datasets/custom_dataset...</td>\n      <td>Person</td>\n    </tr>\n    <tr>\n      <th>95019</th>\n      <td>1</td>\n      <td>0.558832</td>\n      <td>0.561395</td>\n      <td>0.087012</td>\n      <td>0.082156</td>\n      <td>4132</td>\n      <td>1624.0</td>\n      <td>1200.0</td>\n      <td>/Users/johnny/Projects/datasets/custom_dataset...</td>\n      <td>/Users/johnny/Projects/datasets/custom_dataset...</td>\n      <td>Car</td>\n    </tr>\n    <tr>\n      <th>95020</th>\n      <td>1</td>\n      <td>0.646589</td>\n      <td>0.550441</td>\n      <td>0.089924</td>\n      <td>0.069376</td>\n      <td>4132</td>\n      <td>1624.0</td>\n      <td>1200.0</td>\n      <td>/Users/johnny/Projects/datasets/custom_dataset...</td>\n      <td>/Users/johnny/Projects/datasets/custom_dataset...</td>\n      <td>Car</td>\n    </tr>\n  </tbody>\n</table>\n<p>95021 rows × 11 columns</p>\n</div>"
     },
     "execution_count": 5,
     "metadata": {},
     "output_type": "execute_result"
    }
   ],
   "source": [
    "df_val"
   ]
  },
  {
   "cell_type": "code",
   "execution_count": 6,
   "id": "af3e0246-d5ae-4c64-80f5-4737118064b1",
   "metadata": {
    "ExecuteTime": {
     "end_time": "2024-01-19T09:13:53.654323Z",
     "start_time": "2024-01-19T09:13:53.649834Z"
    }
   },
   "outputs": [
    {
     "name": "stdout",
     "output_type": "stream",
     "text": [
      "The number of objects is 95021\n",
      "The number of images is 13205\n"
     ]
    }
   ],
   "source": [
    "print(f\"The number of objects is {len(df_val)}\")\n",
    "print(f\"The number of images is {len(df_val['img'].unique())}\")"
   ]
  },
  {
   "cell_type": "code",
   "execution_count": 7,
   "id": "0c278779-e7d7-4a8d-84d0-bc24c61b9930",
   "metadata": {
    "ExecuteTime": {
     "end_time": "2024-01-19T09:13:53.660116Z",
     "start_time": "2024-01-19T09:13:53.652840Z"
    }
   },
   "outputs": [],
   "source": [
    "bin_edges = [0, 16**2, 32**2, 96**2, float('inf')]\n",
    "bin_labels = ['Tiny', 'Small', 'Medium', 'Large']\n",
    "df_val['bbox_area'] = (df_val['wn']*df_val['img_w'])*(df_val['hn']*df_val['img_h'])\n",
    "df_val['bbox_size_category'] = pd.cut(df_val['bbox_area'], bins=bin_edges, labels=bin_labels, right=False)"
   ]
  },
  {
   "cell_type": "code",
   "execution_count": 8,
   "id": "f54a79f6-45bf-4db1-96f3-34c12f9b49ba",
   "metadata": {
    "ExecuteTime": {
     "end_time": "2024-01-19T09:13:53.674977Z",
     "start_time": "2024-01-19T09:13:53.659605Z"
    }
   },
   "outputs": [
    {
     "data": {
      "text/plain": "       new_class_id       xcn       ycn        wn        hn    img   img_w  \\\n0                 0  0.104688  0.515258  0.112500  0.152582  11303   640.0   \n1                 0  0.741406  0.524648  0.098438  0.171362  11303   640.0   \n2                 0  0.459375  0.311033  0.106250  0.265258  11303   640.0   \n3                 1  0.113008  0.516769  0.038066  0.033807   3644  1624.0   \n4                 3  0.178125  0.514583  0.142188  0.129167   5235  1280.0   \n...             ...       ...       ...       ...       ...    ...     ...   \n95016             1  0.406055  0.520774  0.016188  0.020995   4132  1624.0   \n95017             1  0.440119  0.525339  0.023608  0.026472   4132  1624.0   \n95018             0  0.455295  0.534467  0.012141  0.048380   4132  1624.0   \n95019             1  0.558832  0.561395  0.087012  0.082156   4132  1624.0   \n95020             1  0.646589  0.550441  0.089924  0.069376   4132  1624.0   \n\n        img_h                                         image_path  \\\n0       426.0  /Users/johnny/Projects/datasets/custom_dataset...   \n1       426.0  /Users/johnny/Projects/datasets/custom_dataset...   \n2       426.0  /Users/johnny/Projects/datasets/custom_dataset...   \n3      1200.0  /Users/johnny/Projects/datasets/custom_dataset...   \n4       720.0  /Users/johnny/Projects/datasets/custom_dataset...   \n...       ...                                                ...   \n95016  1200.0  /Users/johnny/Projects/datasets/custom_dataset...   \n95017  1200.0  /Users/johnny/Projects/datasets/custom_dataset...   \n95018  1200.0  /Users/johnny/Projects/datasets/custom_dataset...   \n95019  1200.0  /Users/johnny/Projects/datasets/custom_dataset...   \n95020  1200.0  /Users/johnny/Projects/datasets/custom_dataset...   \n\n                                              label_path class_name  \\\n0      /Users/johnny/Projects/datasets/custom_dataset...     Person   \n1      /Users/johnny/Projects/datasets/custom_dataset...     Person   \n2      /Users/johnny/Projects/datasets/custom_dataset...     Person   \n3      /Users/johnny/Projects/datasets/custom_dataset...        Car   \n4      /Users/johnny/Projects/datasets/custom_dataset...        UAV   \n...                                                  ...        ...   \n95016  /Users/johnny/Projects/datasets/custom_dataset...        Car   \n95017  /Users/johnny/Projects/datasets/custom_dataset...        Car   \n95018  /Users/johnny/Projects/datasets/custom_dataset...     Person   \n95019  /Users/johnny/Projects/datasets/custom_dataset...        Car   \n95020  /Users/johnny/Projects/datasets/custom_dataset...        Car   \n\n          bbox_area bbox_size_category  \n0       4679.995117             Medium  \n1       4599.013672             Medium  \n2       7683.994141             Medium  \n3       2507.913330             Medium  \n4      16926.000000              Large  \n...             ...                ...  \n95016    662.350647              Small  \n95017   1217.913086             Medium  \n95018   1144.717529             Medium  \n95019  13930.977539              Large  \n95020  12157.708008              Large  \n\n[95021 rows x 13 columns]",
      "text/html": "<div>\n<style scoped>\n    .dataframe tbody tr th:only-of-type {\n        vertical-align: middle;\n    }\n\n    .dataframe tbody tr th {\n        vertical-align: top;\n    }\n\n    .dataframe thead th {\n        text-align: right;\n    }\n</style>\n<table border=\"1\" class=\"dataframe\">\n  <thead>\n    <tr style=\"text-align: right;\">\n      <th></th>\n      <th>new_class_id</th>\n      <th>xcn</th>\n      <th>ycn</th>\n      <th>wn</th>\n      <th>hn</th>\n      <th>img</th>\n      <th>img_w</th>\n      <th>img_h</th>\n      <th>image_path</th>\n      <th>label_path</th>\n      <th>class_name</th>\n      <th>bbox_area</th>\n      <th>bbox_size_category</th>\n    </tr>\n  </thead>\n  <tbody>\n    <tr>\n      <th>0</th>\n      <td>0</td>\n      <td>0.104688</td>\n      <td>0.515258</td>\n      <td>0.112500</td>\n      <td>0.152582</td>\n      <td>11303</td>\n      <td>640.0</td>\n      <td>426.0</td>\n      <td>/Users/johnny/Projects/datasets/custom_dataset...</td>\n      <td>/Users/johnny/Projects/datasets/custom_dataset...</td>\n      <td>Person</td>\n      <td>4679.995117</td>\n      <td>Medium</td>\n    </tr>\n    <tr>\n      <th>1</th>\n      <td>0</td>\n      <td>0.741406</td>\n      <td>0.524648</td>\n      <td>0.098438</td>\n      <td>0.171362</td>\n      <td>11303</td>\n      <td>640.0</td>\n      <td>426.0</td>\n      <td>/Users/johnny/Projects/datasets/custom_dataset...</td>\n      <td>/Users/johnny/Projects/datasets/custom_dataset...</td>\n      <td>Person</td>\n      <td>4599.013672</td>\n      <td>Medium</td>\n    </tr>\n    <tr>\n      <th>2</th>\n      <td>0</td>\n      <td>0.459375</td>\n      <td>0.311033</td>\n      <td>0.106250</td>\n      <td>0.265258</td>\n      <td>11303</td>\n      <td>640.0</td>\n      <td>426.0</td>\n      <td>/Users/johnny/Projects/datasets/custom_dataset...</td>\n      <td>/Users/johnny/Projects/datasets/custom_dataset...</td>\n      <td>Person</td>\n      <td>7683.994141</td>\n      <td>Medium</td>\n    </tr>\n    <tr>\n      <th>3</th>\n      <td>1</td>\n      <td>0.113008</td>\n      <td>0.516769</td>\n      <td>0.038066</td>\n      <td>0.033807</td>\n      <td>3644</td>\n      <td>1624.0</td>\n      <td>1200.0</td>\n      <td>/Users/johnny/Projects/datasets/custom_dataset...</td>\n      <td>/Users/johnny/Projects/datasets/custom_dataset...</td>\n      <td>Car</td>\n      <td>2507.913330</td>\n      <td>Medium</td>\n    </tr>\n    <tr>\n      <th>4</th>\n      <td>3</td>\n      <td>0.178125</td>\n      <td>0.514583</td>\n      <td>0.142188</td>\n      <td>0.129167</td>\n      <td>5235</td>\n      <td>1280.0</td>\n      <td>720.0</td>\n      <td>/Users/johnny/Projects/datasets/custom_dataset...</td>\n      <td>/Users/johnny/Projects/datasets/custom_dataset...</td>\n      <td>UAV</td>\n      <td>16926.000000</td>\n      <td>Large</td>\n    </tr>\n    <tr>\n      <th>...</th>\n      <td>...</td>\n      <td>...</td>\n      <td>...</td>\n      <td>...</td>\n      <td>...</td>\n      <td>...</td>\n      <td>...</td>\n      <td>...</td>\n      <td>...</td>\n      <td>...</td>\n      <td>...</td>\n      <td>...</td>\n      <td>...</td>\n    </tr>\n    <tr>\n      <th>95016</th>\n      <td>1</td>\n      <td>0.406055</td>\n      <td>0.520774</td>\n      <td>0.016188</td>\n      <td>0.020995</td>\n      <td>4132</td>\n      <td>1624.0</td>\n      <td>1200.0</td>\n      <td>/Users/johnny/Projects/datasets/custom_dataset...</td>\n      <td>/Users/johnny/Projects/datasets/custom_dataset...</td>\n      <td>Car</td>\n      <td>662.350647</td>\n      <td>Small</td>\n    </tr>\n    <tr>\n      <th>95017</th>\n      <td>1</td>\n      <td>0.440119</td>\n      <td>0.525339</td>\n      <td>0.023608</td>\n      <td>0.026472</td>\n      <td>4132</td>\n      <td>1624.0</td>\n      <td>1200.0</td>\n      <td>/Users/johnny/Projects/datasets/custom_dataset...</td>\n      <td>/Users/johnny/Projects/datasets/custom_dataset...</td>\n      <td>Car</td>\n      <td>1217.913086</td>\n      <td>Medium</td>\n    </tr>\n    <tr>\n      <th>95018</th>\n      <td>0</td>\n      <td>0.455295</td>\n      <td>0.534467</td>\n      <td>0.012141</td>\n      <td>0.048380</td>\n      <td>4132</td>\n      <td>1624.0</td>\n      <td>1200.0</td>\n      <td>/Users/johnny/Projects/datasets/custom_dataset...</td>\n      <td>/Users/johnny/Projects/datasets/custom_dataset...</td>\n      <td>Person</td>\n      <td>1144.717529</td>\n      <td>Medium</td>\n    </tr>\n    <tr>\n      <th>95019</th>\n      <td>1</td>\n      <td>0.558832</td>\n      <td>0.561395</td>\n      <td>0.087012</td>\n      <td>0.082156</td>\n      <td>4132</td>\n      <td>1624.0</td>\n      <td>1200.0</td>\n      <td>/Users/johnny/Projects/datasets/custom_dataset...</td>\n      <td>/Users/johnny/Projects/datasets/custom_dataset...</td>\n      <td>Car</td>\n      <td>13930.977539</td>\n      <td>Large</td>\n    </tr>\n    <tr>\n      <th>95020</th>\n      <td>1</td>\n      <td>0.646589</td>\n      <td>0.550441</td>\n      <td>0.089924</td>\n      <td>0.069376</td>\n      <td>4132</td>\n      <td>1624.0</td>\n      <td>1200.0</td>\n      <td>/Users/johnny/Projects/datasets/custom_dataset...</td>\n      <td>/Users/johnny/Projects/datasets/custom_dataset...</td>\n      <td>Car</td>\n      <td>12157.708008</td>\n      <td>Large</td>\n    </tr>\n  </tbody>\n</table>\n<p>95021 rows × 13 columns</p>\n</div>"
     },
     "execution_count": 8,
     "metadata": {},
     "output_type": "execute_result"
    }
   ],
   "source": [
    "df_val"
   ]
  },
  {
   "cell_type": "code",
   "execution_count": 9,
   "id": "f4fafebe-a447-4a5a-b814-057d937d6cf2",
   "metadata": {
    "ExecuteTime": {
     "end_time": "2024-01-19T09:13:53.686754Z",
     "start_time": "2024-01-19T09:13:53.668329Z"
    }
   },
   "outputs": [
    {
     "data": {
      "text/plain": "bbox_size_category\nMedium    35772\nSmall     21698\nLarge     20803\nTiny      16748\nName: count, dtype: int64"
     },
     "execution_count": 9,
     "metadata": {},
     "output_type": "execute_result"
    }
   ],
   "source": [
    "df_val['bbox_size_category'].value_counts()"
   ]
  },
  {
   "cell_type": "markdown",
   "id": "3abf450a-27d6-49f6-bdf0-db6c4be7e980",
   "metadata": {},
   "source": [
    "# 1) Filter by Image Size (≥ 1920x1080)"
   ]
  },
  {
   "cell_type": "code",
   "execution_count": 10,
   "id": "5bff593e-26b4-45df-8ce3-dd1a41106976",
   "metadata": {
    "ExecuteTime": {
     "end_time": "2024-01-19T09:13:53.703170Z",
     "start_time": "2024-01-19T09:13:53.672278Z"
    }
   },
   "outputs": [],
   "source": [
    "df_size = df_val[(df_val['img_w']>= 1920)&(df_val['img_h']>= 1080)]"
   ]
  },
  {
   "cell_type": "code",
   "execution_count": 11,
   "id": "00a5e2c7-1b22-4fda-91cd-d6c0d90aadd1",
   "metadata": {
    "ExecuteTime": {
     "end_time": "2024-01-19T09:13:53.707706Z",
     "start_time": "2024-01-19T09:13:53.678139Z"
    }
   },
   "outputs": [
    {
     "data": {
      "text/plain": "       new_class_id       xcn       ycn        wn        hn    img   img_w  \\\n23                3  0.398438  0.616204  0.012500  0.008333   7422  1920.0   \n82                3  0.360156  0.598148  0.011979  0.005556   7344  1920.0   \n83                1  0.486807  0.891343  0.008396  0.014769   7344  1920.0   \n84                0  0.380125  0.944889  0.008495  0.026176   7344  1920.0   \n85                0  0.916901  0.984667  0.007786  0.030657   7344  1920.0   \n...             ...       ...       ...       ...       ...    ...     ...   \n94989             0  0.687198  0.270741  0.008251  0.018334  10004  3840.0   \n94990             0  0.699027  0.306811  0.025659  0.022881  10004  3840.0   \n94991             0  0.737579  0.260000  0.008491  0.016296  10004  3840.0   \n94992             0  0.324881  0.365857  0.023200  0.031715  10004  3840.0   \n94993             5  0.572568  0.068530  0.018573  0.012060  10004  3840.0   \n\n        img_h                                         image_path  \\\n23     1080.0  /Users/johnny/Projects/datasets/custom_dataset...   \n82     1080.0  /Users/johnny/Projects/datasets/custom_dataset...   \n83     1080.0  /Users/johnny/Projects/datasets/custom_dataset...   \n84     1080.0  /Users/johnny/Projects/datasets/custom_dataset...   \n85     1080.0  /Users/johnny/Projects/datasets/custom_dataset...   \n...       ...                                                ...   \n94989  2160.0  /Users/johnny/Projects/datasets/custom_dataset...   \n94990  2160.0  /Users/johnny/Projects/datasets/custom_dataset...   \n94991  2160.0  /Users/johnny/Projects/datasets/custom_dataset...   \n94992  2160.0  /Users/johnny/Projects/datasets/custom_dataset...   \n94993  2160.0  /Users/johnny/Projects/datasets/custom_dataset...   \n\n                                              label_path class_name  \\\n23     /Users/johnny/Projects/datasets/custom_dataset...        UAV   \n82     /Users/johnny/Projects/datasets/custom_dataset...        UAV   \n83     /Users/johnny/Projects/datasets/custom_dataset...        Car   \n84     /Users/johnny/Projects/datasets/custom_dataset...     Person   \n85     /Users/johnny/Projects/datasets/custom_dataset...     Person   \n...                                                  ...        ...   \n94989  /Users/johnny/Projects/datasets/custom_dataset...     Person   \n94990  /Users/johnny/Projects/datasets/custom_dataset...     Person   \n94991  /Users/johnny/Projects/datasets/custom_dataset...     Person   \n94992  /Users/johnny/Projects/datasets/custom_dataset...     Person   \n94993  /Users/johnny/Projects/datasets/custom_dataset...       Ship   \n\n         bbox_area bbox_size_category  \n23      216.000000               Tiny  \n82      138.000000               Tiny  \n83      257.113983              Small  \n84      461.083679              Small  \n85      494.994507              Small  \n...            ...                ...  \n94989  1254.673096             Medium  \n94990  4869.652832             Medium  \n94991  1147.660278             Medium  \n94992  6102.750000             Medium  \n94993  1857.886719             Medium  \n\n[23156 rows x 13 columns]",
      "text/html": "<div>\n<style scoped>\n    .dataframe tbody tr th:only-of-type {\n        vertical-align: middle;\n    }\n\n    .dataframe tbody tr th {\n        vertical-align: top;\n    }\n\n    .dataframe thead th {\n        text-align: right;\n    }\n</style>\n<table border=\"1\" class=\"dataframe\">\n  <thead>\n    <tr style=\"text-align: right;\">\n      <th></th>\n      <th>new_class_id</th>\n      <th>xcn</th>\n      <th>ycn</th>\n      <th>wn</th>\n      <th>hn</th>\n      <th>img</th>\n      <th>img_w</th>\n      <th>img_h</th>\n      <th>image_path</th>\n      <th>label_path</th>\n      <th>class_name</th>\n      <th>bbox_area</th>\n      <th>bbox_size_category</th>\n    </tr>\n  </thead>\n  <tbody>\n    <tr>\n      <th>23</th>\n      <td>3</td>\n      <td>0.398438</td>\n      <td>0.616204</td>\n      <td>0.012500</td>\n      <td>0.008333</td>\n      <td>7422</td>\n      <td>1920.0</td>\n      <td>1080.0</td>\n      <td>/Users/johnny/Projects/datasets/custom_dataset...</td>\n      <td>/Users/johnny/Projects/datasets/custom_dataset...</td>\n      <td>UAV</td>\n      <td>216.000000</td>\n      <td>Tiny</td>\n    </tr>\n    <tr>\n      <th>82</th>\n      <td>3</td>\n      <td>0.360156</td>\n      <td>0.598148</td>\n      <td>0.011979</td>\n      <td>0.005556</td>\n      <td>7344</td>\n      <td>1920.0</td>\n      <td>1080.0</td>\n      <td>/Users/johnny/Projects/datasets/custom_dataset...</td>\n      <td>/Users/johnny/Projects/datasets/custom_dataset...</td>\n      <td>UAV</td>\n      <td>138.000000</td>\n      <td>Tiny</td>\n    </tr>\n    <tr>\n      <th>83</th>\n      <td>1</td>\n      <td>0.486807</td>\n      <td>0.891343</td>\n      <td>0.008396</td>\n      <td>0.014769</td>\n      <td>7344</td>\n      <td>1920.0</td>\n      <td>1080.0</td>\n      <td>/Users/johnny/Projects/datasets/custom_dataset...</td>\n      <td>/Users/johnny/Projects/datasets/custom_dataset...</td>\n      <td>Car</td>\n      <td>257.113983</td>\n      <td>Small</td>\n    </tr>\n    <tr>\n      <th>84</th>\n      <td>0</td>\n      <td>0.380125</td>\n      <td>0.944889</td>\n      <td>0.008495</td>\n      <td>0.026176</td>\n      <td>7344</td>\n      <td>1920.0</td>\n      <td>1080.0</td>\n      <td>/Users/johnny/Projects/datasets/custom_dataset...</td>\n      <td>/Users/johnny/Projects/datasets/custom_dataset...</td>\n      <td>Person</td>\n      <td>461.083679</td>\n      <td>Small</td>\n    </tr>\n    <tr>\n      <th>85</th>\n      <td>0</td>\n      <td>0.916901</td>\n      <td>0.984667</td>\n      <td>0.007786</td>\n      <td>0.030657</td>\n      <td>7344</td>\n      <td>1920.0</td>\n      <td>1080.0</td>\n      <td>/Users/johnny/Projects/datasets/custom_dataset...</td>\n      <td>/Users/johnny/Projects/datasets/custom_dataset...</td>\n      <td>Person</td>\n      <td>494.994507</td>\n      <td>Small</td>\n    </tr>\n    <tr>\n      <th>...</th>\n      <td>...</td>\n      <td>...</td>\n      <td>...</td>\n      <td>...</td>\n      <td>...</td>\n      <td>...</td>\n      <td>...</td>\n      <td>...</td>\n      <td>...</td>\n      <td>...</td>\n      <td>...</td>\n      <td>...</td>\n      <td>...</td>\n    </tr>\n    <tr>\n      <th>94989</th>\n      <td>0</td>\n      <td>0.687198</td>\n      <td>0.270741</td>\n      <td>0.008251</td>\n      <td>0.018334</td>\n      <td>10004</td>\n      <td>3840.0</td>\n      <td>2160.0</td>\n      <td>/Users/johnny/Projects/datasets/custom_dataset...</td>\n      <td>/Users/johnny/Projects/datasets/custom_dataset...</td>\n      <td>Person</td>\n      <td>1254.673096</td>\n      <td>Medium</td>\n    </tr>\n    <tr>\n      <th>94990</th>\n      <td>0</td>\n      <td>0.699027</td>\n      <td>0.306811</td>\n      <td>0.025659</td>\n      <td>0.022881</td>\n      <td>10004</td>\n      <td>3840.0</td>\n      <td>2160.0</td>\n      <td>/Users/johnny/Projects/datasets/custom_dataset...</td>\n      <td>/Users/johnny/Projects/datasets/custom_dataset...</td>\n      <td>Person</td>\n      <td>4869.652832</td>\n      <td>Medium</td>\n    </tr>\n    <tr>\n      <th>94991</th>\n      <td>0</td>\n      <td>0.737579</td>\n      <td>0.260000</td>\n      <td>0.008491</td>\n      <td>0.016296</td>\n      <td>10004</td>\n      <td>3840.0</td>\n      <td>2160.0</td>\n      <td>/Users/johnny/Projects/datasets/custom_dataset...</td>\n      <td>/Users/johnny/Projects/datasets/custom_dataset...</td>\n      <td>Person</td>\n      <td>1147.660278</td>\n      <td>Medium</td>\n    </tr>\n    <tr>\n      <th>94992</th>\n      <td>0</td>\n      <td>0.324881</td>\n      <td>0.365857</td>\n      <td>0.023200</td>\n      <td>0.031715</td>\n      <td>10004</td>\n      <td>3840.0</td>\n      <td>2160.0</td>\n      <td>/Users/johnny/Projects/datasets/custom_dataset...</td>\n      <td>/Users/johnny/Projects/datasets/custom_dataset...</td>\n      <td>Person</td>\n      <td>6102.750000</td>\n      <td>Medium</td>\n    </tr>\n    <tr>\n      <th>94993</th>\n      <td>5</td>\n      <td>0.572568</td>\n      <td>0.068530</td>\n      <td>0.018573</td>\n      <td>0.012060</td>\n      <td>10004</td>\n      <td>3840.0</td>\n      <td>2160.0</td>\n      <td>/Users/johnny/Projects/datasets/custom_dataset...</td>\n      <td>/Users/johnny/Projects/datasets/custom_dataset...</td>\n      <td>Ship</td>\n      <td>1857.886719</td>\n      <td>Medium</td>\n    </tr>\n  </tbody>\n</table>\n<p>23156 rows × 13 columns</p>\n</div>"
     },
     "execution_count": 11,
     "metadata": {},
     "output_type": "execute_result"
    }
   ],
   "source": [
    "df_size"
   ]
  },
  {
   "cell_type": "code",
   "execution_count": 12,
   "id": "78785554-76ac-48f8-adc8-a110212446f6",
   "metadata": {
    "ExecuteTime": {
     "end_time": "2024-01-19T09:13:53.708804Z",
     "start_time": "2024-01-19T09:13:53.685225Z"
    }
   },
   "outputs": [
    {
     "name": "stdout",
     "output_type": "stream",
     "text": [
      "The number of objects is 23156\n",
      "The number of images is 3154\n"
     ]
    }
   ],
   "source": [
    "print(f\"The number of objects is {len(df_size)}\")\n",
    "print(f\"The number of images is {len(df_size['img'].unique())}\")"
   ]
  },
  {
   "cell_type": "code",
   "execution_count": 13,
   "id": "ed34ebbc-e165-44fb-b720-684f9c1261d2",
   "metadata": {
    "ExecuteTime": {
     "end_time": "2024-01-19T09:13:53.709045Z",
     "start_time": "2024-01-19T09:13:53.688052Z"
    }
   },
   "outputs": [
    {
     "data": {
      "text/plain": "bbox_size_category\nSmall     7458\nMedium    7212\nTiny      6449\nLarge     2037\nName: count, dtype: int64"
     },
     "execution_count": 13,
     "metadata": {},
     "output_type": "execute_result"
    }
   ],
   "source": [
    "df_size['bbox_size_category'].value_counts()"
   ]
  },
  {
   "cell_type": "code",
   "execution_count": 14,
   "id": "7ee3f092-883c-4d3a-9b03-377445cb4afd",
   "metadata": {
    "ExecuteTime": {
     "end_time": "2024-01-19T09:13:53.748347Z",
     "start_time": "2024-01-19T09:13:53.694356Z"
    }
   },
   "outputs": [
    {
     "data": {
      "text/plain": "class_name\nPerson      15897\nCar          4584\nUAV          2206\nShip          321\nTruck         147\nAircraft        1\nName: count, dtype: int64"
     },
     "execution_count": 14,
     "metadata": {},
     "output_type": "execute_result"
    }
   ],
   "source": [
    "df_size['class_name'].value_counts()"
   ]
  },
  {
   "cell_type": "markdown",
   "id": "62e638f5-ec73-4051-b482-482af72d24fc",
   "metadata": {},
   "source": [
    "# 2) Filter by maximum number of objects present (≤ 100)"
   ]
  },
  {
   "cell_type": "code",
   "execution_count": 15,
   "id": "5ebb1a59-eb55-4cf2-b322-02c32ea56276",
   "metadata": {
    "ExecuteTime": {
     "end_time": "2024-01-19T09:13:53.748493Z",
     "start_time": "2024-01-19T09:13:53.697249Z"
    }
   },
   "outputs": [],
   "source": [
    "object_counts = df_size['img'].value_counts()\n",
    "selected_images = object_counts[object_counts <= 100].index\n",
    "df_filtered = df_size[df_size['img'].isin(selected_images)]"
   ]
  },
  {
   "cell_type": "code",
   "execution_count": 16,
   "id": "b57d7803-bd62-42ae-bd53-6bb41314fc98",
   "metadata": {
    "ExecuteTime": {
     "end_time": "2024-01-19T09:13:53.750673Z",
     "start_time": "2024-01-19T09:13:53.704898Z"
    }
   },
   "outputs": [
    {
     "data": {
      "text/plain": "       new_class_id       xcn       ycn        wn        hn    img   img_w  \\\n23                3  0.398438  0.616204  0.012500  0.008333   7422  1920.0   \n82                3  0.360156  0.598148  0.011979  0.005556   7344  1920.0   \n83                1  0.486807  0.891343  0.008396  0.014769   7344  1920.0   \n84                0  0.380125  0.944889  0.008495  0.026176   7344  1920.0   \n85                0  0.916901  0.984667  0.007786  0.030657   7344  1920.0   \n...             ...       ...       ...       ...       ...    ...     ...   \n94989             0  0.687198  0.270741  0.008251  0.018334  10004  3840.0   \n94990             0  0.699027  0.306811  0.025659  0.022881  10004  3840.0   \n94991             0  0.737579  0.260000  0.008491  0.016296  10004  3840.0   \n94992             0  0.324881  0.365857  0.023200  0.031715  10004  3840.0   \n94993             5  0.572568  0.068530  0.018573  0.012060  10004  3840.0   \n\n        img_h                                         image_path  \\\n23     1080.0  /Users/johnny/Projects/datasets/custom_dataset...   \n82     1080.0  /Users/johnny/Projects/datasets/custom_dataset...   \n83     1080.0  /Users/johnny/Projects/datasets/custom_dataset...   \n84     1080.0  /Users/johnny/Projects/datasets/custom_dataset...   \n85     1080.0  /Users/johnny/Projects/datasets/custom_dataset...   \n...       ...                                                ...   \n94989  2160.0  /Users/johnny/Projects/datasets/custom_dataset...   \n94990  2160.0  /Users/johnny/Projects/datasets/custom_dataset...   \n94991  2160.0  /Users/johnny/Projects/datasets/custom_dataset...   \n94992  2160.0  /Users/johnny/Projects/datasets/custom_dataset...   \n94993  2160.0  /Users/johnny/Projects/datasets/custom_dataset...   \n\n                                              label_path class_name  \\\n23     /Users/johnny/Projects/datasets/custom_dataset...        UAV   \n82     /Users/johnny/Projects/datasets/custom_dataset...        UAV   \n83     /Users/johnny/Projects/datasets/custom_dataset...        Car   \n84     /Users/johnny/Projects/datasets/custom_dataset...     Person   \n85     /Users/johnny/Projects/datasets/custom_dataset...     Person   \n...                                                  ...        ...   \n94989  /Users/johnny/Projects/datasets/custom_dataset...     Person   \n94990  /Users/johnny/Projects/datasets/custom_dataset...     Person   \n94991  /Users/johnny/Projects/datasets/custom_dataset...     Person   \n94992  /Users/johnny/Projects/datasets/custom_dataset...     Person   \n94993  /Users/johnny/Projects/datasets/custom_dataset...       Ship   \n\n         bbox_area bbox_size_category  \n23      216.000000               Tiny  \n82      138.000000               Tiny  \n83      257.113983              Small  \n84      461.083679              Small  \n85      494.994507              Small  \n...            ...                ...  \n94989  1254.673096             Medium  \n94990  4869.652832             Medium  \n94991  1147.660278             Medium  \n94992  6102.750000             Medium  \n94993  1857.886719             Medium  \n\n[19455 rows x 13 columns]",
      "text/html": "<div>\n<style scoped>\n    .dataframe tbody tr th:only-of-type {\n        vertical-align: middle;\n    }\n\n    .dataframe tbody tr th {\n        vertical-align: top;\n    }\n\n    .dataframe thead th {\n        text-align: right;\n    }\n</style>\n<table border=\"1\" class=\"dataframe\">\n  <thead>\n    <tr style=\"text-align: right;\">\n      <th></th>\n      <th>new_class_id</th>\n      <th>xcn</th>\n      <th>ycn</th>\n      <th>wn</th>\n      <th>hn</th>\n      <th>img</th>\n      <th>img_w</th>\n      <th>img_h</th>\n      <th>image_path</th>\n      <th>label_path</th>\n      <th>class_name</th>\n      <th>bbox_area</th>\n      <th>bbox_size_category</th>\n    </tr>\n  </thead>\n  <tbody>\n    <tr>\n      <th>23</th>\n      <td>3</td>\n      <td>0.398438</td>\n      <td>0.616204</td>\n      <td>0.012500</td>\n      <td>0.008333</td>\n      <td>7422</td>\n      <td>1920.0</td>\n      <td>1080.0</td>\n      <td>/Users/johnny/Projects/datasets/custom_dataset...</td>\n      <td>/Users/johnny/Projects/datasets/custom_dataset...</td>\n      <td>UAV</td>\n      <td>216.000000</td>\n      <td>Tiny</td>\n    </tr>\n    <tr>\n      <th>82</th>\n      <td>3</td>\n      <td>0.360156</td>\n      <td>0.598148</td>\n      <td>0.011979</td>\n      <td>0.005556</td>\n      <td>7344</td>\n      <td>1920.0</td>\n      <td>1080.0</td>\n      <td>/Users/johnny/Projects/datasets/custom_dataset...</td>\n      <td>/Users/johnny/Projects/datasets/custom_dataset...</td>\n      <td>UAV</td>\n      <td>138.000000</td>\n      <td>Tiny</td>\n    </tr>\n    <tr>\n      <th>83</th>\n      <td>1</td>\n      <td>0.486807</td>\n      <td>0.891343</td>\n      <td>0.008396</td>\n      <td>0.014769</td>\n      <td>7344</td>\n      <td>1920.0</td>\n      <td>1080.0</td>\n      <td>/Users/johnny/Projects/datasets/custom_dataset...</td>\n      <td>/Users/johnny/Projects/datasets/custom_dataset...</td>\n      <td>Car</td>\n      <td>257.113983</td>\n      <td>Small</td>\n    </tr>\n    <tr>\n      <th>84</th>\n      <td>0</td>\n      <td>0.380125</td>\n      <td>0.944889</td>\n      <td>0.008495</td>\n      <td>0.026176</td>\n      <td>7344</td>\n      <td>1920.0</td>\n      <td>1080.0</td>\n      <td>/Users/johnny/Projects/datasets/custom_dataset...</td>\n      <td>/Users/johnny/Projects/datasets/custom_dataset...</td>\n      <td>Person</td>\n      <td>461.083679</td>\n      <td>Small</td>\n    </tr>\n    <tr>\n      <th>85</th>\n      <td>0</td>\n      <td>0.916901</td>\n      <td>0.984667</td>\n      <td>0.007786</td>\n      <td>0.030657</td>\n      <td>7344</td>\n      <td>1920.0</td>\n      <td>1080.0</td>\n      <td>/Users/johnny/Projects/datasets/custom_dataset...</td>\n      <td>/Users/johnny/Projects/datasets/custom_dataset...</td>\n      <td>Person</td>\n      <td>494.994507</td>\n      <td>Small</td>\n    </tr>\n    <tr>\n      <th>...</th>\n      <td>...</td>\n      <td>...</td>\n      <td>...</td>\n      <td>...</td>\n      <td>...</td>\n      <td>...</td>\n      <td>...</td>\n      <td>...</td>\n      <td>...</td>\n      <td>...</td>\n      <td>...</td>\n      <td>...</td>\n      <td>...</td>\n    </tr>\n    <tr>\n      <th>94989</th>\n      <td>0</td>\n      <td>0.687198</td>\n      <td>0.270741</td>\n      <td>0.008251</td>\n      <td>0.018334</td>\n      <td>10004</td>\n      <td>3840.0</td>\n      <td>2160.0</td>\n      <td>/Users/johnny/Projects/datasets/custom_dataset...</td>\n      <td>/Users/johnny/Projects/datasets/custom_dataset...</td>\n      <td>Person</td>\n      <td>1254.673096</td>\n      <td>Medium</td>\n    </tr>\n    <tr>\n      <th>94990</th>\n      <td>0</td>\n      <td>0.699027</td>\n      <td>0.306811</td>\n      <td>0.025659</td>\n      <td>0.022881</td>\n      <td>10004</td>\n      <td>3840.0</td>\n      <td>2160.0</td>\n      <td>/Users/johnny/Projects/datasets/custom_dataset...</td>\n      <td>/Users/johnny/Projects/datasets/custom_dataset...</td>\n      <td>Person</td>\n      <td>4869.652832</td>\n      <td>Medium</td>\n    </tr>\n    <tr>\n      <th>94991</th>\n      <td>0</td>\n      <td>0.737579</td>\n      <td>0.260000</td>\n      <td>0.008491</td>\n      <td>0.016296</td>\n      <td>10004</td>\n      <td>3840.0</td>\n      <td>2160.0</td>\n      <td>/Users/johnny/Projects/datasets/custom_dataset...</td>\n      <td>/Users/johnny/Projects/datasets/custom_dataset...</td>\n      <td>Person</td>\n      <td>1147.660278</td>\n      <td>Medium</td>\n    </tr>\n    <tr>\n      <th>94992</th>\n      <td>0</td>\n      <td>0.324881</td>\n      <td>0.365857</td>\n      <td>0.023200</td>\n      <td>0.031715</td>\n      <td>10004</td>\n      <td>3840.0</td>\n      <td>2160.0</td>\n      <td>/Users/johnny/Projects/datasets/custom_dataset...</td>\n      <td>/Users/johnny/Projects/datasets/custom_dataset...</td>\n      <td>Person</td>\n      <td>6102.750000</td>\n      <td>Medium</td>\n    </tr>\n    <tr>\n      <th>94993</th>\n      <td>5</td>\n      <td>0.572568</td>\n      <td>0.068530</td>\n      <td>0.018573</td>\n      <td>0.012060</td>\n      <td>10004</td>\n      <td>3840.0</td>\n      <td>2160.0</td>\n      <td>/Users/johnny/Projects/datasets/custom_dataset...</td>\n      <td>/Users/johnny/Projects/datasets/custom_dataset...</td>\n      <td>Ship</td>\n      <td>1857.886719</td>\n      <td>Medium</td>\n    </tr>\n  </tbody>\n</table>\n<p>19455 rows × 13 columns</p>\n</div>"
     },
     "execution_count": 16,
     "metadata": {},
     "output_type": "execute_result"
    }
   ],
   "source": [
    "df_filtered"
   ]
  },
  {
   "cell_type": "code",
   "execution_count": 17,
   "id": "49100e5d-5a9e-4a1d-becc-5caefcd34bb1",
   "metadata": {
    "ExecuteTime": {
     "end_time": "2024-01-19T09:13:53.751112Z",
     "start_time": "2024-01-19T09:13:53.709643Z"
    }
   },
   "outputs": [
    {
     "name": "stdout",
     "output_type": "stream",
     "text": [
      "The number of objects is 19455\n",
      "The number of images is 3133\n"
     ]
    }
   ],
   "source": [
    "print(f\"The number of objects is {len(df_filtered)}\")\n",
    "print(f\"The number of images is {len(df_filtered['img'].unique())}\")"
   ]
  },
  {
   "cell_type": "code",
   "execution_count": 18,
   "id": "49fb37b2-bff0-4ecb-9e4e-89bd47655224",
   "metadata": {
    "ExecuteTime": {
     "end_time": "2024-01-19T09:13:53.787375Z",
     "start_time": "2024-01-19T09:13:53.712331Z"
    }
   },
   "outputs": [
    {
     "data": {
      "text/plain": "bbox_size_category\nMedium    6689\nSmall     6556\nTiny      4190\nLarge     2020\nName: count, dtype: int64"
     },
     "execution_count": 18,
     "metadata": {},
     "output_type": "execute_result"
    }
   ],
   "source": [
    "df_filtered['bbox_size_category'].value_counts()"
   ]
  },
  {
   "cell_type": "code",
   "execution_count": 19,
   "id": "14995316-580f-42df-9066-1d67450130a6",
   "metadata": {
    "ExecuteTime": {
     "end_time": "2024-01-19T09:14:01.405471Z",
     "start_time": "2024-01-19T09:13:53.716804Z"
    }
   },
   "outputs": [
    {
     "name": "stdout",
     "output_type": "stream",
     "text": [
      "Dataset organized and YAML file created.\n"
     ]
    }
   ],
   "source": [
    "import pandas as pd\n",
    "import os\n",
    "import shutil\n",
    "import yaml\n",
    "\n",
    "base_dir = '/Users/johnny/Projects/datasets/Client_Validation_Set'\n",
    "\n",
    "subfolders = ['train', 'val', 'test']\n",
    "folders = ['images', 'labels']\n",
    "for folder in folders:\n",
    "    for subfolder in subfolders:\n",
    "        os.makedirs(os.path.join(base_dir, folder, subfolder), exist_ok=True)\n",
    "\n",
    "for index, row in df_filtered.iterrows():\n",
    "    image_path = row['image_path']\n",
    "    label_path = row['label_path']\n",
    "    shutil.copy(image_path, os.path.join(base_dir, 'images', 'val'))\n",
    "    shutil.copy(label_path, os.path.join(base_dir, 'labels', 'val'))\n",
    "yaml_data = {\n",
    "    'path': '../small-fast-detector/inference_tools/Evaluation/datasets/Client_Validation_Set',  # PUT HERE THE PATH\n",
    "    'train': 'images/train',\n",
    "    'val': 'images/val',\n",
    "    'test': '',\n",
    "    'names': {\n",
    "        0: 'uav',\n",
    "        1: 'airplane',\n",
    "        2: 'boat',\n",
    "        3: 'car',\n",
    "        4: 'person',\n",
    "        5: 'truck'\n",
    "    }\n",
    "\n",
    "}\n",
    "with open(os.path.join(base_dir, 'data.yaml'), 'w') as file:\n",
    "    yaml.dump(yaml_data, file, default_flow_style=False)\n",
    "\n",
    "print(\"Dataset organized and YAML file created.\")"
   ]
  }
 ],
 "metadata": {
  "kernelspec": {
   "display_name": "Python 3 (ipykernel)",
   "language": "python",
   "name": "python3"
  },
  "language_info": {
   "codemirror_mode": {
    "name": "ipython",
    "version": 3
   },
   "file_extension": ".py",
   "mimetype": "text/x-python",
   "name": "python",
   "nbconvert_exporter": "python",
   "pygments_lexer": "ipython3",
   "version": "3.11.4"
  }
 },
 "nbformat": 4,
 "nbformat_minor": 5
}
