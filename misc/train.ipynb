{
 "cells": [
  {
   "cell_type": "code",
   "execution_count": 2,
   "metadata": {},
   "outputs": [],
   "source": [
    "from ultralytics import YOLO"
   ]
  },
  {
   "cell_type": "code",
   "execution_count": 1,
   "metadata": {},
   "outputs": [],
   "source": [
    "# SET EXPERIMENT'S PATH\n",
    "experiment_path = '/home-net/ierregue/project/detector/small-fast-detector/training_baselines/8n2/'\n",
    "best_weights_path = experiment_path + 'weights/best.pt'\n",
    "\n",
    "# SET DATASET, DEVICE AND EXPORTING FORMAT\n",
    "dataset = './../ultralytics/cfg/datasets/coco.yaml'\n",
    "devices = [6]\n",
    "formats = ['onnx', 'tensorrt']"
   ]
  },
  {
   "cell_type": "code",
   "execution_count": 3,
   "metadata": {},
   "outputs": [],
   "source": [
    "# LOAD TRAINED MODEL\n",
    "\n",
    "model = YOLO(best_weights_path)"
   ]
  },
  {
   "cell_type": "code",
   "execution_count": null,
   "metadata": {},
   "outputs": [],
   "source": []
  }
 ],
 "metadata": {
  "kernelspec": {
   "display_name": "Python 3 (ipykernel)",
   "language": "python",
   "name": "python3"
  },
  "language_info": {
   "codemirror_mode": {
    "name": "ipython",
    "version": 3
   },
   "file_extension": ".py",
   "mimetype": "text/x-python",
   "name": "python",
   "nbconvert_exporter": "python",
   "pygments_lexer": "ipython3",
   "version": "3.8.10"
  }
 },
 "nbformat": 4,
 "nbformat_minor": 4
}
