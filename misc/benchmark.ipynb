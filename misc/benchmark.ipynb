{
 "cells": [
  {
   "cell_type": "markdown",
   "id": "3e58bfb0-dc2d-430c-ad32-4e172d855984",
   "metadata": {},
   "source": [
    "# Pre-trained models benchmark"
   ]
  },
  {
   "cell_type": "markdown",
   "id": "d90c8f4b-9c29-448f-b1b1-a5b477dae20a",
   "metadata": {},
   "source": [
    "In this notebook you may find a benchmark with the available pretrained models from ultralytics, evaluted in the coco8 dataset in *.pt format taking into account Preprocess+Inference speed, FPS, mAP50-90 and mAP_S"
   ]
  },
  {
   "cell_type": "code",
   "execution_count": 1,
   "id": "8f0c5d58-94a4-4d68-bc2e-5043739dfaea",
   "metadata": {
    "ExecuteTime": {
     "end_time": "2023-08-08T06:16:42.996664Z",
     "start_time": "2023-08-08T06:16:26.462933Z"
    }
   },
   "outputs": [],
   "source": [
    "import os\n",
    "import torch\n",
    "import pandas as pd\n",
    "import matplotlib.pyplot as plt\n",
    "\n",
    "from ultralytics import YOLO\n",
    "\n",
    "%matplotlib inline"
   ]
  },
  {
   "cell_type": "code",
   "execution_count": 17,
   "id": "90f666c4-4fc3-4389-a7e8-708468307b45",
   "metadata": {},
   "outputs": [],
   "source": [
    "def get_flops_with_torch_profiler(model, imgsz=640):\n",
    "    \"\"\"Compute model FLOPs (thop alternative).\"\"\"\n",
    "    #model = de_parallel(model) in case of pasing DDP model, it transforms it to a single GPU model\n",
    "    p = next(model.parameters())\n",
    "    stride = (max(int(model.stride.max()), 32) if hasattr(model, 'stride') else 32) * 2  # max stride\n",
    "    im = torch.zeros((1, p.shape[1], stride, stride), device=p.device)  # input image in BCHW format\n",
    "    with torch.profiler.profile(with_flops=True) as prof:\n",
    "        model(im)\n",
    "    flops = sum(x.flops for x in prof.key_averages()) / 1E9\n",
    "    imgsz = imgsz if isinstance(imgsz, list) else [imgsz, imgsz]  # expand if int/float\n",
    "    flops = flops * imgsz[0] / stride * imgsz[1] / stride  # 640x640 GFLOPs\n",
    "    return flops"
   ]
  },
  {
   "cell_type": "code",
   "execution_count": 40,
   "id": "bd6ab4f0-c741-4634-88ba-d9bb49b88c7c",
   "metadata": {},
   "outputs": [],
   "source": [
    "archs = ['yolov8n']#, 'yolov8s', 'yolov8m', 'yolov5nu', 'yolov5su', 'yolov5mu', 'yolov5n6u']\n",
    "t_pre = []\n",
    "t_infer = []\n",
    "t_post = []\n",
    "maps = []\n",
    "params = []\n",
    "flops = []\n",
    "\n",
    "o_t_pre = []\n",
    "o_t_infer = []\n",
    "o_t_post = []\n",
    "o_maps = []\n",
    "\n",
    "r_t_pre = []\n",
    "r_t_infer = []\n",
    "r_t_post = []\n",
    "r_maps = []\n",
    "\n",
    "#maps_s = []\n",
    "#save dir: metrics.save_dir"
   ]
  },
  {
   "cell_type": "code",
   "execution_count": 41,
   "id": "5315a7e7-f1d3-470a-aaed-c80c337fc457",
   "metadata": {},
   "outputs": [],
   "source": [
    "dataset = './../ultralytics/cfg/datasets/coco.yaml'\n",
    "devices = 0"
   ]
  },
  {
   "cell_type": "code",
   "execution_count": 42,
   "id": "b7fd9eef-a55a-4f73-aba6-d839699c5f38",
   "metadata": {},
   "outputs": [
    {
     "name": "stderr",
     "output_type": "stream",
     "text": [
      "Ultralytics YOLOv8.0.145 🚀 Python-3.8.10 torch-2.0.1+cu117 CUDA:0 (NVIDIA GeForce RTX 3090, 24260MiB)\n",
      "YOLOv8n summary (fused): 168 layers, 3151904 parameters, 0 gradients\n",
      "\u001B[34m\u001B[1mval: \u001B[0mScanning /data-fast/127-data2/ierregue/datasets/coco/labels/val2017.cache... 4952 images, 48 backgrounds, 0 corrupt: 100%|██████████| 5000/5000 [00:00<?, ?it/s]\n",
      "\u001B[34m\u001B[1mval: \u001B[0mCaching images (4.1GB True): 100%|██████████| 5000/5000 [00:03<00:00, 1541.21it/s]\n",
      "                 Class     Images  Instances      Box(P          R      mAP50  mAP50-95): 100%|██████████| 313/313 [00:56<00:00,  5.54it/s]\n",
      "                   all       5000      36335      0.632      0.475      0.521      0.371\n",
      "                person       5000      10777      0.753      0.673      0.745      0.514\n",
      "               bicycle       5000        314      0.684      0.392      0.457      0.264\n",
      "                   car       5000       1918      0.645      0.516      0.561      0.364\n",
      "            motorcycle       5000        367      0.709       0.58      0.655      0.413\n",
      "              airplane       5000        143      0.815      0.768      0.832      0.653\n",
      "                   bus       5000        283      0.746      0.643      0.738       0.62\n",
      "                 train       5000        190      0.798      0.771      0.834      0.646\n",
      "                 truck       5000        414      0.549        0.4      0.435      0.293\n",
      "                  boat       5000        424      0.583      0.301      0.377       0.21\n",
      "         traffic light       5000        634       0.64      0.345      0.409      0.211\n",
      "          fire hydrant       5000        101      0.849      0.703      0.774      0.608\n",
      "             stop sign       5000         75      0.695       0.64      0.692       0.63\n",
      "         parking meter       5000         60      0.628        0.5      0.558      0.441\n",
      "                 bench       5000        411      0.572       0.26      0.296      0.193\n",
      "                  bird       5000        427      0.682      0.358      0.425      0.278\n",
      "                   cat       5000        202      0.776      0.825      0.856      0.652\n",
      "                   dog       5000        218      0.655      0.702      0.728      0.591\n",
      "                 horse       5000        272      0.699      0.654      0.693      0.525\n",
      "                 sheep       5000        354      0.607      0.667      0.662       0.46\n",
      "                   cow       5000        372      0.698      0.602      0.682      0.487\n",
      "              elephant       5000        252      0.701      0.833      0.821       0.63\n",
      "                  bear       5000         71      0.846      0.775       0.84      0.689\n",
      "                 zebra       5000        266      0.806      0.797      0.883      0.658\n",
      "               giraffe       5000        232      0.858      0.832      0.885      0.683\n",
      "              backpack       5000        371      0.494      0.158      0.198        0.1\n",
      "              umbrella       5000        407      0.631      0.504      0.541      0.359\n",
      "               handbag       5000        540      0.477      0.126      0.169     0.0849\n",
      "                   tie       5000        252      0.684      0.361      0.429      0.268\n",
      "              suitcase       5000        299      0.564      0.431      0.502      0.342\n",
      "               frisbee       5000        115      0.747      0.774      0.767      0.584\n",
      "                  skis       5000        241      0.605      0.324      0.366      0.188\n",
      "             snowboard       5000         69       0.48      0.319      0.388      0.267\n",
      "           sports ball       5000        260      0.708      0.438      0.474      0.328\n",
      "                  kite       5000        327      0.604       0.52      0.558       0.38\n",
      "          baseball bat       5000        145      0.584      0.386      0.403      0.216\n",
      "        baseball glove       5000        148      0.668      0.473      0.512      0.302\n",
      "            skateboard       5000        179      0.722      0.608      0.663      0.451\n",
      "             surfboard       5000        267      0.622      0.472      0.507      0.309\n",
      "         tennis racket       5000        225        0.7      0.618      0.671      0.397\n",
      "                bottle       5000       1013       0.61      0.388      0.454      0.298\n",
      "            wine glass       5000        341      0.658      0.352       0.42       0.27\n",
      "                   cup       5000        895       0.58      0.444      0.488      0.351\n",
      "                  fork       5000        215      0.584       0.32      0.389      0.264\n",
      "                 knife       5000        325      0.501      0.164      0.174      0.106\n",
      "                 spoon       5000        253      0.407      0.146       0.16     0.0988\n",
      "                  bowl       5000        623      0.588      0.494      0.529       0.39\n",
      "                banana       5000        370      0.546      0.319      0.374      0.233\n",
      "                 apple       5000        236      0.413      0.242      0.227      0.156\n",
      "              sandwich       5000        177       0.57      0.486      0.464      0.349\n",
      "                orange       5000        285       0.44      0.419      0.369      0.281\n",
      "              broccoli       5000        312      0.474       0.34      0.369       0.21\n",
      "                carrot       5000        365      0.445      0.293      0.306      0.189\n",
      "               hot dog       5000        125      0.759      0.432      0.497      0.364\n",
      "                 pizza       5000        284      0.655      0.614      0.658      0.502\n",
      "                 donut       5000        328      0.575      0.497      0.515      0.408\n",
      "                  cake       5000        310      0.533      0.394      0.437      0.292\n",
      "                 chair       5000       1771      0.581      0.342      0.403      0.257\n",
      "                 couch       5000        261       0.59      0.552      0.585      0.434\n",
      "          potted plant       5000        342      0.519      0.389      0.385      0.226\n",
      "                   bed       5000        163       0.55      0.552       0.59      0.426\n",
      "          dining table       5000        695      0.527       0.44      0.434      0.292\n",
      "                toilet       5000        179       0.72      0.737      0.775      0.642\n",
      "                    tv       5000        288      0.769      0.635      0.714      0.553\n",
      "                laptop       5000        231      0.684      0.666      0.699       0.58\n",
      "                 mouse       5000        106      0.634      0.653      0.708      0.527\n",
      "                remote       5000        283      0.429      0.223      0.271       0.16\n",
      "              keyboard       5000        153      0.592      0.601      0.649      0.482\n",
      "            cell phone       5000        262      0.549      0.353        0.4       0.28\n",
      "             microwave       5000         55      0.616      0.545      0.643      0.514\n",
      "                  oven       5000        143      0.642      0.448      0.511      0.349\n",
      "               toaster       5000          9      0.725      0.222      0.436      0.314\n",
      "                  sink       5000        225      0.569      0.445      0.508      0.337\n",
      "          refrigerator       5000        126      0.656      0.587       0.65      0.511\n",
      "                  book       5000       1129      0.486      0.112      0.196     0.0968\n",
      "                 clock       5000        267      0.749      0.607      0.667      0.456\n",
      "                  vase       5000        274      0.588      0.453      0.453      0.321\n",
      "              scissors       5000         36      0.688      0.333      0.332      0.278\n",
      "            teddy bear       5000        190      0.669      0.558      0.604       0.42\n",
      "            hair drier       5000         11          1          0    0.00492    0.00377\n",
      "            toothbrush       5000         57      0.401      0.193      0.238      0.165\n",
      "Speed: 0.1ms preprocess, 1.6ms inference, 0.0ms loss, 1.5ms postprocess per image\n",
      "Saving /home-net/ierregue/project/detector/small-fast-detector/runs/detect/val54/predictions.json...\n",
      "\n",
      "Evaluating pycocotools mAP using /home-net/ierregue/project/detector/small-fast-detector/runs/detect/val54/predictions.json and /data-fast/127-data2/ierregue/datasets/coco/annotations/instances_val2017.json...\n"
     ]
    },
    {
     "name": "stdout",
     "output_type": "stream",
     "text": [
      "loading annotations into memory...\n",
      "Done (t=1.01s)\n",
      "creating index...\n",
      "index created!\n",
      "Loading and preparing results...\n",
      "DONE (t=5.46s)\n",
      "creating index...\n",
      "index created!\n",
      "Running per image evaluation...\n",
      "Evaluate annotation type *bbox*\n",
      "DONE (t=54.83s).\n",
      "Accumulating evaluation results...\n",
      "DONE (t=12.92s).\n",
      " Average Precision  (AP) @[ IoU=0.50:0.95 | area=   all | maxDets=100 ] = 0.373\n",
      " Average Precision  (AP) @[ IoU=0.50      | area=   all | maxDets=100 ] = 0.525\n",
      " Average Precision  (AP) @[ IoU=0.75      | area=   all | maxDets=100 ] = 0.405\n",
      " Average Precision  (AP) @[ IoU=0.50:0.95 | area= small | maxDets=100 ] = 0.186\n",
      " Average Precision  (AP) @[ IoU=0.50:0.95 | area=medium | maxDets=100 ] = 0.410\n",
      " Average Precision  (AP) @[ IoU=0.50:0.95 | area= large | maxDets=100 ] = 0.535\n",
      " Average Recall     (AR) @[ IoU=0.50:0.95 | area=   all | maxDets=  1 ] = 0.320\n",
      " Average Recall     (AR) @[ IoU=0.50:0.95 | area=   all | maxDets= 10 ] = 0.532\n",
      " Average Recall     (AR) @[ IoU=0.50:0.95 | area=   all | maxDets=100 ] = 0.588\n",
      " Average Recall     (AR) @[ IoU=0.50:0.95 | area= small | maxDets=100 ] = 0.366\n",
      " Average Recall     (AR) @[ IoU=0.50:0.95 | area=medium | maxDets=100 ] = 0.653\n",
      " Average Recall     (AR) @[ IoU=0.50:0.95 | area= large | maxDets=100 ] = 0.768\n"
     ]
    },
    {
     "name": "stderr",
     "output_type": "stream",
     "text": [
      "Results saved to \u001B[1m/home-net/ierregue/project/detector/small-fast-detector/runs/detect/val54\u001B[0m\n",
      "YOLOv8n summary (fused): 168 layers, 3151904 parameters, 0 gradients\n",
      "STAGE:2023-08-07 10:41:29 246083:246083 ActivityProfilerController.cpp:311] Completed Stage: Warm Up\n",
      "STAGE:2023-08-07 10:41:29 246083:246083 ActivityProfilerController.cpp:317] Completed Stage: Collection\n",
      "STAGE:2023-08-07 10:41:29 246083:246083 ActivityProfilerController.cpp:321] Completed Stage: Post Processing\n",
      "Ultralytics YOLOv8.0.145 🚀 Python-3.8.10 torch-2.0.1+cu117 CPU (AMD EPYC 7452 32-Core Processor)\n",
      "\n",
      "\u001B[34m\u001B[1mPyTorch:\u001B[0m starting from '../../models/yolov8n.pt' with input shape (1, 3, 640, 640) BCHW and output shape(s) (1, 84, 8400) (6.2 MB)\n",
      "\n",
      "\u001B[34m\u001B[1mONNX:\u001B[0m starting export with onnx 1.14.0 opset 17...\n"
     ]
    },
    {
     "name": "stdout",
     "output_type": "stream",
     "text": [
      "============= Diagnostic Run torch.onnx.export version 2.0.1+cu117 =============\n",
      "verbose: False, log level: Level.ERROR\n",
      "======================= 0 NONE 0 NOTE 0 WARNING 0 ERROR ========================\n",
      "\n"
     ]
    },
    {
     "name": "stderr",
     "output_type": "stream",
     "text": [
      "\u001B[34m\u001B[1mONNX:\u001B[0m export success ✅ 1.3s, saved as '../../models/yolov8n.onnx' (12.2 MB)\n",
      "\n",
      "Export complete (3.7s)\n",
      "Results saved to \u001B[1m/home-net/ierregue/project/detector/models\u001B[0m\n",
      "Predict:         yolo predict task=detect model=../../models/yolov8n.onnx imgsz=640 \n",
      "Validate:        yolo val task=detect model=../../models/yolov8n.onnx imgsz=640 data=None \n",
      "Visualize:       https://netron.app\n",
      "Ultralytics YOLOv8.0.145 🚀 Python-3.8.10 torch-2.0.1+cu117 CUDA:0 (NVIDIA GeForce RTX 3090, 24260MiB)\n",
      "Loading ../../models/yolov8n.onnx for ONNX Runtime inference...\n",
      "Forcing batch=1 square inference (1,3,640,640) for non-PyTorch models\n",
      "\u001B[34m\u001B[1mval: \u001B[0mScanning /data-fast/127-data2/ierregue/datasets/coco/labels/val2017.cache... 4952 images, 48 backgrounds, 0 corrupt: 100%|██████████| 5000/5000 [00:00<?, ?it/s]\n",
      "                 Class     Images  Instances      Box(P          R      mAP50  mAP50-95): 100%|██████████| 5000/5000 [15:54<00:00,  5.24it/s]\n",
      "                   all       5000      36335      0.629      0.476      0.521       0.37\n",
      "Speed: 0.6ms preprocess, 152.5ms inference, 0.0ms loss, 21.2ms postprocess per image\n",
      "Saving /home-net/ierregue/project/detector/small-fast-detector/runs/detect/val55/predictions.json...\n",
      "\n",
      "Evaluating pycocotools mAP using /home-net/ierregue/project/detector/small-fast-detector/runs/detect/val55/predictions.json and /data-fast/127-data2/ierregue/datasets/coco/annotations/instances_val2017.json...\n"
     ]
    },
    {
     "name": "stdout",
     "output_type": "stream",
     "text": [
      "loading annotations into memory...\n",
      "Done (t=1.53s)\n",
      "creating index...\n",
      "index created!\n",
      "Loading and preparing results...\n",
      "DONE (t=4.99s)\n",
      "creating index...\n",
      "index created!\n",
      "Running per image evaluation...\n",
      "Evaluate annotation type *bbox*\n",
      "DONE (t=57.45s).\n",
      "Accumulating evaluation results...\n",
      "DONE (t=10.65s).\n",
      " Average Precision  (AP) @[ IoU=0.50:0.95 | area=   all | maxDets=100 ] = 0.372\n",
      " Average Precision  (AP) @[ IoU=0.50      | area=   all | maxDets=100 ] = 0.525\n",
      " Average Precision  (AP) @[ IoU=0.75      | area=   all | maxDets=100 ] = 0.405\n",
      " Average Precision  (AP) @[ IoU=0.50:0.95 | area= small | maxDets=100 ] = 0.186\n",
      " Average Precision  (AP) @[ IoU=0.50:0.95 | area=medium | maxDets=100 ] = 0.410\n",
      " Average Precision  (AP) @[ IoU=0.50:0.95 | area= large | maxDets=100 ] = 0.533\n",
      " Average Recall     (AR) @[ IoU=0.50:0.95 | area=   all | maxDets=  1 ] = 0.319\n",
      " Average Recall     (AR) @[ IoU=0.50:0.95 | area=   all | maxDets= 10 ] = 0.535\n",
      " Average Recall     (AR) @[ IoU=0.50:0.95 | area=   all | maxDets=100 ] = 0.591\n",
      " Average Recall     (AR) @[ IoU=0.50:0.95 | area= small | maxDets=100 ] = 0.360\n",
      " Average Recall     (AR) @[ IoU=0.50:0.95 | area=medium | maxDets=100 ] = 0.656\n",
      " Average Recall     (AR) @[ IoU=0.50:0.95 | area= large | maxDets=100 ] = 0.772\n"
     ]
    },
    {
     "name": "stderr",
     "output_type": "stream",
     "text": [
      "Results saved to \u001B[1m/home-net/ierregue/project/detector/small-fast-detector/runs/detect/val55\u001B[0m\n",
      "Ultralytics YOLOv8.0.145 🚀 Python-3.8.10 torch-2.0.1+cu117 CUDA:0 (NVIDIA GeForce RTX 3090, 24260MiB)\n",
      "Loading ../../models/yolov8n.engine for TensorRT inference...\n"
     ]
    },
    {
     "name": "stdout",
     "output_type": "stream",
     "text": [
      "TensorRT model already exists, loading it ...\n",
      "[08/07/2023-10:58:55] [TRT] [I] The logger passed into createInferRuntime differs from one already provided for an existing builder, runtime, or refitter. Uses of the global logger, returned by nvinfer1::getLogger(), will return the existing value.\n",
      "[08/07/2023-10:58:55] [TRT] [I] Loaded engine size: 19 MiB\n",
      "[08/07/2023-10:58:55] [TRT] [I] [MemUsageChange] TensorRT-managed allocation in engine deserialization: CPU +0, GPU +16, now: CPU 0, GPU 49 (MiB)\n",
      "[08/07/2023-10:58:55] [TRT] [I] [MemUsageChange] TensorRT-managed allocation in IExecutionContext creation: CPU +1, GPU +17, now: CPU 1, GPU 66 (MiB)\n",
      "[08/07/2023-10:58:55] [TRT] [W] CUDA lazy loading is not enabled. Enabling it can significantly reduce device memory usage and speed up TensorRT initialization. See \"Lazy Loading\" section of CUDA documentation https://docs.nvidia.com/cuda/cuda-c-programming-guide/index.html#lazy-loading\n"
     ]
    },
    {
     "name": "stderr",
     "output_type": "stream",
     "text": [
      "\u001B[34m\u001B[1mval: \u001B[0mScanning /data-fast/127-data2/ierregue/datasets/coco/labels/val2017.cache... 4952 images, 48 backgrounds, 0 corrupt: 100%|██████████| 5000/5000 [00:00<?, ?it/s]\n",
      "                 Class     Images  Instances      Box(P          R      mAP50  mAP50-95): 100%|██████████| 5000/5000 [01:42<00:00, 48.65it/s]\n",
      "                   all       5000      36335      0.629      0.476      0.521       0.37\n",
      "Speed: 0.7ms preprocess, 1.5ms inference, 0.0ms loss, 1.9ms postprocess per image\n",
      "Saving /home-net/ierregue/project/detector/small-fast-detector/runs/detect/val60/predictions.json...\n",
      "\n",
      "Evaluating pycocotools mAP using /home-net/ierregue/project/detector/small-fast-detector/runs/detect/val60/predictions.json and /data-fast/127-data2/ierregue/datasets/coco/annotations/instances_val2017.json...\n"
     ]
    },
    {
     "name": "stdout",
     "output_type": "stream",
     "text": [
      "loading annotations into memory...\n",
      "Done (t=0.45s)\n",
      "creating index...\n",
      "index created!\n",
      "Loading and preparing results...\n",
      "DONE (t=6.15s)\n",
      "creating index...\n",
      "index created!\n",
      "Running per image evaluation...\n",
      "Evaluate annotation type *bbox*\n",
      "DONE (t=56.80s).\n",
      "Accumulating evaluation results...\n",
      "DONE (t=10.84s).\n",
      " Average Precision  (AP) @[ IoU=0.50:0.95 | area=   all | maxDets=100 ] = 0.373\n",
      " Average Precision  (AP) @[ IoU=0.50      | area=   all | maxDets=100 ] = 0.526\n",
      " Average Precision  (AP) @[ IoU=0.75      | area=   all | maxDets=100 ] = 0.405\n",
      " Average Precision  (AP) @[ IoU=0.50:0.95 | area= small | maxDets=100 ] = 0.186\n",
      " Average Precision  (AP) @[ IoU=0.50:0.95 | area=medium | maxDets=100 ] = 0.409\n",
      " Average Precision  (AP) @[ IoU=0.50:0.95 | area= large | maxDets=100 ] = 0.533\n",
      " Average Recall     (AR) @[ IoU=0.50:0.95 | area=   all | maxDets=  1 ] = 0.319\n",
      " Average Recall     (AR) @[ IoU=0.50:0.95 | area=   all | maxDets= 10 ] = 0.535\n",
      " Average Recall     (AR) @[ IoU=0.50:0.95 | area=   all | maxDets=100 ] = 0.591\n",
      " Average Recall     (AR) @[ IoU=0.50:0.95 | area= small | maxDets=100 ] = 0.360\n",
      " Average Recall     (AR) @[ IoU=0.50:0.95 | area=medium | maxDets=100 ] = 0.656\n",
      " Average Recall     (AR) @[ IoU=0.50:0.95 | area= large | maxDets=100 ] = 0.772\n"
     ]
    },
    {
     "name": "stderr",
     "output_type": "stream",
     "text": [
      "Results saved to \u001B[1m/home-net/ierregue/project/detector/small-fast-detector/runs/detect/val60\u001B[0m\n"
     ]
    }
   ],
   "source": [
    "for arch in archs:\n",
    "    \n",
    "    # Register model\n",
    "    model = YOLO('./../../models/'+arch+'.pt')\n",
    "    # Evalute in validation dataset\n",
    "    metrics = model.val(data=dataset, verbose=True, plots=False, save_json=True, cache=True, device=devices)\n",
    "\n",
    "    # Get metrics in *.pt format\n",
    "    t_pre.append(metrics.speed['preprocess'])\n",
    "    t_infer.append(metrics.speed['inference'])\n",
    "    t_post.append(metrics.speed['postprocess'])\n",
    "    maps.append(metrics.box.map)\n",
    "    params.append(model.info()[1])\n",
    "    flops.append(get_flops_with_torch_profiler(model.model, imgsz=640)) # TODO adjust image size for P6 model.\n",
    "\n",
    "    \n",
    "    # Export to ONNX format\n",
    "    filename = model.export(format='onnx', dynamic=False, half=False, int8=False, simplify=False, opset=None) #TODO: INVESTIGATE\n",
    "    # Register and Evaluate exported model\n",
    "    export = YOLO(filename, task=model.task)\n",
    "    results = export.val(data=dataset, batch=1, plots=False, verbose=False, imgsz=model.overrides['imgsz'], device=devices)\n",
    "\n",
    "    # Get metrics in *.onnx format\n",
    "    o_t_pre.append(results.speed['preprocess'])\n",
    "    o_t_infer.append(results.speed['inference'])\n",
    "    o_t_post.append(results.speed['postprocess'])\n",
    "    o_maps.append(results.box.map)\n",
    "    \n",
    "\n",
    "    # Export to TensorRT\n",
    "    # TODO: condition, if file exists load it, else export\n",
    "    filename = './../../models/'+arch+'.engine'\n",
    "    if not os.path.isfile(filename):\n",
    "        filename = model.export(format='engine', dynamic=False, half=False, int8=False, simplify=False, workspace=4, device=devices) #TODO: INVESTIGATE\n",
    "    else:\n",
    "        print('TensorRT model already exists, loading it ...')\n",
    "    # Register and Evaluate exported model\n",
    "    export = YOLO(filename, task=model.task)\n",
    "    results = export.val(data=dataset, batch=1, plots=False, verbose=False, imgsz=model.overrides['imgsz'], device=devices)\n",
    "\n",
    "    # Get metrics in *.engine format\n",
    "    r_t_pre.append(results.speed['preprocess'])\n",
    "    r_t_infer.append(results.speed['inference'])\n",
    "    r_t_post.append(results.speed['postprocess'])\n",
    "    r_maps.append(results.box.map)\n",
    "    "
   ]
  },
  {
   "cell_type": "code",
   "execution_count": 43,
   "id": "7db3013b-4886-4c04-8584-f3238e5e0742",
   "metadata": {},
   "outputs": [],
   "source": [
    "df = pd.DataFrame({\n",
    "    'architecture': archs,\n",
    "    'parameters': params,\n",
    "    'FLOPs': flops,\n",
    "    'preprocess': t_pre,\n",
    "    'o_preprocess': o_t_pre,\n",
    "    'r_preprocess': r_t_pre,\n",
    "    'inference': t_infer,\n",
    "    'o_inference': o_t_infer,\n",
    "    'r_inference': r_t_infer,\n",
    "    'postprocess': t_post,\n",
    "    'o_postprocess': o_t_post,\n",
    "    'r_postprocess': r_t_post,\n",
    "    'mAP': maps,\n",
    "    'o_mAP': o_maps,\n",
    "    'r_mAP': r_maps,\n",
    "})\n",
    "\n",
    "# TODO: compute with sum?\n",
    "df['FPS'] = 1000/df.inference\n",
    "df['o_FPS'] = 1000/df.o_inference\n",
    "df['r_FPS'] = 1000/df.r_inference"
   ]
  },
  {
   "cell_type": "code",
   "execution_count": 44,
   "id": "eda67b26-99ef-4058-aa4e-54f5b359501a",
   "metadata": {},
   "outputs": [
    {
     "data": {
      "text/html": [
       "<div>\n",
       "<style scoped>\n",
       "    .dataframe tbody tr th:only-of-type {\n",
       "        vertical-align: middle;\n",
       "    }\n",
       "\n",
       "    .dataframe tbody tr th {\n",
       "        vertical-align: top;\n",
       "    }\n",
       "\n",
       "    .dataframe thead th {\n",
       "        text-align: right;\n",
       "    }\n",
       "</style>\n",
       "<table border=\"1\" class=\"dataframe\">\n",
       "  <thead>\n",
       "    <tr style=\"text-align: right;\">\n",
       "      <th></th>\n",
       "      <th>architecture</th>\n",
       "      <th>parameters</th>\n",
       "      <th>FLOPs</th>\n",
       "      <th>preprocess</th>\n",
       "      <th>o_preprocess</th>\n",
       "      <th>r_preprocess</th>\n",
       "      <th>inference</th>\n",
       "      <th>o_inference</th>\n",
       "      <th>r_inference</th>\n",
       "      <th>postprocess</th>\n",
       "      <th>o_postprocess</th>\n",
       "      <th>r_postprocess</th>\n",
       "      <th>mAP</th>\n",
       "      <th>o_mAP</th>\n",
       "      <th>r_mAP</th>\n",
       "      <th>FPS</th>\n",
       "      <th>o_FPS</th>\n",
       "      <th>r_FPS</th>\n",
       "    </tr>\n",
       "  </thead>\n",
       "  <tbody>\n",
       "    <tr>\n",
       "      <th>0</th>\n",
       "      <td>yolov8n</td>\n",
       "      <td>3151904</td>\n",
       "      <td>8.745132</td>\n",
       "      <td>0.107458</td>\n",
       "      <td>0.606359</td>\n",
       "      <td>0.726463</td>\n",
       "      <td>1.590211</td>\n",
       "      <td>152.478599</td>\n",
       "      <td>1.532936</td>\n",
       "      <td>1.488104</td>\n",
       "      <td>21.248587</td>\n",
       "      <td>1.897921</td>\n",
       "      <td>0.370955</td>\n",
       "      <td>0.370352</td>\n",
       "      <td>0.370471</td>\n",
       "      <td>628.847174</td>\n",
       "      <td>6.558297</td>\n",
       "      <td>652.343158</td>\n",
       "    </tr>\n",
       "  </tbody>\n",
       "</table>\n",
       "</div>"
      ],
      "text/plain": [
       "  architecture  parameters     FLOPs  preprocess  o_preprocess  r_preprocess  \\\n",
       "0      yolov8n     3151904  8.745132    0.107458      0.606359      0.726463   \n",
       "\n",
       "   inference  o_inference  r_inference  postprocess  o_postprocess  \\\n",
       "0   1.590211   152.478599     1.532936     1.488104      21.248587   \n",
       "\n",
       "   r_postprocess       mAP     o_mAP     r_mAP         FPS     o_FPS  \\\n",
       "0       1.897921  0.370955  0.370352  0.370471  628.847174  6.558297   \n",
       "\n",
       "        r_FPS  \n",
       "0  652.343158  "
      ]
     },
     "execution_count": 44,
     "metadata": {},
     "output_type": "execute_result"
    }
   ],
   "source": [
    "df"
   ]
  },
  {
   "cell_type": "code",
   "execution_count": 45,
   "id": "c2d6a1e3-1f01-4158-895e-9b98e60a71b5",
   "metadata": {},
   "outputs": [
    {
     "data": {
      "text/plain": [
       "<Figure size 1200x1000 with 0 Axes>"
      ]
     },
     "metadata": {},
     "output_type": "display_data"
    },
    {
     "data": {
      "image/png": "[encoded data removed]",
      "text/plain": [
       "<Figure size 1200x1000 with 9 Axes>"
      ]
     },
     "metadata": {},
     "output_type": "display_data"
    }
   ],
   "source": [
    "markers = [\"d\", \"v\", \"s\", \"^\", \"*\", 'x', 'h', 'p', '8', '<', '>']\n",
    "plt.rcParams[\"figure.figsize\"] = (12,10)\n",
    "plt.rcParams['axes.grid'] = True\n",
    "\n",
    "f = plt.figure()\n",
    "f, axes = plt.subplots(nrows = 3, ncols = 3, sharex=False, sharey=False)\n",
    "f.tight_layout(pad=3.0)\n",
    "\n",
    "for index, row in df.iterrows():\n",
    "\n",
    "    # ROW 0: Parameters, FLOPs, mAP_S\n",
    "    axes[0][0].scatter(row.parameters/10**6, row.mAP, marker=markers[index], label=row.architecture)\n",
    "    axes[0][0].set_xlabel('Parameters (M)')\n",
    "    axes[0][0].set_ylabel(r'COCO mAP$^{50-90}_{val}$')\n",
    "\n",
    "    axes[0][1].scatter(row.FLOPs, row.mAP, marker=markers[index])\n",
    "    axes[0][1].set_xlabel('FLOPs (B)')\n",
    "    axes[0][1].set_ylabel(r'COCO mAP$^{50-90}_{val}$')\n",
    "    \n",
    "\n",
    "    # ROW1 FPS: \n",
    "    axes[1][0].scatter(row.FPS, row.mAP, marker=markers[index])\n",
    "    axes[1][0].set_xlabel('FPS in PyTorch format')\n",
    "    axes[1][0].set_ylabel(r'COCO mAP$^{50-90}_{val}$')\n",
    "    \n",
    "    axes[1][1].scatter(row.r_FPS, row.r_mAP, marker=markers[index])\n",
    "    axes[1][1].set_xlabel('FPS in TensorRT format')\n",
    "    axes[1][1].set_ylabel(r'COCO mAP$^{50-90}_{val}$')\n",
    "    \n",
    "    axes[1][2].scatter(row.o_FPS, row.o_mAP, marker=markers[index])\n",
    "    axes[1][2].set_xlabel('FPS in ONNX format')\n",
    "    axes[1][2].set_ylabel(r'COCO mAP$^{50-90}_{val}$')\n",
    "\n",
    "\n",
    "    # ROW 2 Latency:\n",
    "    axes[2][0].scatter(row.inference, row.mAP, marker=markers[index])\n",
    "    axes[2][0].set_xlabel('Latency (ms/img) in PyTorch format')\n",
    "    axes[2][0].set_ylabel(r'COCO mAP$^{50-90}_{val}$')\n",
    "    \n",
    "    axes[2][1].scatter(row.r_inference, row.r_mAP, marker=markers[index])\n",
    "    axes[2][1].set_xlabel('Latency (ms/img) in TensorRT format')\n",
    "    axes[2][1].set_ylabel(r'COCO mAP$^{50-90}_{val}$')\n",
    "    \n",
    "    axes[2][2].scatter(row.o_inference, row.o_mAP, marker=markers[index])\n",
    "    axes[2][2].set_xlabel('Latency (ms/img) in ONNX format')\n",
    "    axes[2][2].set_ylabel(r'COCO mAP$^{50-90}_{val}$')\n",
    "\n",
    "axes[0][0].legend()\n",
    "plt.show()"
   ]
  },
  {
   "cell_type": "code",
   "execution_count": 24,
   "id": "b7a562b1-6b22-4589-8119-1c44fc7efa7c",
   "metadata": {},
   "outputs": [],
   "source": [
    "# mAP_s\n",
    "# Investigate ONNX/TensorRT exportation arguments \n",
    "# Latency\n",
    "# Read json to map_s"
   ]
  },
  {
   "cell_type": "code",
   "execution_count": 47,
   "id": "61f2218e-82f2-4752-a20e-f84c2333f530",
   "metadata": {},
   "outputs": [
    {
     "data": {
      "text/plain": [
       "PosixPath('/home-net/ierregue/project/detector/small-fast-detector/runs/detect/val54')"
      ]
     },
     "execution_count": 47,
     "metadata": {},
     "output_type": "execute_result"
    }
   ],
   "source": [
    "metrics.save_dir"
   ]
  },
  {
   "cell_type": "code",
   "execution_count": 25,
   "id": "2e19cf5b-2885-40b9-95ee-aeaaea668aab",
   "metadata": {},
   "outputs": [
    {
     "data": {
      "text/plain": [
       "0.25"
      ]
     },
     "execution_count": 25,
     "metadata": {},
     "output_type": "execute_result"
    }
   ],
   "source": [
    "metrics.confusion_matrix.conf"
   ]
  },
  {
   "cell_type": "code",
   "execution_count": 26,
   "id": "922ddf5d-4a15-404f-8971-b625680bd13a",
   "metadata": {},
   "outputs": [
    {
     "data": {
      "text/plain": [
       "0.4816107113950196"
      ]
     },
     "execution_count": 26,
     "metadata": {},
     "output_type": "execute_result"
    }
   ],
   "source": [
    "metrics.box.map"
   ]
  },
  {
   "cell_type": "code",
   "execution_count": 27,
   "id": "af4c763e-d418-49b8-8055-e451ec02e97d",
   "metadata": {},
   "outputs": [
    {
     "data": {
      "text/plain": [
       "ultralytics.utils.metrics.Metric object with attributes:\n",
       "\n",
       "all_ap: array([[    0.80881,     0.79487,     0.78138,     0.75666,     0.70609,     0.65245,     0.52836,       0.453,     0.34559,    0.070584],\n",
       "       [    0.42722,     0.41122,     0.41122,     0.37693,     0.37693,     0.37693,     0.37693,     0.37693,    0.016432,           0],\n",
       "       [    0.42556,     0.41247,      0.3627,     0.34198,     0.30054,     0.27131,     0.24236,     0.18858,    0.055582,    0.010218],\n",
       "       [    0.92833,     0.92833,        0.88,        0.88,        0.88,        0.88,     0.69862,     0.33359,     0.33359,           0],\n",
       "       [      0.995,     0.92357,     0.92357,     0.92357,     0.92357,     0.92357,      0.7415,      0.7415,     0.61434,     0.36516],\n",
       "       [    0.69947,     0.69947,     0.69947,     0.69947,     0.69947,     0.69947,     0.69947,     0.69947,     0.53381,    0.051691],\n",
       "       [      0.755,       0.755,       0.755,       0.755,     0.53333,     0.53333,     0.53333,     0.53333,     0.17402,     0.11399],\n",
       "       [    0.44023,     0.44023,     0.39798,     0.39798,     0.30846,     0.25683,     0.11961,     0.11367,     0.11093,     0.11093],\n",
       "       [     0.3639,      0.3639,     0.24958,     0.24958,     0.23086,     0.20467,     0.17391,   0.0039268,   0.0039268,           0],\n",
       "       [    0.40373,     0.28057,     0.28057,     0.21163,     0.21163,      0.1746,     0.16818,     0.15229,     0.15229,    0.078938],\n",
       "       [    0.82833,     0.82833,     0.82833,     0.82833,     0.82833,     0.82833,     0.82833,           0,           0,           0],\n",
       "       [    0.64832,     0.64832,     0.64832,     0.39872,     0.27475,     0.25156,     0.20286,     0.13952,     0.13952,   0.0023787],\n",
       "       [    0.94505,     0.94505,     0.89697,     0.89697,     0.89697,     0.67296,     0.51993,     0.25403,     0.13725,    0.014922],\n",
       "       [      0.995,       0.995,       0.995,       0.995,       0.995,       0.995,       0.995,     0.68703,     0.50093,           0],\n",
       "       [    0.83649,     0.83649,     0.83649,     0.66999,     0.62026,     0.59407,     0.59407,     0.59407,     0.40065,     0.18822],\n",
       "       [      0.995,       0.995,       0.995,       0.995,       0.995,       0.995,        0.25,        0.25,        0.25,           0],\n",
       "       [    0.91245,     0.88944,     0.88944,     0.88944,     0.83613,     0.74293,     0.59192,     0.49416,     0.43797,     0.28182],\n",
       "       [      0.995,       0.995,       0.995,       0.995,       0.995,       0.995,       0.995,       0.995,       0.995,           0],\n",
       "       [      0.995,       0.995,       0.995,       0.995,       0.995,       0.995,       0.995,       0.995,       0.995,       0.995],\n",
       "       [    0.94349,     0.94349,     0.94349,     0.91905,     0.91905,     0.73923,     0.54424,     0.45254,     0.45254,     0.15525],\n",
       "       [    0.50475,     0.50475,     0.50475,     0.50475,      0.4635,     0.42572,    0.083841,    0.083841,    0.083841,           0],\n",
       "       [     0.6985,     0.68969,     0.67695,     0.48865,     0.48254,     0.38156,      0.3714,     0.26903,     0.26061,    0.027868],\n",
       "       [    0.29308,     0.29074,      0.2898,     0.24691,     0.18253,     0.13636,     0.13573,     0.13051,     0.10744,           0],\n",
       "       [    0.71588,     0.71588,     0.71588,     0.71588,     0.71588,     0.71588,     0.40651,     0.17768,     0.17768,     0.17768],\n",
       "       [      0.995,       0.995,       0.995,       0.995,       0.995,     0.75401,     0.42077,     0.42077,     0.25258,     0.24729],\n",
       "       [    0.76025,     0.76025,     0.76025,     0.76025,     0.76025,     0.76025,     0.76025,     0.76025,     0.40263,     0.40263],\n",
       "       [      0.995,       0.995,       0.995,       0.995,       0.995,    0.035536,    0.035536,    0.035536,           0,           0],\n",
       "       [    0.72517,     0.72517,     0.72517,     0.72517,     0.62589,     0.54001,     0.44049,     0.32822,     0.14779,     0.14779],\n",
       "       [    0.66943,     0.66943,     0.66943,     0.66943,     0.66943,     0.50003,      0.2827,     0.16775,     0.16775,           0],\n",
       "       [    0.46528,     0.46028,     0.20243,    0.073309,    0.073309,    0.073309,    0.020789,    0.011062,           0,           0],\n",
       "       [    0.50113,     0.48965,     0.11646,     0.11646,     0.10985,     0.10985,    0.063596,    0.063596,    0.063596,    0.063596],\n",
       "       [    0.68648,     0.60417,     0.60417,     0.60417,     0.34449,     0.34449,     0.19226,    0.073849,    0.073849,           0],\n",
       "       [    0.48155,     0.45472,     0.45472,     0.42835,     0.42835,     0.28852,     0.27615,    0.034985,           0,           0],\n",
       "       [    0.57273,     0.53773,     0.45773,     0.45773,     0.42948,       0.195,     0.14664,           0,           0,           0],\n",
       "       [    0.57415,     0.54349,     0.54349,     0.49249,     0.45159,     0.45159,     0.30286,     0.23017,     0.04542,    0.020898],\n",
       "       [    0.77629,     0.76523,     0.73576,     0.63297,     0.56179,     0.53175,     0.47223,     0.42049,     0.15697,    0.098821],\n",
       "       [    0.54328,     0.54228,     0.54228,     0.49572,     0.43959,     0.43959,     0.33345,     0.27474,     0.25315,     0.14831],\n",
       "       [    0.19713,     0.19262,     0.19262,     0.19262,     0.19262,     0.19262,     0.18335,     0.16725,     0.16725,     0.16725],\n",
       "       [    0.67711,     0.67425,     0.67425,     0.66937,     0.58524,     0.55318,     0.48326,     0.39705,     0.37019,    0.096757],\n",
       "       [    0.67406,     0.67406,     0.67406,     0.63813,     0.47428,     0.47428,     0.42788,     0.32083,     0.14992,           0],\n",
       "       [    0.67952,      0.6731,      0.6731,      0.6731,      0.6731,     0.64329,     0.60739,     0.54338,     0.33778,    0.072424],\n",
       "       [    0.33167,     0.33167,     0.12437,     0.12437,     0.12437,     0.12437,     0.12437,     0.12437,           0,           0],\n",
       "       [    0.33167,     0.33167,     0.33167,     0.33167,     0.33167,     0.33167,     0.33167,     0.33167,     0.33167,     0.08668],\n",
       "       [    0.70161,     0.70161,     0.70161,     0.70161,     0.70161,     0.70161,     0.70161,     0.56597,           0,           0],\n",
       "       [    0.45599,     0.45111,     0.43167,      0.4293,      0.4293,     0.35228,     0.35228,     0.34247,     0.27754,           0],\n",
       "       [    0.53576,     0.53576,     0.53576,     0.48247,     0.45306,     0.39416,     0.34592,     0.24564,     0.12842,   0.0084731],\n",
       "       [      0.995,       0.995,       0.995,       0.995,       0.995,       0.995,       0.995,     0.50031,     0.50031,     0.50031],\n",
       "       [    0.96167,     0.92833,     0.92833,       0.855,       0.855,       0.855,       0.855,     0.59946,     0.59946,     0.10043],\n",
       "       [    0.91145,     0.91145,     0.91145,     0.91145,     0.91145,     0.91145,     0.91145,     0.91145,     0.71161,     0.16644],\n",
       "       [    0.91167,     0.91167,     0.91167,     0.91167,     0.91167,     0.91167,     0.54031,     0.54031,     0.54031,    0.085218],\n",
       "       [     0.4408,      0.4359,     0.38535,      0.3659,     0.33855,     0.24281,     0.21865,     0.19204,    0.047617,    0.025413],\n",
       "       [      0.655,       0.655,       0.655,     0.60526,     0.60526,     0.60389,     0.40609,     0.36219,     0.33776,           0],\n",
       "       [    0.72179,     0.66584,     0.64919,     0.64919,     0.61507,     0.56033,      0.5405,      0.4731,     0.32298,     0.04708],\n",
       "       [      0.995,       0.995,       0.995,     0.58476,     0.58476,     0.28159,     0.28159,    0.063839,    0.050598,           0],\n",
       "       [    0.54736,     0.54623,     0.54623,     0.54294,     0.50979,     0.50923,     0.39499,     0.30671,     0.27785,     0.15672],\n",
       "       [     0.5253,      0.5253,      0.5253,      0.5253,      0.5253,      0.5253,      0.5253,      0.5253,     0.49898,     0.49898],\n",
       "       [      0.995,       0.995,       0.995,       0.995,       0.995,       0.995,       0.995,       0.995,           0,           0],\n",
       "       [    0.36786,     0.36786,     0.36786,     0.36786,     0.36786,     0.36786,     0.36786,     0.36786,     0.34092,           0],\n",
       "       [    0.30786,     0.30786,     0.30786,     0.30786,     0.17379,     0.17379,     0.17379,     0.17379,     0.17379,           0],\n",
       "       [    0.69417,     0.69417,      0.6791,      0.6791,      0.6791,      0.6791,      0.6791,     0.62821,     0.62821,     0.34571],\n",
       "       [    0.27381,     0.26483,     0.26483,     0.26483,     0.26483,    0.077041,    0.077041,   0.0054038,   0.0054038,           0],\n",
       "       [       0.83,        0.83,        0.83,        0.83,       0.764,       0.764,      0.6701,     0.34003,     0.34003,     0.34003],\n",
       "       [     0.3566,      0.3566,      0.3566,      0.3566,     0.34012,     0.20391,     0.20391,     0.20391,     0.20391,     0.19712],\n",
       "       [    0.37102,     0.36122,     0.36122,     0.33845,     0.33845,     0.27245,     0.27245,     0.23963,    0.084737,           0],\n",
       "       [    0.77379,     0.77379,     0.77379,     0.77379,     0.77379,     0.77379,     0.77379,     0.46926,     0.36229,     0.21981],\n",
       "       [    0.45635,     0.41422,     0.33428,     0.31428,     0.26901,     0.19949,     0.17028,    0.077797,    0.014342,   0.0012609],\n",
       "       [    0.93915,     0.93915,     0.93915,     0.93915,     0.93915,     0.93915,     0.93915,     0.84619,     0.65152,    0.069964],\n",
       "       [      0.995,       0.995,       0.995,       0.995,       0.995,       0.995,       0.995,       0.995,       0.995,       0.995],\n",
       "       [   0.036852,           0,           0,           0,           0,           0,           0,           0,           0,           0],\n",
       "       [     0.6257,     0.58703,     0.57425,     0.55758,     0.49093,     0.36773,     0.27366,     0.21975,     0.17943,    0.050858],\n",
       "       [    0.43514,     0.43514,     0.43514,     0.43514,     0.43514,     0.31994,     0.17676,     0.17676,    0.059216,           0]])\n",
       "ap: array([    0.58978,     0.31508,     0.26113,     0.67425,     0.80754,     0.61813,     0.54413,     0.26969,     0.18443,     0.21144,     0.57983,     0.33543,     0.61801,      0.8153,     0.61708,       0.672,     0.69657,      0.8955,       0.995,     0.70124,     0.31597,     0.43468,     0.18131,     0.52348,\n",
       "           0.70704,     0.68873,     0.50816,     0.51309,     0.44654,     0.13798,     0.16978,     0.35279,     0.28473,     0.27971,     0.36562,     0.51523,     0.40124,     0.18453,     0.51806,     0.45075,     0.55762,     0.14096,     0.30717,     0.54772,     0.35219,     0.36654,     0.84659,     0.75377,\n",
       "           0.81697,     0.71762,      0.2693,     0.48854,     0.52451,     0.48321,     0.43381,     0.52004,       0.796,     0.32838,     0.21004,      0.6386,      0.1498,     0.65382,     0.27793,     0.26396,     0.64679,     0.22513,     0.81417,       0.995,   0.0036852,     0.39269,     0.29084])\n",
       "ap50: array([    0.80881,     0.42722,     0.42556,     0.92833,       0.995,     0.69947,       0.755,     0.44023,      0.3639,     0.40373,     0.82833,     0.64832,     0.94505,       0.995,     0.83649,       0.995,     0.91245,       0.995,       0.995,     0.94349,     0.50475,      0.6985,     0.29308,     0.71588,\n",
       "             0.995,     0.76025,       0.995,     0.72517,     0.66943,     0.46528,     0.50113,     0.68648,     0.48155,     0.57273,     0.57415,     0.77629,     0.54328,     0.19713,     0.67711,     0.67406,     0.67952,     0.33167,     0.33167,     0.70161,     0.45599,     0.53576,       0.995,     0.96167,\n",
       "           0.91145,     0.91167,      0.4408,       0.655,     0.72179,       0.995,     0.54736,      0.5253,       0.995,     0.36786,     0.30786,     0.69417,     0.27381,        0.83,      0.3566,     0.37102,     0.77379,     0.45635,     0.93915,       0.995,    0.036852,      0.6257,     0.43514])\n",
       "ap_class_index: array([ 0,  1,  2,  3,  4,  5,  6,  7,  8,  9, 11, 13, 14, 15, 16, 17, 20, 21, 22, 23, 24, 25, 26, 27, 28, 29, 30, 31, 32, 33, 34, 35, 36, 38, 39, 40, 41, 42, 43, 44, 45, 46, 48, 49, 50, 51, 52, 53, 54, 55, 56, 57, 58, 59, 60, 61, 62, 63, 64, 65, 67, 68, 69, 71, 72, 73, 74, 75, 76, 77, 79])\n",
       "f1: array([    0.75821,     0.42337,     0.35179,     0.88244,     0.86047,      0.6394,     0.49836,     0.33594,      0.2327,     0.30452,     0.50899,     0.49847,     0.82509,     0.85528,     0.71437,     0.92921,     0.87839,     0.77332,      0.9287,     0.76177,     0.38523,     0.65023,           0,     0.65543,\n",
       "           0.97468,     0.76117,      0.7775,      0.5175,     0.69454,     0.43881,     0.56841,     0.63901,     0.29925,     0.54479,     0.57014,     0.68209,     0.48861,     0.25604,     0.66292,     0.59124,     0.64046,           0,     0.15816,           0,     0.41756,     0.48034,     0.74952,       0.729,\n",
       "           0.75526,     0.72228,     0.34505,     0.56341,     0.65687,     0.90802,      0.4699,     0.53914,     0.88894,           0,           0,     0.73999,     0.38256,     0.66335,     0.38997,     0.43511,      0.6288,     0.16122,     0.78989,     0.53756,           0,     0.47648,     0.46618])\n",
       "map: 0.4816107113950196\n",
       "map50: 0.662073259632605\n",
       "map75: 0.5177139899439571\n",
       "maps: array([    0.58978,     0.31508,     0.26113,     0.67425,     0.80754,     0.61813,     0.54413,     0.26969,     0.18443,     0.21144,     0.48161,     0.57983,     0.48161,     0.33543,     0.61801,      0.8153,     0.61708,       0.672,     0.48161,     0.48161,     0.69657,      0.8955,       0.995,     0.70124,\n",
       "           0.31597,     0.43468,     0.18131,     0.52348,     0.70704,     0.68873,     0.50816,     0.51309,     0.44654,     0.13798,     0.16978,     0.35279,     0.28473,     0.48161,     0.27971,     0.36562,     0.51523,     0.40124,     0.18453,     0.51806,     0.45075,     0.55762,     0.14096,     0.48161,\n",
       "           0.30717,     0.54772,     0.35219,     0.36654,     0.84659,     0.75377,     0.81697,     0.71762,      0.2693,     0.48854,     0.52451,     0.48321,     0.43381,     0.52004,       0.796,     0.32838,     0.21004,      0.6386,     0.48161,      0.1498,     0.65382,     0.27793,     0.48161,     0.26396,\n",
       "           0.64679,     0.22513,     0.81417,       0.995,   0.0036852,     0.39269,     0.48161,     0.29084])\n",
       "mp: 0.7139930013114034\n",
       "mr: 0.5454169983473568\n",
       "nc: 80\n",
       "p: array([    0.89539,     0.64777,     0.83648,     0.78961,      0.7551,     0.67788,     0.39791,     0.51191,     0.38537,     0.72487,      0.5183,     0.98789,     0.83808,     0.74716,     0.66052,     0.86778,     0.87445,     0.63042,     0.86688,     0.66646,     0.61399,     0.77117,           1,     0.76838,\n",
       "           0.95062,     0.72594,     0.63599,     0.47286,     0.72484,      0.8167,     0.65851,     0.72473,     0.59404,     0.74751,     0.61434,     0.76606,     0.75527,     0.55206,     0.81682,     0.84552,     0.79611,           1,     0.11862,           1,           1,     0.64686,     0.59938,     0.57357,\n",
       "           0.60677,     0.56529,     0.52428,     0.72947,     0.79615,           1,     0.47857,     0.58494,     0.80008,           1,           1,     0.90684,      0.8144,     0.49628,     0.38043,     0.62636,      0.6605,     0.57212,     0.78184,     0.36758,           1,     0.87288,     0.55859])\n",
       "r: array([    0.65748,     0.31444,     0.22273,           1,           1,     0.60506,     0.66667,        0.25,     0.16667,     0.19275,         0.5,     0.33333,      0.8125,           1,     0.77778,           1,     0.88235,           1,           1,     0.88889,     0.28066,     0.56208,           0,     0.57143,\n",
       "                 1,         0.8,           1,     0.57143,     0.66667,         0.3,         0.5,     0.57143,         0.2,     0.42857,     0.53188,     0.61471,     0.36111,     0.16667,     0.55781,     0.45455,     0.53571,           0,     0.23724,           0,     0.26387,       0.382,           1,           1,\n",
       "                 1,           1,     0.25714,     0.45894,     0.55906,     0.83153,     0.46154,         0.5,           1,           0,           0,       0.625,        0.25,           1,         0.4,     0.33333,         0.6,    0.093833,     0.79811,           1,           0,     0.32767,         0.4])"
      ]
     },
     "execution_count": 27,
     "metadata": {},
     "output_type": "execute_result"
    }
   ],
   "source": [
    "metrics.box"
   ]
  },
  {
   "cell_type": "code",
   "execution_count": null,
   "id": "71ac98c1-890f-4647-b4c2-a6083543a952",
   "metadata": {},
   "outputs": [],
   "source": [
    "model"
   ]
  },
  {
   "cell_type": "code",
   "execution_count": null,
   "id": "f30f5bff-a916-4ba2-bee1-30dddc6b0606",
   "metadata": {},
   "outputs": [],
   "source": [
    "def eval_json(data_dir, predictions_dir):\n",
    "    \"\"\"Evaluates YOLO output in JSON format and returns performance statistics.\"\"\"\n",
    "    anno_json = data_dir\n",
    "    pred_json = predictions_dir+'/predictions.json'  # predictions\n",
    "    try:  # https://github.com/cocodataset/cocoapi/blob/master/PythonAPI/pycocoEvalDemo.ipynb\n",
    "        from pycocotools.coco import COCO  # noqa\n",
    "        from pycocotools.cocoeval import COCOeval  # noqa\n",
    "\n",
    "        anno = COCO(str(anno_json))  # init annotations api\n",
    "        pred = anno.loadRes(str(pred_json))  # init predictions api (must pass string, not Path)\n",
    "        eval = COCOeval(anno, pred, 'bbox')\n",
    "        if self.is_coco:\n",
    "            eval.params.imgIds = [int(Path(x).stem) for x in self.dataloader.dataset.im_files]  # images to eval\n",
    "        eval.evaluate()\n",
    "        eval.accumulate()\n",
    "        eval.summarize()\n",
    "    except Exception as e:\n",
    "        print(f'pycocotools unable to run: {e}')"
   ]
  },
  {
   "cell_type": "code",
   "execution_count": null,
   "id": "66871697-cee6-48a3-ae08-7db56ba3f409",
   "metadata": {},
   "outputs": [],
   "source": [
    "annType = ['bbox']      #specify type here\n",
    "prefix = 'instances'\n",
    "print('Running demo for *%s* results.'%(annType))\n",
    "dataDir='./../../datasets/coco/'\n",
    "dataType='val2017'\n",
    "annFile = '%s/annotations/%s_%s.json'%(dataDir,prefix,dataType)"
   ]
  },
  {
   "cell_type": "code",
   "execution_count": null,
   "id": "b6f6bc56-2bfb-4681-b296-97a3c5138533",
   "metadata": {},
   "outputs": [],
   "source": [
    "eval_json(annFile, './../../small-fast-detector/runs/detect/val19') #predictions_dir=str(results.save_dir)"
   ]
  },
  {
   "cell_type": "code",
   "execution_count": null,
   "id": "5e3737a9-b646-43fa-9baf-16f1b2f0f1d8",
   "metadata": {},
   "outputs": [],
   "source": [
    "s"
   ]
  }
 ],
 "metadata": {
  "kernelspec": {
   "display_name": "Python 3 (ipykernel)",
   "language": "python",
   "name": "python3"
  },
  "language_info": {
   "codemirror_mode": {
    "name": "ipython",
    "version": 3
   },
   "file_extension": ".py",
   "mimetype": "text/x-python",
   "name": "python",
   "nbconvert_exporter": "python",
   "pygments_lexer": "ipython3",
   "version": "3.8.10"
  }
 },
 "nbformat": 4,
 "nbformat_minor": 5
}
