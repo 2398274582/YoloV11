{
 "cells": [
  {
   "cell_type": "code",
   "execution_count": 1,
   "metadata": {
    "ExecuteTime": {
     "end_time": "2023-09-07T06:35:58.364025Z",
     "start_time": "2023-09-07T06:35:58.359717Z"
    },
    "pycharm": {
     "name": "#%%\n"
    }
   },
   "outputs": [],
   "source": [
    "import os\n",
    "import json\n",
    "import shutil"
   ]
  },
  {
   "cell_type": "markdown",
   "metadata": {
    "collapsed": false,
    "jupyter": {
     "outputs_hidden": false
    },
    "pycharm": {
     "name": "#%% md\n"
    }
   },
   "source": [
    "## TJU-DHD-Traffic Dataset"
   ]
  },
  {
   "cell_type": "markdown",
   "metadata": {
    "pycharm": {
     "name": "#%% md\n"
    }
   },
   "source": [
    "### Creating a new empty dataset"
   ]
  },
  {
   "cell_type": "code",
   "execution_count": 2,
   "metadata": {
    "pycharm": {
     "name": "#%%\n"
    }
   },
   "outputs": [],
   "source": [
    "root_path = '/Users/inaki-eab/Desktop/datasets'\n",
    "#root_path = '/data-fast/127-data2/ierregue/datasets'\n",
    "\n",
    "dataset_name = 'custom_tju'\n",
    "\n",
    "new_dataset_root = os.path.join(root_path, dataset_name)\n",
    "\n",
    "# Create folder structure\n",
    "if not os.path.isdir(new_dataset_root):\n",
    "    os.makedirs(new_dataset_root)\n",
    "    os.makedirs(os.path.join(new_dataset_root, 'labels','train'))\n",
    "    os.makedirs(os.path.join(new_dataset_root, 'labels','test'))\n",
    "    os.makedirs(os.path.join(new_dataset_root, 'labels','val'))\n",
    "    os.makedirs(os.path.join(new_dataset_root, 'images','train'))\n",
    "    os.makedirs(os.path.join(new_dataset_root, 'images','test'))\n",
    "    os.makedirs(os.path.join(new_dataset_root, 'images','val'))"
   ]
  },
  {
   "cell_type": "markdown",
   "metadata": {
    "pycharm": {
     "name": "#%% md\n"
    }
   },
   "source": [
    "### Inspecting label format"
   ]
  },
  {
   "cell_type": "code",
   "execution_count": 3,
   "metadata": {
    "pycharm": {
     "name": "#%%\n"
    }
   },
   "outputs": [],
   "source": [
    "original_dataset_path = 'TJU-DHD-traffic'\n",
    "original_dataset_root = os.path.join(root_path, original_dataset_path)"
   ]
  },
  {
   "cell_type": "code",
   "execution_count": 4,
   "metadata": {
    "pycharm": {
     "name": "#%%\n"
    }
   },
   "outputs": [
    {
     "ename": "FileNotFoundError",
     "evalue": "[Errno 2] No such file or directory: '/Users/inaki-eab/Desktop/datasets/TJU-DHD-traffic/annotations/dhd_traffic_val.json'",
     "output_type": "error",
     "traceback": [
      "\u001B[0;31m---------------------------------------------------------------------------\u001B[0m",
      "\u001B[0;31mFileNotFoundError\u001B[0m                         Traceback (most recent call last)",
      "Cell \u001B[0;32mIn[4], line 2\u001B[0m\n\u001B[1;32m      1\u001B[0m original_dataset_annot \u001B[38;5;241m=\u001B[39m os\u001B[38;5;241m.\u001B[39mpath\u001B[38;5;241m.\u001B[39mjoin(original_dataset_root, \u001B[38;5;124m'\u001B[39m\u001B[38;5;124mannotations\u001B[39m\u001B[38;5;124m'\u001B[39m)\n\u001B[0;32m----> 2\u001B[0m \u001B[38;5;28;01mwith\u001B[39;00m \u001B[38;5;28;43mopen\u001B[39;49m\u001B[43m(\u001B[49m\u001B[43moriginal_dataset_annot\u001B[49m\u001B[43m \u001B[49m\u001B[38;5;241;43m+\u001B[39;49m\u001B[43m \u001B[49m\u001B[38;5;124;43m'\u001B[39;49m\u001B[38;5;124;43m/dhd_traffic_val.json\u001B[39;49m\u001B[38;5;124;43m'\u001B[39;49m\u001B[43m,\u001B[49m\u001B[43m \u001B[49m\u001B[38;5;124;43m\"\u001B[39;49m\u001B[38;5;124;43mr\u001B[39;49m\u001B[38;5;124;43m\"\u001B[39;49m\u001B[43m)\u001B[49m \u001B[38;5;28;01mas\u001B[39;00m read_file:\n\u001B[1;32m      3\u001B[0m     data \u001B[38;5;241m=\u001B[39m json\u001B[38;5;241m.\u001B[39mload(read_file)\n",
      "File \u001B[0;32m~/miniforge3/envs/sfd/lib/python3.11/site-packages/IPython/core/interactiveshell.py:284\u001B[0m, in \u001B[0;36m_modified_open\u001B[0;34m(file, *args, **kwargs)\u001B[0m\n\u001B[1;32m    277\u001B[0m \u001B[38;5;28;01mif\u001B[39;00m file \u001B[38;5;129;01min\u001B[39;00m {\u001B[38;5;241m0\u001B[39m, \u001B[38;5;241m1\u001B[39m, \u001B[38;5;241m2\u001B[39m}:\n\u001B[1;32m    278\u001B[0m     \u001B[38;5;28;01mraise\u001B[39;00m \u001B[38;5;167;01mValueError\u001B[39;00m(\n\u001B[1;32m    279\u001B[0m         \u001B[38;5;124mf\u001B[39m\u001B[38;5;124m\"\u001B[39m\u001B[38;5;124mIPython won\u001B[39m\u001B[38;5;124m'\u001B[39m\u001B[38;5;124mt let you open fd=\u001B[39m\u001B[38;5;132;01m{\u001B[39;00mfile\u001B[38;5;132;01m}\u001B[39;00m\u001B[38;5;124m by default \u001B[39m\u001B[38;5;124m\"\u001B[39m\n\u001B[1;32m    280\u001B[0m         \u001B[38;5;124m\"\u001B[39m\u001B[38;5;124mas it is likely to crash IPython. If you know what you are doing, \u001B[39m\u001B[38;5;124m\"\u001B[39m\n\u001B[1;32m    281\u001B[0m         \u001B[38;5;124m\"\u001B[39m\u001B[38;5;124myou can use builtins\u001B[39m\u001B[38;5;124m'\u001B[39m\u001B[38;5;124m open.\u001B[39m\u001B[38;5;124m\"\u001B[39m\n\u001B[1;32m    282\u001B[0m     )\n\u001B[0;32m--> 284\u001B[0m \u001B[38;5;28;01mreturn\u001B[39;00m \u001B[43mio_open\u001B[49m\u001B[43m(\u001B[49m\u001B[43mfile\u001B[49m\u001B[43m,\u001B[49m\u001B[43m \u001B[49m\u001B[38;5;241;43m*\u001B[39;49m\u001B[43margs\u001B[49m\u001B[43m,\u001B[49m\u001B[43m \u001B[49m\u001B[38;5;241;43m*\u001B[39;49m\u001B[38;5;241;43m*\u001B[39;49m\u001B[43mkwargs\u001B[49m\u001B[43m)\u001B[49m\n",
      "\u001B[0;31mFileNotFoundError\u001B[0m: [Errno 2] No such file or directory: '/Users/inaki-eab/Desktop/datasets/TJU-DHD-traffic/annotations/dhd_traffic_val.json'"
     ]
    }
   ],
   "source": [
    "original_dataset_annot = os.path.join(original_dataset_root, 'annotations')\n",
    "with open(original_dataset_annot + '/dhd_traffic_val.json', \"r\") as read_file:\n",
    "    data = json.load(read_file)"
   ]
  },
  {
   "cell_type": "code",
   "execution_count": 24,
   "metadata": {
    "pycharm": {
     "name": "#%%\n"
    }
   },
   "outputs": [
    {
     "data": {
      "text/plain": [
       "dict_keys(['images', 'categories', 'annotations'])"
      ]
     },
     "execution_count": 24,
     "metadata": {},
     "output_type": "execute_result"
    }
   ],
   "source": [
    "data.keys()"
   ]
  },
  {
   "cell_type": "code",
   "execution_count": 25,
   "metadata": {
    "pycharm": {
     "name": "#%%\n"
    }
   },
   "outputs": [
    {
     "data": {
      "text/plain": [
       "5000"
      ]
     },
     "execution_count": 25,
     "metadata": {},
     "output_type": "execute_result"
    }
   ],
   "source": [
    "len(data['images'])"
   ]
  },
  {
   "cell_type": "code",
   "execution_count": 26,
   "metadata": {
    "pycharm": {
     "name": "#%%\n"
    }
   },
   "outputs": [
    {
     "data": {
      "text/plain": [
       "{'id': 0, 'width': 1624, 'height': 1200, 'file_name': '1496888435770.jpg'}"
      ]
     },
     "execution_count": 26,
     "metadata": {},
     "output_type": "execute_result"
    }
   ],
   "source": [
    "data['images'][0]"
   ]
  },
  {
   "cell_type": "code",
   "execution_count": 42,
   "metadata": {
    "pycharm": {
     "name": "#%%\n"
    }
   },
   "outputs": [
    {
     "data": {
      "text/plain": [
       "[{'id': 1, 'name': 'Pedestrian'},\n",
       " {'id': 2, 'name': 'Cyclist'},\n",
       " {'id': 3, 'name': 'Car'},\n",
       " {'id': 4, 'name': 'Truck'},\n",
       " {'id': 5, 'name': 'Van'}]"
      ]
     },
     "execution_count": 42,
     "metadata": {},
     "output_type": "execute_result"
    }
   ],
   "source": [
    "data['categories']\n",
    "#TODO: there is an unkown class with id 0"
   ]
  },
  {
   "cell_type": "code",
   "execution_count": 28,
   "metadata": {
    "pycharm": {
     "name": "#%%\n"
    }
   },
   "outputs": [
    {
     "data": {
      "text/plain": [
       "34787"
      ]
     },
     "execution_count": 28,
     "metadata": {},
     "output_type": "execute_result"
    }
   ],
   "source": [
    "len(data['annotations'])"
   ]
  },
  {
   "cell_type": "code",
   "execution_count": 29,
   "metadata": {
    "pycharm": {
     "name": "#%%\n"
    }
   },
   "outputs": [
    {
     "data": {
      "text/plain": [
       "{'id': 0,\n",
       " 'image_id': 0,\n",
       " 'segmentation': [[1291.48,\n",
       "   656.186,\n",
       "   1291.48,\n",
       "   944.4300000000001,\n",
       "   1622.002,\n",
       "   944.4300000000001,\n",
       "   1622.002,\n",
       "   656.186]],\n",
       " 'iscrowd': 0,\n",
       " 'ignore': 0,\n",
       " 'category_id': 3,\n",
       " 'area': 95890.74936799999,\n",
       " 'bbox': [1291.47998046875,\n",
       "  656.1859741210938,\n",
       "  331.52197265625,\n",
       "  289.2440185546875]}"
      ]
     },
     "execution_count": 29,
     "metadata": {},
     "output_type": "execute_result"
    }
   ],
   "source": [
    "data['annotations'][0]"
   ]
  },
  {
   "cell_type": "markdown",
   "metadata": {
    "pycharm": {
     "name": "#%% md\n"
    }
   },
   "source": [
    "It is COCO format!!"
   ]
  },
  {
   "cell_type": "markdown",
   "metadata": {
    "pycharm": {
     "name": "#%% md\n"
    }
   },
   "source": [
    "## COCO fromat to Yolo"
   ]
  },
  {
   "cell_type": "code",
   "execution_count": 21,
   "metadata": {
    "pycharm": {
     "name": "#%%\n"
    }
   },
   "outputs": [],
   "source": [
    "from ultralytics.data.converter import convert_coco"
   ]
  },
  {
   "cell_type": "code",
   "execution_count": 30,
   "metadata": {
    "pycharm": {
     "name": "#%%\n"
    }
   },
   "outputs": [
    {
     "name": "stderr",
     "output_type": "stream",
     "text": [
      "Annotations /Users/inaki-eab/Desktop/datasets/TJU-DHD-traffic/annotations/dhd_traffic_train.json: 100%|██████████| 45256/45256 [00:06<00:00, 7114.85it/s]\n",
      "Annotations /Users/inaki-eab/Desktop/datasets/TJU-DHD-traffic/annotations/dhd_traffic_val.json: 100%|██████████| 4997/4997 [00:00<00:00, 7055.49it/s]\n"
     ]
    }
   ],
   "source": [
    "# Generates labels in the directory of the notebook, should be moved. It also shifts original labels to star from 0.\n",
    "convert_coco(\n",
    "    labels_dir=original_dataset_annot,\n",
    "    use_segments=False,\n",
    "    use_keypoints=False,\n",
    "    cls91to80=False)"
   ]
  },
  {
   "cell_type": "markdown",
   "metadata": {
    "pycharm": {
     "name": "#%% md\n"
    }
   },
   "source": [
    "### Selecting desired images"
   ]
  },
  {
   "cell_type": "code",
   "execution_count": 5,
   "metadata": {
    "pycharm": {
     "name": "#%%\n"
    }
   },
   "outputs": [],
   "source": [
    "# Have been shifted\n",
    "wanted_indices = [\n",
    "    0, #person/pedestrian\n",
    "    1, #rider\n",
    "    2, #car\n",
    "    3, #truck\n",
    "    4, #van\n",
    "    #TODO: shoul we add 5:van as truck?\n",
    "]"
   ]
  },
  {
   "cell_type": "code",
   "execution_count": 6,
   "metadata": {
    "pycharm": {
     "name": "#%%\n"
    }
   },
   "outputs": [],
   "source": [
    "def clean_map_file(file):\n",
    "# Mapping should be performed only once\n",
    "    \n",
    "    class_index_map = {\n",
    "        0:0, # person/personnel\n",
    "        1:0, # rider to person\n",
    "        2:1, # car\n",
    "        3:2, # truck\n",
    "        4:2 # van to truck\n",
    "    }\n",
    "    \n",
    "    with open(file, 'r+') as fp:\n",
    "        # read an store all lines into list\n",
    "        lines = fp.readlines()\n",
    "        # move file pointer to the beginning of a file\n",
    "        fp.seek(0)\n",
    "        # truncate the file\n",
    "        fp.truncate()\n",
    "    \n",
    "        # start writing lines\n",
    "        # iterate line and line number\n",
    "        for number, line in enumerate(lines):\n",
    "            # Only write rows of interested instances\n",
    "            old_class_id = int(line.split()[0])\n",
    "            if old_class_id in wanted_indices:\n",
    "                # map old class indices to new ones\n",
    "                new_class_id = class_index_map[old_class_id]\n",
    "                new_line_splitted = line.split()\n",
    "                new_line_splitted[0] = str(new_class_id)\n",
    "                new_line = ' '.join(new_line_splitted)\n",
    "                fp.write(new_line+'\\n')"
   ]
  },
  {
   "cell_type": "code",
   "execution_count": 7,
   "metadata": {
    "pycharm": {
     "name": "#%%\n"
    }
   },
   "outputs": [],
   "source": [
    "def move_desired_files(\n",
    "    original_dataset_root, #../datasets/old_dataset\n",
    "    target_dataset_root, # ../datasets/new_dataset\n",
    "    original_dataset_slice, # liketrain,test,val\n",
    "    target_dataset_slice, # train,test,val\n",
    "    wanted_indices # list of desired indices\n",
    "):\n",
    "    # Empty list to store the selected files containing at list one of the desired objects\n",
    "    selected_images = []\n",
    "    \n",
    "    \n",
    "    original_labels_dir = os.path.join(original_dataset_root, 'labels', original_dataset_slice)\n",
    "    original_images_dir = os.path.join(original_dataset_root, 'images', original_dataset_slice)\n",
    "\n",
    "    # Iterate over all files in the original dataset labels folder\n",
    "    for filename in os.listdir(original_labels_dir):\n",
    "        if filename.endswith('.txt'):\n",
    "            # Read file\n",
    "            with open(os.path.join(original_labels_dir, filename), \"r\") as f:\n",
    "                # Empty list to store objects/instances present in image\n",
    "                indices_in_file = []\n",
    "                # Iterate over instances in image and get present class ids\n",
    "                for line in f:\n",
    "                    indices_in_file.append(int(line.split()[0]))\n",
    "                # If any present class ids is a class id of interest, get its filename\n",
    "                if any((True for x in indices_in_file if x in wanted_indices)):\n",
    "                    # Get only name, no '.txt' extension\n",
    "                    selected_images.append(os.path.splitext(filename)[0])\n",
    "                    # Copy *.txt folder\n",
    "                    shutil.copy(os.path.join(original_labels_dir, filename), os.path.join(target_dataset_root, 'labels', target_dataset_slice))\n",
    "                    # Copy *jpg image\n",
    "                    img_path = os.path.join(original_images_dir, os.path.splitext(filename)[0]+'.jpg')\n",
    "                    shutil.copy(img_path, os.path.join(target_dataset_root, 'images', target_dataset_slice))\n",
    "\n",
    "                    # Map old index to new one and delete unwanted instances\n",
    "                    clean_map_file(os.path.join(target_dataset_root, 'labels', target_dataset_slice, filename))\n",
    "                    \n",
    "    return selected_images"
   ]
  },
  {
   "cell_type": "code",
   "execution_count": 8,
   "metadata": {
    "pycharm": {
     "name": "#%%\n"
    }
   },
   "outputs": [],
   "source": [
    "val_indices = move_desired_files(original_dataset_root, \n",
    "                                   new_dataset_root, \n",
    "                                   'val', \n",
    "                                   'val', \n",
    "                                   wanted_indices)"
   ]
  },
  {
   "cell_type": "code",
   "execution_count": 9,
   "metadata": {
    "pycharm": {
     "name": "#%%\n"
    }
   },
   "outputs": [],
   "source": [
    "train_indices = move_desired_files(original_dataset_root, \n",
    "                                   new_dataset_root, \n",
    "                                   'train', \n",
    "                                   'train', \n",
    "                                   wanted_indices)"
   ]
  },
  {
   "cell_type": "markdown",
   "metadata": {
    "pycharm": {
     "name": "#%% md\n"
    }
   },
   "source": [
    "## Rename files"
   ]
  },
  {
   "cell_type": "code",
   "execution_count": 10,
   "metadata": {
    "pycharm": {
     "name": "#%%\n"
    }
   },
   "outputs": [],
   "source": [
    "old_len_img_train = len(os.listdir(os.path.join(new_dataset_root,'images','train')))\n",
    "old_len_img_val = len(os.listdir(os.path.join(new_dataset_root,'images','val')))\n",
    "old_len_txt_val = len(os.listdir(os.path.join(new_dataset_root,'labels','val')))\n",
    "old_len_txt_train = len(os.listdir(os.path.join(new_dataset_root,'labels','train')))"
   ]
  },
  {
   "cell_type": "code",
   "execution_count": 11,
   "metadata": {
    "pycharm": {
     "name": "#%%\n"
    }
   },
   "outputs": [],
   "source": [
    "import re\n",
    "\n",
    "def rename_dir(dir, shift=1):\n",
    "    files = [f for f in os.listdir(dir)]\n",
    "    files.sort(key=lambda x: int(re.match(r'\\d+', x).group()))\n",
    "    \n",
    "    for idx, old_filename in enumerate(files):\n",
    "        extension = os.path.splitext(old_filename)[1]\n",
    "        new_filename = f'{idx+shift}{extension}'\n",
    "        old_path = os.path.join(dir, old_filename)\n",
    "        new_path = os.path.join(dir, new_filename)\n",
    "        os.rename(old_path, new_path)"
   ]
  },
  {
   "cell_type": "code",
   "execution_count": 12,
   "metadata": {
    "pycharm": {
     "name": "#%%\n"
    }
   },
   "outputs": [],
   "source": [
    "rename_dir(os.path.join(new_dataset_root,'images','train'))\n",
    "rename_dir(os.path.join(new_dataset_root,'images','val'))\n",
    "rename_dir(os.path.join(new_dataset_root,'labels','train'))\n",
    "rename_dir(os.path.join(new_dataset_root,'labels','val'))"
   ]
  },
  {
   "cell_type": "code",
   "execution_count": 13,
   "metadata": {
    "pycharm": {
     "name": "#%%\n"
    }
   },
   "outputs": [],
   "source": [
    "# CHECK THAT WE HAVE THE SAME NUMBER OF FILES\n",
    "assert old_len_img_train == len(os.listdir(os.path.join(new_dataset_root,'images','train')))\n",
    "assert old_len_img_val == len(os.listdir(os.path.join(new_dataset_root,'images','val')))\n",
    "assert old_len_txt_val == len(os.listdir(os.path.join(new_dataset_root,'labels','val')))\n",
    "assert old_len_txt_train == len(os.listdir(os.path.join(new_dataset_root,'labels','train')))"
   ]
  },
  {
   "cell_type": "markdown",
   "metadata": {
    "pycharm": {
     "name": "#%% md\n"
    }
   },
   "source": [
    "### Inspecting the new dataset"
   ]
  },
  {
   "cell_type": "code",
   "execution_count": 14,
   "metadata": {
    "pycharm": {
     "name": "#%%\n"
    }
   },
   "outputs": [],
   "source": [
    "import pandas as pd\n",
    "import imagesize\n",
    "import matplotlib.pyplot as plt"
   ]
  },
  {
   "cell_type": "code",
   "execution_count": 15,
   "metadata": {
    "pycharm": {
     "name": "#%%\n"
    }
   },
   "outputs": [],
   "source": [
    "class_names = {\n",
    "    0:'person',\n",
    "    1:'car', \n",
    "    2:'truck', \n",
    "    3:'uav', \n",
    "    4:'airplane', \n",
    "    5:'ship'\n",
    "}"
   ]
  },
  {
   "cell_type": "code",
   "execution_count": 16,
   "metadata": {
    "pycharm": {
     "name": "#%%\n"
    }
   },
   "outputs": [],
   "source": [
    "def inspect_dataset(\n",
    "    target_dataset_root, # ../datasets/new_dataset\n",
    "    target_dataset_slice, # train,test,val\n",
    "):\n",
    "    info = [] #list of lists, each list corresponds to an instance [cls_id, x, y, w, h, img]\n",
    "    \n",
    "    \n",
    "    target_labels_dir = os.path.join(target_dataset_root, 'labels', target_dataset_slice)\n",
    "\n",
    "    # Iterate over all files in the original dataset labels folder\n",
    "    for filename in os.listdir(target_labels_dir):\n",
    "        if filename.endswith('.txt'):\n",
    "            # Read file\n",
    "            with open(os.path.join(target_labels_dir, filename), \"r\") as f:\n",
    "                # Iterate over instances in image and get present class ids\n",
    "                for line in f:\n",
    "                    line_data = []\n",
    "                    # label data\n",
    "                    line_data = line.split()\n",
    "                    # Image name\n",
    "                    line_data.append(os.path.splitext(filename)[0])\n",
    "                    # Image size: could be done at image level and not row level\n",
    "                    img_path = os.path.join(target_dataset_root,'images',target_dataset_slice, os.path.splitext(filename)[0]+'.jpg')\n",
    "                    img_w, img_h = imagesize.get(img_path)\n",
    "                    line_data.extend([img_w, img_h])\n",
    "                    # Append line data to info\n",
    "                    info.append(line_data)\n",
    "\n",
    "    df = pd.DataFrame(info, columns=['new_class_id', 'xcn', 'ycn', 'wn', 'hn', 'img', 'img_w', 'img_h'])\n",
    "    df = df.astype('float32').astype({'new_class_id':'int32', 'img':'int64'})\n",
    "    df['class_name'] = df['new_class_id'].map(class_names)\n",
    "    return df"
   ]
  },
  {
   "cell_type": "code",
   "execution_count": 17,
   "metadata": {
    "pycharm": {
     "name": "#%%\n"
    }
   },
   "outputs": [
    {
     "data": {
      "text/html": [
       "<div>\n",
       "<style scoped>\n",
       "    .dataframe tbody tr th:only-of-type {\n",
       "        vertical-align: middle;\n",
       "    }\n",
       "\n",
       "    .dataframe tbody tr th {\n",
       "        vertical-align: top;\n",
       "    }\n",
       "\n",
       "    .dataframe thead th {\n",
       "        text-align: right;\n",
       "    }\n",
       "</style>\n",
       "<table border=\"1\" class=\"dataframe\">\n",
       "  <thead>\n",
       "    <tr style=\"text-align: right;\">\n",
       "      <th></th>\n",
       "      <th>new_class_id</th>\n",
       "      <th>xcn</th>\n",
       "      <th>ycn</th>\n",
       "      <th>wn</th>\n",
       "      <th>hn</th>\n",
       "      <th>img</th>\n",
       "      <th>img_w</th>\n",
       "      <th>img_h</th>\n",
       "      <th>class_name</th>\n",
       "    </tr>\n",
       "  </thead>\n",
       "  <tbody>\n",
       "    <tr>\n",
       "      <th>0</th>\n",
       "      <td>2</td>\n",
       "      <td>0.231835</td>\n",
       "      <td>0.512500</td>\n",
       "      <td>0.088054</td>\n",
       "      <td>0.113333</td>\n",
       "      <td>27869</td>\n",
       "      <td>1624.0</td>\n",
       "      <td>1200.0</td>\n",
       "      <td>truck</td>\n",
       "    </tr>\n",
       "    <tr>\n",
       "      <th>1</th>\n",
       "      <td>1</td>\n",
       "      <td>0.072009</td>\n",
       "      <td>0.539945</td>\n",
       "      <td>0.108395</td>\n",
       "      <td>0.070248</td>\n",
       "      <td>11303</td>\n",
       "      <td>1624.0</td>\n",
       "      <td>1200.0</td>\n",
       "      <td>car</td>\n",
       "    </tr>\n",
       "    <tr>\n",
       "      <th>2</th>\n",
       "      <td>0</td>\n",
       "      <td>0.862835</td>\n",
       "      <td>0.584366</td>\n",
       "      <td>0.043256</td>\n",
       "      <td>0.102617</td>\n",
       "      <td>11303</td>\n",
       "      <td>1624.0</td>\n",
       "      <td>1200.0</td>\n",
       "      <td>person</td>\n",
       "    </tr>\n",
       "    <tr>\n",
       "      <th>3</th>\n",
       "      <td>2</td>\n",
       "      <td>0.282946</td>\n",
       "      <td>0.563705</td>\n",
       "      <td>0.118064</td>\n",
       "      <td>0.142562</td>\n",
       "      <td>11303</td>\n",
       "      <td>1624.0</td>\n",
       "      <td>1200.0</td>\n",
       "      <td>truck</td>\n",
       "    </tr>\n",
       "    <tr>\n",
       "      <th>4</th>\n",
       "      <td>1</td>\n",
       "      <td>0.388287</td>\n",
       "      <td>0.523760</td>\n",
       "      <td>0.021374</td>\n",
       "      <td>0.025482</td>\n",
       "      <td>11303</td>\n",
       "      <td>1624.0</td>\n",
       "      <td>1200.0</td>\n",
       "      <td>car</td>\n",
       "    </tr>\n",
       "    <tr>\n",
       "      <th>...</th>\n",
       "      <td>...</td>\n",
       "      <td>...</td>\n",
       "      <td>...</td>\n",
       "      <td>...</td>\n",
       "      <td>...</td>\n",
       "      <td>...</td>\n",
       "      <td>...</td>\n",
       "      <td>...</td>\n",
       "      <td>...</td>\n",
       "    </tr>\n",
       "    <tr>\n",
       "      <th>239975</th>\n",
       "      <td>1</td>\n",
       "      <td>0.484149</td>\n",
       "      <td>0.561167</td>\n",
       "      <td>0.111343</td>\n",
       "      <td>0.085214</td>\n",
       "      <td>29685</td>\n",
       "      <td>1624.0</td>\n",
       "      <td>1200.0</td>\n",
       "      <td>car</td>\n",
       "    </tr>\n",
       "    <tr>\n",
       "      <th>239976</th>\n",
       "      <td>1</td>\n",
       "      <td>0.089842</td>\n",
       "      <td>0.557011</td>\n",
       "      <td>0.179684</td>\n",
       "      <td>0.101842</td>\n",
       "      <td>29685</td>\n",
       "      <td>1624.0</td>\n",
       "      <td>1200.0</td>\n",
       "      <td>car</td>\n",
       "    </tr>\n",
       "    <tr>\n",
       "      <th>239977</th>\n",
       "      <td>1</td>\n",
       "      <td>0.751754</td>\n",
       "      <td>0.551815</td>\n",
       "      <td>0.047609</td>\n",
       "      <td>0.035333</td>\n",
       "      <td>29685</td>\n",
       "      <td>1624.0</td>\n",
       "      <td>1200.0</td>\n",
       "      <td>car</td>\n",
       "    </tr>\n",
       "    <tr>\n",
       "      <th>239978</th>\n",
       "      <td>1</td>\n",
       "      <td>0.354768</td>\n",
       "      <td>0.690793</td>\n",
       "      <td>0.443320</td>\n",
       "      <td>0.459511</td>\n",
       "      <td>38950</td>\n",
       "      <td>1624.0</td>\n",
       "      <td>1200.0</td>\n",
       "      <td>car</td>\n",
       "    </tr>\n",
       "    <tr>\n",
       "      <th>239979</th>\n",
       "      <td>1</td>\n",
       "      <td>0.539767</td>\n",
       "      <td>0.554160</td>\n",
       "      <td>0.136493</td>\n",
       "      <td>0.207619</td>\n",
       "      <td>38950</td>\n",
       "      <td>1624.0</td>\n",
       "      <td>1200.0</td>\n",
       "      <td>car</td>\n",
       "    </tr>\n",
       "  </tbody>\n",
       "</table>\n",
       "<p>239980 rows × 9 columns</p>\n",
       "</div>"
      ],
      "text/plain": [
       "        new_class_id       xcn       ycn        wn        hn    img   img_w  \\\n",
       "0                  2  0.231835  0.512500  0.088054  0.113333  27869  1624.0   \n",
       "1                  1  0.072009  0.539945  0.108395  0.070248  11303  1624.0   \n",
       "2                  0  0.862835  0.584366  0.043256  0.102617  11303  1624.0   \n",
       "3                  2  0.282946  0.563705  0.118064  0.142562  11303  1624.0   \n",
       "4                  1  0.388287  0.523760  0.021374  0.025482  11303  1624.0   \n",
       "...              ...       ...       ...       ...       ...    ...     ...   \n",
       "239975             1  0.484149  0.561167  0.111343  0.085214  29685  1624.0   \n",
       "239976             1  0.089842  0.557011  0.179684  0.101842  29685  1624.0   \n",
       "239977             1  0.751754  0.551815  0.047609  0.035333  29685  1624.0   \n",
       "239978             1  0.354768  0.690793  0.443320  0.459511  38950  1624.0   \n",
       "239979             1  0.539767  0.554160  0.136493  0.207619  38950  1624.0   \n",
       "\n",
       "         img_h class_name  \n",
       "0       1200.0      truck  \n",
       "1       1200.0        car  \n",
       "2       1200.0     person  \n",
       "3       1200.0      truck  \n",
       "4       1200.0        car  \n",
       "...        ...        ...  \n",
       "239975  1200.0        car  \n",
       "239976  1200.0        car  \n",
       "239977  1200.0        car  \n",
       "239978  1200.0        car  \n",
       "239979  1200.0        car  \n",
       "\n",
       "[239980 rows x 9 columns]"
      ]
     },
     "execution_count": 17,
     "metadata": {},
     "output_type": "execute_result"
    }
   ],
   "source": [
    "df = inspect_dataset(new_dataset_root, 'train')\n",
    "df"
   ]
  },
  {
   "cell_type": "code",
   "execution_count": 18,
   "metadata": {
    "pycharm": {
     "name": "#%%\n"
    }
   },
   "outputs": [
    {
     "name": "stdout",
     "output_type": "stream",
     "text": [
      "The number of objects is 239980\n",
      "The number of images is 45248\n"
     ]
    }
   ],
   "source": [
    "print(f\"The number of objects is {len(df)}\")\n",
    "print(f\"The number of images is {len(df['img'].unique())}\")"
   ]
  },
  {
   "cell_type": "code",
   "execution_count": 19,
   "metadata": {
    "pycharm": {
     "name": "#%%\n"
    }
   },
   "outputs": [],
   "source": [
    "# Create dir to store plots\n",
    "save_dir = './data/dataset_creation'\n",
    "if not os.path.isdir(save_dir):\n",
    "    os.makedirs(save_dir)"
   ]
  },
  {
   "cell_type": "code",
   "execution_count": 20,
   "metadata": {
    "pycharm": {
     "name": "#%%\n"
    }
   },
   "outputs": [
    {
     "data": {
      "image/png": "[encoded data removed]",
      "text/plain": [
       "<Figure size 800x600 with 1 Axes>"
      ]
     },
     "metadata": {},
     "output_type": "display_data"
    }
   ],
   "source": [
    "fig = plt.figure(figsize=(8, 6))\n",
    "ax = df['class_name'].value_counts().plot(kind='bar')\n",
    "# Set x-axis label\n",
    "ax.set_xlabel(\"Classes\", weight='bold', size=12)\n",
    "# Set y-axis label\n",
    "ax.set_ylabel(\"Counts\", weight='bold', size=12)\n",
    "ax.ticklabel_format(axis='y', style='sci', scilimits=(-3,3))\n",
    "ax.set_xticklabels(ax.get_xticklabels(), rotation=45)\n",
    "None\n",
    "fig.savefig(save_dir+'/tju_class_counts.png', bbox_inches = 'tight')"
   ]
  },
  {
   "cell_type": "code",
   "execution_count": 24,
   "metadata": {
    "pycharm": {
     "name": "#%%\n"
    }
   },
   "outputs": [
    {
     "data": {
      "image/png": "[encoded data removed]",
      "text/plain": [
       "<Figure size 1000x600 with 1 Axes>"
      ]
     },
     "metadata": {},
     "output_type": "display_data"
    }
   ],
   "source": [
    "fig = plt.figure(figsize=(10, 6))\n",
    "ax = df.groupby(by=['img'])['img'].count().value_counts().sort_index().plot(kind='bar')\n",
    "# Set x-axis label\n",
    "ax.set_xlabel(\"Instances per image\", weight='bold', size=12)\n",
    "# Set y-axis label\n",
    "ax.set_ylabel(\"Counts\", weight='bold', size=12)\n",
    "ax.ticklabel_format(axis='y', style='sci', scilimits=(-3,3))\n",
    "ax.set_xticklabels(ax.get_xticklabels(), rotation=0)\n",
    "None\n",
    "fig.savefig(save_dir+'/tju_instances_count.png', bbox_inches = 'tight')"
   ]
  },
  {
   "cell_type": "code",
   "execution_count": 25,
   "metadata": {
    "pycharm": {
     "name": "#%%\n"
    }
   },
   "outputs": [],
   "source": [
    "df['bbox_area'] = (df['wn']*df['img_w'])*(df['hn']*df['img_h'])\n",
    "bin_edges = [0, 16**2, 32**2, 96**2, float('inf')]\n",
    "bin_labels = ['tiny', 'small', 'medium', 'large']\n",
    "df['bbox_size_category'] = pd.cut(df['bbox_area'], bins=bin_edges, labels=bin_labels, right=False)"
   ]
  },
  {
   "cell_type": "code",
   "execution_count": 26,
   "metadata": {
    "pycharm": {
     "name": "#%%\n"
    }
   },
   "outputs": [
    {
     "data": {
      "image/png": "[encoded data removed]",
      "text/plain": [
       "<Figure size 800x600 with 1 Axes>"
      ]
     },
     "metadata": {},
     "output_type": "display_data"
    }
   ],
   "source": [
    "fig = plt.figure(figsize=(8, 6))\n",
    "ax = df['bbox_size_category'].value_counts().sort_index().plot(kind='bar')\n",
    "# Set x-axis label\n",
    "ax.set_xlabel(\"Object category size\", weight='bold', size=12, labelpad=10)\n",
    "# Set y-axis label\n",
    "ax.set_ylabel(\"Counts\", weight='bold', size=12)\n",
    "ax.ticklabel_format(axis='y', style='sci', scilimits=(-3,3))\n",
    "ax.set_xticklabels(ax.get_xticklabels(), rotation=45)\n",
    "None\n",
    "fig.savefig(save_dir+'/tju_objsz_counts.png', bbox_inches = 'tight')"
   ]
  },
  {
   "cell_type": "code",
   "execution_count": 60,
   "metadata": {
    "pycharm": {
     "name": "#%%\n"
    }
   },
   "outputs": [],
   "source": [
    "# TAKE INTO ACCOUNT THAT IMAGE IS UHD, THUS OBJECTS HAVE MORE PIXELS"
   ]
  },
  {
   "cell_type": "code",
   "execution_count": 27,
   "metadata": {
    "pycharm": {
     "name": "#%%\n"
    }
   },
   "outputs": [],
   "source": [
    "df['bbox_area'] = (df['wn']*df['img_w'])*(df['hn']*df['img_h'])\n",
    "bin_edges = [i * (1624*1200)/(640*480) for i in bin_edges]\n",
    "bin_labels = ['tiny', 'small', 'medium', 'large']\n",
    "df['bbox_size_category_hd'] = pd.cut(df['bbox_area'], bins=bin_edges, labels=bin_labels, right=False)"
   ]
  },
  {
   "cell_type": "code",
   "execution_count": 28,
   "metadata": {
    "pycharm": {
     "name": "#%%\n"
    }
   },
   "outputs": [
    {
     "data": {
      "image/png": "[encoded data removed]",
      "text/plain": [
       "<Figure size 800x600 with 1 Axes>"
      ]
     },
     "metadata": {},
     "output_type": "display_data"
    }
   ],
   "source": [
    "fig = plt.figure(figsize=(8, 6))\n",
    "ax = df['bbox_size_category_hd'].value_counts().sort_index().plot(kind='bar')\n",
    "# Set x-axis label\n",
    "ax.set_xlabel(\"Object category size\", weight='bold', size=12, labelpad=10)\n",
    "# Set y-axis label\n",
    "ax.set_ylabel(\"Counts\", weight='bold', size=12)\n",
    "ax.ticklabel_format(axis='y', style='sci', scilimits=(-3,3))\n",
    "ax.set_xticklabels(ax.get_xticklabels(), rotation=45)\n",
    "None\n",
    "fig.savefig(save_dir+'/tju_objszhd_counts.png', bbox_inches = 'tight')"
   ]
  },
  {
   "cell_type": "code",
   "execution_count": null,
   "metadata": {
    "pycharm": {
     "name": "#%%\n"
    }
   },
   "outputs": [],
   "source": []
  }
 ],
 "metadata": {
  "kernelspec": {
   "display_name": "Python 3 (ipykernel)",
   "language": "python",
   "name": "python3"
  },
  "language_info": {
   "codemirror_mode": {
    "name": "ipython",
    "version": 3
   },
   "file_extension": ".py",
   "mimetype": "text/x-python",
   "name": "python",
   "nbconvert_exporter": "python",
   "pygments_lexer": "ipython3",
   "version": "3.11.4"
  }
 },
 "nbformat": 4,
 "nbformat_minor": 4
}