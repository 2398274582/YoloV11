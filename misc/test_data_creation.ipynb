{
 "cells": [
  {
   "cell_type": "code",
   "execution_count": null,
   "outputs": [],
   "source": [
    "import os\n",
    "import shutil\n",
    "import cv2"
   ],
   "metadata": {
    "collapsed": false,
    "pycharm": {
     "name": "#%%\n"
    }
   }
  },
  {
   "cell_type": "code",
   "execution_count": null,
   "outputs": [],
   "source": [
    "root_dir = '/Users/inaki-eab/Desktop/test_data'\n",
    "videos_dir = os.path.join(root_dir, 'videos')"
   ],
   "metadata": {
    "collapsed": false,
    "pycharm": {
     "name": "#%%\n"
    }
   }
  },
  {
   "cell_type": "code",
   "execution_count": null,
   "outputs": [],
   "source": [
    "cap = cv2.VideoCapture(os.path.join(videos_dir, 'cut1.mp4'))"
   ],
   "metadata": {
    "collapsed": false,
    "pycharm": {
     "name": "#%%\n"
    }
   }
  },
  {
   "cell_type": "code",
   "execution_count": null,
   "outputs": [],
   "source": [
    "fps = int(cap.get(cv2.CAP_PROP_FPS))"
   ],
   "metadata": {
    "collapsed": false,
    "pycharm": {
     "name": "#%%\n"
    }
   }
  },
  {
   "cell_type": "code",
   "execution_count": null,
   "outputs": [],
   "source": [
    "print(fps)"
   ],
   "metadata": {
    "collapsed": false,
    "pycharm": {
     "name": "#%%\n"
    }
   }
  },
  {
   "cell_type": "code",
   "execution_count": null,
   "outputs": [],
   "source": [
    "def extract_frames(video_path, output_folder, frame_rate):\n",
    "    # Extract the video filename without the extension\n",
    "    video_filename = os.path.splitext(os.path.basename(video_path))[0]\n",
    "\n",
    "    # Open the video file\n",
    "    cap = cv2.VideoCapture(video_path)\n",
    "\n",
    "    # Create a subfolder for the frames using the video filename\n",
    "    os.makedirs(output_folder, exist_ok=True)\n",
    "\n",
    "    # Get the frames per second (FPS) of the video\n",
    "    fps = int(cap.get(cv2.CAP_PROP_FPS))\n",
    "\n",
    "    # Calculate the frame interval based on the desired frame rate\n",
    "    frame_interval = fps // frame_rate\n",
    "\n",
    "    # Initialize variables\n",
    "    frame_count = 0\n",
    "    success = True\n",
    "\n",
    "    # Loop through the video and extract frames\n",
    "    while success:\n",
    "        success, frame = cap.read()\n",
    "        # Only save frames at the desired frame rate\n",
    "        if frame_count % frame_interval == 0:\n",
    "            if success:\n",
    "                frame_filename = os.path.join(output_folder, f\"{video_filename}_frame_{frame_count:04d}.jpg\")\n",
    "                cv2.imwrite(frame_filename, frame)\n",
    "            else:\n",
    "                break\n",
    "        frame_count += 1\n",
    "\n",
    "    # Release the video file\n",
    "    cap.release()"
   ],
   "metadata": {
    "collapsed": false,
    "pycharm": {
     "name": "#%%\n"
    }
   }
  },
  {
   "cell_type": "code",
   "execution_count": null,
   "outputs": [],
   "source": [
    "for file in os.listdir(videos_dir):\n",
    "    print(file)\n",
    "    extract_frames(os.path.join(videos_dir, file), root_dir, 2)"
   ],
   "metadata": {
    "collapsed": false,
    "pycharm": {
     "name": "#%%\n"
    }
   }
  },
  {
   "cell_type": "code",
   "execution_count": null,
   "outputs": [],
   "source": [
    "import re\n",
    "\n",
    "def rename_dir(dir, shift=1):\n",
    "    files = [f for f in os.listdir(dir)]\n",
    "    #files.sort(key=lambda x: int(re.match(r'\\d+', x).group()))\n",
    "    \n",
    "    for idx, old_filename in enumerate(files):\n",
    "        extension = os.path.splitext(old_filename)[1]\n",
    "        new_filename = f'{idx+shift}{extension}'\n",
    "        old_path = os.path.join(dir, old_filename)\n",
    "        new_path = os.path.join(dir, new_filename)\n",
    "        os.rename(old_path, new_path)"
   ],
   "metadata": {
    "collapsed": false,
    "pycharm": {
     "name": "#%%\n"
    }
   }
  },
  {
   "cell_type": "code",
   "execution_count": null,
   "outputs": [],
   "source": [
    "old_len_img = len(os.listdir(os.path.join(root_dir,'images')))"
   ],
   "metadata": {
    "collapsed": false,
    "pycharm": {
     "name": "#%%\n"
    }
   }
  },
  {
   "cell_type": "code",
   "execution_count": null,
   "outputs": [],
   "source": [
    "rename_dir(os.path.join(root_dir,'images'))"
   ],
   "metadata": {
    "collapsed": false,
    "pycharm": {
     "name": "#%%\n"
    }
   }
  },
  {
   "cell_type": "code",
   "execution_count": null,
   "outputs": [],
   "source": [
    "assert old_len_img == len(os.listdir(os.path.join(root_dir,'images')))"
   ],
   "metadata": {
    "collapsed": false,
    "pycharm": {
     "name": "#%%\n"
    }
   }
  },
  {
   "cell_type": "code",
   "execution_count": 4,
   "metadata": {
    "collapsed": false,
    "jupyter": {
     "outputs_hidden": false
    },
    "pycharm": {
     "name": "#%%\n"
    }
   },
   "outputs": [],
   "source": [
    "root_dir = '/Users/inaki-eab/Desktop/test_data'\n",
    "videos_dir = os.path.join(root_dir, 'videos')"
   ]
  },
  {
   "cell_type": "code",
   "execution_count": 5,
   "metadata": {},
   "outputs": [],
   "source": [
    "cap = cv2.VideoCapture(os.path.join(videos_dir, 'cut1.mp4'))"
   ]
  },
  {
   "cell_type": "code",
   "execution_count": 6,
   "metadata": {},
   "outputs": [],
   "source": [
    "fps = int(cap.get(cv2.CAP_PROP_FPS))"
   ]
  },
  {
   "cell_type": "code",
   "execution_count": 7,
   "metadata": {},
   "outputs": [
    {
     "name": "stdout",
     "output_type": "stream",
     "text": [
      "25\n"
     ]
    }
   ],
   "source": [
    "print(fps)"
   ]
  },
  {
   "cell_type": "code",
   "execution_count": 17,
   "metadata": {},
   "outputs": [],
   "source": [
    "def extract_frames(video_path, output_folder, frame_rate):\n",
    "    # Extract the video filename without the extension\n",
    "    video_filename = os.path.splitext(os.path.basename(video_path))[0]\n",
    "\n",
    "    # Open the video file\n",
    "    cap = cv2.VideoCapture(video_path)\n",
    "\n",
    "    # Create a subfolder for the frames using the video filename\n",
    "    os.makedirs(output_folder, exist_ok=True)\n",
    "\n",
    "    # Get the frames per second (FPS) of the video\n",
    "    fps = int(cap.get(cv2.CAP_PROP_FPS))\n",
    "\n",
    "    # Calculate the frame interval based on the desired frame rate\n",
    "    frame_interval = fps // frame_rate\n",
    "\n",
    "    # Initialize variables\n",
    "    frame_count = 0\n",
    "    success = True\n",
    "\n",
    "    # Loop through the video and extract frames\n",
    "    while success:\n",
    "        success, frame = cap.read()\n",
    "        # Only save frames at the desired frame rate\n",
    "        if frame_count % frame_interval == 0:\n",
    "            if success:\n",
    "                frame_filename = os.path.join(output_folder, f\"{video_filename}_frame_{frame_count:04d}.jpg\")\n",
    "                cv2.imwrite(frame_filename, frame)\n",
    "            else:\n",
    "                break\n",
    "        frame_count += 1\n",
    "\n",
    "    # Release the video file\n",
    "    cap.release()"
   ]
  },
  {
   "cell_type": "code",
   "execution_count": 16,
   "metadata": {},
   "outputs": [
    {
     "name": "stdout",
     "output_type": "stream",
     "text": [
      "cut7.mp4\n",
      "cut6.mp4\n",
      "cut4.mp4\n",
      "cut5.mp4\n",
      "cut1.mp4\n",
      "cut2.mp4\n",
      "cut3.mp4\n",
      "cut10.mp4\n",
      "cut8.mp4\n",
      "cut9.mp4\n"
     ]
    }
   ],
   "source": [
    "for file in os.listdir(videos_dir):\n",
    "    print(file)\n",
    "    extract_frames(os.path.join(videos_dir, file), root_dir, 2)"
   ]
  },
  {
   "cell_type": "code",
   "execution_count": 26,
   "metadata": {},
   "outputs": [],
   "source": [
    "import re\n",
    "\n",
    "def rename_dir(dir, shift=1):\n",
    "    files = [f for f in os.listdir(dir)]\n",
    "    #files.sort(key=lambda x: int(re.match(r'\\d+', x).group()))\n",
    "    \n",
    "    for idx, old_filename in enumerate(files):\n",
    "        extension = os.path.splitext(old_filename)[1]\n",
    "        new_filename = f'{idx+shift}{extension}'\n",
    "        old_path = os.path.join(dir, old_filename)\n",
    "        new_path = os.path.join(dir, new_filename)\n",
    "        os.rename(old_path, new_path)"
   ]
  },
  {
   "cell_type": "code",
   "execution_count": 27,
   "metadata": {},
   "outputs": [],
   "source": [
    "old_len_img = len(os.listdir(os.path.join(root_dir,'images')))"
   ]
  },
  {
   "cell_type": "code",
   "execution_count": 28,
   "metadata": {},
   "outputs": [],
   "source": [
    "rename_dir(os.path.join(root_dir,'images'))"
   ]
  },
  {
   "cell_type": "code",
   "execution_count": 29,
   "metadata": {},
   "outputs": [],
   "source": [
    "assert old_len_img == len(os.listdir(os.path.join(root_dir,'images')))"
   ]
  },
  {
   "cell_type": "code",
   "execution_count": null,
   "metadata": {},
   "outputs": [],
   "source": []
  }
 ],
 "metadata": {
  "kernelspec": {
   "display_name": "Python 3 (ipykernel)",
   "language": "python",
   "name": "python3"
  },
  "language_info": {
   "codemirror_mode": {
    "name": "ipython",
    "version": 3
   },
   "file_extension": ".py",
   "mimetype": "text/x-python",
   "name": "python",
   "nbconvert_exporter": "python",
   "pygments_lexer": "ipython3",
   "version": "3.11.4"
  }
 },
 "nbformat": 4,
 "nbformat_minor": 4
}