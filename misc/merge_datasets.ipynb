{
 "cells": [
  {
   "cell_type": "code",
   "execution_count": 1,
   "metadata": {
    "ExecuteTime": {
     "end_time": "2023-08-25T08:11:38.539610Z",
     "start_time": "2023-08-25T08:11:38.538166Z"
    }
   },
   "outputs": [],
   "source": [
    "import os\n",
    "import shutil"
   ]
  },
  {
   "cell_type": "markdown",
   "metadata": {},
   "source": [
    "### Creating a new empty dataset"
   ]
  },
  {
   "cell_type": "code",
   "execution_count": 20,
   "metadata": {
    "collapsed": false,
    "jupyter": {
     "outputs_hidden": false
    }
   },
   "outputs": [],
   "source": [
    "root_path = '/data-fast/127-data2/ierregue/datasets'\n",
    "\n",
    "dataset_1 = 'custom_coco'\n",
    "dataset_2 = 'custom_tju'\n",
    "#dataset_3 = 'custom_dut'\n",
    "\n",
    "new_dataset = 'custom_dataset_v1'\n",
    "new_dataset_root = os.path.join(root_path, new_dataset)\n",
    "\n",
    "# Create folder structure\n",
    "if not os.path.isdir(new_dataset_root):\n",
    "    os.makedirs(new_dataset_root)\n",
    "    os.makedirs(os.path.join(new_dataset_root, 'labels','train'))\n",
    "    os.makedirs(os.path.join(new_dataset_root, 'labels','test'))\n",
    "    os.makedirs(os.path.join(new_dataset_root, 'labels','val'))\n",
    "    os.makedirs(os.path.join(new_dataset_root, 'images','train'))\n",
    "    os.makedirs(os.path.join(new_dataset_root, 'images','test'))\n",
    "    os.makedirs(os.path.join(new_dataset_root, 'images','val'))"
   ]
  },
  {
   "cell_type": "markdown",
   "metadata": {},
   "source": [
    "### Check overlaping filenames"
   ]
  },
  {
   "cell_type": "code",
   "execution_count": 21,
   "metadata": {},
   "outputs": [
    {
     "data": {
      "text/plain": [
       "True"
      ]
     },
     "execution_count": 21,
     "metadata": {},
     "output_type": "execute_result"
    }
   ],
   "source": [
    "d1_filenames = os.listdir(os.path.join(root_path,dataset_1,'labels','val'))\n",
    "d2_filenames = os.listdir(os.path.join(root_path,dataset_2,'labels','val'))\n",
    "\n",
    "common_filenames = list(set(d1_filenames) & set(d2_filenames))\n",
    "len(common_filenames)==0"
   ]
  },
  {
   "cell_type": "code",
   "execution_count": 22,
   "metadata": {},
   "outputs": [
    {
     "data": {
      "text/plain": [
       "True"
      ]
     },
     "execution_count": 22,
     "metadata": {},
     "output_type": "execute_result"
    }
   ],
   "source": [
    "d1_filenames = os.listdir(os.path.join(root_path,dataset_1,'labels','train'))\n",
    "d2_filenames = os.listdir(os.path.join(root_path,dataset_2,'labels','train'))\n",
    "\n",
    "common_filenames = list(set(d1_filenames) & set(d2_filenames))\n",
    "len(common_filenames)==0"
   ]
  },
  {
   "cell_type": "markdown",
   "metadata": {},
   "source": [
    "### Proceed to merge"
   ]
  },
  {
   "cell_type": "code",
   "execution_count": 26,
   "metadata": {},
   "outputs": [
    {
     "data": {
      "text/plain": [
       "'/data-fast/127-data2/ierregue/datasets/custom_dataset_v1'"
      ]
     },
     "execution_count": 26,
     "metadata": {},
     "output_type": "execute_result"
    }
   ],
   "source": [
    "# Copy dataset 1 into new one\n",
    "shutil.copytree(os.path.join(root_path,dataset_1), \n",
    "                new_dataset_root,\n",
    "                dirs_exist_ok=True)"
   ]
  },
  {
   "cell_type": "code",
   "execution_count": 27,
   "metadata": {},
   "outputs": [
    {
     "data": {
      "text/plain": [
       "'/data-fast/127-data2/ierregue/datasets/custom_dataset_v1'"
      ]
     },
     "execution_count": 27,
     "metadata": {},
     "output_type": "execute_result"
    }
   ],
   "source": [
    "# Copy dataset 2 into new one\n",
    "shutil.copytree(os.path.join(root_path,dataset_2), \n",
    "                new_dataset_root,\n",
    "                dirs_exist_ok=True)"
   ]
  },
  {
   "cell_type": "code",
   "execution_count": 41,
   "metadata": {},
   "outputs": [],
   "source": [
    "# check that the total num os elements corresponds to the sum of datasets\n",
    "assert (len(os.listdir(os.path.join(root_path,dataset_1,'labels','val'))) + \n",
    "        len(os.listdir(os.path.join(root_path,dataset_2,'labels','val'))) == \n",
    "        len(os.listdir(os.path.join(new_dataset_root,'labels','val'))))\n",
    "\n",
    "assert (len(os.listdir(os.path.join(root_path,dataset_1,'images','val'))) + \n",
    "        len(os.listdir(os.path.join(root_path,dataset_2,'images','val'))) == \n",
    "        len(os.listdir(os.path.join(new_dataset_root,'images','val'))))\n",
    "\n",
    "assert (len(os.listdir(os.path.join(root_path,dataset_1,'images','train'))) + \n",
    "        len(os.listdir(os.path.join(root_path,dataset_2,'images','train'))) == \n",
    "        len(os.listdir(os.path.join(new_dataset_root,'images','train'))))\n",
    "\n",
    "assert (len(os.listdir(os.path.join(root_path,dataset_1,'labels','train'))) + \n",
    "        len(os.listdir(os.path.join(root_path,dataset_2,'labels','train'))) == \n",
    "        len(os.listdir(os.path.join(new_dataset_root,'labels','train'))))"
   ]
  },
  {
   "cell_type": "markdown",
   "metadata": {},
   "source": [
    "### Inspect the resulting dataset"
   ]
  },
  {
   "cell_type": "code",
   "execution_count": 28,
   "metadata": {},
   "outputs": [],
   "source": [
    "import pandas as pd\n",
    "import imagesize\n",
    "import matplotlib.pyplot as plt"
   ]
  },
  {
   "cell_type": "code",
   "execution_count": 29,
   "metadata": {},
   "outputs": [],
   "source": [
    "class_names = {\n",
    "    0:'person',\n",
    "    1:'car', \n",
    "    2:'truck', \n",
    "    3:'uav', \n",
    "    4:'airplane', \n",
    "    5:'ship'\n",
    "}"
   ]
  },
  {
   "cell_type": "code",
   "execution_count": 32,
   "metadata": {},
   "outputs": [],
   "source": [
    "def inspect_dataset(\n",
    "    target_dataset_root, # ../datasets/new_dataset\n",
    "    target_dataset_slice, # train,test,val\n",
    "):\n",
    "    info = [] #list of lists, each list corresponds to an instance [cls_id, x, y, w, h, img]\n",
    "    \n",
    "    \n",
    "    target_labels_dir = os.path.join(target_dataset_root, 'labels', target_dataset_slice)\n",
    "\n",
    "    # Iterate over all files in the original dataset labels folder\n",
    "    for filename in os.listdir(target_labels_dir):\n",
    "        if filename.endswith('.txt'):\n",
    "            # Read file\n",
    "            with open(os.path.join(target_labels_dir, filename), \"r\") as f:\n",
    "                # Iterate over instances in image and get present class ids\n",
    "                for line in f:\n",
    "                    line_data = []\n",
    "                    # label data\n",
    "                    line_data = line.split()\n",
    "                    # Image name\n",
    "                    line_data.append(os.path.splitext(filename)[0])\n",
    "                    # Image size: could be done at image level and not row level\n",
    "                    img_path = os.path.join(target_dataset_root,'images',target_dataset_slice, os.path.splitext(filename)[0]+'.jpg')\n",
    "                    img_w, img_h = imagesize.get(img_path)\n",
    "                    line_data.extend([img_w, img_h])\n",
    "                    # Append line data to info\n",
    "                    info.append(line_data)\n",
    "\n",
    "    df = pd.DataFrame(info, columns=['new_class_id', 'xcn', 'ycn', 'wn', 'hn', 'img', 'img_w', 'img_h'])\n",
    "    df = df.astype('float32').astype({'new_class_id':'int32', 'img':'int64'})\n",
    "    df['class_name'] = df['new_class_id'].map(class_names)\n",
    "    return df"
   ]
  },
  {
   "cell_type": "code",
   "execution_count": 33,
   "metadata": {},
   "outputs": [
    {
     "data": {
      "text/html": [
       "<div>\n",
       "<style scoped>\n",
       "    .dataframe tbody tr th:only-of-type {\n",
       "        vertical-align: middle;\n",
       "    }\n",
       "\n",
       "    .dataframe tbody tr th {\n",
       "        vertical-align: top;\n",
       "    }\n",
       "\n",
       "    .dataframe thead th {\n",
       "        text-align: right;\n",
       "    }\n",
       "</style>\n",
       "<table border=\"1\" class=\"dataframe\">\n",
       "  <thead>\n",
       "    <tr style=\"text-align: right;\">\n",
       "      <th></th>\n",
       "      <th>new_class_id</th>\n",
       "      <th>xcn</th>\n",
       "      <th>ycn</th>\n",
       "      <th>wn</th>\n",
       "      <th>hn</th>\n",
       "      <th>img</th>\n",
       "      <th>img_w</th>\n",
       "      <th>img_h</th>\n",
       "      <th>class_name</th>\n",
       "    </tr>\n",
       "  </thead>\n",
       "  <tbody>\n",
       "    <tr>\n",
       "      <th>0</th>\n",
       "      <td>1</td>\n",
       "      <td>0.179658</td>\n",
       "      <td>0.570582</td>\n",
       "      <td>0.140671</td>\n",
       "      <td>0.109874</td>\n",
       "      <td>1499480195072</td>\n",
       "      <td>1624.0</td>\n",
       "      <td>1200.0</td>\n",
       "      <td>car</td>\n",
       "    </tr>\n",
       "    <tr>\n",
       "      <th>1</th>\n",
       "      <td>1</td>\n",
       "      <td>0.318319</td>\n",
       "      <td>0.543386</td>\n",
       "      <td>0.049838</td>\n",
       "      <td>0.051129</td>\n",
       "      <td>1499480195072</td>\n",
       "      <td>1624.0</td>\n",
       "      <td>1200.0</td>\n",
       "      <td>car</td>\n",
       "    </tr>\n",
       "    <tr>\n",
       "      <th>2</th>\n",
       "      <td>1</td>\n",
       "      <td>0.089306</td>\n",
       "      <td>0.552507</td>\n",
       "      <td>0.116645</td>\n",
       "      <td>0.078930</td>\n",
       "      <td>1499480195072</td>\n",
       "      <td>1624.0</td>\n",
       "      <td>1200.0</td>\n",
       "      <td>car</td>\n",
       "    </tr>\n",
       "    <tr>\n",
       "      <th>3</th>\n",
       "      <td>0</td>\n",
       "      <td>0.774413</td>\n",
       "      <td>0.558072</td>\n",
       "      <td>0.014701</td>\n",
       "      <td>0.037749</td>\n",
       "      <td>1499480195072</td>\n",
       "      <td>1624.0</td>\n",
       "      <td>1200.0</td>\n",
       "      <td>person</td>\n",
       "    </tr>\n",
       "    <tr>\n",
       "      <th>4</th>\n",
       "      <td>1</td>\n",
       "      <td>0.529542</td>\n",
       "      <td>0.562644</td>\n",
       "      <td>0.069454</td>\n",
       "      <td>0.065319</td>\n",
       "      <td>1499480195072</td>\n",
       "      <td>1624.0</td>\n",
       "      <td>1200.0</td>\n",
       "      <td>car</td>\n",
       "    </tr>\n",
       "    <tr>\n",
       "      <th>...</th>\n",
       "      <td>...</td>\n",
       "      <td>...</td>\n",
       "      <td>...</td>\n",
       "      <td>...</td>\n",
       "      <td>...</td>\n",
       "      <td>...</td>\n",
       "      <td>...</td>\n",
       "      <td>...</td>\n",
       "      <td>...</td>\n",
       "    </tr>\n",
       "    <tr>\n",
       "      <th>506609</th>\n",
       "      <td>1</td>\n",
       "      <td>0.076082</td>\n",
       "      <td>0.595640</td>\n",
       "      <td>0.152163</td>\n",
       "      <td>0.241356</td>\n",
       "      <td>1499821506560</td>\n",
       "      <td>1624.0</td>\n",
       "      <td>1200.0</td>\n",
       "      <td>car</td>\n",
       "    </tr>\n",
       "    <tr>\n",
       "      <th>506610</th>\n",
       "      <td>1</td>\n",
       "      <td>0.174048</td>\n",
       "      <td>0.534613</td>\n",
       "      <td>0.097302</td>\n",
       "      <td>0.071405</td>\n",
       "      <td>1499819802624</td>\n",
       "      <td>1624.0</td>\n",
       "      <td>1200.0</td>\n",
       "      <td>car</td>\n",
       "    </tr>\n",
       "    <tr>\n",
       "      <th>506611</th>\n",
       "      <td>1</td>\n",
       "      <td>0.454306</td>\n",
       "      <td>0.547132</td>\n",
       "      <td>0.056189</td>\n",
       "      <td>0.063059</td>\n",
       "      <td>1499819802624</td>\n",
       "      <td>1624.0</td>\n",
       "      <td>1200.0</td>\n",
       "      <td>car</td>\n",
       "    </tr>\n",
       "    <tr>\n",
       "      <th>506612</th>\n",
       "      <td>1</td>\n",
       "      <td>0.101071</td>\n",
       "      <td>0.532294</td>\n",
       "      <td>0.097988</td>\n",
       "      <td>0.061205</td>\n",
       "      <td>1499819802624</td>\n",
       "      <td>1624.0</td>\n",
       "      <td>1200.0</td>\n",
       "      <td>car</td>\n",
       "    </tr>\n",
       "    <tr>\n",
       "      <th>506613</th>\n",
       "      <td>0</td>\n",
       "      <td>0.418109</td>\n",
       "      <td>0.315625</td>\n",
       "      <td>0.294000</td>\n",
       "      <td>0.408583</td>\n",
       "      <td>464462</td>\n",
       "      <td>640.0</td>\n",
       "      <td>480.0</td>\n",
       "      <td>person</td>\n",
       "    </tr>\n",
       "  </tbody>\n",
       "</table>\n",
       "<p>506614 rows × 9 columns</p>\n",
       "</div>"
      ],
      "text/plain": [
       "        new_class_id       xcn       ycn        wn        hn            img  \\\n",
       "0                  1  0.179658  0.570582  0.140671  0.109874  1499480195072   \n",
       "1                  1  0.318319  0.543386  0.049838  0.051129  1499480195072   \n",
       "2                  1  0.089306  0.552507  0.116645  0.078930  1499480195072   \n",
       "3                  0  0.774413  0.558072  0.014701  0.037749  1499480195072   \n",
       "4                  1  0.529542  0.562644  0.069454  0.065319  1499480195072   \n",
       "...              ...       ...       ...       ...       ...            ...   \n",
       "506609             1  0.076082  0.595640  0.152163  0.241356  1499821506560   \n",
       "506610             1  0.174048  0.534613  0.097302  0.071405  1499819802624   \n",
       "506611             1  0.454306  0.547132  0.056189  0.063059  1499819802624   \n",
       "506612             1  0.101071  0.532294  0.097988  0.061205  1499819802624   \n",
       "506613             0  0.418109  0.315625  0.294000  0.408583         464462   \n",
       "\n",
       "         img_w   img_h class_name  \n",
       "0       1624.0  1200.0        car  \n",
       "1       1624.0  1200.0        car  \n",
       "2       1624.0  1200.0        car  \n",
       "3       1624.0  1200.0     person  \n",
       "4       1624.0  1200.0        car  \n",
       "...        ...     ...        ...  \n",
       "506609  1624.0  1200.0        car  \n",
       "506610  1624.0  1200.0        car  \n",
       "506611  1624.0  1200.0        car  \n",
       "506612  1624.0  1200.0        car  \n",
       "506613   640.0   480.0     person  \n",
       "\n",
       "[506614 rows x 9 columns]"
      ]
     },
     "execution_count": 33,
     "metadata": {},
     "output_type": "execute_result"
    }
   ],
   "source": [
    "df = inspect_dataset(new_dataset_root, 'train')\n",
    "df"
   ]
  },
  {
   "cell_type": "code",
   "execution_count": 42,
   "metadata": {},
   "outputs": [],
   "source": [
    "# Create dir to store plots\n",
    "save_dir = './data/dataset_creation'\n",
    "if not os.path.isdir(save_dir):\n",
    "    os.makedirs(save_dir)"
   ]
  },
  {
   "cell_type": "code",
   "execution_count": 43,
   "metadata": {},
   "outputs": [
    {
     "data": {
      "image/png": "[encoded data removed]",
      "text/plain": [
       "<Figure size 800x600 with 1 Axes>"
      ]
     },
     "metadata": {},
     "output_type": "display_data"
    }
   ],
   "source": [
    "fig = plt.figure(figsize=(8, 6))\n",
    "ax = df['class_name'].value_counts().plot(kind='bar')\n",
    "# Set x-axis label\n",
    "ax.set_xlabel(\"Classes\", weight='bold', size=12)\n",
    "# Set y-axis label\n",
    "ax.set_ylabel(\"Counts\", weight='bold', size=12)\n",
    "ax.ticklabel_format(axis='y', style='sci', scilimits=(-3,3))\n",
    "ax.set_xticklabels(ax.get_xticklabels(), rotation=45)\n",
    "None\n",
    "fig.savefig(save_dir+'/cdv1_class_counts.png', bbox_inches = 'tight')"
   ]
  },
  {
   "cell_type": "code",
   "execution_count": 44,
   "metadata": {},
   "outputs": [
    {
     "data": {
      "image/png": "[encoded data removed]",
      "text/plain": [
       "<Figure size 3000x600 with 1 Axes>"
      ]
     },
     "metadata": {},
     "output_type": "display_data"
    }
   ],
   "source": [
    "fig = plt.figure(figsize=(30, 6))\n",
    "ax = df.groupby(by=['img'])['img'].count().value_counts().sort_index().plot(kind='bar')\n",
    "# Set x-axis label\n",
    "ax.set_xlabel(\"Instances per image\", weight='bold', size=12)\n",
    "# Set y-axis label\n",
    "ax.set_ylabel(\"Counts\", weight='bold', size=12)\n",
    "ax.ticklabel_format(axis='y', style='sci', scilimits=(-3,3))\n",
    "ax.set_xticklabels(ax.get_xticklabels(), rotation=0, fontsize=7)\n",
    "None\n",
    "fig.savefig(save_dir+'/cdv1_instances_count.png', bbox_inches = 'tight')"
   ]
  },
  {
   "cell_type": "markdown",
   "metadata": {},
   "source": [
    "#### NEW PROCEEDING REGARDING BBOX AREA CATEGORIZATION\n",
    "Categories will be defined by the ration of the bbox to its image. In MS COCO images are 640x480 and the classification is done like:\n",
    "- Tiny: less than 16^2 $\\Rightarrow 16^2/(640*480)=1/1200$\n",
    "- Small: less than 32^2 $\\Rightarrow 32^2/(640*480)=1/300$\n",
    "- Medium: less than 96^2 $\\Rightarrow 96^2/(640*480)=3/100$\n",
    "- Large: more than 96^2 $\\Rightarrow 96^2/(640*480)=3/100$\n"
   ]
  },
  {
   "cell_type": "code",
   "execution_count": 46,
   "metadata": {},
   "outputs": [],
   "source": [
    "df['bbox_area'] = (df['wn']*df['img_w'])*(df['hn']*df['img_h'])\n",
    "df['bbox_image_area_ration'] = df['bbox_area']/(df['img_w']*df['img_h'])\n",
    "\n",
    "bin_edges = [0, 1/1200, 1/300, 3/100, float('inf')]\n",
    "bin_labels = ['tiny', 'small', 'medium', 'large']\n",
    "df['bbox_size_category'] = pd.cut(df['bbox_image_area_ration'], bins=bin_edges, labels=bin_labels, right=False)"
   ]
  },
  {
   "cell_type": "code",
   "execution_count": 47,
   "metadata": {},
   "outputs": [
    {
     "data": {
      "image/png": "[encoded data removed]",
      "text/plain": [
       "<Figure size 800x600 with 1 Axes>"
      ]
     },
     "metadata": {},
     "output_type": "display_data"
    }
   ],
   "source": [
    "fig = plt.figure(figsize=(8, 6))\n",
    "ax = df['bbox_size_category'].value_counts().sort_index().plot(kind='bar')\n",
    "# Set x-axis label\n",
    "ax.set_xlabel(\"Object category size\", weight='bold', size=12, labelpad=10)\n",
    "# Set y-axis label\n",
    "ax.set_ylabel(\"Counts\", weight='bold', size=12)\n",
    "ax.ticklabel_format(axis='y', style='sci', scilimits=(-3,3))\n",
    "ax.set_xticklabels(ax.get_xticklabels(), rotation=45)\n",
    "None\n",
    "fig.savefig(save_dir+'/cdv1_objsz_counts.png', bbox_inches = 'tight')"
   ]
  },
  {
   "cell_type": "code",
   "execution_count": null,
   "metadata": {},
   "outputs": [],
   "source": []
  }
 ],
 "metadata": {
  "kernelspec": {
   "display_name": "Python 3 (ipykernel)",
   "language": "python",
   "name": "python3"
  },
  "language_info": {
   "codemirror_mode": {
    "name": "ipython",
    "version": 3
   },
   "file_extension": ".py",
   "mimetype": "text/x-python",
   "name": "python",
   "nbconvert_exporter": "python",
   "pygments_lexer": "ipython3",
   "version": "3.8.10"
  }
 },
 "nbformat": 4,
 "nbformat_minor": 4
}
