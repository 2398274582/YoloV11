{
 "cells": [
  {
   "cell_type": "code",
   "execution_count": 1,
   "metadata": {
    "collapsed": false,
    "jupyter": {
     "outputs_hidden": false
    },
    "pycharm": {
     "name": "#%%\n"
    }
   },
   "outputs": [],
   "source": [
    "import pandas as pd"
   ]
  },
  {
   "cell_type": "code",
   "execution_count": 2,
   "metadata": {
    "collapsed": false,
    "jupyter": {
     "outputs_hidden": false
    },
    "pycharm": {
     "name": "#%%\n"
    }
   },
   "outputs": [],
   "source": [
    "train_df = pd.read_csv('./data/dataset_creation/dataframes/v2/df_train.csv')"
   ]
  },
  {
   "cell_type": "code",
   "execution_count": 3,
   "metadata": {},
   "outputs": [
    {
     "data": {
      "text/html": [
       "<div>\n",
       "<style scoped>\n",
       "    .dataframe tbody tr th:only-of-type {\n",
       "        vertical-align: middle;\n",
       "    }\n",
       "\n",
       "    .dataframe tbody tr th {\n",
       "        vertical-align: top;\n",
       "    }\n",
       "\n",
       "    .dataframe thead th {\n",
       "        text-align: right;\n",
       "    }\n",
       "</style>\n",
       "<table border=\"1\" class=\"dataframe\">\n",
       "  <thead>\n",
       "    <tr style=\"text-align: right;\">\n",
       "      <th></th>\n",
       "      <th>new_class_id</th>\n",
       "      <th>xcn</th>\n",
       "      <th>ycn</th>\n",
       "      <th>wn</th>\n",
       "      <th>hn</th>\n",
       "      <th>img</th>\n",
       "      <th>img_w</th>\n",
       "      <th>img_h</th>\n",
       "      <th>class_name</th>\n",
       "      <th>bbox_area</th>\n",
       "      <th>bbox_size_category</th>\n",
       "    </tr>\n",
       "  </thead>\n",
       "  <tbody>\n",
       "    <tr>\n",
       "      <th>0</th>\n",
       "      <td>1</td>\n",
       "      <td>0.713264</td>\n",
       "      <td>0.549830</td>\n",
       "      <td>0.059249</td>\n",
       "      <td>0.040532</td>\n",
       "      <td>33132</td>\n",
       "      <td>1624.0</td>\n",
       "      <td>1200.0</td>\n",
       "      <td>Car</td>\n",
       "      <td>4680.03960</td>\n",
       "      <td>Medium</td>\n",
       "    </tr>\n",
       "    <tr>\n",
       "      <th>1</th>\n",
       "      <td>1</td>\n",
       "      <td>0.217753</td>\n",
       "      <td>0.536722</td>\n",
       "      <td>0.069178</td>\n",
       "      <td>0.054257</td>\n",
       "      <td>33132</td>\n",
       "      <td>1624.0</td>\n",
       "      <td>1200.0</td>\n",
       "      <td>Car</td>\n",
       "      <td>7314.64800</td>\n",
       "      <td>Medium</td>\n",
       "    </tr>\n",
       "    <tr>\n",
       "      <th>2</th>\n",
       "      <td>1</td>\n",
       "      <td>0.138355</td>\n",
       "      <td>0.531935</td>\n",
       "      <td>0.067605</td>\n",
       "      <td>0.038299</td>\n",
       "      <td>33132</td>\n",
       "      <td>1624.0</td>\n",
       "      <td>1200.0</td>\n",
       "      <td>Car</td>\n",
       "      <td>5045.90230</td>\n",
       "      <td>Medium</td>\n",
       "    </tr>\n",
       "    <tr>\n",
       "      <th>3</th>\n",
       "      <td>4</td>\n",
       "      <td>0.503125</td>\n",
       "      <td>0.455294</td>\n",
       "      <td>0.865625</td>\n",
       "      <td>0.534118</td>\n",
       "      <td>111934</td>\n",
       "      <td>640.0</td>\n",
       "      <td>425.0</td>\n",
       "      <td>Aircraft</td>\n",
       "      <td>125758.08600</td>\n",
       "      <td>Large</td>\n",
       "    </tr>\n",
       "    <tr>\n",
       "      <th>4</th>\n",
       "      <td>0</td>\n",
       "      <td>0.119531</td>\n",
       "      <td>0.569792</td>\n",
       "      <td>0.020313</td>\n",
       "      <td>0.039583</td>\n",
       "      <td>102647</td>\n",
       "      <td>640.0</td>\n",
       "      <td>480.0</td>\n",
       "      <td>Person</td>\n",
       "      <td>246.99977</td>\n",
       "      <td>Tiny</td>\n",
       "    </tr>\n",
       "    <tr>\n",
       "      <th>...</th>\n",
       "      <td>...</td>\n",
       "      <td>...</td>\n",
       "      <td>...</td>\n",
       "      <td>...</td>\n",
       "      <td>...</td>\n",
       "      <td>...</td>\n",
       "      <td>...</td>\n",
       "      <td>...</td>\n",
       "      <td>...</td>\n",
       "      <td>...</td>\n",
       "      <td>...</td>\n",
       "    </tr>\n",
       "    <tr>\n",
       "      <th>740604</th>\n",
       "      <td>1</td>\n",
       "      <td>0.281250</td>\n",
       "      <td>0.518482</td>\n",
       "      <td>0.046875</td>\n",
       "      <td>0.025292</td>\n",
       "      <td>81579</td>\n",
       "      <td>640.0</td>\n",
       "      <td>514.0</td>\n",
       "      <td>Car</td>\n",
       "      <td>389.99957</td>\n",
       "      <td>Small</td>\n",
       "    </tr>\n",
       "    <tr>\n",
       "      <th>740605</th>\n",
       "      <td>1</td>\n",
       "      <td>0.169531</td>\n",
       "      <td>0.514591</td>\n",
       "      <td>0.023438</td>\n",
       "      <td>0.021401</td>\n",
       "      <td>81579</td>\n",
       "      <td>640.0</td>\n",
       "      <td>514.0</td>\n",
       "      <td>Car</td>\n",
       "      <td>165.00017</td>\n",
       "      <td>Tiny</td>\n",
       "    </tr>\n",
       "    <tr>\n",
       "      <th>740606</th>\n",
       "      <td>1</td>\n",
       "      <td>0.075781</td>\n",
       "      <td>0.509728</td>\n",
       "      <td>0.032813</td>\n",
       "      <td>0.027237</td>\n",
       "      <td>81579</td>\n",
       "      <td>640.0</td>\n",
       "      <td>514.0</td>\n",
       "      <td>Car</td>\n",
       "      <td>294.00050</td>\n",
       "      <td>Small</td>\n",
       "    </tr>\n",
       "    <tr>\n",
       "      <th>740607</th>\n",
       "      <td>1</td>\n",
       "      <td>0.025781</td>\n",
       "      <td>0.509728</td>\n",
       "      <td>0.051562</td>\n",
       "      <td>0.027237</td>\n",
       "      <td>81579</td>\n",
       "      <td>640.0</td>\n",
       "      <td>514.0</td>\n",
       "      <td>Car</td>\n",
       "      <td>462.00080</td>\n",
       "      <td>Small</td>\n",
       "    </tr>\n",
       "    <tr>\n",
       "      <th>740608</th>\n",
       "      <td>1</td>\n",
       "      <td>0.116422</td>\n",
       "      <td>0.617004</td>\n",
       "      <td>0.232844</td>\n",
       "      <td>0.277163</td>\n",
       "      <td>26484</td>\n",
       "      <td>1624.0</td>\n",
       "      <td>1200.0</td>\n",
       "      <td>Car</td>\n",
       "      <td>125767.25000</td>\n",
       "      <td>Large</td>\n",
       "    </tr>\n",
       "  </tbody>\n",
       "</table>\n",
       "<p>740609 rows × 11 columns</p>\n",
       "</div>"
      ],
      "text/plain": [
       "        new_class_id       xcn       ycn        wn        hn     img   img_w  \\\n",
       "0                  1  0.713264  0.549830  0.059249  0.040532   33132  1624.0   \n",
       "1                  1  0.217753  0.536722  0.069178  0.054257   33132  1624.0   \n",
       "2                  1  0.138355  0.531935  0.067605  0.038299   33132  1624.0   \n",
       "3                  4  0.503125  0.455294  0.865625  0.534118  111934   640.0   \n",
       "4                  0  0.119531  0.569792  0.020313  0.039583  102647   640.0   \n",
       "...              ...       ...       ...       ...       ...     ...     ...   \n",
       "740604             1  0.281250  0.518482  0.046875  0.025292   81579   640.0   \n",
       "740605             1  0.169531  0.514591  0.023438  0.021401   81579   640.0   \n",
       "740606             1  0.075781  0.509728  0.032813  0.027237   81579   640.0   \n",
       "740607             1  0.025781  0.509728  0.051562  0.027237   81579   640.0   \n",
       "740608             1  0.116422  0.617004  0.232844  0.277163   26484  1624.0   \n",
       "\n",
       "         img_h class_name     bbox_area bbox_size_category  \n",
       "0       1200.0        Car    4680.03960             Medium  \n",
       "1       1200.0        Car    7314.64800             Medium  \n",
       "2       1200.0        Car    5045.90230             Medium  \n",
       "3        425.0   Aircraft  125758.08600              Large  \n",
       "4        480.0     Person     246.99977               Tiny  \n",
       "...        ...        ...           ...                ...  \n",
       "740604   514.0        Car     389.99957              Small  \n",
       "740605   514.0        Car     165.00017               Tiny  \n",
       "740606   514.0        Car     294.00050              Small  \n",
       "740607   514.0        Car     462.00080              Small  \n",
       "740608  1200.0        Car  125767.25000              Large  \n",
       "\n",
       "[740609 rows x 11 columns]"
      ]
     },
     "execution_count": 3,
     "metadata": {},
     "output_type": "execute_result"
    }
   ],
   "source": [
    "train_df"
   ]
  },
  {
   "cell_type": "markdown",
   "metadata": {},
   "source": [
    "# 1) Extract average object size"
   ]
  },
  {
   "cell_type": "code",
   "execution_count": 4,
   "metadata": {},
   "outputs": [
    {
     "data": {
      "text/html": [
       "<div>\n",
       "<style scoped>\n",
       "    .dataframe tbody tr th:only-of-type {\n",
       "        vertical-align: middle;\n",
       "    }\n",
       "\n",
       "    .dataframe tbody tr th {\n",
       "        vertical-align: top;\n",
       "    }\n",
       "\n",
       "    .dataframe thead th {\n",
       "        text-align: right;\n",
       "    }\n",
       "</style>\n",
       "<table border=\"1\" class=\"dataframe\">\n",
       "  <thead>\n",
       "    <tr style=\"text-align: right;\">\n",
       "      <th></th>\n",
       "      <th>new_class_id</th>\n",
       "      <th>xcn</th>\n",
       "      <th>ycn</th>\n",
       "      <th>wn</th>\n",
       "      <th>hn</th>\n",
       "      <th>img</th>\n",
       "      <th>img_w</th>\n",
       "      <th>img_h</th>\n",
       "      <th>class_name</th>\n",
       "      <th>bbox_area</th>\n",
       "      <th>bbox_size_category</th>\n",
       "      <th>w</th>\n",
       "      <th>h</th>\n",
       "    </tr>\n",
       "  </thead>\n",
       "  <tbody>\n",
       "    <tr>\n",
       "      <th>0</th>\n",
       "      <td>1</td>\n",
       "      <td>0.713264</td>\n",
       "      <td>0.549830</td>\n",
       "      <td>0.059249</td>\n",
       "      <td>0.040532</td>\n",
       "      <td>33132</td>\n",
       "      <td>1624.0</td>\n",
       "      <td>1200.0</td>\n",
       "      <td>Car</td>\n",
       "      <td>4680.03960</td>\n",
       "      <td>Medium</td>\n",
       "      <td>96.220376</td>\n",
       "      <td>48.638760</td>\n",
       "    </tr>\n",
       "    <tr>\n",
       "      <th>1</th>\n",
       "      <td>1</td>\n",
       "      <td>0.217753</td>\n",
       "      <td>0.536722</td>\n",
       "      <td>0.069178</td>\n",
       "      <td>0.054257</td>\n",
       "      <td>33132</td>\n",
       "      <td>1624.0</td>\n",
       "      <td>1200.0</td>\n",
       "      <td>Car</td>\n",
       "      <td>7314.64800</td>\n",
       "      <td>Medium</td>\n",
       "      <td>112.345072</td>\n",
       "      <td>65.108760</td>\n",
       "    </tr>\n",
       "    <tr>\n",
       "      <th>2</th>\n",
       "      <td>1</td>\n",
       "      <td>0.138355</td>\n",
       "      <td>0.531935</td>\n",
       "      <td>0.067605</td>\n",
       "      <td>0.038299</td>\n",
       "      <td>33132</td>\n",
       "      <td>1624.0</td>\n",
       "      <td>1200.0</td>\n",
       "      <td>Car</td>\n",
       "      <td>5045.90230</td>\n",
       "      <td>Medium</td>\n",
       "      <td>109.791007</td>\n",
       "      <td>45.959160</td>\n",
       "    </tr>\n",
       "    <tr>\n",
       "      <th>3</th>\n",
       "      <td>4</td>\n",
       "      <td>0.503125</td>\n",
       "      <td>0.455294</td>\n",
       "      <td>0.865625</td>\n",
       "      <td>0.534118</td>\n",
       "      <td>111934</td>\n",
       "      <td>640.0</td>\n",
       "      <td>425.0</td>\n",
       "      <td>Aircraft</td>\n",
       "      <td>125758.08600</td>\n",
       "      <td>Large</td>\n",
       "      <td>554.000000</td>\n",
       "      <td>227.000150</td>\n",
       "    </tr>\n",
       "    <tr>\n",
       "      <th>4</th>\n",
       "      <td>0</td>\n",
       "      <td>0.119531</td>\n",
       "      <td>0.569792</td>\n",
       "      <td>0.020313</td>\n",
       "      <td>0.039583</td>\n",
       "      <td>102647</td>\n",
       "      <td>640.0</td>\n",
       "      <td>480.0</td>\n",
       "      <td>Person</td>\n",
       "      <td>246.99977</td>\n",
       "      <td>Tiny</td>\n",
       "      <td>13.000000</td>\n",
       "      <td>18.999984</td>\n",
       "    </tr>\n",
       "    <tr>\n",
       "      <th>...</th>\n",
       "      <td>...</td>\n",
       "      <td>...</td>\n",
       "      <td>...</td>\n",
       "      <td>...</td>\n",
       "      <td>...</td>\n",
       "      <td>...</td>\n",
       "      <td>...</td>\n",
       "      <td>...</td>\n",
       "      <td>...</td>\n",
       "      <td>...</td>\n",
       "      <td>...</td>\n",
       "      <td>...</td>\n",
       "      <td>...</td>\n",
       "    </tr>\n",
       "    <tr>\n",
       "      <th>740604</th>\n",
       "      <td>1</td>\n",
       "      <td>0.281250</td>\n",
       "      <td>0.518482</td>\n",
       "      <td>0.046875</td>\n",
       "      <td>0.025292</td>\n",
       "      <td>81579</td>\n",
       "      <td>640.0</td>\n",
       "      <td>514.0</td>\n",
       "      <td>Car</td>\n",
       "      <td>389.99957</td>\n",
       "      <td>Small</td>\n",
       "      <td>30.000000</td>\n",
       "      <td>12.999985</td>\n",
       "    </tr>\n",
       "    <tr>\n",
       "      <th>740605</th>\n",
       "      <td>1</td>\n",
       "      <td>0.169531</td>\n",
       "      <td>0.514591</td>\n",
       "      <td>0.023438</td>\n",
       "      <td>0.021401</td>\n",
       "      <td>81579</td>\n",
       "      <td>640.0</td>\n",
       "      <td>514.0</td>\n",
       "      <td>Car</td>\n",
       "      <td>165.00017</td>\n",
       "      <td>Tiny</td>\n",
       "      <td>15.000000</td>\n",
       "      <td>11.000011</td>\n",
       "    </tr>\n",
       "    <tr>\n",
       "      <th>740606</th>\n",
       "      <td>1</td>\n",
       "      <td>0.075781</td>\n",
       "      <td>0.509728</td>\n",
       "      <td>0.032813</td>\n",
       "      <td>0.027237</td>\n",
       "      <td>81579</td>\n",
       "      <td>640.0</td>\n",
       "      <td>514.0</td>\n",
       "      <td>Car</td>\n",
       "      <td>294.00050</td>\n",
       "      <td>Small</td>\n",
       "      <td>21.000000</td>\n",
       "      <td>14.000024</td>\n",
       "    </tr>\n",
       "    <tr>\n",
       "      <th>740607</th>\n",
       "      <td>1</td>\n",
       "      <td>0.025781</td>\n",
       "      <td>0.509728</td>\n",
       "      <td>0.051562</td>\n",
       "      <td>0.027237</td>\n",
       "      <td>81579</td>\n",
       "      <td>640.0</td>\n",
       "      <td>514.0</td>\n",
       "      <td>Car</td>\n",
       "      <td>462.00080</td>\n",
       "      <td>Small</td>\n",
       "      <td>33.000000</td>\n",
       "      <td>14.000024</td>\n",
       "    </tr>\n",
       "    <tr>\n",
       "      <th>740608</th>\n",
       "      <td>1</td>\n",
       "      <td>0.116422</td>\n",
       "      <td>0.617004</td>\n",
       "      <td>0.232844</td>\n",
       "      <td>0.277163</td>\n",
       "      <td>26484</td>\n",
       "      <td>1624.0</td>\n",
       "      <td>1200.0</td>\n",
       "      <td>Car</td>\n",
       "      <td>125767.25000</td>\n",
       "      <td>Large</td>\n",
       "      <td>378.138656</td>\n",
       "      <td>332.595600</td>\n",
       "    </tr>\n",
       "  </tbody>\n",
       "</table>\n",
       "<p>740609 rows × 13 columns</p>\n",
       "</div>"
      ],
      "text/plain": [
       "        new_class_id       xcn       ycn        wn        hn     img   img_w  \\\n",
       "0                  1  0.713264  0.549830  0.059249  0.040532   33132  1624.0   \n",
       "1                  1  0.217753  0.536722  0.069178  0.054257   33132  1624.0   \n",
       "2                  1  0.138355  0.531935  0.067605  0.038299   33132  1624.0   \n",
       "3                  4  0.503125  0.455294  0.865625  0.534118  111934   640.0   \n",
       "4                  0  0.119531  0.569792  0.020313  0.039583  102647   640.0   \n",
       "...              ...       ...       ...       ...       ...     ...     ...   \n",
       "740604             1  0.281250  0.518482  0.046875  0.025292   81579   640.0   \n",
       "740605             1  0.169531  0.514591  0.023438  0.021401   81579   640.0   \n",
       "740606             1  0.075781  0.509728  0.032813  0.027237   81579   640.0   \n",
       "740607             1  0.025781  0.509728  0.051562  0.027237   81579   640.0   \n",
       "740608             1  0.116422  0.617004  0.232844  0.277163   26484  1624.0   \n",
       "\n",
       "         img_h class_name     bbox_area bbox_size_category           w  \\\n",
       "0       1200.0        Car    4680.03960             Medium   96.220376   \n",
       "1       1200.0        Car    7314.64800             Medium  112.345072   \n",
       "2       1200.0        Car    5045.90230             Medium  109.791007   \n",
       "3        425.0   Aircraft  125758.08600              Large  554.000000   \n",
       "4        480.0     Person     246.99977               Tiny   13.000000   \n",
       "...        ...        ...           ...                ...         ...   \n",
       "740604   514.0        Car     389.99957              Small   30.000000   \n",
       "740605   514.0        Car     165.00017               Tiny   15.000000   \n",
       "740606   514.0        Car     294.00050              Small   21.000000   \n",
       "740607   514.0        Car     462.00080              Small   33.000000   \n",
       "740608  1200.0        Car  125767.25000              Large  378.138656   \n",
       "\n",
       "                 h  \n",
       "0        48.638760  \n",
       "1        65.108760  \n",
       "2        45.959160  \n",
       "3       227.000150  \n",
       "4        18.999984  \n",
       "...            ...  \n",
       "740604   12.999985  \n",
       "740605   11.000011  \n",
       "740606   14.000024  \n",
       "740607   14.000024  \n",
       "740608  332.595600  \n",
       "\n",
       "[740609 rows x 13 columns]"
      ]
     },
     "execution_count": 4,
     "metadata": {},
     "output_type": "execute_result"
    }
   ],
   "source": [
    "train_df['w'] = train_df['wn']*train_df['img_w']\n",
    "train_df['h'] = train_df['hn']*train_df['img_h']\n",
    "#train_df['ar'] = train_df['w']/(train_df['h']+1e-7)\n",
    "train_df"
   ]
  },
  {
   "cell_type": "code",
   "execution_count": 5,
   "metadata": {},
   "outputs": [
    {
     "data": {
      "text/plain": [
       "0           96.220376\n",
       "1          112.345072\n",
       "2          109.791007\n",
       "3          554.000000\n",
       "4           13.000000\n",
       "              ...    \n",
       "1481213     12.999985\n",
       "1481214     11.000011\n",
       "1481215     14.000024\n",
       "1481216     14.000024\n",
       "1481217    332.595600\n",
       "Length: 1481218, dtype: float64"
      ]
     },
     "execution_count": 5,
     "metadata": {},
     "output_type": "execute_result"
    }
   ],
   "source": [
    "sizes = pd.concat([train_df['w'],train_df['h']], ignore_index=True)\n",
    "sizes"
   ]
  },
  {
   "cell_type": "code",
   "execution_count": 6,
   "metadata": {},
   "outputs": [
    {
     "name": "stdout",
     "output_type": "stream",
     "text": [
      "98.49613486116972\n",
      "54.0\n",
      "15.0\n"
     ]
    }
   ],
   "source": [
    "print(sizes.mean())\n",
    "print(sizes.median())\n",
    "print(sizes.mode()[0])"
   ]
  },
  {
   "cell_type": "code",
   "execution_count": 7,
   "metadata": {},
   "outputs": [
    {
     "data": {
      "text/plain": [
       "<matplotlib.lines.Line2D at 0x16a88d050>"
      ]
     },
     "execution_count": 7,
     "metadata": {},
     "output_type": "execute_result"
    },
    {
     "data": {
      "image/png": "[encoded data removed]",
      "text/plain": [
       "<Figure size 640x480 with 1 Axes>"
      ]
     },
     "metadata": {},
     "output_type": "display_data"
    }
   ],
   "source": [
    "import matplotlib.pyplot as plt\n",
    "\n",
    "fig, ax = plt.subplots()\n",
    "sizes.plot.hist(bins=100, ax=ax)\n",
    "ax.axvline(sizes.mean(), color='red')\n",
    "ax.axvline(sizes.median(), color='yellow')"
   ]
  },
  {
   "cell_type": "markdown",
   "metadata": {},
   "source": [
    "# 2) Get class inverse freq"
   ]
  },
  {
   "cell_type": "code",
   "execution_count": 9,
   "metadata": {},
   "outputs": [],
   "source": [
    "import numpy as np"
   ]
  },
  {
   "cell_type": "code",
   "execution_count": 10,
   "metadata": {},
   "outputs": [
    {
     "data": {
      "text/plain": [
       "class_name\n",
       "Person      449258\n",
       "Car         206659\n",
       "Truck        62430\n",
       "Ship         11287\n",
       "Aircraft      5679\n",
       "UAV           5296\n",
       "Name: count, dtype: int64"
      ]
     },
     "execution_count": 10,
     "metadata": {},
     "output_type": "execute_result"
    }
   ],
   "source": [
    "class_counts = train_df['class_name'].value_counts().values\n",
    "train_df['class_name'].value_counts()"
   ]
  },
  {
   "cell_type": "code",
   "execution_count": 58,
   "metadata": {},
   "outputs": [],
   "source": [
    "class_performance = np.array([51, 83, 70, 35, 70, 82])"
   ]
  },
  {
   "cell_type": "code",
   "execution_count": 61,
   "metadata": {},
   "outputs": [],
   "source": [
    "classes_df = pd.DataFrame(train_df['class_name'].value_counts())\n",
    "classes_df['performance'] = class_performance"
   ]
  },
  {
   "cell_type": "code",
   "execution_count": 68,
   "metadata": {},
   "outputs": [
    {
     "data": {
      "text/plain": [
       "<Axes: xlabel='class_name'>"
      ]
     },
     "execution_count": 68,
     "metadata": {},
     "output_type": "execute_result"
    },
    {
     "data": {
      "image/png": "[encoded data removed]",
      "text/plain": [
       "<Figure size 640x480 with 2 Axes>"
      ]
     },
     "metadata": {},
     "output_type": "display_data"
    }
   ],
   "source": [
    "classes_df.plot.bar(secondary_y=['performance'], legend=False)"
   ]
  },
  {
   "cell_type": "markdown",
   "metadata": {},
   "source": [
    "### 2.1) N/n_i"
   ]
  },
  {
   "cell_type": "code",
   "execution_count": 13,
   "metadata": {},
   "outputs": [],
   "source": [
    "num_clases = len(class_counts)\n",
    "num_samples = sum(class_counts)\n",
    "\n",
    "c_weights = []\n",
    "p_weights = []\n",
    "for i in range(num_clases):\n",
    "    c_weights.append(num_samples/class_counts[i])\n",
    "    p_weights.append(class_performance.sum()/class_performance[i])"
   ]
  },
  {
   "cell_type": "code",
   "execution_count": 14,
   "metadata": {},
   "outputs": [
    {
     "data": {
      "text/plain": [
       "[1.6485159974891932,\n",
       " 3.5837248801165202,\n",
       " 11.863030594265577,\n",
       " 65.61610702578187,\n",
       " 130.4118682866702,\n",
       " 139.84308912386706]"
      ]
     },
     "execution_count": 14,
     "metadata": {},
     "output_type": "execute_result"
    }
   ],
   "source": [
    "c_weights"
   ]
  },
  {
   "cell_type": "code",
   "execution_count": 15,
   "metadata": {},
   "outputs": [
    {
     "data": {
      "text/plain": [
       "[7.666666666666667,\n",
       " 4.710843373493976,\n",
       " 5.585714285714285,\n",
       " 11.17142857142857,\n",
       " 5.585714285714285,\n",
       " 4.7682926829268295]"
      ]
     },
     "execution_count": 15,
     "metadata": {},
     "output_type": "execute_result"
    }
   ],
   "source": [
    "p_weights"
   ]
  },
  {
   "cell_type": "markdown",
   "metadata": {},
   "source": [
    "### 2.2) N/(n_i*6)"
   ]
  },
  {
   "cell_type": "code",
   "execution_count": 17,
   "metadata": {},
   "outputs": [],
   "source": [
    "num_clases = len(class_counts)\n",
    "num_samples = sum(class_counts)\n",
    "\n",
    "c_weights = []\n",
    "p_weights = []\n",
    "for i in range(num_clases):\n",
    "    c_weights.append(num_samples/(class_counts[i]*num_clases))\n",
    "    p_weights.append(class_performance.sum()/(class_performance[i]*num_clases))"
   ]
  },
  {
   "cell_type": "code",
   "execution_count": 18,
   "metadata": {},
   "outputs": [
    {
     "data": {
      "text/plain": [
       "[0.2747526662481989,\n",
       " 0.5972874800194201,\n",
       " 1.9771717657109296,\n",
       " 10.936017837630311,\n",
       " 21.7353113811117,\n",
       " 23.307181520644512]"
      ]
     },
     "execution_count": 18,
     "metadata": {},
     "output_type": "execute_result"
    }
   ],
   "source": [
    "c_weights"
   ]
  },
  {
   "cell_type": "code",
   "execution_count": 19,
   "metadata": {},
   "outputs": [
    {
     "data": {
      "text/plain": [
       "[1.2777777777777777,\n",
       " 0.785140562248996,\n",
       " 0.930952380952381,\n",
       " 1.861904761904762,\n",
       " 0.930952380952381,\n",
       " 0.7947154471544715]"
      ]
     },
     "execution_count": 19,
     "metadata": {},
     "output_type": "execute_result"
    }
   ],
   "source": [
    "p_weights"
   ]
  },
  {
   "cell_type": "markdown",
   "metadata": {},
   "source": [
    "### 2.3) (1-b)/(1-b^n_i)"
   ]
  },
  {
   "cell_type": "code",
   "execution_count": 29,
   "metadata": {},
   "outputs": [],
   "source": [
    "num_clases = len(class_counts)\n",
    "num_samples = sum(class_counts)\n",
    "\n",
    "c_weights = []\n",
    "p_weights = []\n",
    "for i in range(num_clases):\n",
    "    c_weights.append((1-0.9)/(1-0.9**class_counts[i]))\n",
    "    p_weights.append((1-0.9)/(1-0.9**class_performance[i]))"
   ]
  },
  {
   "cell_type": "code",
   "execution_count": 30,
   "metadata": {},
   "outputs": [
    {
     "data": {
      "text/plain": [
       "[0.09999999999999998,\n",
       " 0.09999999999999998,\n",
       " 0.09999999999999998,\n",
       " 0.09999999999999998,\n",
       " 0.09999999999999998,\n",
       " 0.09999999999999998]"
      ]
     },
     "execution_count": 30,
     "metadata": {},
     "output_type": "execute_result"
    }
   ],
   "source": [
    "c_weights"
   ]
  },
  {
   "cell_type": "code",
   "execution_count": 31,
   "metadata": {},
   "outputs": [
    {
     "data": {
      "text/plain": [
       "[0.1004660012678616,\n",
       " 0.1000159293281193,\n",
       " 0.10006269715952949,\n",
       " 0.10256742207192297,\n",
       " 0.10006269715952949,\n",
       " 0.10001769956673502]"
      ]
     },
     "execution_count": 31,
     "metadata": {},
     "output_type": "execute_result"
    }
   ],
   "source": [
    "p_weights"
   ]
  },
  {
   "cell_type": "markdown",
   "metadata": {},
   "source": [
    "### 2.4) max(n)/n_i"
   ]
  },
  {
   "cell_type": "code",
   "execution_count": 44,
   "metadata": {},
   "outputs": [],
   "source": [
    "num_clases = len(class_counts)\n",
    "num_samples = sum(class_counts)\n",
    "\n",
    "c_weights = []\n",
    "p_weights = []\n",
    "for i in range(num_clases):\n",
    "    c_weights.append(max(class_counts)/(class_counts[i]))\n",
    "    p_weights.append(class_performance.max()/(class_performance[i]))"
   ]
  },
  {
   "cell_type": "code",
   "execution_count": 45,
   "metadata": {},
   "outputs": [
    {
     "data": {
      "text/plain": [
       "[1.0,\n",
       " 2.17390967729448,\n",
       " 7.196187730257889,\n",
       " 39.80313635155488,\n",
       " 79.10864588836063,\n",
       " 84.82968277945619]"
      ]
     },
     "execution_count": 45,
     "metadata": {},
     "output_type": "execute_result"
    }
   ],
   "source": [
    "c_weights"
   ]
  },
  {
   "cell_type": "code",
   "execution_count": 46,
   "metadata": {},
   "outputs": [
    {
     "data": {
      "text/plain": [
       "[1.6274509803921569,\n",
       " 1.0,\n",
       " 1.1857142857142857,\n",
       " 2.3714285714285714,\n",
       " 1.1857142857142857,\n",
       " 1.0121951219512195]"
      ]
     },
     "execution_count": 46,
     "metadata": {},
     "output_type": "execute_result"
    }
   ],
   "source": [
    "p_weights"
   ]
  },
  {
   "cell_type": "markdown",
   "metadata": {},
   "source": [
    "### 2.5) (N-ni)/n_i"
   ]
  },
  {
   "cell_type": "code",
   "execution_count": 47,
   "metadata": {},
   "outputs": [],
   "source": [
    "num_clases = len(class_counts)\n",
    "num_samples = sum(class_counts)\n",
    "\n",
    "c_weights = []\n",
    "p_weights = []\n",
    "for i in range(num_clases):\n",
    "    c_weights.append((num_samples-class_counts[i])/(class_counts[i]))\n",
    "    p_weights.append((class_performance.sum()-class_performance[i])/(class_performance[i]))"
   ]
  },
  {
   "cell_type": "code",
   "execution_count": 48,
   "metadata": {},
   "outputs": [
    {
     "data": {
      "text/plain": [
       "[0.6485159974891933,\n",
       " 2.5837248801165202,\n",
       " 10.863030594265577,\n",
       " 64.61610702578187,\n",
       " 129.4118682866702,\n",
       " 138.84308912386706]"
      ]
     },
     "execution_count": 48,
     "metadata": {},
     "output_type": "execute_result"
    }
   ],
   "source": [
    "c_weights"
   ]
  },
  {
   "cell_type": "code",
   "execution_count": 49,
   "metadata": {},
   "outputs": [
    {
     "data": {
      "text/plain": [
       "[6.666666666666667,\n",
       " 3.710843373493976,\n",
       " 4.585714285714285,\n",
       " 10.17142857142857,\n",
       " 4.585714285714285,\n",
       " 3.768292682926829]"
      ]
     },
     "execution_count": 49,
     "metadata": {},
     "output_type": "execute_result"
    }
   ],
   "source": [
    "p_weights"
   ]
  },
  {
   "cell_type": "markdown",
   "metadata": {},
   "source": [
    "### 2.6) log(2.1)"
   ]
  },
  {
   "cell_type": "code",
   "execution_count": 69,
   "metadata": {},
   "outputs": [],
   "source": [
    "num_clases = len(class_counts)\n",
    "num_samples = sum(class_counts)\n",
    "\n",
    "c_weights = []\n",
    "p_weights = []\n",
    "for i in range(num_clases):\n",
    "    c_weights.append(np.log(num_samples/class_counts[i]))\n",
    "    p_weights.append(np.log(class_performance.sum()/class_performance[i]))"
   ]
  },
  {
   "cell_type": "code",
   "execution_count": 70,
   "metadata": {},
   "outputs": [
    {
     "data": {
      "text/plain": [
       "[0.49987548775262214,\n",
       " 1.2764027288058806,\n",
       " 2.4734268916409596,\n",
       " 4.183821199741123,\n",
       " 4.870697659819317,\n",
       " 4.9405210020799055]"
      ]
     },
     "execution_count": 70,
     "metadata": {},
     "output_type": "execute_result"
    }
   ],
   "source": [
    "c_weights"
   ]
  },
  {
   "cell_type": "code",
   "execution_count": 71,
   "metadata": {},
   "outputs": [
    {
     "data": {
      "text/plain": [
       "[2.03688192726104,\n",
       " 1.5498669521887678,\n",
       " 1.7202123179360067,\n",
       " 2.413359498495952,\n",
       " 1.7202123179360067,\n",
       " 1.5619883127211127]"
      ]
     },
     "execution_count": 71,
     "metadata": {},
     "output_type": "execute_result"
    }
   ],
   "source": [
    "p_weights"
   ]
  },
  {
   "cell_type": "markdown",
   "metadata": {},
   "source": [
    "### 2.7) log(2.2)"
   ]
  },
  {
   "cell_type": "code",
   "execution_count": 72,
   "metadata": {},
   "outputs": [],
   "source": [
    "num_clases = len(class_counts)\n",
    "num_samples = sum(class_counts)\n",
    "\n",
    "c_weights = []\n",
    "p_weights = []\n",
    "for i in range(num_clases):\n",
    "    c_weights.append(np.log(num_samples/(class_counts[i]*num_clases)))\n",
    "    p_weights.append(np.log(class_performance.sum()/(class_performance[i]*num_clases)))"
   ]
  },
  {
   "cell_type": "code",
   "execution_count": 73,
   "metadata": {},
   "outputs": [
    {
     "data": {
      "text/plain": [
       "[-1.2918839814754328,\n",
       " -0.5153567404221743,\n",
       " 0.6816674224129046,\n",
       " 2.392061730513068,\n",
       " 3.078938190591262,\n",
       " 3.14876153285185]"
      ]
     },
     "execution_count": 73,
     "metadata": {},
     "output_type": "execute_result"
    }
   ],
   "source": [
    "c_weights"
   ]
  },
  {
   "cell_type": "code",
   "execution_count": 74,
   "metadata": {},
   "outputs": [
    {
     "data": {
      "text/plain": [
       "[0.2451224580329849,\n",
       " -0.24189251703928716,\n",
       " -0.0715471512920482,\n",
       " 0.6216000292678971,\n",
       " -0.0715471512920482,\n",
       " -0.22977115650694238]"
      ]
     },
     "execution_count": 74,
     "metadata": {},
     "output_type": "execute_result"
    }
   ],
   "source": [
    "p_weights"
   ]
  },
  {
   "cell_type": "markdown",
   "metadata": {},
   "source": [
    "### 2.8) log(2.4)"
   ]
  },
  {
   "cell_type": "code",
   "execution_count": 75,
   "metadata": {},
   "outputs": [],
   "source": [
    "num_clases = len(class_counts)\n",
    "num_samples = sum(class_counts)\n",
    "\n",
    "c_weights = []\n",
    "p_weights = []\n",
    "for i in range(num_clases):\n",
    "    c_weights.append(np.log(max(class_counts)/(class_counts[i])))\n",
    "    p_weights.append(np.log(class_performance.max()/(class_performance[i])))"
   ]
  },
  {
   "cell_type": "code",
   "execution_count": 76,
   "metadata": {},
   "outputs": [
    {
     "data": {
      "text/plain": [
       "[0.0,\n",
       " 0.7765272410532584,\n",
       " 1.9735514038883373,\n",
       " 3.6839457119885006,\n",
       " 4.370822172066695,\n",
       " 4.440645514327283]"
      ]
     },
     "execution_count": 76,
     "metadata": {},
     "output_type": "execute_result"
    }
   ],
   "source": [
    "c_weights"
   ]
  },
  {
   "cell_type": "code",
   "execution_count": 77,
   "metadata": {},
   "outputs": [
    {
     "data": {
      "text/plain": [
       "[0.48701497507227215,\n",
       " 0.0,\n",
       " 0.17034536574723894,\n",
       " 0.8634925463071842,\n",
       " 0.17034536574723894,\n",
       " 0.01212136053234482]"
      ]
     },
     "execution_count": 77,
     "metadata": {},
     "output_type": "execute_result"
    }
   ],
   "source": [
    "p_weights"
   ]
  },
  {
   "cell_type": "markdown",
   "metadata": {},
   "source": [
    "### 2.9) log(2.5)"
   ]
  },
  {
   "cell_type": "code",
   "execution_count": 79,
   "metadata": {},
   "outputs": [],
   "source": [
    "num_clases = len(class_counts)\n",
    "num_samples = sum(class_counts)\n",
    "\n",
    "c_weights = []\n",
    "p_weights = []\n",
    "for i in range(num_clases):\n",
    "    c_weights.append(np.log((num_samples-class_counts[i])/(class_counts[i])))\n",
    "    p_weights.append(np.log((class_performance.sum()-class_performance[i])/(class_performance[i])))"
   ]
  },
  {
   "cell_type": "code",
   "execution_count": 80,
   "metadata": {},
   "outputs": [
    {
     "data": {
      "text/plain": [
       "[-0.43306860708087375,\n",
       " 0.9492321097088224,\n",
       " 2.3853653358211706,\n",
       " 4.168463714474235,\n",
       " 4.863000095686868,\n",
       " 4.933344440269743]"
      ]
     },
     "execution_count": 80,
     "metadata": {},
     "output_type": "execute_result"
    }
   ],
   "source": [
    "c_weights"
   ]
  },
  {
   "cell_type": "code",
   "execution_count": 81,
   "metadata": {},
   "outputs": [
    {
     "data": {
      "text/plain": [
       "[1.8971199848858813,\n",
       " 1.3112591751769764,\n",
       " 1.5229458810806569,\n",
       " 2.319582669362617,\n",
       " 1.5229458810806569,\n",
       " 1.3266220296334923]"
      ]
     },
     "execution_count": 81,
     "metadata": {},
     "output_type": "execute_result"
    }
   ],
   "source": [
    "p_weights"
   ]
  },
  {
   "cell_type": "markdown",
   "metadata": {},
   "source": [
    "### P as multiplicative factor"
   ]
  },
  {
   "cell_type": "code",
   "execution_count": 84,
   "metadata": {},
   "outputs": [
    {
     "data": {
      "text/plain": [
       "array([ 7.66666667,  4.71084337,  5.58571429, 11.17142857,  5.58571429,\n",
       "        4.76829268])"
      ]
     },
     "execution_count": 84,
     "metadata": {},
     "output_type": "execute_result"
    }
   ],
   "source": [
    "class_performance.sum()/class_performance"
   ]
  },
  {
   "cell_type": "code",
   "execution_count": 86,
   "metadata": {},
   "outputs": [
    {
     "data": {
      "text/plain": [
       "array([0.13043478, 0.21227621, 0.17902813, 0.08951407, 0.17902813,\n",
       "       0.20971867])"
      ]
     },
     "execution_count": 86,
     "metadata": {},
     "output_type": "execute_result"
    }
   ],
   "source": [
    "class_performance/class_performance.sum()"
   ]
  },
  {
   "cell_type": "code",
   "execution_count": 87,
   "metadata": {},
   "outputs": [
    {
     "data": {
      "text/plain": [
       "array([0.61445783, 1.        , 0.84337349, 0.42168675, 0.84337349,\n",
       "       0.98795181])"
      ]
     },
     "execution_count": 87,
     "metadata": {},
     "output_type": "execute_result"
    }
   ],
   "source": [
    "class_performance/class_performance.max()"
   ]
  },
  {
   "cell_type": "code",
   "execution_count": null,
   "metadata": {},
   "outputs": [],
   "source": []
  }
 ],
 "metadata": {
  "kernelspec": {
   "display_name": "Python 3 (ipykernel)",
   "language": "python",
   "name": "python3"
  },
  "language_info": {
   "codemirror_mode": {
    "name": "ipython",
    "version": 3
   },
   "file_extension": ".py",
   "mimetype": "text/x-python",
   "name": "python",
   "nbconvert_exporter": "python",
   "pygments_lexer": "ipython3",
   "version": "3.11.4"
  }
 },
 "nbformat": 4,
 "nbformat_minor": 4
}
