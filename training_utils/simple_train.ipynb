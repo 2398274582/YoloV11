{
 "cells": [
  {
   "cell_type": "code",
   "execution_count": null,
   "id": "0f9f1ebe-87d8-4d73-b627-df9ed00a0cb1",
   "metadata": {},
   "outputs": [],
   "source": [
    "from ultralytics import YOLO\n",
    "from training_utils import PrepareDataset\n",
    "import os"
   ]
  },
  {
   "cell_type": "markdown",
   "id": "e9bd7820",
   "metadata": {},
   "source": [
    "### Some constants"
   ]
  },
  {
   "cell_type": "code",
   "execution_count": null,
   "id": "8d6a0acf",
   "metadata": {},
   "outputs": [],
   "source": [
    "dataset_yaml_path = \"/training/ultralytics/ultralytics/cfg/datasets/verdant.yaml\"\n",
    "coco_classes_file = \"/dataset/classes.txt\"\n",
    "runs_directory = \"/training/runs\"\n",
    "training_task = \"pose\"   # 'detect' for bbox | 'pose' for hybrid model \n",
    "experiment_name = \"exp\"  # Results will be saved with this name  under runs/<task>/<exp_name>"
   ]
  },
  {
   "cell_type": "code",
   "execution_count": null,
   "id": "75049a57",
   "metadata": {},
   "outputs": [],
   "source": [
    "# Some utility functions\n",
    "def GetModelYaml(task):\n",
    "    if task == \"detect\":\n",
    "        return \"yolov8n.yaml\"\n",
    "    elif task == \"pose\":\n",
    "        return \"yolov8n-pose.yaml\"\n",
    "    print(f\"Unknown task {task}\") \n",
    "    return None\n",
    "        \n",
    "def GiveModel(ckpt_path):\n",
    "    if os.path.exists(ckpt_path):\n",
    "        return YOLO(ckpt_path)\n",
    "    print(f\"[ERROR] : Model {ckpt_path} does not exists\")         \n",
    "    return None\n",
    "\n",
    "def LoadBestModel():\n",
    "    best_ckpt = f\"{runs_directory}/{training_task}/{experiment_name}/weights/best.pt\"\n",
    "    return GiveModel(best_ckpt)\n"
   ]
  },
  {
   "cell_type": "markdown",
   "id": "ce162224-6ec7-4147-96e0-3a4dac7e54e0",
   "metadata": {},
   "source": [
    "### Prepare dataset.yaml file\n",
    "Our dataset is present at `/dataset`. Read `classes.txt` file and fill the `verdant.yaml` file. Ultralytics dataloader will load this file."
   ]
  },
  {
   "cell_type": "code",
   "execution_count": null,
   "id": "833980b0-792b-4a0d-a35f-17e121c8b000",
   "metadata": {},
   "outputs": [],
   "source": [
    "# Prepare the dataset yaml file\n",
    "PrepareDataset(coco_classes_file, dataset_yaml_path, training_task)\n",
    "!cat /training/ultralytics/ultralytics/cfg/datasets/verdant.yaml  # To check the file"
   ]
  },
  {
   "cell_type": "markdown",
   "id": "771f88d3-8311-42b4-bbc7-7c0044d7d01c",
   "metadata": {},
   "source": [
    "### Train the model"
   ]
  },
  {
   "cell_type": "code",
   "execution_count": null,
   "id": "7a63eb3d-0eff-4aff-9888-d083bb289f1e",
   "metadata": {},
   "outputs": [],
   "source": [
    "model = YOLO(GetModelYaml(training_task))  # Initialize model"
   ]
  },
  {
   "cell_type": "code",
   "execution_count": null,
   "id": "89f32605",
   "metadata": {},
   "outputs": [],
   "source": [
    "# To get a pretrained model\n",
    "# !/training/get_model_candidate.sh <model_hash>    # Replace <model_hash> with the hash of the model you want to download. This will print the path of the downloaded model\n",
    "# model.load(<path_to_the_model>)                   # Load the model"
   ]
  },
  {
   "cell_type": "code",
   "execution_count": null,
   "id": "0bb5b1a7",
   "metadata": {},
   "outputs": [],
   "source": [
    "model.train(\n",
    "    task=training_task,\n",
    "    data=\"verdant.yaml\", \n",
    "    epochs=1,\n",
    "    flipud=0.5, \n",
    "    fliplr=0.5, \n",
    "    scale=0.2, \n",
    "    mosaic=0.0,                                 # Please set this to 0.0 TODO: Fix the issue with mosaic and keypoint detection \n",
    "    imgsz=768, \n",
    "    seed=1, \n",
    "    batch=8,\n",
    "    name=experiment_name,\n",
    "    device=[0],\n",
    "    ) "
   ]
  },
  {
   "cell_type": "markdown",
   "id": "437f997c",
   "metadata": {},
   "source": [
    "### Evaluation"
   ]
  },
  {
   "cell_type": "code",
   "execution_count": null,
   "id": "9c52b036",
   "metadata": {},
   "outputs": [],
   "source": [
    "# model = LoadBestModel()    # To load the best model\n",
    "metrics = model.val(data=\"verdant.yaml\")"
   ]
  },
  {
   "cell_type": "markdown",
   "id": "5c59eb0f",
   "metadata": {
    "tags": [
     "parameters"
    ]
   },
   "source": [
    "### Export the model"
   ]
  },
  {
   "cell_type": "code",
   "execution_count": null,
   "id": "d563d7db",
   "metadata": {},
   "outputs": [],
   "source": [
    "model = LoadBestModel()    # To load the best model\n",
    "path = model.export(format=\"onnx\", imgsz=[768,768], opset=12)\n",
    "os.system(f\"mv {path} best.onnx\")\n",
    "\n",
    "path = model.export(format=\"onnx\", imgsz=[2144,768], opset=12)\n",
    "os.system(f\"mv {path} best_full_height.onnx\")"
   ]
  }
 ],
 "metadata": {
  "kernelspec": {
   "display_name": "Python 3 (ipykernel)",
   "language": "python",
   "name": "python3"
  },
  "language_info": {
   "codemirror_mode": {
    "name": "ipython",
    "version": 3
   },
   "file_extension": ".py",
   "mimetype": "text/x-python",
   "name": "python",
   "nbconvert_exporter": "python",
   "pygments_lexer": "ipython3",
   "version": "3.10.12"
  }
 },
 "nbformat": 4,
 "nbformat_minor": 5
}
